{
 "cells": [
  {
   "cell_type": "code",
   "execution_count": 73,
   "metadata": {},
   "outputs": [
    {
     "name": "stderr",
     "output_type": "stream",
     "text": [
      "  9%|▉         | 3800/43199 [00:00<00:03, 10690.63it/s]"
     ]
    },
    {
     "name": "stdout",
     "output_type": "stream",
     "text": [
      "[2020-09-19 11:37:10.297408] Left to simulate: 7 min or 42199 steps\n",
      "[2020-09-19 11:37:10.327279] Left to simulate: 6 min or 41199 steps\n",
      "[2020-09-19 11:37:10.404989] Left to simulate: 6 min or 40199 steps\n"
     ]
    },
    {
     "name": "stderr",
     "output_type": "stream",
     "text": [
      " 13%|█▎        | 5439/43199 [00:00<00:04, 9134.23it/s] "
     ]
    },
    {
     "name": "stdout",
     "output_type": "stream",
     "text": [
      "[2020-09-19 11:37:10.525161] Left to simulate: 6 min or 39199 steps\n",
      "[2020-09-19 11:37:10.651380] Left to simulate: 6 min or 38199 steps\n"
     ]
    },
    {
     "name": "stderr",
     "output_type": "stream",
     "text": [
      " 16%|█▋        | 7091/43199 [00:00<00:04, 8642.72it/s]"
     ]
    },
    {
     "name": "stdout",
     "output_type": "stream",
     "text": [
      "[2020-09-19 11:37:10.770761] Left to simulate: 6 min or 37199 steps\n",
      "[2020-09-19 11:37:10.893607] Left to simulate: 6 min or 36199 steps\n"
     ]
    },
    {
     "name": "stderr",
     "output_type": "stream",
     "text": [
      " 22%|██▏       | 9551/43199 [00:01<00:04, 8231.14it/s]"
     ]
    },
    {
     "name": "stdout",
     "output_type": "stream",
     "text": [
      "[2020-09-19 11:37:11.024523] Left to simulate: 5 min or 35199 steps\n",
      "[2020-09-19 11:37:11.150639] Left to simulate: 5 min or 34199 steps\n",
      "[2020-09-19 11:37:11.274013] Left to simulate: 5 min or 33199 steps\n"
     ]
    },
    {
     "name": "stderr",
     "output_type": "stream",
     "text": [
      " 28%|██▊       | 11973/43199 [00:01<00:03, 8028.01it/s]"
     ]
    },
    {
     "name": "stdout",
     "output_type": "stream",
     "text": [
      "[2020-09-19 11:37:11.398967] Left to simulate: 5 min or 32199 steps\n",
      "[2020-09-19 11:37:11.525072] Left to simulate: 5 min or 31199 steps\n"
     ]
    },
    {
     "name": "stderr",
     "output_type": "stream",
     "text": [
      " 33%|███▎      | 14381/43199 [00:01<00:03, 7951.03it/s]"
     ]
    },
    {
     "name": "stdout",
     "output_type": "stream",
     "text": [
      "[2020-09-19 11:37:11.656507] Left to simulate: 5 min or 30199 steps\n",
      "[2020-09-19 11:37:11.783511] Left to simulate: 4 min or 29199 steps\n",
      "[2020-09-19 11:37:11.900160] Left to simulate: 4 min or 28199 steps\n"
     ]
    },
    {
     "name": "stderr",
     "output_type": "stream",
     "text": [
      " 41%|████      | 17656/43199 [00:02<00:03, 8113.01it/s]"
     ]
    },
    {
     "name": "stdout",
     "output_type": "stream",
     "text": [
      "[2020-09-19 11:37:12.025167] Left to simulate: 4 min or 27199 steps\n",
      "[2020-09-19 11:37:12.149558] Left to simulate: 4 min or 26199 steps\n"
     ]
    },
    {
     "name": "stderr",
     "output_type": "stream",
     "text": [
      " 45%|████▍     | 19276/43199 [00:02<00:02, 8063.98it/s]"
     ]
    },
    {
     "name": "stdout",
     "output_type": "stream",
     "text": [
      "[2020-09-19 11:37:12.271033] Left to simulate: 4 min or 25199 steps\n",
      "[2020-09-19 11:37:12.396565] Left to simulate: 4 min or 24199 steps\n"
     ]
    },
    {
     "name": "stderr",
     "output_type": "stream",
     "text": [
      " 48%|████▊     | 20913/43199 [00:02<00:02, 7973.25it/s]"
     ]
    },
    {
     "name": "stdout",
     "output_type": "stream",
     "text": [
      "[2020-09-19 11:37:12.519731] Left to simulate: 3 min or 23199 steps\n",
      "[2020-09-19 11:37:12.652623] Left to simulate: 3 min or 22199 steps\n"
     ]
    },
    {
     "name": "stderr",
     "output_type": "stream",
     "text": [
      " 54%|█████▍    | 23368/43199 [00:02<00:02, 8120.58it/s]"
     ]
    },
    {
     "name": "stdout",
     "output_type": "stream",
     "text": [
      "[2020-09-19 11:37:12.773982] Left to simulate: 3 min or 21199 steps\n",
      "[2020-09-19 11:37:12.893985] Left to simulate: 3 min or 20199 steps\n",
      "[2020-09-19 11:37:13.015840] Left to simulate: 3 min or 19199 steps\n"
     ]
    },
    {
     "name": "stderr",
     "output_type": "stream",
     "text": [
      " 58%|█████▊    | 25025/43199 [00:02<00:02, 8212.20it/s]"
     ]
    },
    {
     "name": "stdout",
     "output_type": "stream",
     "text": [
      "[2020-09-19 11:37:13.134782] Left to simulate: 3 min or 18199 steps\n"
     ]
    },
    {
     "name": "stderr",
     "output_type": "stream",
     "text": [
      " 64%|██████▎   | 27432/43199 [00:03<00:02, 7699.86it/s]"
     ]
    },
    {
     "name": "stdout",
     "output_type": "stream",
     "text": [
      "[2020-09-19 11:37:13.272161] Left to simulate: 2 min or 17199 steps\n",
      "[2020-09-19 11:37:13.404817] Left to simulate: 2 min or 16199 steps\n"
     ]
    },
    {
     "name": "stderr",
     "output_type": "stream",
     "text": [
      " 69%|██████▉   | 29828/43199 [00:03<00:01, 7896.20it/s]"
     ]
    },
    {
     "name": "stdout",
     "output_type": "stream",
     "text": [
      "[2020-09-19 11:37:13.537706] Left to simulate: 2 min or 15199 steps\n",
      "[2020-09-19 11:37:13.668270] Left to simulate: 2 min or 14199 steps\n"
     ]
    },
    {
     "name": "stderr",
     "output_type": "stream",
     "text": [
      " 73%|███████▎  | 31485/43199 [00:03<00:01, 7883.50it/s]"
     ]
    },
    {
     "name": "stdout",
     "output_type": "stream",
     "text": [
      "[2020-09-19 11:37:13.784780] Left to simulate: 2 min or 13199 steps\n",
      "[2020-09-19 11:37:13.905252] Left to simulate: 2 min or 12199 steps\n"
     ]
    },
    {
     "name": "stderr",
     "output_type": "stream",
     "text": [
      " 77%|███████▋  | 33059/43199 [00:04<00:01, 7139.97it/s]"
     ]
    },
    {
     "name": "stdout",
     "output_type": "stream",
     "text": [
      "[2020-09-19 11:37:14.040112] Left to simulate: 1 min or 11199 steps\n",
      "[2020-09-19 11:37:14.197564] Left to simulate: 1 min or 10199 steps\n"
     ]
    },
    {
     "name": "stderr",
     "output_type": "stream",
     "text": [
      " 81%|████████▏ | 35139/43199 [00:04<00:01, 6467.50it/s]"
     ]
    },
    {
     "name": "stdout",
     "output_type": "stream",
     "text": [
      "[2020-09-19 11:37:14.364815] Left to simulate: 1 min or 9199 steps\n",
      "[2020-09-19 11:37:14.525621] Left to simulate: 1 min or 8199 steps\n"
     ]
    },
    {
     "name": "stderr",
     "output_type": "stream",
     "text": [
      " 87%|████████▋ | 37712/43199 [00:04<00:00, 6225.53it/s]"
     ]
    },
    {
     "name": "stdout",
     "output_type": "stream",
     "text": [
      "[2020-09-19 11:37:14.685938] Left to simulate: 1 min or 7199 steps\n",
      "[2020-09-19 11:37:14.851113] Left to simulate: 1 min or 6199 steps\n"
     ]
    },
    {
     "name": "stderr",
     "output_type": "stream",
     "text": [
      " 90%|█████████ | 38960/43199 [00:04<00:00, 6197.49it/s]"
     ]
    },
    {
     "name": "stdout",
     "output_type": "stream",
     "text": [
      "[2020-09-19 11:37:15.013334] Left to simulate: 0 min or 5199 steps\n",
      "[2020-09-19 11:37:15.173332] Left to simulate: 0 min or 4199 steps\n"
     ]
    },
    {
     "name": "stderr",
     "output_type": "stream",
     "text": [
      " 96%|█████████▌| 41538/43199 [00:05<00:00, 6342.97it/s]"
     ]
    },
    {
     "name": "stdout",
     "output_type": "stream",
     "text": [
      "[2020-09-19 11:37:15.340467] Left to simulate: 0 min or 3199 steps\n",
      "[2020-09-19 11:37:15.492937] Left to simulate: 0 min or 2199 steps\n"
     ]
    },
    {
     "name": "stderr",
     "output_type": "stream",
     "text": [
      "43200it [00:05, 7698.19it/s]                           "
     ]
    },
    {
     "name": "stdout",
     "output_type": "stream",
     "text": [
      "[2020-09-19 11:37:15.646885] Left to simulate: 0 min or 1199 steps\n",
      "[2020-09-19 11:37:15.782914] Left to simulate: 0 min or 199 steps\n"
     ]
    },
    {
     "name": "stderr",
     "output_type": "stream",
     "text": [
      "\n"
     ]
    }
   ],
   "source": [
    "from autoscalingsim import simulator\n",
    "from datetime import datetime\n",
    "\n",
    "starting_datetime_str = \"2020-09-17T10:00:00\"\n",
    "starting_time = datetime.strptime(starting_datetime_str, '%Y-%m-%dT%H:%M:%S')\n",
    "simulation_step_ms = 10\n",
    "time_to_simulate_days = 0.005\n",
    "config_dir = \"experiments/test\"\n",
    "results_dir = None\n",
    "\n",
    "simulator = simulator.Simulator(simulation_step_ms,\n",
    "                                starting_time,\n",
    "                                time_to_simulate_days)\n",
    "\n",
    "simulator.add_simulation(config_dir,\n",
    "                         results_dir)\n",
    "\n",
    "simulator.start_simulation()"
   ]
  },
  {
   "cell_type": "code",
   "execution_count": 120,
   "metadata": {},
   "outputs": [],
   "source": [
    "import sys\n",
    "import os\n",
    "import numpy as np\n",
    "import math\n",
    "from autoscalingsim.simulation.simulation import Simulation\n",
    "from matplotlib import pyplot as plt\n",
    "import matplotlib.gridspec as gridspec\n",
    "\n",
    "CDF_FILENAME = 'cdf_response_times.png'\n",
    "RESP_TIMES_HIST_FILENAME = 'hist_response_times.png'\n",
    "FULFILLED_FAILED_BARS_FILENAME = 'bars_fulfilled_failed.png'\n",
    "BUF_WAIT_TIME_HIST_FILENAME = 'hist_buf_waiting_time.png'\n",
    "\n",
    "MAX_PLOTS_CNT_ROW = 4\n",
    "\n",
    "class AnalysisFramework:\n",
    "    \"\"\"\n",
    "    Combines the functionality to build the figures based on the simulation\n",
    "    results. The following figures are supported:\n",
    "        - Autoscaling quality evaluation category:\n",
    "            > CDF of the response times, all the request types on the same plot\n",
    "            > Histogram of the response times, separately for each request type\n",
    "            > Barchart of fulfilled requests vs dropped, a bar for each request type\n",
    "            > utilization?\n",
    "        - Autoscaling behaviour characterization category:\n",
    "            > Line graph (x axis - time) of the desired/current node count,\n",
    "              separately for each node type\n",
    "            > Line graph (x axis - time) of the generated requests count,\n",
    "              all the request types on the same plot\n",
    "            > Histogram of the waiting times in the service buffers,\n",
    "              separately for each buffer (idea - to locate the bottleneck service)\n",
    "            > Barchart of the processing vs waiting vs network time for the fulfilled requests,\n",
    "              a bar for each request type\n",
    "    \"\"\"\n",
    "    def __init__(self,\n",
    "                 simulation_step_ms,\n",
    "                 figures_dir = None):\n",
    "        \n",
    "        self.simulation_step_ms = simulation_step_ms\n",
    "        self.figures_dir = figures_dir\n",
    "        \n",
    "    def build_figures(self,\n",
    "                      simulation = None,\n",
    "                      results_dir = None,\n",
    "                      figures_dir = None):\n",
    "        # TODO: figure settings from config file?\n",
    "        if simulation is None and results_dir is None:\n",
    "            sys.exit('Neither simulation nor results directory is provided, cannot build figures.')\n",
    "        \n",
    "        figures_dir_in_use = self.figures_dir\n",
    "        \n",
    "        if not figures_dir is None:\n",
    "            figures_dir_in_use = figures_dir\n",
    "            \n",
    "        # Getting the data into the unified representation for processing\n",
    "        # either from the simulation or from the results_dir\n",
    "        response_times_per_request_type = {}\n",
    "        workload_ts_per_request_type = {}\n",
    "        buffer_times_by_request = {}\n",
    "        if not simulation is None:\n",
    "            response_times_per_request_type = simulation.application_model.response_times_by_request\n",
    "            buffer_times_by_request = simulation.application_model.buffer_times_by_request\n",
    "            workload_ts_per_request_type = simulation.workload_model.workload\n",
    "        \n",
    "        # Building figures with the internal functions\n",
    "        self._resp_times_cdf(response_times_per_request_type,\n",
    "                             figures_dir = figures_dir_in_use)\n",
    "        \n",
    "        self._resp_times_histogram(response_times_per_request_type,\n",
    "                                   3 * self.simulation_step_ms,\n",
    "                                   figures_dir = figures_dir_in_use)\n",
    "        \n",
    "        self._fulfilled_dropped_barchart(response_times_per_request_type,\n",
    "                                         workload_ts_per_request_type,\n",
    "                                         figures_dir = figures_dir_in_use)\n",
    "        \n",
    "        self._waiting_service_buffers_histogram(buffer_times_by_request,\n",
    "                                                bins_size_ms = 3 * self.simulation_step_ms,\n",
    "                                                figures_dir = figures_dir_in_use)\n",
    "        \n",
    "    def _resp_times_cdf(self,\n",
    "                        response_times_per_request_type,\n",
    "                        figures_dir):\n",
    "        \"\"\"\n",
    "        Builds CDF of the requests by the response times, separate line for\n",
    "        each request type.\n",
    "        \"\"\"\n",
    "        \n",
    "        max_response_time = max([max(response_times_of_req) for response_times_of_req in response_times_per_request_type.values()])\n",
    "        cdf_xlim = max_response_time + 1 * self.simulation_step_ms + 1\n",
    "        x_axis = range(0, cdf_xlim, self.simulation_step_ms)\n",
    "        \n",
    "        cdfs_per_req_type = {}\n",
    "        for req_type, response_times in response_times_per_request_type.items():\n",
    "            reqs_count_binned = [0] * len(x_axis)\n",
    "            \n",
    "            for response_time in response_times:\n",
    "                reqs_count_binned[response_time // self.simulation_step_ms] += 1\n",
    "            \n",
    "            cdfs_per_req_type[req_type] = np.cumsum(reqs_count_binned) / sum(reqs_count_binned)\n",
    "        \n",
    "        for req_type, cdf_vals in cdfs_per_req_type.items():\n",
    "            plt.plot(x_axis, cdf_vals, label = req_type)\n",
    "        \n",
    "        percentiles = [0.99, 0.95, 0.90, 0.80, 0.50]\n",
    "        font = {'color':  'black',\n",
    "                'weight': 'normal',\n",
    "                'size': 8}\n",
    "        for percentile in percentiles:\n",
    "            plt.hlines(percentile, min(x_axis), max(x_axis),\n",
    "                       colors='k', linestyles='dashed', lw = 0.5)\n",
    "            plt.text(0, percentile + 0.001,\n",
    "                     \"{}th percentile\".format(int(percentile * 100)),\n",
    "                     fontdict = font)\n",
    "        \n",
    "        plt.xlabel('Response time, ms')\n",
    "        plt.legend(loc = \"lower right\")\n",
    "        \n",
    "        if not figures_dir is None:\n",
    "            figure_path = os.path.join(figures_dir, CDF_FILENAME)\n",
    "            plt.savefig(figure_path)\n",
    "        else:\n",
    "            plt.title('CDF of requests by response time')\n",
    "            plt.show()\n",
    "            \n",
    "    def _resp_times_histogram(self,\n",
    "                              response_times_per_request_type,\n",
    "                              bins_size_ms = 10,\n",
    "                              figures_dir = None):\n",
    "        \n",
    "        \"\"\"\n",
    "        Builds histogram of requests by the response time.\n",
    "        \"\"\"\n",
    "        max_response_time = max([max(response_times_of_req) for response_times_of_req in response_times_per_request_type.values()])\n",
    "        bins_cnt = math.ceil(max_response_time / bins_size_ms)\n",
    "        \n",
    "        plots_count = len(response_times_per_request_type)\n",
    "        rows_cnt = 1\n",
    "        cols_cnt = plots_count\n",
    "        if plots_count > MAX_PLOTS_CNT_ROW:\n",
    "            rows_cnt = math.ceil(plots_count / MAX_PLOTS_CNT_ROW)\n",
    "        \n",
    "        fig, axs = plt.subplots(rows_cnt, cols_cnt,\n",
    "                                sharey = True, tight_layout = True)\n",
    "        \n",
    "        # Ref: https://stackoverflow.com/questions/6963035/pyplot-axes-labels-for-subplots/36542971#36542971\n",
    "        fig.add_subplot(111, frameon = False)\n",
    "        plt.tick_params(labelcolor='none', top=False, bottom=False, left=False, right=False)\n",
    "        \n",
    "        i = 0\n",
    "        for req_type, response_times in response_times_per_request_type.items():\n",
    "            axs_adapted = axs\n",
    "            \n",
    "            if cols_cnt * rows_cnt > 1:\n",
    "                axs_adapted = axs[i]\n",
    "                i += 1\n",
    "                \n",
    "            axs_adapted.hist(response_times,\n",
    "                             bins = bins_cnt)\n",
    "            axs_adapted.title.set_text(req_type)\n",
    "            \n",
    "\n",
    "        plt.xlabel('Response time, ms')\n",
    "        plt.ylabel('Completed requests')\n",
    "        \n",
    "        if not figures_dir is None:\n",
    "            figure_path = os.path.join(figures_dir, RESP_TIMES_HIST_FILENAME)\n",
    "            plt.savefig(figure_path)\n",
    "        else:\n",
    "            plt.suptitle('Distribution of requests by response time', y = 1.05)\n",
    "            plt.show()\n",
    "            \n",
    "    def _fulfilled_dropped_barchart(self,\n",
    "                                    response_times_per_request_type,\n",
    "                                    workload_ts_per_request_type,\n",
    "                                    bar_width = 0.15,\n",
    "                                    figures_dir = None):\n",
    "        \"\"\"\n",
    "        Builds a barchart of fulfilled requests vs dropped,\n",
    "        a bar for each request type.\n",
    "        \"\"\"\n",
    "        \n",
    "        req_types = list(workload_ts_per_request_type.keys())\n",
    "        succeeded_reqs = []\n",
    "        failed_reqs = []\n",
    "        max_req_cnt = 0\n",
    "        for req_type, workload_timeline in workload_ts_per_request_type.items():\n",
    "            responses_cnt = 0\n",
    "            if req_type in response_times_per_request_type:\n",
    "                responses_cnt = len(response_times_per_request_type[req_type])\n",
    "            \n",
    "            succeeded_reqs.append(responses_cnt)\n",
    "            \n",
    "            requests_cnt = 0\n",
    "            for _, cnt in workload_timeline:\n",
    "                requests_cnt += cnt\n",
    "                \n",
    "            failed_reqs_cnt = requests_cnt - responses_cnt\n",
    "            failed_reqs.append(failed_reqs_cnt)\n",
    "            \n",
    "            max_req_cnt = max([max_req_cnt, requests_cnt])\n",
    "                \n",
    "        plt.bar(req_types, succeeded_reqs,\n",
    "                bar_width, label='Fulfilled')\n",
    "        plt.bar(req_types, failed_reqs,\n",
    "                bar_width, bottom = succeeded_reqs, label='Failed')\n",
    "\n",
    "        plt.ylabel('Requests count')\n",
    "        plt.ylim(top = int(max_req_cnt * 1.05))\n",
    "        plt.legend()\n",
    "        \n",
    "        if not figures_dir is None:\n",
    "            figure_path = os.path.join(figures_dir, FULFILLED_FAILED_BARS_FILENAME)\n",
    "            plt.savefig(figure_path)\n",
    "        else:\n",
    "            plt.suptitle('Fulfilled and failed requests')\n",
    "            plt.show()\n",
    "            \n",
    "    def _waiting_service_buffers_histogram(self,\n",
    "                                           buffer_times_by_request,\n",
    "                                           bins_size_ms = 10,\n",
    "                                           figures_dir = None):\n",
    "        \"\"\"\n",
    "        Builds a set of histograms for the waiting times in buffers.\n",
    "        \"\"\"\n",
    "        \n",
    "        outer_rows_cnt = len(buffer_times_by_request)\n",
    "        outer_cols_cnt = 1\n",
    "        fig = plt.figure()#figsize=(10, 8))\n",
    "        fig.add_subplot(111, frameon = False)\n",
    "        plt.tick_params(labelcolor='none', top=False, bottom=False, left=False, right=False)\n",
    "        outer = gridspec.GridSpec(outer_rows_cnt, outer_cols_cnt,\n",
    "                                  wspace=0.2, hspace=0.9)\n",
    "        \n",
    "        font = {'color':  'black',\n",
    "                'weight': 'bold',\n",
    "                'size': 12}\n",
    "        \n",
    "        i = 0\n",
    "        for req_type, buffers_waiting_times_raw in buffer_times_by_request.items():\n",
    "            \n",
    "            ax_out = plt.Subplot(fig, outer[i])\n",
    "            ax_out.set_title('Request type {}'.format(req_type),\n",
    "                             y = 1.2,\n",
    "                             fontdict = font)\n",
    "            \n",
    "            ax_out.set_xlabel('Waiting time in buffer, ms')\n",
    "            ax_out.set_ylabel('Waiting requests')\n",
    "            ax_out.xaxis.labelpad = 25\n",
    "            ax_out.yaxis.labelpad = 15\n",
    "            ax_out.set_xticks([])\n",
    "            #ax_out.set_yticks([])\n",
    "            \n",
    "            fig.add_subplot(ax_out)\n",
    "            \n",
    "            buffers_waiting_times = {}\n",
    "            for buffer_waiting_time_raw in buffers_waiting_times_raw:\n",
    "                service_name = list(buffer_waiting_time_raw.keys())[0]\n",
    "                buffer_waiting_time_for_service = list(buffer_waiting_time_raw.values())[0]\n",
    "                \n",
    "                if service_name in buffers_waiting_times:\n",
    "                    buffers_waiting_times[service_name].append(buffer_waiting_time_for_service)\n",
    "                else:\n",
    "                    buffers_waiting_times[service_name] = [buffer_waiting_time_for_service]\n",
    "            \n",
    "            max_waiting_time = max([max(sublist) for sublist in list(buffers_waiting_times.values())])\n",
    "            bins_cnt = math.ceil(max_waiting_time / bins_size_ms)\n",
    "            \n",
    "            plots_count = len(buffers_waiting_times)\n",
    "            rows_cnt = 1\n",
    "            cols_cnt = plots_count\n",
    "            if plots_count > MAX_PLOTS_CNT_ROW:\n",
    "                rows_cnt = math.ceil(plots_count / MAX_PLOTS_CNT_ROW)\n",
    "                \n",
    "            # Plotting for req type\n",
    "            inner = gridspec.GridSpecFromSubplotSpec(rows_cnt,\n",
    "                                                     cols_cnt,\n",
    "                                                     subplot_spec = outer[i],\n",
    "                                                     wspace = 0.5,\n",
    "                                                     hspace = 0.1)\n",
    "            \n",
    "            j = 0\n",
    "            for service_name, service_buffer_waiting_times in buffers_waiting_times.items():\n",
    "                ax = plt.Subplot(fig, inner[j], sharey = ax_out)\n",
    "                \n",
    "                ax.hist(service_buffer_waiting_times,\n",
    "                        bins = bins_cnt)\n",
    "                ax.title.set_text('Buffers of the {} service'.format(service_name))\n",
    "                \n",
    "                \n",
    "                if not ax.is_last_row():\n",
    "                    plt.setp(ax.get_xticklabels(), visible=False)\n",
    "\n",
    "                plt.setp(ax.get_yticklabels(), visible=False)\n",
    "                \n",
    "                fig.add_subplot(ax)              \n",
    "                    \n",
    "                j += 1\n",
    "            \n",
    "            i += 1\n",
    "        \n",
    "        if not figures_dir is None:\n",
    "            figure_path = os.path.join(figures_dir, BUF_WAIT_TIME_HIST_FILENAME)\n",
    "            plt.savefig(figure_path)\n",
    "        else:\n",
    "            plt.suptitle('Distribution of requests by buffer waiting time', y = 1.05)\n",
    "            plt.show()"
   ]
  },
  {
   "cell_type": "code",
   "execution_count": 121,
   "metadata": {},
   "outputs": [
    {
     "data": {
      "image/png": "[encoded data removed]",
      "text/plain": [
       "<Figure size 432x288 with 1 Axes>"
      ]
     },
     "metadata": {
      "needs_background": "light"
     },
     "output_type": "display_data"
    },
    {
     "data": {
      "image/png": "[encoded data removed]",
      "text/plain": [
       "<Figure size 432x288 with 3 Axes>"
      ]
     },
     "metadata": {
      "needs_background": "light"
     },
     "output_type": "display_data"
    },
    {
     "data": {
      "image/png": "[encoded data removed]",
      "text/plain": [
       "<Figure size 432x288 with 1 Axes>"
      ]
     },
     "metadata": {
      "needs_background": "light"
     },
     "output_type": "display_data"
    },
    {
     "data": {
      "image/png": "[encoded data removed]",
      "text/plain": [
       "<Figure size 432x288 with 6 Axes>"
      ]
     },
     "metadata": {
      "needs_background": "light"
     },
     "output_type": "display_data"
    }
   ],
   "source": [
    "analysis_framework = AnalysisFramework(simulation_step_ms)\n",
    "analysis_framework.build_figures(simulator.simulations[\"test\"])"
   ]
  },
  {
   "cell_type": "code",
   "execution_count": 118,
   "metadata": {},
   "outputs": [
    {
     "data": {
      "text/plain": [
       "2"
      ]
     },
     "execution_count": 118,
     "metadata": {},
     "output_type": "execute_result"
    }
   ],
   "source": [
    "import math\n",
    "math.ceil(5 / 4)"
   ]
  },
  {
   "cell_type": "code",
   "execution_count": null,
   "metadata": {},
   "outputs": [],
   "source": []
  }
 ],
 "metadata": {
  "kernelspec": {
   "display_name": "Python 3",
   "language": "python",
   "name": "python3"
  },
  "language_info": {
   "codemirror_mode": {
    "name": "ipython",
    "version": 3
   },
   "file_extension": ".py",
   "mimetype": "text/x-python",
   "name": "python",
   "nbconvert_exporter": "python",
   "pygments_lexer": "ipython3",
   "version": "3.6.9"
  }
 },
 "nbformat": 4,
 "nbformat_minor": 2
}
