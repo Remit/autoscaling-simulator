{
 "cells": [
  {
   "cell_type": "code",
   "execution_count": 4,
   "metadata": {},
   "outputs": [
    {
     "name": "stderr",
     "output_type": "stream",
     "text": [
      " 32%|███▏      | 2804/8639 [00:00<00:00, 14496.34it/s]"
     ]
    },
    {
     "name": "stdout",
     "output_type": "stream",
     "text": [
      "[2020-09-18 19:01:15.978647] Left to simulate: 1 min or 7639 steps\n",
      "[2020-09-18 19:01:16.004848] Left to simulate: 1 min or 6639 steps\n",
      "[2020-09-18 19:01:16.133728] Left to simulate: 0 min or 5639 steps\n"
     ]
    },
    {
     "name": "stderr",
     "output_type": "stream",
     "text": [
      " 55%|█████▍    | 4710/8639 [00:00<00:00, 6083.30it/s] "
     ]
    },
    {
     "name": "stdout",
     "output_type": "stream",
     "text": [
      "[2020-09-18 19:01:16.351270] Left to simulate: 0 min or 4639 steps\n",
      "[2020-09-18 19:01:16.565569] Left to simulate: 0 min or 3639 steps\n"
     ]
    },
    {
     "name": "stderr",
     "output_type": "stream",
     "text": [
      " 79%|███████▊  | 6782/8639 [00:01<00:00, 4926.25it/s]"
     ]
    },
    {
     "name": "stdout",
     "output_type": "stream",
     "text": [
      "[2020-09-18 19:01:16.779784] Left to simulate: 0 min or 2639 steps\n",
      "[2020-09-18 19:01:16.997306] Left to simulate: 0 min or 1639 steps"
     ]
    },
    {
     "name": "stderr",
     "output_type": "stream",
     "text": [
      " 90%|████████▉ | 7734/8639 [00:01<00:00, 4568.24it/s]"
     ]
    },
    {
     "name": "stdout",
     "output_type": "stream",
     "text": [
      "\n",
      "[2020-09-18 19:01:17.229576] Left to simulate: 0 min or 639 steps"
     ]
    },
    {
     "name": "stderr",
     "output_type": "stream",
     "text": [
      "8640it [00:01, 5795.47it/s]                          "
     ]
    },
    {
     "name": "stdout",
     "output_type": "stream",
     "text": [
      "\n"
     ]
    },
    {
     "name": "stderr",
     "output_type": "stream",
     "text": [
      "\n"
     ]
    }
   ],
   "source": [
    "from autoscalingsim import simulator\n",
    "from datetime import datetime\n",
    "\n",
    "starting_time = datetime.now()\n",
    "simulation_step_ms = 10\n",
    "time_to_simulate_days = 0.001\n",
    "config_dir = \"experiments/test\"\n",
    "results_dir = None\n",
    "\n",
    "simulator = simulator.Simulator(simulation_step_ms,\n",
    "                                starting_time,\n",
    "                                time_to_simulate_days)\n",
    "\n",
    "simulator.add_simulation(config_dir,\n",
    "                         results_dir)\n",
    "\n",
    "simulator.start_simulation()"
   ]
  },
  {
   "cell_type": "code",
   "execution_count": 5,
   "metadata": {},
   "outputs": [],
   "source": [
    "import sys\n",
    "import os\n",
    "import numpy as np\n",
    "import math\n",
    "from autoscalingsim.simulation.simulation import Simulation\n",
    "from matplotlib import pyplot as plt\n",
    "\n",
    "CDF_FILENAME = 'cdf_response_times.png'\n",
    "RESP_TIMES_HIST_FILENAME = 'hist_response_times.png'\n",
    "FULFILLED_FAILED_BARS_FILENAME = 'bars_fulfilled_failed.png'\n",
    "\n",
    "MAX_PLOTS_CNT_ROW = 4\n",
    "\n",
    "class AnalysisFramework:\n",
    "    \"\"\"\n",
    "    Combines the functionality to build the figures based on the simulation\n",
    "    results. The following figures are supported:\n",
    "        - Autoscaling quality evaluation category:\n",
    "            > CDF of the response times, all the request types on the same plot\n",
    "            > Histogram of the response times, separately for each request type\n",
    "            > Barchart of fulfilled requests vs dropped, a bar for each request type\n",
    "            > utilization?\n",
    "        - Autoscaling behaviour characterization category:\n",
    "            > Line graph (x axis - time) of the desired/current node count,\n",
    "              separately for each node type\n",
    "            > Line graph (x axis - time) of the generated requests count,\n",
    "              all the request types on the same plot\n",
    "            > Histogram of the waiting times in the service buffers,\n",
    "              separately for each buffer (idea - to locate the bottleneck service)\n",
    "            > Barchart of the processing vs waiting time for the fulfilled requests,\n",
    "              a bar for each request type\n",
    "    \"\"\"\n",
    "    def __init__(self,\n",
    "                 simulation_step_ms,\n",
    "                 figures_dir = None):\n",
    "        \n",
    "        self.simulation_step_ms = simulation_step_ms\n",
    "        self.figures_dir = figures_dir\n",
    "        \n",
    "    def build_figures(self,\n",
    "                      simulation = None,\n",
    "                      results_dir = None,\n",
    "                      figures_dir = None):\n",
    "        # TODO: figure settings from config file?\n",
    "        if simulation is None and results_dir is None:\n",
    "            sys.exit('Neither simulation nor results directory is provided, cannot build figures.')\n",
    "        \n",
    "        figures_dir_in_use = self.figures_dir\n",
    "        \n",
    "        if not figures_dir is None:\n",
    "            figures_dir_in_use = figures_dir\n",
    "            \n",
    "        # Getting the data into the unified representation for processing\n",
    "        # either from the simulation or from the results_dir\n",
    "        response_times_per_request_type = {}\n",
    "        workload_ts_per_request_type = {}\n",
    "        if not simulation is None:\n",
    "            response_times_per_request_type = simulation.application_model.response_times_by_request\n",
    "            workload_ts_per_request_type = simulation.workload_model.workload\n",
    "        \n",
    "        # Building figures with the internal functions\n",
    "        self._resp_times_cdf(response_times_per_request_type,\n",
    "                             figures_dir = figures_dir_in_use)\n",
    "        \n",
    "        self._resp_times_histogram(response_times_per_request_type,\n",
    "                                   3 * self.simulation_step_ms,\n",
    "                                   figures_dir = figures_dir_in_use)\n",
    "        \n",
    "        self._fulfilled_dropped_barchart(response_times_per_request_type,\n",
    "                                         workload_ts_per_request_type,\n",
    "                                         figures_dir = figures_dir_in_use)\n",
    "        \n",
    "    def _resp_times_cdf(self,\n",
    "                        response_times_per_request_type,\n",
    "                        figures_dir):\n",
    "        \"\"\"\n",
    "        Builds CDF of the requests by the response times, separate line for\n",
    "        each request type.\n",
    "        \"\"\"\n",
    "        \n",
    "        max_response_time = max([max(response_times_of_req) for response_times_of_req in response_times_per_request_type.values()])\n",
    "        cdf_xlim = max_response_time + 1 * self.simulation_step_ms + 1\n",
    "        x_axis = range(0, cdf_xlim, self.simulation_step_ms)\n",
    "        \n",
    "        cdfs_per_req_type = {}\n",
    "        for req_type, response_times in response_times_per_request_type.items():\n",
    "            reqs_count_binned = [0] * len(x_axis)\n",
    "            \n",
    "            for response_time in response_times:\n",
    "                reqs_count_binned[response_time // self.simulation_step_ms] += 1\n",
    "            \n",
    "            cdfs_per_req_type[req_type] = np.cumsum(reqs_count_binned) / sum(reqs_count_binned)\n",
    "        \n",
    "        for req_type, cdf_vals in cdfs_per_req_type.items():\n",
    "            plt.plot(x_axis, cdf_vals, label = req_type)\n",
    "        \n",
    "        percentiles = [0.99, 0.95, 0.90, 0.80, 0.50]\n",
    "        font = {'color':  'black',\n",
    "                'weight': 'normal',\n",
    "                'size': 8}\n",
    "        for percentile in percentiles:\n",
    "            plt.hlines(percentile, min(x_axis), max(x_axis),\n",
    "                       colors='k', linestyles='dashed', lw = 0.5)\n",
    "            plt.text(0, percentile + 0.001,\n",
    "                     \"{}th percentile\".format(int(percentile * 100)),\n",
    "                     fontdict = font)\n",
    "        \n",
    "        plt.xlabel('Response time, ms')\n",
    "        plt.legend(loc = \"lower right\")\n",
    "        \n",
    "        if not figures_dir is None:\n",
    "            figure_path = os.path.join(figures_dir, CDF_FILENAME)\n",
    "            plt.savefig(figure_path)\n",
    "        else:\n",
    "            plt.title('CDF of requests by response time')\n",
    "            plt.show()\n",
    "            \n",
    "    def _resp_times_histogram(self,\n",
    "                              response_times_per_request_type,\n",
    "                              bins_size_ms = 10,\n",
    "                              figures_dir = None):\n",
    "        \n",
    "        \"\"\"\n",
    "        Builds histogram of requests by the response time.\n",
    "        \"\"\"\n",
    "        max_response_time = max([max(response_times_of_req) for response_times_of_req in response_times_per_request_type.values()])\n",
    "        bins_cnt = math.ceil(max_response_time / bins_size_ms)\n",
    "        \n",
    "        plots_count = len(response_times_per_request_type)\n",
    "        rows_cnt = 1\n",
    "        cols_cnt = plots_count\n",
    "        if plots_count > MAX_PLOTS_CNT_ROW:\n",
    "            rows_cnt = math.ceil(plots_count / MAX_PLOTS_CNT_ROW)\n",
    "        \n",
    "        fig, axs = plt.subplots(rows_cnt, cols_cnt,\n",
    "                                sharey = True, tight_layout = True)\n",
    "        \n",
    "        # Ref: https://stackoverflow.com/questions/6963035/pyplot-axes-labels-for-subplots/36542971#36542971\n",
    "        fig.add_subplot(111, frameon = False)\n",
    "        plt.tick_params(labelcolor='none', top=False, bottom=False, left=False, right=False)\n",
    "        \n",
    "        i = 0\n",
    "        for req_type, response_times in response_times_per_request_type.items():\n",
    "            axs_adapted = axs\n",
    "            \n",
    "            if cols_cnt * rows_cnt > 1:\n",
    "                axs_adapted = axs[i]\n",
    "                i += 1\n",
    "                \n",
    "            axs_adapted.hist(response_times,\n",
    "                             bins = bins_cnt)\n",
    "            axs_adapted.title.set_text(req_type)\n",
    "            \n",
    "            \n",
    "            \n",
    "        \n",
    "        plt.xlabel('Response time, ms')\n",
    "        plt.ylabel('Completed requests')\n",
    "        \n",
    "        if not figures_dir is None:\n",
    "            figure_path = os.path.join(figures_dir, CDF_FILENAME)\n",
    "            plt.savefig(figure_path)\n",
    "        else:\n",
    "            plt.suptitle('Distribution of requests by response time', y = 1.05)\n",
    "            plt.show()\n",
    "            \n",
    "    def _fulfilled_dropped_barchart(self,\n",
    "                                    response_times_per_request_type,\n",
    "                                    workload_ts_per_request_type,\n",
    "                                    bar_width = 0.15,\n",
    "                                    figures_dir = None):\n",
    "        \"\"\"\n",
    "        Builds a barchart of fulfilled requests vs dropped,\n",
    "        a bar for each request type.\n",
    "        \"\"\"\n",
    "        \n",
    "        req_types = list(workload_ts_per_request_type.keys())\n",
    "        succeeded_reqs = []\n",
    "        failed_reqs = []\n",
    "        max_req_cnt = 0\n",
    "        for req_type, workload_timeline in workload_ts_per_request_type.items():\n",
    "            responses_cnt = 0\n",
    "            if req_type in response_times_per_request_type:\n",
    "                responses_cnt = len(response_times_per_request_type[req_type])\n",
    "            \n",
    "            succeeded_reqs.append(responses_cnt)\n",
    "            \n",
    "            requests_cnt = 0\n",
    "            for _, cnt in workload_timeline:\n",
    "                requests_cnt += cnt\n",
    "                \n",
    "            if requests_cnt < responses_cnt:\n",
    "                print(\"BUG! Requests count is smaller than the responses count by: {}\".format(responses_cnt - requests_cnt))\n",
    "            failed_reqs_cnt = requests_cnt - responses_cnt\n",
    "            failed_reqs.append(failed_reqs_cnt)\n",
    "            \n",
    "            max_req_cnt = max([max_req_cnt, requests_cnt])\n",
    "                \n",
    "        plt.bar(req_types, succeeded_reqs,\n",
    "                bar_width, label='Fulfilled')\n",
    "        plt.bar(req_types, failed_reqs,\n",
    "                bar_width, bottom = succeeded_reqs, label='Failed')\n",
    "\n",
    "        plt.ylabel('Requests count')\n",
    "        plt.ylim(top = int(max_req_cnt * 1.05))\n",
    "        plt.legend()\n",
    "        \n",
    "        if not figures_dir is None:\n",
    "            figure_path = os.path.join(figures_dir, FULFILLED_FAILED_BARS_FILENAME)\n",
    "            plt.savefig(figure_path)\n",
    "        else:\n",
    "            plt.suptitle('Fulfilled and failed requests')\n",
    "            plt.show()"
   ]
  },
  {
   "cell_type": "code",
   "execution_count": 6,
   "metadata": {},
   "outputs": [
    {
     "data": {
      "image/png": "[encoded data removed]",
      "text/plain": [
       "<Figure size 432x288 with 1 Axes>"
      ]
     },
     "metadata": {
      "needs_background": "light"
     },
     "output_type": "display_data"
    },
    {
     "data": {
      "image/png": "[encoded data removed]",
      "text/plain": [
       "<Figure size 432x288 with 3 Axes>"
      ]
     },
     "metadata": {
      "needs_background": "light"
     },
     "output_type": "display_data"
    },
    {
     "data": {
      "image/png": "[encoded data removed]",
      "text/plain": [
       "<Figure size 432x288 with 1 Axes>"
      ]
     },
     "metadata": {
      "needs_background": "light"
     },
     "output_type": "display_data"
    }
   ],
   "source": [
    "analysis_framework = AnalysisFramework(simulation_step_ms)\n",
    "analysis_framework.build_figures(simulator.simulations[\"test\"])"
   ]
  },
  {
   "cell_type": "code",
   "execution_count": 118,
   "metadata": {},
   "outputs": [
    {
     "data": {
      "text/plain": [
       "2"
      ]
     },
     "execution_count": 118,
     "metadata": {},
     "output_type": "execute_result"
    }
   ],
   "source": [
    "import math\n",
    "math.ceil(5 / 4)"
   ]
  },
  {
   "cell_type": "code",
   "execution_count": null,
   "metadata": {},
   "outputs": [],
   "source": []
  }
 ],
 "metadata": {
  "kernelspec": {
   "display_name": "Python 3",
   "language": "python",
   "name": "python3"
  },
  "language_info": {
   "codemirror_mode": {
    "name": "ipython",
    "version": 3
   },
   "file_extension": ".py",
   "mimetype": "text/x-python",
   "name": "python",
   "nbconvert_exporter": "python",
   "pygments_lexer": "ipython3",
   "version": "3.6.9"
  }
 },
 "nbformat": 4,
 "nbformat_minor": 2
}
