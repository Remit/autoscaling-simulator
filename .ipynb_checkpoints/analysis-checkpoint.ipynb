{
 "cells": [
  {
   "cell_type": "code",
   "execution_count": 1,
   "metadata": {},
   "outputs": [
    {
     "name": "stderr",
     "output_type": "stream",
     "text": [
      "  9%|▉         | 3968/43199 [00:00<00:03, 12506.02it/s]"
     ]
    },
    {
     "name": "stdout",
     "output_type": "stream",
     "text": [
      "[2020-09-19 18:17:34.194073] Left to simulate: 7 min or 42199 steps\n",
      "[2020-09-19 18:17:34.219729] Left to simulate: 6 min or 41199 steps\n",
      "[2020-09-19 18:17:34.293855] Left to simulate: 6 min or 40199 steps\n"
     ]
    },
    {
     "name": "stderr",
     "output_type": "stream",
     "text": [
      " 13%|█▎        | 5677/43199 [00:00<00:03, 10001.61it/s]"
     ]
    },
    {
     "name": "stdout",
     "output_type": "stream",
     "text": [
      "[2020-09-19 18:17:34.413155] Left to simulate: 6 min or 39199 steps\n",
      "[2020-09-19 18:17:34.538380] Left to simulate: 6 min or 38199 steps\n",
      "[2020-09-19 18:17:34.646316] Left to simulate: 6 min or 37199 steps\n"
     ]
    },
    {
     "name": "stderr",
     "output_type": "stream",
     "text": [
      " 19%|█▉        | 8316/43199 [00:00<00:03, 8842.55it/s] "
     ]
    },
    {
     "name": "stdout",
     "output_type": "stream",
     "text": [
      "[2020-09-19 18:17:34.755687] Left to simulate: 6 min or 36199 steps\n",
      "[2020-09-19 18:17:34.888267] Left to simulate: 5 min or 35199 steps\n",
      "[2020-09-19 18:17:35.000450] Left to simulate: 5 min or 34199 steps\n"
     ]
    },
    {
     "name": "stderr",
     "output_type": "stream",
     "text": [
      " 25%|██▌       | 10894/43199 [00:01<00:03, 8294.92it/s]"
     ]
    },
    {
     "name": "stdout",
     "output_type": "stream",
     "text": [
      "[2020-09-19 18:17:35.123484] Left to simulate: 5 min or 33199 steps\n",
      "[2020-09-19 18:17:35.250701] Left to simulate: 5 min or 32199 steps\n"
     ]
    },
    {
     "name": "stderr",
     "output_type": "stream",
     "text": [
      " 31%|███       | 13344/43199 [00:01<00:03, 7798.30it/s]"
     ]
    },
    {
     "name": "stdout",
     "output_type": "stream",
     "text": [
      "[2020-09-19 18:17:35.393707] Left to simulate: 5 min or 31199 steps\n",
      "[2020-09-19 18:17:35.525176] Left to simulate: 5 min or 30199 steps\n"
     ]
    },
    {
     "name": "stderr",
     "output_type": "stream",
     "text": [
      " 35%|███▍      | 14907/43199 [00:01<00:03, 7734.21it/s]"
     ]
    },
    {
     "name": "stdout",
     "output_type": "stream",
     "text": [
      "[2020-09-19 18:17:35.650309] Left to simulate: 4 min or 29199 steps\n",
      "[2020-09-19 18:17:35.781366] Left to simulate: 4 min or 28199 steps\n"
     ]
    },
    {
     "name": "stderr",
     "output_type": "stream",
     "text": [
      " 40%|████      | 17301/43199 [00:01<00:03, 7912.42it/s]"
     ]
    },
    {
     "name": "stdout",
     "output_type": "stream",
     "text": [
      "[2020-09-19 18:17:35.910961] Left to simulate: 4 min or 27199 steps\n",
      "[2020-09-19 18:17:36.037570] Left to simulate: 4 min or 26199 steps\n"
     ]
    },
    {
     "name": "stderr",
     "output_type": "stream",
     "text": [
      " 44%|████▍     | 18922/43199 [00:02<00:03, 7985.54it/s]"
     ]
    },
    {
     "name": "stdout",
     "output_type": "stream",
     "text": [
      "[2020-09-19 18:17:36.158440] Left to simulate: 4 min or 25199 steps\n",
      "[2020-09-19 18:17:36.286515] Left to simulate: 4 min or 24199 steps\n"
     ]
    },
    {
     "name": "stderr",
     "output_type": "stream",
     "text": [
      " 47%|████▋     | 20493/43199 [00:02<00:03, 7270.59it/s]"
     ]
    },
    {
     "name": "stdout",
     "output_type": "stream",
     "text": [
      "[2020-09-19 18:17:36.428151] Left to simulate: 3 min or 23199 steps\n",
      "[2020-09-19 18:17:36.604564] Left to simulate: 3 min or 22199 steps\n"
     ]
    },
    {
     "name": "stderr",
     "output_type": "stream",
     "text": [
      " 54%|█████▍    | 23221/43199 [00:02<00:03, 6335.24it/s]"
     ]
    },
    {
     "name": "stdout",
     "output_type": "stream",
     "text": [
      "[2020-09-19 18:17:36.760774] Left to simulate: 3 min or 21199 steps\n",
      "[2020-09-19 18:17:36.925979] Left to simulate: 3 min or 20199 steps\n"
     ]
    },
    {
     "name": "stderr",
     "output_type": "stream",
     "text": [
      " 58%|█████▊    | 25139/43199 [00:03<00:02, 6292.06it/s]"
     ]
    },
    {
     "name": "stdout",
     "output_type": "stream",
     "text": [
      "[2020-09-19 18:17:37.083622] Left to simulate: 3 min or 19199 steps\n",
      "[2020-09-19 18:17:37.242550] Left to simulate: 3 min or 18199 steps\n"
     ]
    },
    {
     "name": "stderr",
     "output_type": "stream",
     "text": [
      " 63%|██████▎   | 27043/43199 [00:03<00:02, 6139.83it/s]"
     ]
    },
    {
     "name": "stdout",
     "output_type": "stream",
     "text": [
      "[2020-09-19 18:17:37.417379] Left to simulate: 2 min or 17199 steps\n",
      "[2020-09-19 18:17:37.576069] Left to simulate: 2 min or 16199 steps\n"
     ]
    },
    {
     "name": "stderr",
     "output_type": "stream",
     "text": [
      " 67%|██████▋   | 28884/43199 [00:03<00:02, 5999.61it/s]"
     ]
    },
    {
     "name": "stdout",
     "output_type": "stream",
     "text": [
      "[2020-09-19 18:17:37.752399] Left to simulate: 2 min or 15199 steps\n",
      "[2020-09-19 18:17:37.916508] Left to simulate: 2 min or 14199 steps\n"
     ]
    },
    {
     "name": "stderr",
     "output_type": "stream",
     "text": [
      " 71%|███████▏  | 30780/43199 [00:04<00:02, 6126.25it/s]"
     ]
    },
    {
     "name": "stdout",
     "output_type": "stream",
     "text": [
      "[2020-09-19 18:17:38.075461] Left to simulate: 2 min or 13199 steps\n",
      "[2020-09-19 18:17:38.238708] Left to simulate: 2 min or 12199 steps\n"
     ]
    },
    {
     "name": "stderr",
     "output_type": "stream",
     "text": [
      " 76%|███████▌  | 32691/43199 [00:04<00:01, 6272.32it/s]"
     ]
    },
    {
     "name": "stdout",
     "output_type": "stream",
     "text": [
      "[2020-09-19 18:17:38.398173] Left to simulate: 1 min or 11199 steps\n",
      "[2020-09-19 18:17:38.551705] Left to simulate: 1 min or 10199 steps\n"
     ]
    },
    {
     "name": "stderr",
     "output_type": "stream",
     "text": [
      " 82%|████████▏ | 35286/43199 [00:04<00:01, 6385.58it/s]"
     ]
    },
    {
     "name": "stdout",
     "output_type": "stream",
     "text": [
      "[2020-09-19 18:17:38.716465] Left to simulate: 1 min or 9199 steps\n",
      "[2020-09-19 18:17:38.868192] Left to simulate: 1 min or 8199 steps\n"
     ]
    },
    {
     "name": "stderr",
     "output_type": "stream",
     "text": [
      " 86%|████████▌ | 37217/43199 [00:05<00:00, 6282.26it/s]"
     ]
    },
    {
     "name": "stdout",
     "output_type": "stream",
     "text": [
      "[2020-09-19 18:17:39.021118] Left to simulate: 1 min or 7199 steps\n",
      "[2020-09-19 18:17:39.187429] Left to simulate: 1 min or 6199 steps\n"
     ]
    },
    {
     "name": "stderr",
     "output_type": "stream",
     "text": [
      " 91%|█████████ | 39130/43199 [00:05<00:00, 6289.37it/s]"
     ]
    },
    {
     "name": "stdout",
     "output_type": "stream",
     "text": [
      "[2020-09-19 18:17:39.348538] Left to simulate: 0 min or 5199 steps\n",
      "[2020-09-19 18:17:39.504039] Left to simulate: 0 min or 4199 steps\n"
     ]
    },
    {
     "name": "stderr",
     "output_type": "stream",
     "text": [
      " 96%|█████████▌| 41451/43199 [00:05<00:00, 7229.85it/s]"
     ]
    },
    {
     "name": "stdout",
     "output_type": "stream",
     "text": [
      "[2020-09-19 18:17:39.653152] Left to simulate: 0 min or 3199 steps\n",
      "[2020-09-19 18:17:39.772225] Left to simulate: 0 min or 2199 steps\n",
      "[2020-09-19 18:17:39.887582] Left to simulate: 0 min or 1199 steps\n"
     ]
    },
    {
     "name": "stderr",
     "output_type": "stream",
     "text": [
      "43200it [00:05, 7279.10it/s]                           "
     ]
    },
    {
     "name": "stdout",
     "output_type": "stream",
     "text": [
      "[2020-09-19 18:17:40.014860] Left to simulate: 0 min or 199 steps\n"
     ]
    },
    {
     "name": "stderr",
     "output_type": "stream",
     "text": [
      "\n"
     ]
    }
   ],
   "source": [
    "from autoscalingsim import simulator\n",
    "from datetime import datetime\n",
    "\n",
    "starting_datetime_str = \"2020-09-17T10:00:00\"\n",
    "starting_time = datetime.strptime(starting_datetime_str, '%Y-%m-%dT%H:%M:%S')\n",
    "simulation_step_ms = 10\n",
    "time_to_simulate_days = 0.005\n",
    "config_dir = \"experiments/test\"\n",
    "results_dir = None\n",
    "\n",
    "simulator = simulator.Simulator(simulation_step_ms,\n",
    "                                starting_time,\n",
    "                                time_to_simulate_days)\n",
    "\n",
    "simulator.add_simulation(config_dir,\n",
    "                         results_dir)\n",
    "\n",
    "simulator.start_simulation()"
   ]
  },
  {
   "cell_type": "code",
   "execution_count": 58,
   "metadata": {},
   "outputs": [],
   "source": [
    "import sys\n",
    "import os\n",
    "import numpy as np\n",
    "import pandas as pd\n",
    "import math\n",
    "from autoscalingsim.simulation.simulation import Simulation\n",
    "from matplotlib import pyplot as plt\n",
    "import matplotlib.gridspec as gridspec\n",
    "\n",
    "CDF_FILENAME = 'cdf_response_times.png'\n",
    "RESP_TIMES_HIST_FILENAME = 'hist_response_times.png'\n",
    "FULFILLED_FAILED_BARS_FILENAME = 'bars_fulfilled_failed.png'\n",
    "\n",
    "TS_LINE_WORKLOAD_FILENAME = 'ts_line_workload.png'\n",
    "TOTAL_REQS_BARS_FILENAME = 'bars_total_gen_reqs.png'\n",
    "TS_LINE_NODES_FILENAME = 'ts_line_nodes.png'\n",
    "BUF_WAIT_TIME_HIST_FILENAME = 'hist_buf_waiting_time.png'\n",
    "REQ_TIMES_DISTR_BARS_FILENAME = 'bars_req_time_distribution_by_cat.png'\n",
    "\n",
    "MAX_PLOTS_CNT_ROW = 4\n",
    "\n",
    "class AnalysisFramework:\n",
    "    \"\"\"\n",
    "    Combines the functionality to build the figures based on the simulation\n",
    "    results. The following figures are supported:\n",
    "        - Autoscaling quality evaluation category:\n",
    "            + CDF of the response times, all the request types on the same plot\n",
    "            + Histogram of the response times, separately for each request type\n",
    "            + Barchart of fulfilled requests vs dropped, a bar for each request type\n",
    "            > utilization?\n",
    "        - Autoscaling behaviour characterization category:\n",
    "            + Line graph (x axis - time) of the generated requests count,\n",
    "              all the request types on the same plot\n",
    "            + Barchart of the overall amount of generated requests by type\n",
    "            + Line graph (x axis - time) of the desired/current node count,\n",
    "              separately for each node type\n",
    "            + Histogram of the waiting times in the service buffers,\n",
    "              separately for each buffer (idea - to locate the bottleneck service)\n",
    "            + Barchart of the processing vs waiting vs network time for the fulfilled requests,\n",
    "              a bar for each request type\n",
    "    \"\"\"\n",
    "    def __init__(self,\n",
    "                 simulation_step_ms,\n",
    "                 figures_dir = None):\n",
    "        \n",
    "        self.simulation_step_ms = simulation_step_ms\n",
    "        self.figures_dir = figures_dir\n",
    "        \n",
    "    def build_figures(self,\n",
    "                      simulation = None,\n",
    "                      results_dir = None,\n",
    "                      figures_dir = None):\n",
    "        # TODO: figure settings from config file?\n",
    "        # TODO: get results from the results_dir, also need to add storing into it\n",
    "        if simulation is None and results_dir is None:\n",
    "            sys.exit('Neither simulation nor results directory is provided, cannot build figures.')\n",
    "        \n",
    "        figures_dir_in_use = self.figures_dir\n",
    "        \n",
    "        if not figures_dir is None:\n",
    "            figures_dir_in_use = figures_dir\n",
    "            \n",
    "        # Getting the data into the unified representation for processing\n",
    "        # either from the simulation or from the results_dir\n",
    "        response_times_per_request_type = {}\n",
    "        workload_ts_per_request_type = {}\n",
    "        buffer_times_by_request = {}\n",
    "        network_times_by_request = {}\n",
    "        desired_node_count = {}\n",
    "        actual_node_count = {}\n",
    "        if not simulation is None:      \n",
    "            workload_ts_per_request_type = simulation.workload_model.workload\n",
    "            response_times_per_request_type = simulation.application_model.response_times_by_request\n",
    "            buffer_times_by_request = simulation.application_model.buffer_times_by_request\n",
    "            network_times_by_request = simulation.application_model.network_times_by_request\n",
    "            desired_node_count = simulation.application_model.platform_model.compute_desired_node_count(self.simulation_step_ms,\n",
    "                                                                                                         simulation.time_to_simulate_ms)\n",
    "            actual_node_count = simulation.application_model.platform_model.compute_actual_node_count(self.simulation_step_ms,\n",
    "                                                                                                      simulation.time_to_simulate_ms)\n",
    "            \n",
    "        # Building figures with the internal functions\n",
    "        # Autoscaling quality evaluation category\n",
    "        self._resp_times_cdf(response_times_per_request_type,\n",
    "                             figures_dir = figures_dir_in_use)\n",
    "        \n",
    "        self._resp_times_histogram(response_times_per_request_type,\n",
    "                                   3 * self.simulation_step_ms,\n",
    "                                   figures_dir = figures_dir_in_use)\n",
    "        \n",
    "        self._fulfilled_dropped_barchart(response_times_per_request_type,\n",
    "                                         workload_ts_per_request_type,\n",
    "                                         figures_dir = figures_dir_in_use)\n",
    "        \n",
    "        # Autoscaling behaviour characterization category\n",
    "        self._workload_line_graph(workload_ts_per_request_type,\n",
    "                                  resolution_ms = 5000,\n",
    "                                  figures_dir = figures_dir_in_use)\n",
    "        \n",
    "        self._generated_requests_by_type_barchart(workload_ts_per_request_type,\n",
    "                                                  figures_dir = figures_dir_in_use)\n",
    "        \n",
    "        self._nodes_usage_line_graph(desired_node_count,\n",
    "                                     actual_node_count,\n",
    "                                     figures_dir = figures_dir_in_use)\n",
    "        \n",
    "        self._waiting_service_buffers_histogram(buffer_times_by_request,\n",
    "                                                bins_size_ms = 3 * self.simulation_step_ms,\n",
    "                                                figures_dir = figures_dir_in_use)\n",
    "        \n",
    "        self._distribution_of_reqs_times_barchart(response_times_per_request_type,\n",
    "                                                  buffer_times_by_request,\n",
    "                                                  network_times_by_request,\n",
    "                                                  figures_dir = figures_dir_in_use)\n",
    "    \n",
    "    def _resp_times_cdf(self,\n",
    "                        response_times_per_request_type,\n",
    "                        figures_dir = None):\n",
    "        \"\"\"\n",
    "        Builds CDF of the requests by the response times, separate line for\n",
    "        each request type.\n",
    "        \"\"\"\n",
    "        \n",
    "        max_response_time = max([max(response_times_of_req) for response_times_of_req in response_times_per_request_type.values()])\n",
    "        cdf_xlim = max_response_time + 1 * self.simulation_step_ms + 1\n",
    "        x_axis = range(0, cdf_xlim, self.simulation_step_ms)\n",
    "        \n",
    "        cdfs_per_req_type = {}\n",
    "        for req_type, response_times in response_times_per_request_type.items():\n",
    "            reqs_count_binned = [0] * len(x_axis)\n",
    "            \n",
    "            for response_time in response_times:\n",
    "                reqs_count_binned[response_time // self.simulation_step_ms] += 1\n",
    "            \n",
    "            cdfs_per_req_type[req_type] = np.cumsum(reqs_count_binned) / sum(reqs_count_binned)\n",
    "        \n",
    "        for req_type, cdf_vals in cdfs_per_req_type.items():\n",
    "            plt.plot(x_axis, cdf_vals, label = req_type)\n",
    "        \n",
    "        percentiles = [0.99, 0.95, 0.90, 0.80, 0.50]\n",
    "        font = {'color':  'black',\n",
    "                'weight': 'normal',\n",
    "                'size': 8}\n",
    "        for percentile in percentiles:\n",
    "            plt.hlines(percentile, min(x_axis), max(x_axis),\n",
    "                       colors='k', linestyles='dashed', lw = 0.5)\n",
    "            plt.text(0, percentile + 0.001,\n",
    "                     \"{}th percentile\".format(int(percentile * 100)),\n",
    "                     fontdict = font)\n",
    "        \n",
    "        plt.xlabel('Response time, ms')\n",
    "        plt.legend(loc = \"lower right\")\n",
    "        \n",
    "        if not figures_dir is None:\n",
    "            figure_path = os.path.join(figures_dir, CDF_FILENAME)\n",
    "            plt.savefig(figure_path)\n",
    "        else:\n",
    "            plt.title('CDF of requests by response time')\n",
    "            plt.show()\n",
    "            \n",
    "    def _resp_times_histogram(self,\n",
    "                              response_times_per_request_type,\n",
    "                              bins_size_ms = 10,\n",
    "                              figures_dir = None):\n",
    "        \n",
    "        \"\"\"\n",
    "        Builds histogram of requests by the response time.\n",
    "        \"\"\"\n",
    "        max_response_time = max([max(response_times_of_req) for response_times_of_req in response_times_per_request_type.values()])\n",
    "        bins_cnt = math.ceil(max_response_time / bins_size_ms)\n",
    "        \n",
    "        plots_count = len(response_times_per_request_type)\n",
    "        rows_cnt = 1\n",
    "        cols_cnt = plots_count\n",
    "        if plots_count > MAX_PLOTS_CNT_ROW:\n",
    "            rows_cnt = math.ceil(plots_count / MAX_PLOTS_CNT_ROW)\n",
    "        \n",
    "        fig, axs = plt.subplots(rows_cnt, cols_cnt,\n",
    "                                sharey = True, tight_layout = True)\n",
    "        \n",
    "        # Ref: https://stackoverflow.com/questions/6963035/pyplot-axes-labels-for-subplots/36542971#36542971\n",
    "        fig.add_subplot(111, frameon = False)\n",
    "        plt.tick_params(labelcolor='none', top=False, bottom=False, left=False, right=False)\n",
    "        \n",
    "        i = 0\n",
    "        for req_type, response_times in response_times_per_request_type.items():\n",
    "            axs_adapted = axs\n",
    "            \n",
    "            if cols_cnt * rows_cnt > 1:\n",
    "                axs_adapted = axs[i]\n",
    "                i += 1\n",
    "                \n",
    "            axs_adapted.hist(response_times,\n",
    "                             bins = bins_cnt)\n",
    "            axs_adapted.title.set_text(req_type)\n",
    "            \n",
    "\n",
    "        plt.xlabel('Response time, ms')\n",
    "        plt.ylabel('Completed requests')\n",
    "        \n",
    "        if not figures_dir is None:\n",
    "            figure_path = os.path.join(figures_dir, RESP_TIMES_HIST_FILENAME)\n",
    "            plt.savefig(figure_path)\n",
    "        else:\n",
    "            plt.suptitle('Distribution of requests by response time', y = 1.05)\n",
    "            plt.show()\n",
    "            \n",
    "    def _fulfilled_dropped_barchart(self,\n",
    "                                    response_times_per_request_type,\n",
    "                                    workload_ts_per_request_type,\n",
    "                                    bar_width = 0.15,\n",
    "                                    figures_dir = None):\n",
    "        \"\"\"\n",
    "        Builds a barchart of fulfilled requests vs dropped,\n",
    "        a bar for each request type.\n",
    "        \"\"\"\n",
    "        \n",
    "        req_types = list(workload_ts_per_request_type.keys())\n",
    "        succeeded_reqs = []\n",
    "        failed_reqs = []\n",
    "        max_req_cnt = 0\n",
    "        for req_type, workload_timeline in workload_ts_per_request_type.items():\n",
    "            responses_cnt = 0\n",
    "            if req_type in response_times_per_request_type:\n",
    "                responses_cnt = len(response_times_per_request_type[req_type])\n",
    "            \n",
    "            succeeded_reqs.append(responses_cnt)\n",
    "            \n",
    "            requests_cnt = 0\n",
    "            for _, cnt in workload_timeline:\n",
    "                requests_cnt += cnt\n",
    "                \n",
    "            failed_reqs_cnt = requests_cnt - responses_cnt\n",
    "            failed_reqs.append(failed_reqs_cnt)\n",
    "            \n",
    "            max_req_cnt = max([max_req_cnt, requests_cnt])\n",
    "                \n",
    "        plt.bar(req_types, succeeded_reqs,\n",
    "                bar_width, label='Fulfilled')\n",
    "        plt.bar(req_types, failed_reqs,\n",
    "                bar_width, bottom = succeeded_reqs, label='Failed')\n",
    "\n",
    "        plt.ylabel('Requests count')\n",
    "        plt.ylim(top = int(max_req_cnt * 1.05))\n",
    "        plt.legend()\n",
    "        \n",
    "        if not figures_dir is None:\n",
    "            figure_path = os.path.join(figures_dir, FULFILLED_FAILED_BARS_FILENAME)\n",
    "            plt.savefig(figure_path)\n",
    "        else:\n",
    "            plt.suptitle('Fulfilled and failed requests')\n",
    "            plt.show()\n",
    "    \n",
    "    def _workload_line_graph(self,\n",
    "                             workload_ts_per_request_type,\n",
    "                             resolution_ms = 1000,\n",
    "                             figures_dir = None):\n",
    "        \"\"\"\n",
    "        Line graph (x axis - time) of the desired/current node count,\n",
    "        separately for each node type\n",
    "        \"\"\"\n",
    "        for req_type, workload_ts_raw in workload_ts_per_request_type.items():\n",
    "            \n",
    "            workload_ts_times_ms = []\n",
    "            workload_ts_req_counts = []\n",
    "            new_frame_start_ms = workload_ts_raw[0][0] + resolution_ms\n",
    "            cur_req_cnt = 0\n",
    "            last_added = False\n",
    "            for workload_obs in workload_ts_raw:\n",
    "                last_added = False\n",
    "                \n",
    "                cur_ts_ms = workload_obs[0]\n",
    "                reqs_cnt = workload_obs[1]\n",
    "                \n",
    "                if cur_ts_ms > new_frame_start_ms:\n",
    "                    workload_ts_times_ms.append(new_frame_start_ms)\n",
    "                    workload_ts_req_counts.append(cur_req_cnt)\n",
    "                    cur_req_cnt = 0\n",
    "                    new_frame_start_ms = cur_ts_ms + resolution_ms\n",
    "                    last_added = True\n",
    "                    \n",
    "                cur_req_cnt += reqs_cnt\n",
    "            \n",
    "            if not last_added:\n",
    "                workload_ts_times_ms.append(new_frame_start_ms)\n",
    "                workload_ts_req_counts.append(cur_req_cnt)\n",
    "                \n",
    "            workload_ts_time = [datetime.fromtimestamp(workload_ts_time_ms // 1000) for workload_ts_time_ms in workload_ts_times_ms]\n",
    "\n",
    "            df_workload = pd.DataFrame(data = {'time': workload_ts_time,\n",
    "                                               'requests': workload_ts_req_counts})\n",
    "            df_workload = df_workload.set_index('time')\n",
    "            plt.plot(df_workload, label = req_type)\n",
    "            \n",
    "            plt.ylabel('Workload, requests per {} s'.format(resolution_ms // 1000))\n",
    "            plt.legend(loc = \"lower right\")\n",
    "            plt.xticks(rotation = 70)\n",
    "            \n",
    "        if not figures_dir is None:\n",
    "            figure_path = os.path.join(figures_dir, TS_LINE_WORKLOAD_FILENAME)\n",
    "            plt.savefig(figure_path)\n",
    "        else:\n",
    "            plt.title('Generated workload over time')\n",
    "            plt.show()\n",
    "    \n",
    "    def _generated_requests_by_type_barchart(self,\n",
    "                                             workload_ts_per_request_type,\n",
    "                                             bar_width = 0.15,\n",
    "                                             figures_dir = None):\n",
    "        \"\"\"\n",
    "        Barchart of the overall amount of generated requests by type.\n",
    "        \"\"\"\n",
    "        \n",
    "        req_types = list(workload_ts_per_request_type.keys())\n",
    "        reqs_cnts = {}\n",
    "        max_req_cnt = 0\n",
    "        for req_type, workload_timeline in workload_ts_per_request_type.items():\n",
    "            \n",
    "            requests_cnt = 0\n",
    "            for _, cnt in workload_timeline:\n",
    "                requests_cnt += cnt\n",
    "                \n",
    "            reqs_cnts[req_type] = requests_cnt\n",
    "            \n",
    "            max_req_cnt = max([max_req_cnt, requests_cnt])\n",
    "        \n",
    "        plt.bar(list(reqs_cnts.keys()), list(reqs_cnts.values()),\n",
    "                bar_width)\n",
    "\n",
    "        plt.ylabel('Requests count')\n",
    "        plt.ylim(top = int(max_req_cnt * 1.05))\n",
    "        \n",
    "        if not figures_dir is None:\n",
    "            figure_path = os.path.join(figures_dir, TOTAL_REQS_BARS_FILENAME)\n",
    "            plt.savefig(figure_path)\n",
    "        else:\n",
    "            plt.suptitle('Total generated requests by type')\n",
    "            plt.show()\n",
    "    \n",
    "    def _nodes_usage_line_graph(self,\n",
    "                                desired_node_count,\n",
    "                                actual_node_count,\n",
    "                                resolution_ms = 5000,\n",
    "                                figures_dir = None):\n",
    "        \"\"\"\n",
    "        Line graph (x axis - time) of the desired/current node count,\n",
    "        separately for each node type\n",
    "        \"\"\"\n",
    "        \n",
    "        node_types = list(desired_node_count.keys())\n",
    "        plots_count = len(node_types)\n",
    "        rows_cnt = 1\n",
    "        cols_cnt = plots_count\n",
    "        if plots_count > MAX_PLOTS_CNT_ROW:\n",
    "            rows_cnt = math.ceil(plots_count / MAX_PLOTS_CNT_ROW)\n",
    "        \n",
    "        fig, axs = plt.subplots(rows_cnt, cols_cnt,\n",
    "                                sharey = True, tight_layout = True)\n",
    "        \n",
    "        # Ref: https://stackoverflow.com/questions/6963035/pyplot-axes-labels-for-subplots/36542971#36542971\n",
    "        fig.add_subplot(111, frameon = False)\n",
    "        plt.tick_params(labelcolor='none', top=False, bottom=False, left=False, right=False)\n",
    "        \n",
    "        for node_type in node_types:\n",
    "            \n",
    "            desired_ts = desired_node_count[node_type]['timestamps']\n",
    "            desired_count = desired_node_count[node_type]['count']\n",
    "            \n",
    "            actual_ts = []\n",
    "            actual_count = []\n",
    "            if node_type in actual_node_count:\n",
    "                actual_ts = actual_node_count[node_type]['timestamps']\n",
    "                actual_count = actual_node_count[node_type]['count']\n",
    "            \n",
    "                \n",
    "            desired_ts_time = [datetime.fromtimestamp(desired_ts_el // 1000) for desired_ts_el in desired_ts]\n",
    "            actual_ts_time = [datetime.fromtimestamp(actual_ts_el // 1000) for actual_ts_el in actual_ts]\n",
    "\n",
    "            df_desired = pd.DataFrame(data = {'time': desired_ts_time,\n",
    "                                              'nodes': desired_count})\n",
    "            df_actual = pd.DataFrame(data = {'time': actual_ts_time,\n",
    "                                             'nodes': actual_count})\n",
    "            df_desired = df_desired.set_index('time')\n",
    "            df_actual = df_actual.set_index('time')\n",
    "            \n",
    "            axs.title.set_text(\"Node type {}\".format(node_type))\n",
    "            axs.plot(df_desired, label = \"Desired count\")\n",
    "            axs.plot(df_actual, label = \"Actual count\")\n",
    "            \n",
    "            fig.canvas.draw()\n",
    "            axs.set_xticklabels([txt.get_text() for txt in axs.get_xticklabels()], rotation = 70)\n",
    "            \n",
    "        plt.ylabel('Nodes')\n",
    "        axs.legend(loc = 'upper right', bbox_to_anchor=(0.9, -0.1), ncol = 2,\n",
    "                   borderaxespad = 4.0)\n",
    "            \n",
    "        if not figures_dir is None:\n",
    "            figure_path = os.path.join(figures_dir, TS_LINE_NODES_FILENAME)\n",
    "            plt.savefig(figure_path)\n",
    "        else:\n",
    "            plt.suptitle('Desired and actual number of nodes per node type', y = 1.05)\n",
    "            plt.show()\n",
    "    \n",
    "    def _waiting_service_buffers_histogram(self,\n",
    "                                           buffer_times_by_request,\n",
    "                                           bins_size_ms = 10,\n",
    "                                           figures_dir = None):\n",
    "        \"\"\"\n",
    "        Builds a set of histograms for the waiting times in buffers.\n",
    "        \"\"\"\n",
    "        \n",
    "        outer_rows_cnt = len(buffer_times_by_request)\n",
    "        outer_cols_cnt = 1\n",
    "        fig = plt.figure()#figsize=(10, 8))\n",
    "        fig.add_subplot(111, frameon = False)\n",
    "        plt.tick_params(labelcolor='none', top=False, bottom=False, left=False, right=False)\n",
    "        outer = gridspec.GridSpec(outer_rows_cnt, outer_cols_cnt,\n",
    "                                  wspace=0.2, hspace=1.0)\n",
    "        \n",
    "        font = {'color':  'black',\n",
    "                'weight': 'bold',\n",
    "                'size': 12}\n",
    "        \n",
    "        i = 0\n",
    "        for req_type, buffers_waiting_times_raw in buffer_times_by_request.items():\n",
    "            \n",
    "            ax_out = plt.Subplot(fig, outer[i])\n",
    "            ax_out.set_title('Request type {}'.format(req_type),\n",
    "                             y = 1.2,\n",
    "                             fontdict = font)\n",
    "            \n",
    "            ax_out.set_xlabel('Time spent waiting in the buffer, ms')\n",
    "            ax_out.set_ylabel('Waiting requests')\n",
    "            ax_out.xaxis.labelpad = 25\n",
    "            ax_out.yaxis.labelpad = 15\n",
    "            ax_out.set_xticks([])\n",
    "            #ax_out.set_yticks([])\n",
    "            \n",
    "            fig.add_subplot(ax_out)\n",
    "            \n",
    "            buffers_waiting_times = {}\n",
    "            for buffer_waiting_time_raw in buffers_waiting_times_raw:\n",
    "                service_name = list(buffer_waiting_time_raw.keys())[0]\n",
    "                buffer_waiting_time_for_service = list(buffer_waiting_time_raw.values())[0]\n",
    "                \n",
    "                if service_name in buffers_waiting_times:\n",
    "                    buffers_waiting_times[service_name].append(buffer_waiting_time_for_service)\n",
    "                else:\n",
    "                    buffers_waiting_times[service_name] = [buffer_waiting_time_for_service]\n",
    "            \n",
    "            max_waiting_time = max([max(sublist) for sublist in list(buffers_waiting_times.values())])\n",
    "            bins_cnt = math.ceil(max_waiting_time / bins_size_ms)\n",
    "            \n",
    "            plots_count = len(buffers_waiting_times)\n",
    "            rows_cnt = 1\n",
    "            cols_cnt = plots_count\n",
    "            if plots_count > MAX_PLOTS_CNT_ROW:\n",
    "                rows_cnt = math.ceil(plots_count / MAX_PLOTS_CNT_ROW)\n",
    "                \n",
    "            # Plotting for req type\n",
    "            inner = gridspec.GridSpecFromSubplotSpec(rows_cnt,\n",
    "                                                     cols_cnt,\n",
    "                                                     subplot_spec = outer[i],\n",
    "                                                     wspace = 0.5,\n",
    "                                                     hspace = 0.1)\n",
    "            \n",
    "            j = 0\n",
    "            for service_name, service_buffer_waiting_times in buffers_waiting_times.items():\n",
    "                ax = plt.Subplot(fig, inner[j], sharey = ax_out)\n",
    "                \n",
    "                ax.hist(service_buffer_waiting_times,\n",
    "                        bins = bins_cnt)\n",
    "                ax.title.set_text('Buffers of the {} service'.format(service_name))\n",
    "                \n",
    "                \n",
    "                if not ax.is_last_row():\n",
    "                    plt.setp(ax.get_xticklabels(), visible=False)\n",
    "\n",
    "                plt.setp(ax.get_yticklabels(), visible=False)\n",
    "                \n",
    "                fig.add_subplot(ax)              \n",
    "                    \n",
    "                j += 1\n",
    "            \n",
    "            i += 1\n",
    "        \n",
    "        if not figures_dir is None:\n",
    "            figure_path = os.path.join(figures_dir, BUF_WAIT_TIME_HIST_FILENAME)\n",
    "            plt.savefig(figure_path)\n",
    "        else:\n",
    "            plt.suptitle('Distribution of requests by buffer waiting time', y = 1.05)\n",
    "            plt.show()\n",
    "            \n",
    "    def _distribution_of_reqs_times_barchart(self,\n",
    "                                             response_times_per_request_type,\n",
    "                                             buffer_times_by_request,\n",
    "                                             network_times_by_request,\n",
    "                                             aggregation_fn = np.mean,\n",
    "                                             bar_width = 0.15,\n",
    "                                             figures_dir = None):\n",
    "        \"\"\"\n",
    "        Barchart of the processing vs waiting vs network time\n",
    "        for the fulfilled requests, a bar for each request type\n",
    "        \"\"\"\n",
    "        if not callable(aggregation_fn):\n",
    "            sys.exit('The aggregation function object is not callable.')\n",
    "        \n",
    "        aggregated_processing_time_per_req_type = []\n",
    "        aggregated_buf_waiting_time_per_req_type = []\n",
    "        aggregated_network_time_per_req_type = []\n",
    "        \n",
    "        req_types = list(response_times_per_request_type.keys())\n",
    "        for req_type in req_types:\n",
    "            \n",
    "            req_type_response_times = response_times_per_request_type[req_type]\n",
    "            \n",
    "            req_type_network_times = [0.0]\n",
    "            if req_type in network_times_by_request:\n",
    "                req_type_network_times = network_times_by_request[req_type]\n",
    "            aggregated_network_time_per_req_type.append(aggregation_fn(req_type_network_times))\n",
    "                \n",
    "            req_type_buf_waiting_times = [0.0]\n",
    "            if req_type in buffer_times_by_request:\n",
    "                req_type_buf_waiting_times = [list(buf_wait_time.values())[0] for buf_wait_time in buffer_times_by_request[req_type]]\n",
    "            aggregated_buf_waiting_time_per_req_type.append(aggregation_fn(req_type_buf_waiting_times))\n",
    "            \n",
    "            agg_proc_time = aggregation_fn(req_type_response_times) - (aggregated_buf_waiting_time_per_req_type[-1] + aggregated_network_time_per_req_type[-1])\n",
    "            aggregated_processing_time_per_req_type.append(agg_proc_time)\n",
    "            \n",
    "        plt.bar(req_types, aggregated_processing_time_per_req_type,\n",
    "                bar_width, label='Processing')\n",
    "        plt.bar(req_types, aggregated_network_time_per_req_type,\n",
    "                bar_width, bottom = aggregated_processing_time_per_req_type,\n",
    "                label='Transferring')\n",
    "        \n",
    "        plt.bar(req_types, aggregated_buf_waiting_time_per_req_type,\n",
    "                bar_width, bottom = np.array(aggregated_processing_time_per_req_type) \\\n",
    "                                    + np.array(aggregated_network_time_per_req_type),\n",
    "                label='Waiting')\n",
    "        \n",
    "        plt.ylabel('Duration, ms')\n",
    "        plt.legend(loc = 'upper right', bbox_to_anchor=(0.9, -0.1), ncol = 3)\n",
    "        \n",
    "        if not figures_dir is None:\n",
    "            figure_path = os.path.join(figures_dir, REQ_TIMES_DISTR_BARS_FILENAME)\n",
    "            plt.savefig(figure_path)\n",
    "        else:\n",
    "            plt.suptitle('Distribution of the request time in the application,\\\n",
    "            \\naggregated with the {} function'.format(aggregation_fn.__name__))\n",
    "            plt.show()\n",
    "        "
   ]
  },
  {
   "cell_type": "code",
   "execution_count": 59,
   "metadata": {},
   "outputs": [
    {
     "data": {
      "image/png": "[encoded data removed]",
      "text/plain": [
       "<Figure size 432x288 with 1 Axes>"
      ]
     },
     "metadata": {
      "needs_background": "light"
     },
     "output_type": "display_data"
    },
    {
     "data": {
      "image/png": "[encoded data removed]",
      "text/plain": [
       "<Figure size 432x288 with 3 Axes>"
      ]
     },
     "metadata": {
      "needs_background": "light"
     },
     "output_type": "display_data"
    },
    {
     "data": {
      "image/png": "[encoded data removed]",
      "text/plain": [
       "<Figure size 432x288 with 1 Axes>"
      ]
     },
     "metadata": {
      "needs_background": "light"
     },
     "output_type": "display_data"
    },
    {
     "data": {
      "image/png": "[encoded data removed]",
      "text/plain": [
       "<Figure size 432x288 with 1 Axes>"
      ]
     },
     "metadata": {
      "needs_background": "light"
     },
     "output_type": "display_data"
    },
    {
     "data": {
      "image/png": "[encoded data removed]",
      "text/plain": [
       "<Figure size 432x288 with 1 Axes>"
      ]
     },
     "metadata": {
      "needs_background": "light"
     },
     "output_type": "display_data"
    },
    {
     "data": {
      "image/png": "[encoded data removed]",
      "text/plain": [
       "<Figure size 432x288 with 2 Axes>"
      ]
     },
     "metadata": {
      "needs_background": "light"
     },
     "output_type": "display_data"
    },
    {
     "data": {
      "image/png": "[encoded data removed]",
      "text/plain": [
       "<Figure size 432x288 with 7 Axes>"
      ]
     },
     "metadata": {
      "needs_background": "light"
     },
     "output_type": "display_data"
    },
    {
     "data": {
      "image/png": "[encoded data removed]",
      "text/plain": [
       "<Figure size 432x288 with 1 Axes>"
      ]
     },
     "metadata": {
      "needs_background": "light"
     },
     "output_type": "display_data"
    }
   ],
   "source": [
    "analysis_framework = AnalysisFramework(simulation_step_ms)\n",
    "analysis_framework.build_figures(simulator.simulations[\"test\"])"
   ]
  },
  {
   "cell_type": "code",
   "execution_count": 156,
   "metadata": {},
   "outputs": [
    {
     "data": {
      "text/plain": [
       "10"
      ]
     },
     "execution_count": 156,
     "metadata": {},
     "output_type": "execute_result"
    }
   ],
   "source": [
    "np.sum([[1,2], [3,4]])"
   ]
  },
  {
   "cell_type": "code",
   "execution_count": null,
   "metadata": {},
   "outputs": [],
   "source": []
  }
 ],
 "metadata": {
  "kernelspec": {
   "display_name": "Python 3",
   "language": "python",
   "name": "python3"
  },
  "language_info": {
   "codemirror_mode": {
    "name": "ipython",
    "version": 3
   },
   "file_extension": ".py",
   "mimetype": "text/x-python",
   "name": "python",
   "nbconvert_exporter": "python",
   "pygments_lexer": "ipython3",
   "version": "3.6.9"
  }
 },
 "nbformat": 4,
 "nbformat_minor": 2
}
