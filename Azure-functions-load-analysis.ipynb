{
 "cells": [
  {
   "cell_type": "code",
   "execution_count": 59,
   "id": "cooperative-leather",
   "metadata": {},
   "outputs": [],
   "source": [
    "import os\n",
    "import pandas as pd\n",
    "\n",
    "azure_functions_data_path = 'D:\\\\@TUM\\\\PhD\\\\FINAL\\\\traces\\\\azurefunctions'\n",
    "filename_pattern_invocations = os.path.join(azure_functions_data_path,'invocations_per_function_md.anon.d{}.csv')\n",
    "\n",
    "start_idx = 1\n",
    "number_of_files = 2#12\n",
    "\n",
    "def file_id_to_str(file_id : int) -> str:\n",
    "    return '0' + str(file_id) if file_id < 10 else str(file_id)\n",
    "\n",
    "data_collected = pd.DataFrame(columns = ['invocations', 'HashApp', 'HashFunction', 'minute_in_day']).set_index(['HashApp', 'HashFunction', 'minute_in_day'])\n",
    "test_regime = True\n",
    "for file_id in range(start_idx, number_of_files + 1):\n",
    "    filename_invocations = filename_pattern_invocations.format(file_id_to_str(file_id))\n",
    "\n",
    "    invocations_data_raw = pd.read_csv(filename_invocations)\n",
    "\n",
    "    invocations_data_http = invocations_data_raw[invocations_data_raw.Trigger == 'http']\n",
    "    invocations_data = pd.melt(invocations_data_http, id_vars = ['HashApp', 'HashFunction'], value_vars = invocations_data_http.columns[4:]).rename(columns = {'variable': 'minute_in_day', 'value': 'invocations'})\n",
    "    \n",
    "    if test_regime:\n",
    "        invocations_data = invocations_data[:500]\n",
    "    \n",
    "    invocations_data.set_index(['HashApp', 'HashFunction', 'minute_in_day'], inplace = True)   \n",
    "    \n",
    "    data_collected = data_collected.add(invocations_data / number_of_files, fill_value = 0)\n",
    "    \n",
    "data_collected = data_collected.groupby(['HashApp', 'minute_in_day']).max()"
   ]
  },
  {
   "cell_type": "code",
   "execution_count": 60,
   "id": "explicit-interim",
   "metadata": {},
   "outputs": [],
   "source": [
    "non_zero_invocations = data_collected[data_collected.invocations > 0]\n",
    "X = sorted(non_zero_invocations.invocations.unique())\n",
    "\n",
    "Y = non_zero_invocations.groupby('invocations')['invocations'].count().sort_index().cumsum()\n",
    "Y /= max(Y)\n",
    "\n",
    "zero_invocations_count = len(data_collected[data_collected.invocations == 0])"
   ]
  },
  {
   "cell_type": "code",
   "execution_count": 76,
   "id": "oriented-couple",
   "metadata": {},
   "outputs": [],
   "source": [
    "from matplotlib import pyplot as plt\n",
    "\n",
    "fig, ax = plt.subplots(1, 1, figsize = (8, 6))\n",
    "\n",
    "percentiles = [0.99, 0.95, 0.90, 0.80, 0.50]\n",
    "font = {'color':  'black', 'weight': 'normal', 'size': 8}\n",
    "for percentile in percentiles:\n",
    "    ax.axhline(percentile, 0, 1.0, color = 'k', linestyle = 'dashed', lw = 0.5)\n",
    "    ax.text(0, percentile + 0.002, f\"{(int(percentile * 100))}th percentile\", fontdict = font)\n",
    "\n",
    "ax.plot(X, Y)\n",
    "ax.set_xlabel(f'Load, invocations per minute.\\nNot included {zero_invocations_count} cases of 0 invocations per minute.')\n",
    "\n",
    "figuresdir = '.'\n",
    "plt.savefig(os.path.join(figuresdir, 'cdf.png'), dpi = 600, bbox_inches='tight')\n",
    "plt.xlim(0, 300)\n",
    "plt.savefig(os.path.join(figuresdir, 'cdf-zoomed.png'), dpi = 600, bbox_inches='tight')\n",
    "plt.close()"
   ]
  },
  {
   "cell_type": "code",
   "execution_count": 72,
   "id": "vocal-champion",
   "metadata": {},
   "outputs": [],
   "source": []
  },
  {
   "cell_type": "code",
   "execution_count": null,
   "id": "protected-swaziland",
   "metadata": {},
   "outputs": [],
   "source": []
  }
 ],
 "metadata": {
  "kernelspec": {
   "display_name": "Python 3",
   "language": "python",
   "name": "python3"
  },
  "language_info": {
   "codemirror_mode": {
    "name": "ipython",
    "version": 3
   },
   "file_extension": ".py",
   "mimetype": "text/x-python",
   "name": "python",
   "nbconvert_exporter": "python",
   "pygments_lexer": "ipython3",
   "version": "3.7.3"
  }
 },
 "nbformat": 4,
 "nbformat_minor": 5
}
