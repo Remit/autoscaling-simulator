{
 "cells": [
  {
   "cell_type": "code",
   "execution_count": 1,
   "metadata": {
    "scrolled": true
   },
   "outputs": [
    {
     "name": "stderr",
     "output_type": "stream",
     "text": [
      " 18%|██████████████▏                                                               | 1197/6600 [00:41<01:12, 74.18it/s]"
     ]
    },
    {
     "name": "stdout",
     "output_type": "stream",
     "text": [
      "f(cur_aspect_val = Count( value = 6), current_metric_val = {'load': Rate(120.0), 'memory': 0.142894549295926}) = [193.71112874] | ORIGINAL: 1827.8117687976196\n",
      "Using fallback calculator! Quality metric: 0.8940201983349542\n",
      "f(cur_aspect_val = Count( value = 3), current_metric_val = {'load': Rate(120.0), 'memory': 0.34856041640778607}) = [204.73176832] | ORIGINAL: 1827.8117687976196\n",
      "Using fallback calculator! Quality metric: 0.8879907812109367\n",
      "f(cur_aspect_val = Count( value = 9), current_metric_val = {'load': Rate(120.0), 'memory': 0.34591534731042584}) = [206.05715241] | ORIGINAL: 1827.8117687976196\n",
      "Using fallback calculator! Quality metric: 0.8872656605416571\n",
      "f(cur_aspect_val = Count( value = 5), current_metric_val = {'load': Rate(120.0), 'memory': 0.43649256198045405}) = [205.02712321] | ORIGINAL: 1827.8117687976196\n",
      "Using fallback calculator! Quality metric: 0.8878291918720664\n",
      "f(cur_aspect_val = Count( value = 7), current_metric_val = {'load': Rate(120.0), 'memory': 0.1793387960710323}) = [205.40697857] | ORIGINAL: 1827.8117687976196\n",
      "Using fallback calculator! Quality metric: 0.8876213721349144\n",
      "f(cur_aspect_val = Count( value = 2), current_metric_val = {'load': Rate(120.0), 'memory': 0.43945955860257674}) = [204.64162189] | ORIGINAL: 1827.8117687976196\n",
      "Using fallback calculator! Quality metric: 0.8880401005289439\n",
      "f(cur_aspect_val = Count( value = 4), current_metric_val = {'load': Rate(120.0), 'memory': 0.035987947630112684}) = [193.36201067] | ORIGINAL: 1827.8117687976196\n",
      "Using fallback calculator! Quality metric: 0.8942112016310805\n"
     ]
    },
    {
     "name": "stderr",
     "output_type": "stream",
     "text": [
      " 23%|█████████████████▋                                                            | 1498/6600 [00:56<00:55, 91.28it/s]"
     ]
    },
    {
     "name": "stdout",
     "output_type": "stream",
     "text": [
      "f(cur_aspect_val = Count( value = 2), current_metric_val = {'load': Rate(90.0), 'memory': 0.142894549295926}) = [145.03705795] | ORIGINAL: 1782.246432619608\n",
      "Using fallback calculator! Quality metric: 0.9186212101204502\n",
      "f(cur_aspect_val = Count( value = 3), current_metric_val = {'load': Rate(90.0), 'memory': 0.3487659503142416}) = [153.59566504] | ORIGINAL: 1782.246432619608\n",
      "Using fallback calculator! Quality metric: 0.9138190643986783\n",
      "f(cur_aspect_val = Count( value = 9), current_metric_val = {'load': Rate(90.0), 'memory': 0.34655266621767805}) = [154.9210531] | ORIGINAL: 1782.246432619608\n",
      "Using fallback calculator! Quality metric: 0.9130754028946593\n",
      "f(cur_aspect_val = Count( value = 5), current_metric_val = {'load': Rate(90.0), 'memory': 0.43649256198045405}) = [153.89101801] | ORIGINAL: 1782.246432619608\n",
      "Using fallback calculator! Quality metric: 0.913653344906245\n",
      "f(cur_aspect_val = Count( value = 7), current_metric_val = {'load': Rate(90.0), 'memory': 0.1793387960710323}) = [154.27087337] | ORIGINAL: 1782.246432619608\n",
      "Using fallback calculator! Quality metric: 0.9134402120002658\n",
      "f(cur_aspect_val = Count( value = 2), current_metric_val = {'load': Rate(90.0), 'memory': 0.4404755100908134}) = [153.5055286] | ORIGINAL: 1782.246432619608\n",
      "Using fallback calculator! Quality metric: 0.9138696390155837\n",
      "f(cur_aspect_val = Count( value = 4), current_metric_val = {'load': Rate(90.0), 'memory': 0.035987947630112684}) = [145.08975485] | ORIGINAL: 1782.246432619608\n",
      "Using fallback calculator! Quality metric: 0.9185916424366674\n"
     ]
    },
    {
     "name": "stderr",
     "output_type": "stream",
     "text": [
      " 27%|█████████████████████▏                                                        | 1794/6600 [01:11<00:57, 84.21it/s]"
     ]
    },
    {
     "name": "stdout",
     "output_type": "stream",
     "text": [
      "f(cur_aspect_val = Count( value = 2), current_metric_val = {'load': Rate(61.0), 'memory': 0.23548865182644585}) = [165.5419988] | ORIGINAL: 1764.9263452231892\n",
      "Using fallback calculator! Quality metric: 0.9062045851088787\n",
      "f(cur_aspect_val = Count( value = 3), current_metric_val = {'load': Rate(61.0), 'memory': 0.34852957064193296}) = [172.33881142] | ORIGINAL: 1764.9263452231892\n",
      "Using fallback calculator! Quality metric: 0.9023535390650396\n",
      "f(cur_aspect_val = Count( value = 9), current_metric_val = {'load': Rate(61.0), 'memory': 0.3466389200570229}) = [173.7876138] | ORIGINAL: 1764.9263452231892\n",
      "Using fallback calculator! Quality metric: 0.9015326536014475\n",
      "f(cur_aspect_val = Count( value = 5), current_metric_val = {'load': Rate(61.0), 'memory': 0.43655516388034754}) = [171.9371256] | ORIGINAL: 1764.9263452231892\n",
      "Using fallback calculator! Quality metric: 0.9025811325991256\n",
      "f(cur_aspect_val = Count( value = 7), current_metric_val = {'load': Rate(61.0), 'memory': 0.316142524297047}) = [172.66815271] | ORIGINAL: 1764.9263452231892\n",
      "Using fallback calculator! Quality metric: 0.9021669356463667\n",
      "f(cur_aspect_val = Count( value = 2), current_metric_val = {'load': Rate(61.0), 'memory': 0.44172114949315405}) = [172.17642037] | ORIGINAL: 1764.9263452231892\n",
      "Using fallback calculator! Quality metric: 0.9024455491662567\n",
      "f(cur_aspect_val = Count( value = 4), current_metric_val = {'load': Rate(61.0), 'memory': 0.17105743762877992}) = [166.70258849] | ORIGINAL: 1764.9263452231892\n",
      "Using fallback calculator! Quality metric: 0.9055469997722801\n"
     ]
    },
    {
     "name": "stderr",
     "output_type": "stream",
     "text": [
      " 32%|████████████████████████▋                                                     | 2092/6600 [01:26<01:00, 74.87it/s]"
     ]
    },
    {
     "name": "stdout",
     "output_type": "stream",
     "text": [
      "f(cur_aspect_val = Count( value = 2), current_metric_val = {'load': Rate(91.0), 'memory': 0.2238517503697666}) = [246.8109382] | ORIGINAL: 1822.1264681919547\n",
      "Using fallback calculator! Quality metric: 0.8645478552046864\n",
      "f(cur_aspect_val = Count( value = 3), current_metric_val = {'load': Rate(91.0), 'memory': 0.34852957064193296}) = [256.93044471] | ORIGINAL: 1822.1264681919547\n",
      "Using fallback calculator! Quality metric: 0.8589941756528704\n",
      "f(cur_aspect_val = Count( value = 9), current_metric_val = {'load': Rate(91.0), 'memory': 0.3466389200570229}) = [257.9205103] | ORIGINAL: 1822.1264681919547\n",
      "Using fallback calculator! Quality metric: 0.8584508184249717\n",
      "f(cur_aspect_val = Count( value = 5), current_metric_val = {'load': Rate(91.0), 'memory': 0.43520162335205637}) = [256.07000081] | ORIGINAL: 1822.1264681919547\n",
      "Using fallback calculator! Quality metric: 0.8594663952933362\n",
      "f(cur_aspect_val = Count( value = 7), current_metric_val = {'load': Rate(91.0), 'memory': 0.316142524297047}) = [256.80104921] | ORIGINAL: 1822.1264681919547\n",
      "Using fallback calculator! Quality metric: 0.8590651891126939\n",
      "f(cur_aspect_val = Count( value = 2), current_metric_val = {'load': Rate(91.0), 'memory': 0.4417848931528758}) = [256.76805482] | ORIGINAL: 1822.1264681919547\n",
      "Using fallback calculator! Quality metric: 0.8590832967397641\n",
      "f(cur_aspect_val = Count( value = 4), current_metric_val = {'load': Rate(91.0), 'memory': 0.17341118435628416}) = [248.43038238] | ORIGINAL: 1822.1264681919547\n",
      "Using fallback calculator! Quality metric: 0.863659089139042\n"
     ]
    },
    {
     "name": "stderr",
     "output_type": "stream",
     "text": [
      " 36%|████████████████████████████▎                                                 | 2399/6600 [01:41<01:00, 69.34it/s]"
     ]
    },
    {
     "name": "stdout",
     "output_type": "stream",
     "text": [
      "f(cur_aspect_val = Count( value = 1), current_metric_val = {'load': Rate(119.0), 'memory': 0.14126023003156088}) = [485.46279874] | ORIGINAL: 1894.98541706226\n",
      "Using fallback calculator! Quality metric: 0.7438171321178796\n",
      "f(cur_aspect_val = Count( value = 3), current_metric_val = {'load': Rate(119.0), 'memory': 0.3485814582968919}) = [499.90595733] | ORIGINAL: 1894.98541706226\n",
      "Using fallback calculator! Quality metric: 0.7361953538925525\n",
      "f(cur_aspect_val = Count( value = 9), current_metric_val = {'load': Rate(119.0), 'memory': 0.3467222451093984}) = [500.41655455] | ORIGINAL: 1894.98541706226\n",
      "Using fallback calculator! Quality metric: 0.735925907371877\n",
      "f(cur_aspect_val = Count( value = 5), current_metric_val = {'load': Rate(119.0), 'memory': 0.43512197635777233}) = [498.82747527] | ORIGINAL: 1894.98541706226\n",
      "Using fallback calculator! Quality metric: 0.7367644780890663\n",
      "f(cur_aspect_val = Count( value = 7), current_metric_val = {'load': Rate(119.0), 'memory': 0.31616770836800234}) = [499.87119918] | ORIGINAL: 1894.98541706226\n",
      "Using fallback calculator! Quality metric: 0.7362136960641229\n",
      "f(cur_aspect_val = Count( value = 2), current_metric_val = {'load': Rate(119.0), 'memory': 0.44179585894480855}) = [499.67914646] | ORIGINAL: 1894.98541706226\n",
      "Using fallback calculator! Quality metric: 0.7363150439242622\n",
      "f(cur_aspect_val = Count( value = 4), current_metric_val = {'load': Rate(119.0), 'memory': 0.17348085882442693}) = [487.8305008] | ORIGINAL: 1894.98541706226\n",
      "Using fallback calculator! Quality metric: 0.7425676755028776\n"
     ]
    },
    {
     "name": "stderr",
     "output_type": "stream",
     "text": [
      " 40%|███████████████████████████████                                               | 2631/6600 [02:05<03:08, 21.01it/s]\n"
     ]
    },
    {
     "ename": "KeyboardInterrupt",
     "evalue": "",
     "output_type": "error",
     "traceback": [
      "\u001b[1;31m---------------------------------------------------------------------------\u001b[0m",
      "\u001b[1;31mKeyboardInterrupt\u001b[0m                         Traceback (most recent call last)",
      "\u001b[1;32m<ipython-input-1-81c6c80fc802>\u001b[0m in \u001b[0;36m<module>\u001b[1;34m\u001b[0m\n\u001b[0;32m     13\u001b[0m \u001b[0msimulator\u001b[0m\u001b[1;33m.\u001b[0m\u001b[0madd_simulation\u001b[0m\u001b[1;33m(\u001b[0m\u001b[0mconfig_dir\u001b[0m\u001b[1;33m,\u001b[0m \u001b[0mresults_dir\u001b[0m\u001b[1;33m)\u001b[0m\u001b[1;33m\u001b[0m\u001b[1;33m\u001b[0m\u001b[0m\n\u001b[0;32m     14\u001b[0m \u001b[1;33m\u001b[0m\u001b[0m\n\u001b[1;32m---> 15\u001b[1;33m \u001b[0msimulator\u001b[0m\u001b[1;33m.\u001b[0m\u001b[0mstart_simulation\u001b[0m\u001b[1;33m(\u001b[0m\u001b[1;33m)\u001b[0m\u001b[1;33m\u001b[0m\u001b[1;33m\u001b[0m\u001b[0m\n\u001b[0m",
      "\u001b[1;32mD:\\AutoscalingSim\\autoscaling-simulator\\autoscalingsim\\simulator.py\u001b[0m in \u001b[0;36mstart_simulation\u001b[1;34m(self, simulation_name)\u001b[0m\n\u001b[0;32m     99\u001b[0m             \u001b[1;31m# TODO: think about parallelism\u001b[0m\u001b[1;33m\u001b[0m\u001b[1;33m\u001b[0m\u001b[1;33m\u001b[0m\u001b[0m\n\u001b[0;32m    100\u001b[0m             \u001b[1;32mfor\u001b[0m \u001b[0m_\u001b[0m\u001b[1;33m,\u001b[0m \u001b[0msim\u001b[0m \u001b[1;32min\u001b[0m \u001b[0mself\u001b[0m\u001b[1;33m.\u001b[0m\u001b[0msimulations\u001b[0m\u001b[1;33m.\u001b[0m\u001b[0mitems\u001b[0m\u001b[1;33m(\u001b[0m\u001b[1;33m)\u001b[0m\u001b[1;33m:\u001b[0m\u001b[1;33m\u001b[0m\u001b[1;33m\u001b[0m\u001b[0m\n\u001b[1;32m--> 101\u001b[1;33m                 \u001b[0msim\u001b[0m\u001b[1;33m.\u001b[0m\u001b[0mstart\u001b[0m\u001b[1;33m(\u001b[0m\u001b[1;33m)\u001b[0m\u001b[1;33m\u001b[0m\u001b[1;33m\u001b[0m\u001b[0m\n\u001b[0m\u001b[0;32m    102\u001b[0m \u001b[1;33m\u001b[0m\u001b[0m\n\u001b[0;32m    103\u001b[0m     \u001b[1;32mdef\u001b[0m \u001b[0mrewind\u001b[0m\u001b[1;33m(\u001b[0m\u001b[0mself\u001b[0m\u001b[1;33m)\u001b[0m\u001b[1;33m:\u001b[0m\u001b[1;33m\u001b[0m\u001b[1;33m\u001b[0m\u001b[0m\n",
      "\u001b[1;32mD:\\AutoscalingSim\\autoscaling-simulator\\autoscalingsim\\simulation\\simulation.py\u001b[0m in \u001b[0;36mstart\u001b[1;34m(self)\u001b[0m\n\u001b[0;32m     98\u001b[0m                         \u001b[0mprint\u001b[0m\u001b[1;33m(\u001b[0m\u001b[1;34mf'[{str(pd.Timestamp.now())}] Left to simulate: {str(left_to_simulate)} or {left_to_simulate_steps} steps'\u001b[0m\u001b[1;33m)\u001b[0m\u001b[1;33m\u001b[0m\u001b[1;33m\u001b[0m\u001b[0m\n\u001b[0;32m     99\u001b[0m \u001b[1;33m\u001b[0m\u001b[0m\n\u001b[1;32m--> 100\u001b[1;33m                 \u001b[0mprogress_bar\u001b[0m\u001b[1;33m.\u001b[0m\u001b[0mupdate\u001b[0m\u001b[1;33m(\u001b[0m\u001b[1;36m1\u001b[0m\u001b[1;33m)\u001b[0m\u001b[1;33m\u001b[0m\u001b[1;33m\u001b[0m\u001b[0m\n\u001b[0m\u001b[0;32m    101\u001b[0m \u001b[1;33m\u001b[0m\u001b[0m\n\u001b[0;32m    102\u001b[0m         \u001b[1;31m# Post-processing, e.g. for metrics collection\u001b[0m\u001b[1;33m\u001b[0m\u001b[1;33m\u001b[0m\u001b[1;33m\u001b[0m\u001b[0m\n",
      "\u001b[1;32m~\\Anaconda3\\lib\\site-packages\\tqdm\\std.py\u001b[0m in \u001b[0;36mupdate\u001b[1;34m(self, n)\u001b[0m\n\u001b[0;32m   1230\u001b[0m                         fp_write=getattr(self.fp, 'write', sys.stderr.write))\n\u001b[0;32m   1231\u001b[0m \u001b[1;33m\u001b[0m\u001b[0m\n\u001b[1;32m-> 1232\u001b[1;33m                 \u001b[0mself\u001b[0m\u001b[1;33m.\u001b[0m\u001b[0mrefresh\u001b[0m\u001b[1;33m(\u001b[0m\u001b[0mlock_args\u001b[0m\u001b[1;33m=\u001b[0m\u001b[0mself\u001b[0m\u001b[1;33m.\u001b[0m\u001b[0mlock_args\u001b[0m\u001b[1;33m)\u001b[0m\u001b[1;33m\u001b[0m\u001b[1;33m\u001b[0m\u001b[0m\n\u001b[0m\u001b[0;32m   1233\u001b[0m \u001b[1;33m\u001b[0m\u001b[0m\n\u001b[0;32m   1234\u001b[0m                 \u001b[1;31m# If no `miniters` was specified, adjust automatically to the\u001b[0m\u001b[1;33m\u001b[0m\u001b[1;33m\u001b[0m\u001b[1;33m\u001b[0m\u001b[0m\n",
      "\u001b[1;32m~\\Anaconda3\\lib\\site-packages\\tqdm\\std.py\u001b[0m in \u001b[0;36mrefresh\u001b[1;34m(self, nolock, lock_args)\u001b[0m\n\u001b[0;32m   1336\u001b[0m             \u001b[1;32melse\u001b[0m\u001b[1;33m:\u001b[0m\u001b[1;33m\u001b[0m\u001b[1;33m\u001b[0m\u001b[0m\n\u001b[0;32m   1337\u001b[0m                 \u001b[0mself\u001b[0m\u001b[1;33m.\u001b[0m\u001b[0m_lock\u001b[0m\u001b[1;33m.\u001b[0m\u001b[0macquire\u001b[0m\u001b[1;33m(\u001b[0m\u001b[1;33m)\u001b[0m\u001b[1;33m\u001b[0m\u001b[1;33m\u001b[0m\u001b[0m\n\u001b[1;32m-> 1338\u001b[1;33m         \u001b[0mself\u001b[0m\u001b[1;33m.\u001b[0m\u001b[0mdisplay\u001b[0m\u001b[1;33m(\u001b[0m\u001b[1;33m)\u001b[0m\u001b[1;33m\u001b[0m\u001b[1;33m\u001b[0m\u001b[0m\n\u001b[0m\u001b[0;32m   1339\u001b[0m         \u001b[1;32mif\u001b[0m \u001b[1;32mnot\u001b[0m \u001b[0mnolock\u001b[0m\u001b[1;33m:\u001b[0m\u001b[1;33m\u001b[0m\u001b[1;33m\u001b[0m\u001b[0m\n\u001b[0;32m   1340\u001b[0m             \u001b[0mself\u001b[0m\u001b[1;33m.\u001b[0m\u001b[0m_lock\u001b[0m\u001b[1;33m.\u001b[0m\u001b[0mrelease\u001b[0m\u001b[1;33m(\u001b[0m\u001b[1;33m)\u001b[0m\u001b[1;33m\u001b[0m\u001b[1;33m\u001b[0m\u001b[0m\n",
      "\u001b[1;32m~\\Anaconda3\\lib\\site-packages\\tqdm\\std.py\u001b[0m in \u001b[0;36mdisplay\u001b[1;34m(self, msg, pos)\u001b[0m\n\u001b[0;32m   1469\u001b[0m         \u001b[1;32mif\u001b[0m \u001b[0mpos\u001b[0m\u001b[1;33m:\u001b[0m\u001b[1;33m\u001b[0m\u001b[1;33m\u001b[0m\u001b[0m\n\u001b[0;32m   1470\u001b[0m             \u001b[0mself\u001b[0m\u001b[1;33m.\u001b[0m\u001b[0mmoveto\u001b[0m\u001b[1;33m(\u001b[0m\u001b[0mpos\u001b[0m\u001b[1;33m)\u001b[0m\u001b[1;33m\u001b[0m\u001b[1;33m\u001b[0m\u001b[0m\n\u001b[1;32m-> 1471\u001b[1;33m         \u001b[0mself\u001b[0m\u001b[1;33m.\u001b[0m\u001b[0msp\u001b[0m\u001b[1;33m(\u001b[0m\u001b[0mself\u001b[0m\u001b[1;33m.\u001b[0m\u001b[0m__repr__\u001b[0m\u001b[1;33m(\u001b[0m\u001b[1;33m)\u001b[0m \u001b[1;32mif\u001b[0m \u001b[0mmsg\u001b[0m \u001b[1;32mis\u001b[0m \u001b[1;32mNone\u001b[0m \u001b[1;32melse\u001b[0m \u001b[0mmsg\u001b[0m\u001b[1;33m)\u001b[0m\u001b[1;33m\u001b[0m\u001b[1;33m\u001b[0m\u001b[0m\n\u001b[0m\u001b[0;32m   1472\u001b[0m         \u001b[1;32mif\u001b[0m \u001b[0mpos\u001b[0m\u001b[1;33m:\u001b[0m\u001b[1;33m\u001b[0m\u001b[1;33m\u001b[0m\u001b[0m\n\u001b[0;32m   1473\u001b[0m             \u001b[0mself\u001b[0m\u001b[1;33m.\u001b[0m\u001b[0mmoveto\u001b[0m\u001b[1;33m(\u001b[0m\u001b[1;33m-\u001b[0m\u001b[0mpos\u001b[0m\u001b[1;33m)\u001b[0m\u001b[1;33m\u001b[0m\u001b[1;33m\u001b[0m\u001b[0m\n",
      "\u001b[1;32m~\\Anaconda3\\lib\\site-packages\\tqdm\\std.py\u001b[0m in \u001b[0;36mprint_status\u001b[1;34m(s)\u001b[0m\n\u001b[0;32m    303\u001b[0m         \u001b[1;32mdef\u001b[0m \u001b[0mprint_status\u001b[0m\u001b[1;33m(\u001b[0m\u001b[0ms\u001b[0m\u001b[1;33m)\u001b[0m\u001b[1;33m:\u001b[0m\u001b[1;33m\u001b[0m\u001b[1;33m\u001b[0m\u001b[0m\n\u001b[0;32m    304\u001b[0m             \u001b[0mlen_s\u001b[0m \u001b[1;33m=\u001b[0m \u001b[0mlen\u001b[0m\u001b[1;33m(\u001b[0m\u001b[0ms\u001b[0m\u001b[1;33m)\u001b[0m\u001b[1;33m\u001b[0m\u001b[1;33m\u001b[0m\u001b[0m\n\u001b[1;32m--> 305\u001b[1;33m             \u001b[0mfp_write\u001b[0m\u001b[1;33m(\u001b[0m\u001b[1;34m'\\r'\u001b[0m \u001b[1;33m+\u001b[0m \u001b[0ms\u001b[0m \u001b[1;33m+\u001b[0m \u001b[1;33m(\u001b[0m\u001b[1;34m' '\u001b[0m \u001b[1;33m*\u001b[0m \u001b[0mmax\u001b[0m\u001b[1;33m(\u001b[0m\u001b[0mlast_len\u001b[0m\u001b[1;33m[\u001b[0m\u001b[1;36m0\u001b[0m\u001b[1;33m]\u001b[0m \u001b[1;33m-\u001b[0m \u001b[0mlen_s\u001b[0m\u001b[1;33m,\u001b[0m \u001b[1;36m0\u001b[0m\u001b[1;33m)\u001b[0m\u001b[1;33m)\u001b[0m\u001b[1;33m)\u001b[0m\u001b[1;33m\u001b[0m\u001b[1;33m\u001b[0m\u001b[0m\n\u001b[0m\u001b[0;32m    306\u001b[0m             \u001b[0mlast_len\u001b[0m\u001b[1;33m[\u001b[0m\u001b[1;36m0\u001b[0m\u001b[1;33m]\u001b[0m \u001b[1;33m=\u001b[0m \u001b[0mlen_s\u001b[0m\u001b[1;33m\u001b[0m\u001b[1;33m\u001b[0m\u001b[0m\n\u001b[0;32m    307\u001b[0m \u001b[1;33m\u001b[0m\u001b[0m\n",
      "\u001b[1;32m~\\Anaconda3\\lib\\site-packages\\tqdm\\std.py\u001b[0m in \u001b[0;36mfp_write\u001b[1;34m(s)\u001b[0m\n\u001b[0;32m    296\u001b[0m \u001b[1;33m\u001b[0m\u001b[0m\n\u001b[0;32m    297\u001b[0m         \u001b[1;32mdef\u001b[0m \u001b[0mfp_write\u001b[0m\u001b[1;33m(\u001b[0m\u001b[0ms\u001b[0m\u001b[1;33m)\u001b[0m\u001b[1;33m:\u001b[0m\u001b[1;33m\u001b[0m\u001b[1;33m\u001b[0m\u001b[0m\n\u001b[1;32m--> 298\u001b[1;33m             \u001b[0mfp\u001b[0m\u001b[1;33m.\u001b[0m\u001b[0mwrite\u001b[0m\u001b[1;33m(\u001b[0m\u001b[0m_unicode\u001b[0m\u001b[1;33m(\u001b[0m\u001b[0ms\u001b[0m\u001b[1;33m)\u001b[0m\u001b[1;33m)\u001b[0m\u001b[1;33m\u001b[0m\u001b[1;33m\u001b[0m\u001b[0m\n\u001b[0m\u001b[0;32m    299\u001b[0m             \u001b[0mfp_flush\u001b[0m\u001b[1;33m(\u001b[0m\u001b[1;33m)\u001b[0m\u001b[1;33m\u001b[0m\u001b[1;33m\u001b[0m\u001b[0m\n\u001b[0;32m    300\u001b[0m \u001b[1;33m\u001b[0m\u001b[0m\n",
      "\u001b[1;32m~\\Anaconda3\\lib\\site-packages\\ipykernel\\iostream.py\u001b[0m in \u001b[0;36mwrite\u001b[1;34m(self, string)\u001b[0m\n\u001b[0;32m    402\u001b[0m             \u001b[0mis_child\u001b[0m \u001b[1;33m=\u001b[0m \u001b[1;33m(\u001b[0m\u001b[1;32mnot\u001b[0m \u001b[0mself\u001b[0m\u001b[1;33m.\u001b[0m\u001b[0m_is_master_process\u001b[0m\u001b[1;33m(\u001b[0m\u001b[1;33m)\u001b[0m\u001b[1;33m)\u001b[0m\u001b[1;33m\u001b[0m\u001b[1;33m\u001b[0m\u001b[0m\n\u001b[0;32m    403\u001b[0m             \u001b[1;31m# only touch the buffer in the IO thread to avoid races\u001b[0m\u001b[1;33m\u001b[0m\u001b[1;33m\u001b[0m\u001b[1;33m\u001b[0m\u001b[0m\n\u001b[1;32m--> 404\u001b[1;33m             \u001b[0mself\u001b[0m\u001b[1;33m.\u001b[0m\u001b[0mpub_thread\u001b[0m\u001b[1;33m.\u001b[0m\u001b[0mschedule\u001b[0m\u001b[1;33m(\u001b[0m\u001b[1;32mlambda\u001b[0m \u001b[1;33m:\u001b[0m \u001b[0mself\u001b[0m\u001b[1;33m.\u001b[0m\u001b[0m_buffer\u001b[0m\u001b[1;33m.\u001b[0m\u001b[0mwrite\u001b[0m\u001b[1;33m(\u001b[0m\u001b[0mstring\u001b[0m\u001b[1;33m)\u001b[0m\u001b[1;33m)\u001b[0m\u001b[1;33m\u001b[0m\u001b[1;33m\u001b[0m\u001b[0m\n\u001b[0m\u001b[0;32m    405\u001b[0m             \u001b[1;32mif\u001b[0m \u001b[0mis_child\u001b[0m\u001b[1;33m:\u001b[0m\u001b[1;33m\u001b[0m\u001b[1;33m\u001b[0m\u001b[0m\n\u001b[0;32m    406\u001b[0m                 \u001b[1;31m# mp.Pool cannot be trusted to flush promptly (or ever),\u001b[0m\u001b[1;33m\u001b[0m\u001b[1;33m\u001b[0m\u001b[1;33m\u001b[0m\u001b[0m\n",
      "\u001b[1;32m~\\Anaconda3\\lib\\site-packages\\ipykernel\\iostream.py\u001b[0m in \u001b[0;36mschedule\u001b[1;34m(self, f)\u001b[0m\n\u001b[0;32m    203\u001b[0m             \u001b[0mself\u001b[0m\u001b[1;33m.\u001b[0m\u001b[0m_events\u001b[0m\u001b[1;33m.\u001b[0m\u001b[0mappend\u001b[0m\u001b[1;33m(\u001b[0m\u001b[0mf\u001b[0m\u001b[1;33m)\u001b[0m\u001b[1;33m\u001b[0m\u001b[1;33m\u001b[0m\u001b[0m\n\u001b[0;32m    204\u001b[0m             \u001b[1;31m# wake event thread (message content is ignored)\u001b[0m\u001b[1;33m\u001b[0m\u001b[1;33m\u001b[0m\u001b[1;33m\u001b[0m\u001b[0m\n\u001b[1;32m--> 205\u001b[1;33m             \u001b[0mself\u001b[0m\u001b[1;33m.\u001b[0m\u001b[0m_event_pipe\u001b[0m\u001b[1;33m.\u001b[0m\u001b[0msend\u001b[0m\u001b[1;33m(\u001b[0m\u001b[1;34mb''\u001b[0m\u001b[1;33m)\u001b[0m\u001b[1;33m\u001b[0m\u001b[1;33m\u001b[0m\u001b[0m\n\u001b[0m\u001b[0;32m    206\u001b[0m         \u001b[1;32melse\u001b[0m\u001b[1;33m:\u001b[0m\u001b[1;33m\u001b[0m\u001b[1;33m\u001b[0m\u001b[0m\n\u001b[0;32m    207\u001b[0m             \u001b[0mf\u001b[0m\u001b[1;33m(\u001b[0m\u001b[1;33m)\u001b[0m\u001b[1;33m\u001b[0m\u001b[1;33m\u001b[0m\u001b[0m\n",
      "\u001b[1;32m~\\Anaconda3\\lib\\site-packages\\zmq\\sugar\\socket.py\u001b[0m in \u001b[0;36msend\u001b[1;34m(self, data, flags, copy, track, routing_id, group)\u001b[0m\n\u001b[0;32m    398\u001b[0m                                  copy_threshold=self.copy_threshold)\n\u001b[0;32m    399\u001b[0m             \u001b[0mdata\u001b[0m\u001b[1;33m.\u001b[0m\u001b[0mgroup\u001b[0m \u001b[1;33m=\u001b[0m \u001b[0mgroup\u001b[0m\u001b[1;33m\u001b[0m\u001b[1;33m\u001b[0m\u001b[0m\n\u001b[1;32m--> 400\u001b[1;33m         \u001b[1;32mreturn\u001b[0m \u001b[0msuper\u001b[0m\u001b[1;33m(\u001b[0m\u001b[0mSocket\u001b[0m\u001b[1;33m,\u001b[0m \u001b[0mself\u001b[0m\u001b[1;33m)\u001b[0m\u001b[1;33m.\u001b[0m\u001b[0msend\u001b[0m\u001b[1;33m(\u001b[0m\u001b[0mdata\u001b[0m\u001b[1;33m,\u001b[0m \u001b[0mflags\u001b[0m\u001b[1;33m=\u001b[0m\u001b[0mflags\u001b[0m\u001b[1;33m,\u001b[0m \u001b[0mcopy\u001b[0m\u001b[1;33m=\u001b[0m\u001b[0mcopy\u001b[0m\u001b[1;33m,\u001b[0m \u001b[0mtrack\u001b[0m\u001b[1;33m=\u001b[0m\u001b[0mtrack\u001b[0m\u001b[1;33m)\u001b[0m\u001b[1;33m\u001b[0m\u001b[1;33m\u001b[0m\u001b[0m\n\u001b[0m\u001b[0;32m    401\u001b[0m \u001b[1;33m\u001b[0m\u001b[0m\n\u001b[0;32m    402\u001b[0m     \u001b[1;32mdef\u001b[0m \u001b[0msend_multipart\u001b[0m\u001b[1;33m(\u001b[0m\u001b[0mself\u001b[0m\u001b[1;33m,\u001b[0m \u001b[0mmsg_parts\u001b[0m\u001b[1;33m,\u001b[0m \u001b[0mflags\u001b[0m\u001b[1;33m=\u001b[0m\u001b[1;36m0\u001b[0m\u001b[1;33m,\u001b[0m \u001b[0mcopy\u001b[0m\u001b[1;33m=\u001b[0m\u001b[1;32mTrue\u001b[0m\u001b[1;33m,\u001b[0m \u001b[0mtrack\u001b[0m\u001b[1;33m=\u001b[0m\u001b[1;32mFalse\u001b[0m\u001b[1;33m,\u001b[0m \u001b[1;33m**\u001b[0m\u001b[0mkwargs\u001b[0m\u001b[1;33m)\u001b[0m\u001b[1;33m:\u001b[0m\u001b[1;33m\u001b[0m\u001b[1;33m\u001b[0m\u001b[0m\n",
      "\u001b[1;32mzmq/backend/cython/socket.pyx\u001b[0m in \u001b[0;36mzmq.backend.cython.socket.Socket.send\u001b[1;34m()\u001b[0m\n",
      "\u001b[1;32mzmq/backend/cython/socket.pyx\u001b[0m in \u001b[0;36mzmq.backend.cython.socket.Socket.send\u001b[1;34m()\u001b[0m\n",
      "\u001b[1;32mzmq/backend/cython/socket.pyx\u001b[0m in \u001b[0;36mzmq.backend.cython.socket._send_copy\u001b[1;34m()\u001b[0m\n",
      "\u001b[1;32m~\\Anaconda3\\lib\\site-packages\\zmq\\backend\\cython\\checkrc.pxd\u001b[0m in \u001b[0;36mzmq.backend.cython.checkrc._check_rc\u001b[1;34m()\u001b[0m\n",
      "\u001b[1;31mKeyboardInterrupt\u001b[0m: "
     ]
    }
   ],
   "source": [
    "from autoscalingsim import simulator\n",
    "import pandas as pd\n",
    "\n",
    "starting_time = pd.Timestamp(\"2020-09-17T10:00:00\")\n",
    "simulation_step = pd.Timedelta(100, unit = 'ms')\n",
    "time_to_simulate = pd.Timedelta(11, unit = 'm')\n",
    "config_dir = \"experiments/short-experiment/reactive-mapping\"\n",
    "#\"experiments/short-experiment/reactive-mapping\"#\"experiments/testazuremanual2\"#\"experiments/test\"#\n",
    "results_dir = None\n",
    "\n",
    "simulator = simulator.Simulator(simulation_step, starting_time, time_to_simulate, 666)\n",
    "\n",
    "simulator.add_simulation(config_dir, results_dir)\n",
    "\n",
    "simulator.start_simulation()"
   ]
  },
  {
   "cell_type": "code",
   "execution_count": 10,
   "metadata": {},
   "outputs": [
    {
     "data": {
      "text/plain": [
       "<Figure size 432x288 with 0 Axes>"
      ]
     },
     "metadata": {},
     "output_type": "display_data"
    },
    {
     "data": {
      "text/plain": [
       "<Figure size 432x288 with 0 Axes>"
      ]
     },
     "metadata": {},
     "output_type": "display_data"
    }
   ],
   "source": [
    "from stethoscope.analytical_engine import AnalysisFramework\n",
    "\n",
    "af = AnalysisFramework(simulation_step, 'D:/AutoscalingSim/results/test/short_oscillating/reactive-mapping')\n",
    "af.build_figures_for_single_simulation(simulator.simulations['reactive-mapping'], '')#af.build_figures_for_single_simulation(simulator.simulations['test'], '')#"
   ]
  },
  {
   "cell_type": "code",
   "execution_count": 2,
   "metadata": {},
   "outputs": [],
   "source": [
    "with open(\"example.txt\", \"a+\") as f:\n",
    "    f.write('hehe;kddkd')"
   ]
  },
  {
   "cell_type": "code",
   "execution_count": null,
   "metadata": {},
   "outputs": [],
   "source": [
    "from training_ground.trainer import Trainer\n",
    "\n",
    "t = Trainer(\"training_conf/mapping-sgd/load\")\n",
    "t.start_training()"
   ]
  },
  {
   "cell_type": "code",
   "execution_count": null,
   "metadata": {},
   "outputs": [],
   "source": [
    "import tensorflow as tf\n",
    "import numpy as np\n",
    "\n",
    "xxx = tf.keras.models.load_model('D:/@TUM/PhD/FINAL/experimentresults/models/nn/service-75c4ce5c-4da4-11eb-b901-d8cb8af1e959/eu/group1/dav_model.mdl')\n",
    "in_data = [[3., 1., 0.18705613], [3., 0., 0.17934185]]\n",
    "xxx.predict(tf.constant(in_data, dtype=tf.float16))"
   ]
  },
  {
   "cell_type": "code",
   "execution_count": null,
   "metadata": {},
   "outputs": [],
   "source": [
    "import numpy as np\n",
    "import collections\n",
    "from sklearn.linear_model import SGDRegressor\n",
    "import pickle\n",
    "\n",
    "\n",
    "model_config = {   \"loss\": \"squared_loss\",\n",
    "                   \"penalty\": \"l2\",\n",
    "                   \"alpha\": 0.0001,\n",
    "                   \"l1_ratio\": 0.15,\n",
    "                   \"tol\": 0.001,\n",
    "                   \"validation_fraction\": 0.1,\n",
    "                   \"n_iter_no_change\": 5,\n",
    "                   \"epsilon\": 0.1 }\n",
    "\n",
    "sgd_model = SGDRegressor(**model_config)\n",
    "\n",
    "def formatter_function(cur_aspect_val, cur_metrics_vals):\n",
    "\n",
    "    joint_vals = [[ val for val in cur_aspect_val ] if isinstance(cur_aspect_val, collections.Iterable) else [cur_aspect_val]]\n",
    "    for metric_vals in cur_metrics_vals.values():\n",
    "        joint_vals.append([ val for val in metric_vals ] if isinstance(metric_vals, collections.Iterable) else [metric_vals] )\n",
    "\n",
    "    return np.asarray(joint_vals).T\n",
    "\n",
    "cur_aspect_val = [1,2]\n",
    "cur_metrics_vals = {'load': [10, 20], 'wt': [133, 122]}\n",
    "X_train = formatter_function(cur_aspect_val, cur_metrics_vals)\n",
    "y_train = np.asarray([1200, 1100])\n",
    "print(X_train)\n",
    "sgd_model.partial_fit(X_train, y_train)\n",
    "\n",
    "X_test = formatter_function(1, {'load': 11, 'wt': 100})\n",
    "print(X_test)\n",
    "sgd_model.predict(X_test)\n",
    "\n",
    "pickle.dump( sgd_model, open( \"save.p\", \"wb\" ) )\n",
    "\n",
    "x = pickle.load( open( \"save.p\", \"rb\" ) )\n",
    "x.get_params()"
   ]
  },
  {
   "cell_type": "code",
   "execution_count": null,
   "metadata": {},
   "outputs": [],
   "source": [
    "from experimentgenerator.experiment_generator import ExperimentGenerator\n",
    "a = ExperimentGenerator('experiments/testazure3')\n",
    "a.generate_experiment('experiment_recipes/azure.json')"
   ]
  },
  {
   "cell_type": "code",
   "execution_count": null,
   "metadata": {
    "scrolled": true
   },
   "outputs": [],
   "source": [
    "from autoscalingsim.simevaluator.evaluation_framework import SimulationQualityEvaluationFramework\n",
    "\n",
    "sqef = SimulationQualityEvaluationFramework('experiments/testevaluation/evaluator_conf.json')\n",
    "sqef.create_simulations()\n",
    "sqef.simulate()\n",
    "sqef.build_figures('D:/AutoscalingSim/results/test')"
   ]
  },
  {
   "cell_type": "code",
   "execution_count": null,
   "metadata": {},
   "outputs": [],
   "source": [
    "# To profile:\n",
    "# python -m cProfile -o D:\\AutoscalingSim\\results\\profiling_res.txt autoscalingsim-cl.py --step 10 --start \"2020-09-17T10:00:00\" --confdir \"experiments/test\" --simtime 1m\n",
    "import pstats\n",
    "from pstats import SortKey\n",
    "p = pstats.Stats('D://AutoscalingSim//results//profiling_res.txt')\n",
    "p.strip_dirs().sort_stats(SortKey.CALLS).print_stats()"
   ]
  },
  {
   "cell_type": "code",
   "execution_count": null,
   "metadata": {},
   "outputs": [],
   "source": [
    "from cruncher.cruncher import Cruncher\n",
    "\n",
    "c = Cruncher('cruncher_conf/forecasting_experiment/oscillating_load/')\n",
    "c.run_experiment()"
   ]
  },
  {
   "cell_type": "code",
   "execution_count": null,
   "metadata": {},
   "outputs": [],
   "source": [
    "import pandas as pd\n",
    "import random\n",
    "\n",
    "idx = pd.date_range(pd.Timestamp(1000, unit = 'ms'), pd.Timestamp(20000, unit = 'ms'), freq = pd.Timedelta(1000, unit = 'ms'))\n",
    "\n",
    "x = pd.DataFrame({'datetime': idx, 'value': random.choices(range(10000), k = len(idx))}).set_index('datetime')\n",
    "x.shift(-15).dropna()"
   ]
  },
  {
   "cell_type": "code",
   "execution_count": null,
   "metadata": {},
   "outputs": [],
   "source": [
    "# Increasing pattern in load\n",
    "import numpy as np\n",
    "import json\n",
    "\n",
    "interval_percentage = 6 / (5 * 60) # 6 seconds\n",
    "step_rps = 3 / (5 * 60 / 6)\n",
    "vals = []\n",
    "for request_rate in np.arange(0, 3.00, step_rps):\n",
    "    vals.append({ \"requests_count_level\": round(request_rate, 2), \"percentage_of_interval\": interval_percentage })\n",
    "    \n",
    "json.dumps(vals)"
   ]
  },
  {
   "cell_type": "code",
   "execution_count": null,
   "metadata": {},
   "outputs": [],
   "source": [
    "from autoscalingsim import simulator\n",
    "import pandas as pd\n",
    "import collections\n",
    "import time\n",
    "import pickle\n",
    "\n",
    "simulation_steps_ms = [10,20,30,40,50,60,70,80,90,100]\n",
    "starting_time = pd.Timestamp(\"2020-09-17T10:00:00\")\n",
    "time_to_simulate = pd.Timedelta(10, unit = 'm')\n",
    "repeats = 10\n",
    "\n",
    "results = collections.defaultdict(list)\n",
    "for sim_step_raw in simulation_steps_ms:\n",
    "    print(f'current simulation step is {sim_step_raw} ms')\n",
    "    for _ in range(repeats):\n",
    "        start = time.time()\n",
    "        simulation_step = pd.Timedelta(sim_step_raw, unit = 'ms')\n",
    "        config_dir = \"experiments/testazuremanual2\"\n",
    "        results_dir = None\n",
    "\n",
    "        sim = simulator.Simulator(simulation_step, starting_time, time_to_simulate)\n",
    "\n",
    "        sim.add_simulation(config_dir, results_dir)\n",
    "\n",
    "        sim.start_simulation()\n",
    "        \n",
    "        results[sim_step_raw].append(time.time() - start)\n",
    "        \n",
    "pickle.dump( results, open( \"performance_test_results_raw.pickle\", \"wb\" ) )"
   ]
  },
  {
   "cell_type": "code",
   "execution_count": null,
   "metadata": {},
   "outputs": [],
   "source": [
    "import numpy as np\n",
    "from matplotlib import pyplot as plt\n",
    "\n",
    "res = pickle.load( open( \"performance_test_results_raw.pickle\", \"rb\" ) )\n",
    "\n",
    "results_means = [np.mean(times_per_simstep) / (10 * 60) for times_per_simstep in res.values()]\n",
    "results_stds = [np.std(times_per_simstep) / (10 * 60) for times_per_simstep in res.values()]\n",
    "steps = np.arange(10, 101, 10)\n",
    "\n",
    "p1 = plt.bar(steps, results_means, 7, yerr=results_stds)\n",
    "\n",
    "plt.ylabel('Wall clock time per 1 simulated second, s')\n",
    "plt.xlabel('Simulation step, ms')\n",
    "plt.xticks(steps)\n",
    "plt.yticks(np.arange(0.0, 2.0, 0.1))\n",
    "plt.hlines(0.5, xmin = 5, xmax = 105, colors = 'r', linestyles = 'dashed')\n",
    "#plt.show()\n",
    "\n",
    "plt.savefig(\"./performance_results.png\", dpi = 600, bbox_inches='tight')\n",
    "\n",
    "# Diminishing returns:\n",
    "(10 * 60_000) / steps"
   ]
  }
 ],
 "metadata": {
  "kernelspec": {
   "display_name": "Python 3",
   "language": "python",
   "name": "python3"
  },
  "language_info": {
   "codemirror_mode": {
    "name": "ipython",
    "version": 3
   },
   "file_extension": ".py",
   "mimetype": "text/x-python",
   "name": "python",
   "nbconvert_exporter": "python",
   "pygments_lexer": "ipython3",
   "version": "3.7.3"
  }
 },
 "nbformat": 4,
 "nbformat_minor": 2
}
