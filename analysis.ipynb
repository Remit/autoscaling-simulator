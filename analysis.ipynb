{
 "cells": [
  {
   "cell_type": "markdown",
   "metadata": {},
   "source": [
    "# SIMULATION CHECKING AND VISUALIZING"
   ]
  },
  {
   "cell_type": "code",
   "execution_count": 1,
   "metadata": {
    "scrolled": true
   },
   "outputs": [
    {
     "name": "stderr",
     "output_type": "stream",
     "text": [
      " 20%|███████████████▏                                                            | 1199/6000 [07:17<1:12:32,  1.10it/s]"
     ]
    },
    {
     "name": "stdout",
     "output_type": "stream",
     "text": [
      "Ratio-based scaling wants:                                  value\n",
      "datetime                              \n",
      "2020-09-17 10:02:00  Count( value = 1)\n",
      "2020-09-17 10:03:00  Count( value = 1)\n",
      "2020-09-17 10:04:00  Count( value = 1)\n",
      "Ratio-based scaling wants:                                  value\n",
      "datetime                              \n",
      "2020-09-17 10:02:00  Count( value = 2)\n",
      "2020-09-17 10:03:00  Count( value = 2)\n",
      "2020-09-17 10:04:00  Count( value = 2)\n",
      "Ratio-based scaling wants:                                   value\n",
      "datetime                               \n",
      "2020-09-17 10:02:00  Count( value = 15)\n",
      "2020-09-17 10:03:00  Count( value = 15)\n",
      "2020-09-17 10:04:00  Count( value = 15)\n",
      "Ratio-based scaling wants:                                   value\n",
      "datetime                               \n",
      "2020-09-17 10:02:00  Count( value = 27)\n",
      "2020-09-17 10:03:00  Count( value = 27)\n",
      "2020-09-17 10:04:00  Count( value = 27)\n",
      "Ratio-based scaling wants:                                  value\n",
      "datetime                              \n",
      "2020-09-17 10:02:00  Count( value = 5)\n",
      "2020-09-17 10:03:00  Count( value = 5)\n",
      "2020-09-17 10:04:00  Count( value = 5)\n",
      "Ratio-based scaling wants:                                  value\n",
      "datetime                              \n",
      "2020-09-17 10:02:00  Count( value = 8)\n",
      "2020-09-17 10:03:00  Count( value = 8)\n",
      "2020-09-17 10:04:00  Count( value = 8)\n",
      "Ratio-based scaling wants:                                   value\n",
      "datetime                               \n",
      "2020-09-17 10:02:00  Count( value = 11)\n",
      "2020-09-17 10:03:00  Count( value = 11)\n",
      "2020-09-17 10:04:00  Count( value = 11)\n",
      "Ratio-based scaling wants:                                  value\n",
      "datetime                              \n",
      "2020-09-17 10:02:00  Count( value = 1)\n",
      "2020-09-17 10:03:00  Count( value = 1)\n",
      "2020-09-17 10:04:00  Count( value = 1)\n",
      "Ratio-based scaling wants:                                   value\n",
      "datetime                               \n",
      "2020-09-17 10:02:00  Count( value = 14)\n",
      "2020-09-17 10:03:00  Count( value = 14)\n",
      "2020-09-17 10:04:00  Count( value = 14)\n",
      "Ratio-based scaling wants:                                   value\n",
      "datetime                               \n",
      "2020-09-17 10:02:00  Count( value = 11)\n",
      "2020-09-17 10:03:00  Count( value = 11)\n",
      "2020-09-17 10:04:00  Count( value = 11)\n"
     ]
    },
    {
     "name": "stderr",
     "output_type": "stream",
     "text": [
      "\r",
      " 20%|███████████████▏                                                            | 1200/6000 [07:29<5:52:13,  4.40s/it]"
     ]
    },
    {
     "name": "stdout",
     "output_type": "stream",
     "text": [
      "cur_timestamp: 2020-09-17 10:02:00\n"
     ]
    },
    {
     "name": "stderr",
     "output_type": "stream",
     "text": [
      " 25%|██████████████████▉                                                         | 1499/6000 [12:04<1:13:11,  1.02it/s]"
     ]
    },
    {
     "name": "stdout",
     "output_type": "stream",
     "text": [
      "Ratio-based scaling wants:                                  value\n",
      "datetime                              \n",
      "2020-09-17 10:03:00  Count( value = 1)\n",
      "2020-09-17 10:04:00  Count( value = 1)\n",
      "2020-09-17 10:05:00  Count( value = 1)\n",
      "Ratio-based scaling wants:                                  value\n",
      "datetime                              \n",
      "2020-09-17 10:03:00  Count( value = 3)\n",
      "2020-09-17 10:04:00  Count( value = 3)\n",
      "2020-09-17 10:05:00  Count( value = 3)\n",
      "Ratio-based scaling wants:                                   value\n",
      "datetime                               \n",
      "2020-09-17 10:03:00  Count( value = 15)\n",
      "2020-09-17 10:04:00  Count( value = 15)\n",
      "2020-09-17 10:05:00  Count( value = 15)\n",
      "Ratio-based scaling wants:                                   value\n",
      "datetime                               \n",
      "2020-09-17 10:03:00  Count( value = 27)\n",
      "2020-09-17 10:04:00  Count( value = 27)\n",
      "2020-09-17 10:05:00  Count( value = 27)\n",
      "Ratio-based scaling wants:                                  value\n",
      "datetime                              \n",
      "2020-09-17 10:03:00  Count( value = 5)\n",
      "2020-09-17 10:04:00  Count( value = 5)\n",
      "2020-09-17 10:05:00  Count( value = 5)\n",
      "Ratio-based scaling wants:                                  value\n",
      "datetime                              \n",
      "2020-09-17 10:03:00  Count( value = 8)\n",
      "2020-09-17 10:04:00  Count( value = 8)\n",
      "2020-09-17 10:05:00  Count( value = 8)\n",
      "Ratio-based scaling wants:                                   value\n",
      "datetime                               \n",
      "2020-09-17 10:03:00  Count( value = 11)\n",
      "2020-09-17 10:04:00  Count( value = 11)\n",
      "2020-09-17 10:05:00  Count( value = 11)\n",
      "Ratio-based scaling wants:                                  value\n",
      "datetime                              \n",
      "2020-09-17 10:03:00  Count( value = 1)\n",
      "2020-09-17 10:04:00  Count( value = 1)\n",
      "2020-09-17 10:05:00  Count( value = 1)\n",
      "Ratio-based scaling wants:                                   value\n",
      "datetime                               \n",
      "2020-09-17 10:03:00  Count( value = 14)\n",
      "2020-09-17 10:04:00  Count( value = 14)\n",
      "2020-09-17 10:05:00  Count( value = 14)\n",
      "Ratio-based scaling wants:                                   value\n",
      "datetime                               \n",
      "2020-09-17 10:03:00  Count( value = 11)\n",
      "2020-09-17 10:04:00  Count( value = 11)\n",
      "2020-09-17 10:05:00  Count( value = 11)\n"
     ]
    },
    {
     "name": "stderr",
     "output_type": "stream",
     "text": [
      "\r",
      " 25%|███████████████████                                                         | 1500/6000 [12:17<5:37:27,  4.50s/it]"
     ]
    },
    {
     "name": "stdout",
     "output_type": "stream",
     "text": [
      "cur_timestamp: 2020-09-17 10:02:30\n"
     ]
    },
    {
     "name": "stderr",
     "output_type": "stream",
     "text": [
      " 30%|██████████████████████▊                                                     | 1799/6000 [17:40<1:10:58,  1.01s/it]"
     ]
    },
    {
     "name": "stdout",
     "output_type": "stream",
     "text": [
      "Ratio-based scaling wants:                                  value\n",
      "datetime                              \n",
      "2020-09-17 10:03:00  Count( value = 1)\n",
      "2020-09-17 10:04:00  Count( value = 1)\n",
      "2020-09-17 10:05:00  Count( value = 1)\n",
      "Ratio-based scaling wants:                                  value\n",
      "datetime                              \n",
      "2020-09-17 10:03:00  Count( value = 3)\n",
      "2020-09-17 10:04:00  Count( value = 3)\n",
      "2020-09-17 10:05:00  Count( value = 3)\n",
      "Ratio-based scaling wants:                                   value\n",
      "datetime                               \n",
      "2020-09-17 10:03:00  Count( value = 15)\n",
      "2020-09-17 10:04:00  Count( value = 15)\n",
      "2020-09-17 10:05:00  Count( value = 15)\n",
      "Ratio-based scaling wants:                                   value\n",
      "datetime                               \n",
      "2020-09-17 10:03:00  Count( value = 27)\n",
      "2020-09-17 10:04:00  Count( value = 27)\n",
      "2020-09-17 10:05:00  Count( value = 27)\n",
      "Ratio-based scaling wants:                                  value\n",
      "datetime                              \n",
      "2020-09-17 10:03:00  Count( value = 6)\n",
      "2020-09-17 10:04:00  Count( value = 6)\n",
      "2020-09-17 10:05:00  Count( value = 6)\n",
      "Ratio-based scaling wants:                                  value\n",
      "datetime                              \n",
      "2020-09-17 10:03:00  Count( value = 8)\n",
      "2020-09-17 10:04:00  Count( value = 8)\n",
      "2020-09-17 10:05:00  Count( value = 8)\n",
      "Ratio-based scaling wants:                                   value\n",
      "datetime                               \n",
      "2020-09-17 10:03:00  Count( value = 11)\n",
      "2020-09-17 10:04:00  Count( value = 11)\n",
      "2020-09-17 10:05:00  Count( value = 11)\n",
      "Ratio-based scaling wants:                                  value\n",
      "datetime                              \n",
      "2020-09-17 10:03:00  Count( value = 1)\n",
      "2020-09-17 10:04:00  Count( value = 1)\n",
      "2020-09-17 10:05:00  Count( value = 1)\n",
      "Ratio-based scaling wants:                                   value\n",
      "datetime                               \n",
      "2020-09-17 10:03:00  Count( value = 14)\n",
      "2020-09-17 10:04:00  Count( value = 14)\n",
      "2020-09-17 10:05:00  Count( value = 14)\n",
      "Ratio-based scaling wants:                                   value\n",
      "datetime                               \n",
      "2020-09-17 10:03:00  Count( value = 11)\n",
      "2020-09-17 10:04:00  Count( value = 11)\n",
      "2020-09-17 10:05:00  Count( value = 11)\n"
     ]
    },
    {
     "name": "stderr",
     "output_type": "stream",
     "text": [
      "\r",
      " 30%|██████████████████████▊                                                     | 1800/6000 [17:53<5:23:01,  4.61s/it]"
     ]
    },
    {
     "name": "stdout",
     "output_type": "stream",
     "text": [
      "cur_timestamp: 2020-09-17 10:03:00\n"
     ]
    },
    {
     "name": "stderr",
     "output_type": "stream",
     "text": [
      " 35%|███████████████████████████▎                                                  | 2099/6000 [21:53<52:11,  1.25it/s]"
     ]
    },
    {
     "name": "stdout",
     "output_type": "stream",
     "text": [
      "Ratio-based scaling wants:                                  value\n",
      "datetime                              \n",
      "2020-09-17 10:04:00  Count( value = 1)\n",
      "2020-09-17 10:05:00  Count( value = 1)\n",
      "2020-09-17 10:06:00  Count( value = 1)\n",
      "Ratio-based scaling wants:                                  value\n",
      "datetime                              \n",
      "2020-09-17 10:04:00  Count( value = 5)\n",
      "2020-09-17 10:05:00  Count( value = 5)\n",
      "2020-09-17 10:06:00  Count( value = 5)\n",
      "Ratio-based scaling wants:                                   value\n",
      "datetime                               \n",
      "2020-09-17 10:04:00  Count( value = 15)\n",
      "2020-09-17 10:05:00  Count( value = 15)\n",
      "2020-09-17 10:06:00  Count( value = 15)\n",
      "Ratio-based scaling wants:                                   value\n",
      "datetime                               \n",
      "2020-09-17 10:04:00  Count( value = 27)\n",
      "2020-09-17 10:05:00  Count( value = 27)\n",
      "2020-09-17 10:06:00  Count( value = 27)\n",
      "Ratio-based scaling wants:                                  value\n",
      "datetime                              \n",
      "2020-09-17 10:04:00  Count( value = 6)\n",
      "2020-09-17 10:05:00  Count( value = 6)\n",
      "2020-09-17 10:06:00  Count( value = 6)\n",
      "Ratio-based scaling wants:                                  value\n",
      "datetime                              \n",
      "2020-09-17 10:04:00  Count( value = 8)\n",
      "2020-09-17 10:05:00  Count( value = 8)\n",
      "2020-09-17 10:06:00  Count( value = 8)\n",
      "Ratio-based scaling wants:                                   value\n",
      "datetime                               \n",
      "2020-09-17 10:04:00  Count( value = 11)\n",
      "2020-09-17 10:05:00  Count( value = 11)\n",
      "2020-09-17 10:06:00  Count( value = 11)\n",
      "Ratio-based scaling wants:                                  value\n",
      "datetime                              \n",
      "2020-09-17 10:04:00  Count( value = 1)\n",
      "2020-09-17 10:05:00  Count( value = 1)\n",
      "2020-09-17 10:06:00  Count( value = 1)\n",
      "Ratio-based scaling wants:                                   value\n",
      "datetime                               \n",
      "2020-09-17 10:04:00  Count( value = 14)\n",
      "2020-09-17 10:05:00  Count( value = 14)\n",
      "2020-09-17 10:06:00  Count( value = 14)\n",
      "Ratio-based scaling wants:                                   value\n",
      "datetime                               \n",
      "2020-09-17 10:04:00  Count( value = 11)\n",
      "2020-09-17 10:05:00  Count( value = 11)\n",
      "2020-09-17 10:06:00  Count( value = 11)\n"
     ]
    },
    {
     "name": "stderr",
     "output_type": "stream",
     "text": [
      "\r",
      " 35%|██████████████████████████▌                                                 | 2100/6000 [22:06<4:48:56,  4.45s/it]"
     ]
    },
    {
     "name": "stdout",
     "output_type": "stream",
     "text": [
      "cur_timestamp: 2020-09-17 10:03:30\n"
     ]
    },
    {
     "name": "stderr",
     "output_type": "stream",
     "text": [
      " 40%|███████████████████████████████▏                                              | 2399/6000 [25:18<24:22,  2.46it/s]"
     ]
    },
    {
     "name": "stdout",
     "output_type": "stream",
     "text": [
      "Ratio-based scaling wants:                                  value\n",
      "datetime                              \n",
      "2020-09-17 10:04:00  Count( value = 1)\n",
      "2020-09-17 10:05:00  Count( value = 1)\n",
      "2020-09-17 10:06:00  Count( value = 1)\n",
      "Ratio-based scaling wants:                                  value\n",
      "datetime                              \n",
      "2020-09-17 10:04:00  Count( value = 6)\n",
      "2020-09-17 10:05:00  Count( value = 6)\n",
      "2020-09-17 10:06:00  Count( value = 6)\n",
      "Ratio-based scaling wants:                                   value\n",
      "datetime                               \n",
      "2020-09-17 10:04:00  Count( value = 15)\n",
      "2020-09-17 10:05:00  Count( value = 15)\n",
      "2020-09-17 10:06:00  Count( value = 15)\n",
      "Ratio-based scaling wants:                                   value\n",
      "datetime                               \n",
      "2020-09-17 10:04:00  Count( value = 27)\n",
      "2020-09-17 10:05:00  Count( value = 27)\n",
      "2020-09-17 10:06:00  Count( value = 27)\n",
      "Ratio-based scaling wants:                                  value\n",
      "datetime                              \n",
      "2020-09-17 10:04:00  Count( value = 6)\n",
      "2020-09-17 10:05:00  Count( value = 6)\n",
      "2020-09-17 10:06:00  Count( value = 6)\n",
      "Ratio-based scaling wants:                                  value\n",
      "datetime                              \n",
      "2020-09-17 10:04:00  Count( value = 8)\n",
      "2020-09-17 10:05:00  Count( value = 8)\n",
      "2020-09-17 10:06:00  Count( value = 8)\n",
      "Ratio-based scaling wants:                                   value\n",
      "datetime                               \n",
      "2020-09-17 10:04:00  Count( value = 11)\n",
      "2020-09-17 10:05:00  Count( value = 11)\n",
      "2020-09-17 10:06:00  Count( value = 11)\n",
      "Ratio-based scaling wants:                                  value\n",
      "datetime                              \n",
      "2020-09-17 10:04:00  Count( value = 1)\n",
      "2020-09-17 10:05:00  Count( value = 1)\n",
      "2020-09-17 10:06:00  Count( value = 1)\n",
      "Ratio-based scaling wants:                                   value\n",
      "datetime                               \n",
      "2020-09-17 10:04:00  Count( value = 14)\n",
      "2020-09-17 10:05:00  Count( value = 14)\n",
      "2020-09-17 10:06:00  Count( value = 14)\n",
      "Ratio-based scaling wants:                                   value\n",
      "datetime                               \n",
      "2020-09-17 10:04:00  Count( value = 11)\n",
      "2020-09-17 10:05:00  Count( value = 11)\n",
      "2020-09-17 10:06:00  Count( value = 11)\n"
     ]
    },
    {
     "name": "stderr",
     "output_type": "stream",
     "text": [
      "\r",
      " 40%|██████████████████████████████▍                                             | 2400/6000 [25:31<4:04:00,  4.07s/it]"
     ]
    },
    {
     "name": "stdout",
     "output_type": "stream",
     "text": [
      "cur_timestamp: 2020-09-17 10:04:00\n"
     ]
    },
    {
     "name": "stderr",
     "output_type": "stream",
     "text": [
      " 45%|██████████████████████████████████▏                                         | 2699/6000 [30:41<1:10:33,  1.28s/it]"
     ]
    },
    {
     "name": "stdout",
     "output_type": "stream",
     "text": [
      "Ratio-based scaling wants:                                  value\n",
      "datetime                              \n",
      "2020-09-17 10:05:00  Count( value = 1)\n",
      "2020-09-17 10:06:00  Count( value = 1)\n",
      "2020-09-17 10:07:00  Count( value = 1)\n",
      "Ratio-based scaling wants:                                   value\n",
      "datetime                               \n",
      "2020-09-17 10:05:00  Count( value = 12)\n",
      "2020-09-17 10:06:00  Count( value = 12)\n",
      "2020-09-17 10:07:00  Count( value = 12)\n",
      "Ratio-based scaling wants:                                   value\n",
      "datetime                               \n",
      "2020-09-17 10:05:00  Count( value = 15)\n",
      "2020-09-17 10:06:00  Count( value = 15)\n",
      "2020-09-17 10:07:00  Count( value = 15)\n",
      "Ratio-based scaling wants:                                   value\n",
      "datetime                               \n",
      "2020-09-17 10:05:00  Count( value = 27)\n",
      "2020-09-17 10:06:00  Count( value = 27)\n",
      "2020-09-17 10:07:00  Count( value = 27)\n",
      "Ratio-based scaling wants:                                  value\n",
      "datetime                              \n",
      "2020-09-17 10:05:00  Count( value = 6)\n",
      "2020-09-17 10:06:00  Count( value = 6)\n",
      "2020-09-17 10:07:00  Count( value = 6)\n",
      "Ratio-based scaling wants:                                  value\n",
      "datetime                              \n",
      "2020-09-17 10:05:00  Count( value = 8)\n",
      "2020-09-17 10:06:00  Count( value = 8)\n",
      "2020-09-17 10:07:00  Count( value = 8)\n",
      "Ratio-based scaling wants:                                   value\n",
      "datetime                               \n",
      "2020-09-17 10:05:00  Count( value = 11)\n",
      "2020-09-17 10:06:00  Count( value = 11)\n",
      "2020-09-17 10:07:00  Count( value = 11)\n",
      "Ratio-based scaling wants:                                  value\n",
      "datetime                              \n",
      "2020-09-17 10:05:00  Count( value = 1)\n",
      "2020-09-17 10:06:00  Count( value = 1)\n",
      "2020-09-17 10:07:00  Count( value = 1)\n",
      "Ratio-based scaling wants:                                   value\n",
      "datetime                               \n",
      "2020-09-17 10:05:00  Count( value = 14)\n",
      "2020-09-17 10:06:00  Count( value = 14)\n",
      "2020-09-17 10:07:00  Count( value = 14)\n",
      "Ratio-based scaling wants:                                   value\n",
      "datetime                               \n",
      "2020-09-17 10:05:00  Count( value = 11)\n",
      "2020-09-17 10:06:00  Count( value = 11)\n",
      "2020-09-17 10:07:00  Count( value = 11)\n",
      "cur_timestamp: 2020-09-17 10:04:30\n",
      "ts_of_unmet_change BEFORE: 2020-09-17 10:05:00\n",
      "last_scaling_action_ts: 2020-09-17 10:00:52.511148813\n",
      "ts_of_unmet_change AFTER: 2020-09-17 10:05:00\n"
     ]
    },
    {
     "name": "stderr",
     "output_type": "stream",
     "text": [
      " 50%|██████████████████████████████████████▉                                       | 2999/6000 [35:30<46:41,  1.07it/s]"
     ]
    },
    {
     "name": "stdout",
     "output_type": "stream",
     "text": [
      "Ratio-based scaling wants:                                  value\n",
      "datetime                              \n",
      "2020-09-17 10:05:00  Count( value = 1)\n",
      "2020-09-17 10:06:00  Count( value = 1)\n",
      "2020-09-17 10:07:00  Count( value = 1)\n",
      "Ratio-based scaling wants:                                   value\n",
      "datetime                               \n",
      "2020-09-17 10:05:00  Count( value = 13)\n",
      "2020-09-17 10:06:00  Count( value = 13)\n",
      "2020-09-17 10:07:00  Count( value = 13)\n",
      "Ratio-based scaling wants:                                   value\n",
      "datetime                               \n",
      "2020-09-17 10:05:00  Count( value = 15)\n",
      "2020-09-17 10:06:00  Count( value = 15)\n",
      "2020-09-17 10:07:00  Count( value = 15)\n",
      "Ratio-based scaling wants:                                   value\n",
      "datetime                               \n",
      "2020-09-17 10:05:00  Count( value = 27)\n",
      "2020-09-17 10:06:00  Count( value = 27)\n",
      "2020-09-17 10:07:00  Count( value = 27)\n",
      "Ratio-based scaling wants:                                  value\n",
      "datetime                              \n",
      "2020-09-17 10:05:00  Count( value = 6)\n",
      "2020-09-17 10:06:00  Count( value = 6)\n",
      "2020-09-17 10:07:00  Count( value = 6)\n",
      "Ratio-based scaling wants:                                  value\n",
      "datetime                              \n",
      "2020-09-17 10:05:00  Count( value = 9)\n",
      "2020-09-17 10:06:00  Count( value = 9)\n",
      "2020-09-17 10:07:00  Count( value = 9)\n",
      "Ratio-based scaling wants:                                   value\n",
      "datetime                               \n",
      "2020-09-17 10:05:00  Count( value = 11)\n",
      "2020-09-17 10:06:00  Count( value = 11)\n",
      "2020-09-17 10:07:00  Count( value = 11)\n",
      "Ratio-based scaling wants:                                  value\n",
      "datetime                              \n",
      "2020-09-17 10:05:00  Count( value = 1)\n",
      "2020-09-17 10:06:00  Count( value = 1)\n",
      "2020-09-17 10:07:00  Count( value = 1)\n",
      "Ratio-based scaling wants:                                   value\n",
      "datetime                               \n",
      "2020-09-17 10:05:00  Count( value = 14)\n",
      "2020-09-17 10:06:00  Count( value = 14)\n",
      "2020-09-17 10:07:00  Count( value = 14)\n",
      "Ratio-based scaling wants:                                   value\n",
      "datetime                               \n",
      "2020-09-17 10:05:00  Count( value = 12)\n",
      "2020-09-17 10:06:00  Count( value = 12)\n",
      "2020-09-17 10:07:00  Count( value = 12)\n",
      "cur_timestamp: 2020-09-17 10:05:00\n",
      "ts_of_unmet_change BEFORE: 2020-09-17 10:05:00\n",
      "last_scaling_action_ts: 2020-09-17 10:05:00\n",
      "ts_of_unmet_change AFTER: 2020-09-17 10:05:00\n"
     ]
    },
    {
     "name": "stderr",
     "output_type": "stream",
     "text": [
      " 55%|██████████████████████████████████████████▉                                   | 3299/6000 [40:02<43:27,  1.04it/s]"
     ]
    },
    {
     "name": "stdout",
     "output_type": "stream",
     "text": [
      "Ratio-based scaling wants:                                  value\n",
      "datetime                              \n",
      "2020-09-17 10:06:00  Count( value = 1)\n",
      "2020-09-17 10:07:00  Count( value = 1)\n",
      "2020-09-17 10:08:00  Count( value = 1)\n",
      "Ratio-based scaling wants:                                   value\n",
      "datetime                               \n",
      "2020-09-17 10:06:00  Count( value = 18)\n",
      "2020-09-17 10:07:00  Count( value = 18)\n",
      "2020-09-17 10:08:00  Count( value = 18)\n",
      "Ratio-based scaling wants:                                   value\n",
      "datetime                               \n",
      "2020-09-17 10:06:00  Count( value = 15)\n",
      "2020-09-17 10:07:00  Count( value = 15)\n",
      "2020-09-17 10:08:00  Count( value = 15)\n",
      "Ratio-based scaling wants:                                   value\n",
      "datetime                               \n",
      "2020-09-17 10:06:00  Count( value = 27)\n",
      "2020-09-17 10:07:00  Count( value = 27)\n",
      "2020-09-17 10:08:00  Count( value = 27)\n",
      "Ratio-based scaling wants:                                  value\n",
      "datetime                              \n",
      "2020-09-17 10:06:00  Count( value = 6)\n",
      "2020-09-17 10:07:00  Count( value = 6)\n",
      "2020-09-17 10:08:00  Count( value = 6)\n",
      "Ratio-based scaling wants:                                  value\n",
      "datetime                              \n",
      "2020-09-17 10:06:00  Count( value = 9)\n",
      "2020-09-17 10:07:00  Count( value = 9)\n",
      "2020-09-17 10:08:00  Count( value = 9)\n",
      "Ratio-based scaling wants:                                   value\n",
      "datetime                               \n",
      "2020-09-17 10:06:00  Count( value = 11)\n",
      "2020-09-17 10:07:00  Count( value = 11)\n",
      "2020-09-17 10:08:00  Count( value = 11)\n",
      "Ratio-based scaling wants:                                  value\n",
      "datetime                              \n",
      "2020-09-17 10:06:00  Count( value = 1)\n",
      "2020-09-17 10:07:00  Count( value = 1)\n",
      "2020-09-17 10:08:00  Count( value = 1)\n",
      "Ratio-based scaling wants:                                   value\n",
      "datetime                               \n",
      "2020-09-17 10:06:00  Count( value = 14)\n",
      "2020-09-17 10:07:00  Count( value = 14)\n",
      "2020-09-17 10:08:00  Count( value = 14)\n",
      "Ratio-based scaling wants:                                   value\n",
      "datetime                               \n",
      "2020-09-17 10:06:00  Count( value = 12)\n",
      "2020-09-17 10:07:00  Count( value = 12)\n",
      "2020-09-17 10:08:00  Count( value = 12)\n"
     ]
    },
    {
     "name": "stderr",
     "output_type": "stream",
     "text": [
      "\r",
      " 55%|█████████████████████████████████████████▊                                  | 3300/6000 [40:15<3:27:27,  4.61s/it]"
     ]
    },
    {
     "name": "stdout",
     "output_type": "stream",
     "text": [
      "cur_timestamp: 2020-09-17 10:05:30\n",
      "ts_of_unmet_change BEFORE: 2020-09-17 10:06:00\n",
      "last_scaling_action_ts: 2020-09-17 10:05:50.754243091\n",
      "ts_of_unmet_change AFTER: 2020-09-17 10:06:00\n"
     ]
    },
    {
     "name": "stderr",
     "output_type": "stream",
     "text": [
      " 60%|█████████████████████████████████████████████▌                              | 3599/6000 [46:38<1:04:12,  1.60s/it]"
     ]
    },
    {
     "name": "stdout",
     "output_type": "stream",
     "text": [
      "Ratio-based scaling wants:                                  value\n",
      "datetime                              \n",
      "2020-09-17 10:06:00  Count( value = 1)\n",
      "2020-09-17 10:07:00  Count( value = 1)\n",
      "2020-09-17 10:08:00  Count( value = 1)\n",
      "Ratio-based scaling wants:                                   value\n",
      "datetime                               \n",
      "2020-09-17 10:06:00  Count( value = 29)\n",
      "2020-09-17 10:07:00  Count( value = 29)\n",
      "2020-09-17 10:08:00  Count( value = 29)\n",
      "Ratio-based scaling wants:                                   value\n",
      "datetime                               \n",
      "2020-09-17 10:06:00  Count( value = 15)\n",
      "2020-09-17 10:07:00  Count( value = 15)\n",
      "2020-09-17 10:08:00  Count( value = 15)\n",
      "Ratio-based scaling wants:                                   value\n",
      "datetime                               \n",
      "2020-09-17 10:06:00  Count( value = 27)\n",
      "2020-09-17 10:07:00  Count( value = 27)\n",
      "2020-09-17 10:08:00  Count( value = 27)\n",
      "Ratio-based scaling wants:                                  value\n",
      "datetime                              \n",
      "2020-09-17 10:06:00  Count( value = 6)\n",
      "2020-09-17 10:07:00  Count( value = 6)\n",
      "2020-09-17 10:08:00  Count( value = 6)\n",
      "Ratio-based scaling wants:                                  value\n",
      "datetime                              \n",
      "2020-09-17 10:06:00  Count( value = 9)\n",
      "2020-09-17 10:07:00  Count( value = 9)\n",
      "2020-09-17 10:08:00  Count( value = 9)\n",
      "Ratio-based scaling wants:                                   value\n",
      "datetime                               \n",
      "2020-09-17 10:06:00  Count( value = 11)\n",
      "2020-09-17 10:07:00  Count( value = 11)\n",
      "2020-09-17 10:08:00  Count( value = 11)\n",
      "Ratio-based scaling wants:                                  value\n",
      "datetime                              \n",
      "2020-09-17 10:06:00  Count( value = 2)\n",
      "2020-09-17 10:07:00  Count( value = 2)\n",
      "2020-09-17 10:08:00  Count( value = 2)\n",
      "Ratio-based scaling wants:                                   value\n",
      "datetime                               \n",
      "2020-09-17 10:06:00  Count( value = 14)\n",
      "2020-09-17 10:07:00  Count( value = 14)\n",
      "2020-09-17 10:08:00  Count( value = 14)\n",
      "Ratio-based scaling wants:                                   value\n",
      "datetime                               \n",
      "2020-09-17 10:06:00  Count( value = 13)\n",
      "2020-09-17 10:07:00  Count( value = 13)\n",
      "2020-09-17 10:08:00  Count( value = 13)\n"
     ]
    },
    {
     "name": "stderr",
     "output_type": "stream",
     "text": [
      "\r",
      " 60%|█████████████████████████████████████████████▌                              | 3600/6000 [46:51<3:27:13,  5.18s/it]"
     ]
    },
    {
     "name": "stdout",
     "output_type": "stream",
     "text": [
      "cur_timestamp: 2020-09-17 10:06:00\n",
      "ts_of_unmet_change BEFORE: 2020-09-17 10:06:00\n",
      "last_scaling_action_ts: 2020-09-17 10:06:00\n",
      "ts_of_unmet_change AFTER: 2020-09-17 10:06:00\n"
     ]
    },
    {
     "name": "stderr",
     "output_type": "stream",
     "text": [
      " 65%|██████████████████████████████████████████████████▋                           | 3899/6000 [54:17<45:45,  1.31s/it]"
     ]
    },
    {
     "name": "stdout",
     "output_type": "stream",
     "text": [
      "Ratio-based scaling wants:                                  value\n",
      "datetime                              \n",
      "2020-09-17 10:07:00  Count( value = 1)\n",
      "2020-09-17 10:08:00  Count( value = 1)\n",
      "2020-09-17 10:09:00  Count( value = 1)\n",
      "Ratio-based scaling wants:                                   value\n",
      "datetime                               \n",
      "2020-09-17 10:07:00  Count( value = 33)\n",
      "2020-09-17 10:08:00  Count( value = 33)\n",
      "2020-09-17 10:09:00  Count( value = 33)\n",
      "Ratio-based scaling wants:                                   value\n",
      "datetime                               \n",
      "2020-09-17 10:07:00  Count( value = 15)\n",
      "2020-09-17 10:08:00  Count( value = 15)\n",
      "2020-09-17 10:09:00  Count( value = 15)\n",
      "Ratio-based scaling wants:                                   value\n",
      "datetime                               \n",
      "2020-09-17 10:07:00  Count( value = 27)\n",
      "2020-09-17 10:08:00  Count( value = 27)\n",
      "2020-09-17 10:09:00  Count( value = 27)\n",
      "Ratio-based scaling wants:                                  value\n",
      "datetime                              \n",
      "2020-09-17 10:07:00  Count( value = 6)\n",
      "2020-09-17 10:08:00  Count( value = 6)\n",
      "2020-09-17 10:09:00  Count( value = 6)\n",
      "Ratio-based scaling wants:                                  value\n",
      "datetime                              \n",
      "2020-09-17 10:07:00  Count( value = 9)\n",
      "2020-09-17 10:08:00  Count( value = 9)\n",
      "2020-09-17 10:09:00  Count( value = 9)\n",
      "Ratio-based scaling wants:                                   value\n",
      "datetime                               \n",
      "2020-09-17 10:07:00  Count( value = 11)\n",
      "2020-09-17 10:08:00  Count( value = 11)\n",
      "2020-09-17 10:09:00  Count( value = 11)\n",
      "Ratio-based scaling wants:                                  value\n",
      "datetime                              \n",
      "2020-09-17 10:07:00  Count( value = 2)\n",
      "2020-09-17 10:08:00  Count( value = 2)\n",
      "2020-09-17 10:09:00  Count( value = 2)\n",
      "Ratio-based scaling wants:                                   value\n",
      "datetime                               \n",
      "2020-09-17 10:07:00  Count( value = 14)\n",
      "2020-09-17 10:08:00  Count( value = 14)\n",
      "2020-09-17 10:09:00  Count( value = 14)\n",
      "Ratio-based scaling wants:                                   value\n",
      "datetime                               \n",
      "2020-09-17 10:07:00  Count( value = 13)\n",
      "2020-09-17 10:08:00  Count( value = 13)\n",
      "2020-09-17 10:09:00  Count( value = 13)\n"
     ]
    },
    {
     "name": "stderr",
     "output_type": "stream",
     "text": [
      "\r",
      " 65%|█████████████████████████████████████████████████▍                          | 3900/6000 [54:30<2:51:48,  4.91s/it]"
     ]
    },
    {
     "name": "stdout",
     "output_type": "stream",
     "text": [
      "cur_timestamp: 2020-09-17 10:06:30\n",
      "ts_of_unmet_change BEFORE: 2020-09-17 10:07:00\n",
      "last_scaling_action_ts: 2020-09-17 10:06:41.394232930\n",
      "ts_of_unmet_change AFTER: 2020-09-17 10:07:00\n"
     ]
    },
    {
     "name": "stderr",
     "output_type": "stream",
     "text": [
      " 70%|█████████████████████████████████████████████████████▏                      | 4199/6000 [1:00:15<34:51,  1.16s/it]"
     ]
    },
    {
     "name": "stdout",
     "output_type": "stream",
     "text": [
      "Ratio-based scaling wants:                                  value\n",
      "datetime                              \n",
      "2020-09-17 10:07:00  Count( value = 2)\n",
      "2020-09-17 10:08:00  Count( value = 2)\n",
      "2020-09-17 10:09:00  Count( value = 2)\n",
      "Ratio-based scaling wants:                                   value\n",
      "datetime                               \n",
      "2020-09-17 10:07:00  Count( value = 64)\n",
      "2020-09-17 10:08:00  Count( value = 64)\n",
      "2020-09-17 10:09:00  Count( value = 64)\n",
      "Ratio-based scaling wants:                                   value\n",
      "datetime                               \n",
      "2020-09-17 10:07:00  Count( value = 15)\n",
      "2020-09-17 10:08:00  Count( value = 15)\n",
      "2020-09-17 10:09:00  Count( value = 15)\n",
      "Ratio-based scaling wants:                                   value\n",
      "datetime                               \n",
      "2020-09-17 10:07:00  Count( value = 27)\n",
      "2020-09-17 10:08:00  Count( value = 27)\n",
      "2020-09-17 10:09:00  Count( value = 27)\n",
      "Ratio-based scaling wants:                                  value\n",
      "datetime                              \n",
      "2020-09-17 10:07:00  Count( value = 7)\n",
      "2020-09-17 10:08:00  Count( value = 7)\n",
      "2020-09-17 10:09:00  Count( value = 7)\n",
      "Ratio-based scaling wants:                                  value\n",
      "datetime                              \n",
      "2020-09-17 10:07:00  Count( value = 9)\n",
      "2020-09-17 10:08:00  Count( value = 9)\n",
      "2020-09-17 10:09:00  Count( value = 9)\n",
      "Ratio-based scaling wants:                                   value\n",
      "datetime                               \n",
      "2020-09-17 10:07:00  Count( value = 11)\n",
      "2020-09-17 10:08:00  Count( value = 11)\n",
      "2020-09-17 10:09:00  Count( value = 11)\n",
      "Ratio-based scaling wants:                                  value\n",
      "datetime                              \n",
      "2020-09-17 10:07:00  Count( value = 2)\n",
      "2020-09-17 10:08:00  Count( value = 2)\n",
      "2020-09-17 10:09:00  Count( value = 2)\n",
      "Ratio-based scaling wants:                                   value\n",
      "datetime                               \n",
      "2020-09-17 10:07:00  Count( value = 14)\n",
      "2020-09-17 10:08:00  Count( value = 14)\n",
      "2020-09-17 10:09:00  Count( value = 14)\n",
      "Ratio-based scaling wants:                                   value\n",
      "datetime                               \n",
      "2020-09-17 10:07:00  Count( value = 13)\n",
      "2020-09-17 10:08:00  Count( value = 13)\n",
      "2020-09-17 10:09:00  Count( value = 13)\n"
     ]
    },
    {
     "name": "stderr",
     "output_type": "stream",
     "text": [
      "\r",
      " 70%|███████████████████████████████████████████████████▊                      | 4200/6000 [1:00:28<2:27:33,  4.92s/it]"
     ]
    },
    {
     "name": "stdout",
     "output_type": "stream",
     "text": [
      "cur_timestamp: 2020-09-17 10:07:00\n"
     ]
    },
    {
     "name": "stderr",
     "output_type": "stream",
     "text": [
      " 75%|████████████████████████████████████████████████████████▉                   | 4499/6000 [1:02:30<01:02, 23.98it/s]"
     ]
    },
    {
     "name": "stdout",
     "output_type": "stream",
     "text": [
      "Ratio-based scaling wants:                                  value\n",
      "datetime                              \n",
      "2020-09-17 10:08:00  Count( value = 2)\n",
      "2020-09-17 10:09:00  Count( value = 2)\n",
      "2020-09-17 10:10:00  Count( value = 2)\n",
      "Ratio-based scaling wants:                                   value\n",
      "datetime                               \n",
      "2020-09-17 10:08:00  Count( value = 64)\n",
      "2020-09-17 10:09:00  Count( value = 64)\n",
      "2020-09-17 10:10:00  Count( value = 64)\n",
      "Ratio-based scaling wants:                                   value\n",
      "datetime                               \n",
      "2020-09-17 10:08:00  Count( value = 15)\n",
      "2020-09-17 10:09:00  Count( value = 15)\n",
      "2020-09-17 10:10:00  Count( value = 15)\n",
      "Ratio-based scaling wants:                                   value\n",
      "datetime                               \n",
      "2020-09-17 10:08:00  Count( value = 27)\n",
      "2020-09-17 10:09:00  Count( value = 27)\n",
      "2020-09-17 10:10:00  Count( value = 27)\n",
      "Ratio-based scaling wants:                                  value\n",
      "datetime                              \n",
      "2020-09-17 10:08:00  Count( value = 7)\n",
      "2020-09-17 10:09:00  Count( value = 7)\n",
      "2020-09-17 10:10:00  Count( value = 7)\n",
      "Ratio-based scaling wants:                                  value\n",
      "datetime                              \n",
      "2020-09-17 10:08:00  Count( value = 9)\n",
      "2020-09-17 10:09:00  Count( value = 9)\n",
      "2020-09-17 10:10:00  Count( value = 9)\n",
      "Ratio-based scaling wants:                                   value\n",
      "datetime                               \n",
      "2020-09-17 10:08:00  Count( value = 11)\n",
      "2020-09-17 10:09:00  Count( value = 11)\n",
      "2020-09-17 10:10:00  Count( value = 11)\n",
      "Ratio-based scaling wants:                                  value\n",
      "datetime                              \n",
      "2020-09-17 10:08:00  Count( value = 2)\n",
      "2020-09-17 10:09:00  Count( value = 2)\n",
      "2020-09-17 10:10:00  Count( value = 2)\n",
      "Ratio-based scaling wants:                                   value\n",
      "datetime                               \n",
      "2020-09-17 10:08:00  Count( value = 14)\n",
      "2020-09-17 10:09:00  Count( value = 14)\n",
      "2020-09-17 10:10:00  Count( value = 14)\n",
      "Ratio-based scaling wants:                                   value\n",
      "datetime                               \n",
      "2020-09-17 10:08:00  Count( value = 13)\n",
      "2020-09-17 10:09:00  Count( value = 13)\n",
      "2020-09-17 10:10:00  Count( value = 13)\n"
     ]
    },
    {
     "name": "stderr",
     "output_type": "stream",
     "text": [
      "\r",
      " 75%|█████████████████████████████████████████████████████████                   | 4502/6000 [1:02:45<36:04,  1.45s/it]"
     ]
    },
    {
     "name": "stdout",
     "output_type": "stream",
     "text": [
      "cur_timestamp: 2020-09-17 10:07:30\n"
     ]
    },
    {
     "name": "stderr",
     "output_type": "stream",
     "text": [
      " 80%|████████████████████████████████████████████████████████████▊               | 4799/6000 [1:02:57<00:50, 23.83it/s]"
     ]
    },
    {
     "name": "stdout",
     "output_type": "stream",
     "text": [
      "Ratio-based scaling wants:                                  value\n",
      "datetime                              \n",
      "2020-09-17 10:08:00  Count( value = 2)\n",
      "2020-09-17 10:09:00  Count( value = 2)\n",
      "2020-09-17 10:10:00  Count( value = 2)\n",
      "Ratio-based scaling wants:                                   value\n",
      "datetime                               \n",
      "2020-09-17 10:08:00  Count( value = 63)\n",
      "2020-09-17 10:09:00  Count( value = 63)\n",
      "2020-09-17 10:10:00  Count( value = 63)\n",
      "Ratio-based scaling wants:                                   value\n",
      "datetime                               \n",
      "2020-09-17 10:08:00  Count( value = 15)\n",
      "2020-09-17 10:09:00  Count( value = 15)\n",
      "2020-09-17 10:10:00  Count( value = 15)\n",
      "Ratio-based scaling wants:                                   value\n",
      "datetime                               \n",
      "2020-09-17 10:08:00  Count( value = 27)\n",
      "2020-09-17 10:09:00  Count( value = 27)\n",
      "2020-09-17 10:10:00  Count( value = 27)\n",
      "Ratio-based scaling wants:                                  value\n",
      "datetime                              \n",
      "2020-09-17 10:08:00  Count( value = 7)\n",
      "2020-09-17 10:09:00  Count( value = 7)\n",
      "2020-09-17 10:10:00  Count( value = 7)\n",
      "Ratio-based scaling wants:                                  value\n",
      "datetime                              \n",
      "2020-09-17 10:08:00  Count( value = 9)\n",
      "2020-09-17 10:09:00  Count( value = 9)\n",
      "2020-09-17 10:10:00  Count( value = 9)\n",
      "Ratio-based scaling wants:                                   value\n",
      "datetime                               \n",
      "2020-09-17 10:08:00  Count( value = 11)\n",
      "2020-09-17 10:09:00  Count( value = 11)\n",
      "2020-09-17 10:10:00  Count( value = 11)\n",
      "Ratio-based scaling wants:                                  value\n",
      "datetime                              \n",
      "2020-09-17 10:08:00  Count( value = 3)\n",
      "2020-09-17 10:09:00  Count( value = 3)\n",
      "2020-09-17 10:10:00  Count( value = 3)\n",
      "Ratio-based scaling wants:                                   value\n",
      "datetime                               \n",
      "2020-09-17 10:08:00  Count( value = 27)\n",
      "2020-09-17 10:09:00  Count( value = 27)\n",
      "2020-09-17 10:10:00  Count( value = 27)\n",
      "Ratio-based scaling wants:                                   value\n",
      "datetime                               \n",
      "2020-09-17 10:08:00  Count( value = 13)\n",
      "2020-09-17 10:09:00  Count( value = 13)\n",
      "2020-09-17 10:10:00  Count( value = 13)\n"
     ]
    },
    {
     "name": "stderr",
     "output_type": "stream",
     "text": [
      " 80%|████████████████████████████████████████████████████████████▊               | 4800/6000 [1:03:10<32:53,  1.64s/it]"
     ]
    },
    {
     "name": "stdout",
     "output_type": "stream",
     "text": [
      "cur_timestamp: 2020-09-17 10:08:00\n"
     ]
    },
    {
     "name": "stderr",
     "output_type": "stream",
     "text": [
      " 85%|████████████████████████████████████████████████████████████████▌           | 5097/6000 [1:03:23<00:42, 21.44it/s]"
     ]
    },
    {
     "name": "stdout",
     "output_type": "stream",
     "text": [
      "Ratio-based scaling wants:                                  value\n",
      "datetime                              \n",
      "2020-09-17 10:09:00  Count( value = 5)\n",
      "2020-09-17 10:10:00  Count( value = 5)\n",
      "2020-09-17 10:11:00  Count( value = 5)\n",
      "Ratio-based scaling wants:                                   value\n",
      "datetime                               \n",
      "2020-09-17 10:09:00  Count( value = 63)\n",
      "2020-09-17 10:10:00  Count( value = 63)\n",
      "2020-09-17 10:11:00  Count( value = 63)\n",
      "Ratio-based scaling wants:                                   value\n",
      "datetime                               \n",
      "2020-09-17 10:09:00  Count( value = 15)\n",
      "2020-09-17 10:10:00  Count( value = 15)\n",
      "2020-09-17 10:11:00  Count( value = 15)\n",
      "Ratio-based scaling wants:                                   value\n",
      "datetime                               \n",
      "2020-09-17 10:09:00  Count( value = 27)\n",
      "2020-09-17 10:10:00  Count( value = 27)\n",
      "2020-09-17 10:11:00  Count( value = 27)\n",
      "Ratio-based scaling wants:                                  value\n",
      "datetime                              \n",
      "2020-09-17 10:09:00  Count( value = 7)\n",
      "2020-09-17 10:10:00  Count( value = 7)\n",
      "2020-09-17 10:11:00  Count( value = 7)\n",
      "Ratio-based scaling wants:                                  value\n",
      "datetime                              \n",
      "2020-09-17 10:09:00  Count( value = 9)\n",
      "2020-09-17 10:10:00  Count( value = 9)\n",
      "2020-09-17 10:11:00  Count( value = 9)\n",
      "Ratio-based scaling wants:                                   value\n",
      "datetime                               \n",
      "2020-09-17 10:09:00  Count( value = 11)\n",
      "2020-09-17 10:10:00  Count( value = 11)\n",
      "2020-09-17 10:11:00  Count( value = 11)\n",
      "Ratio-based scaling wants:                                  value\n",
      "datetime                              \n",
      "2020-09-17 10:09:00  Count( value = 3)\n",
      "2020-09-17 10:10:00  Count( value = 3)\n",
      "2020-09-17 10:11:00  Count( value = 3)\n",
      "Ratio-based scaling wants:                                   value\n",
      "datetime                               \n",
      "2020-09-17 10:09:00  Count( value = 27)\n",
      "2020-09-17 10:10:00  Count( value = 27)\n",
      "2020-09-17 10:11:00  Count( value = 27)\n",
      "Ratio-based scaling wants:                                   value\n",
      "datetime                               \n",
      "2020-09-17 10:09:00  Count( value = 13)\n",
      "2020-09-17 10:10:00  Count( value = 13)\n",
      "2020-09-17 10:11:00  Count( value = 13)\n"
     ]
    },
    {
     "name": "stderr",
     "output_type": "stream",
     "text": [
      " 85%|████████████████████████████████████████████████████████████████▋           | 5102/6000 [1:03:36<15:28,  1.03s/it]"
     ]
    },
    {
     "name": "stdout",
     "output_type": "stream",
     "text": [
      "cur_timestamp: 2020-09-17 10:08:30\n"
     ]
    },
    {
     "name": "stderr",
     "output_type": "stream",
     "text": [
      " 90%|████████████████████████████████████████████████████████████████████▎       | 5398/6000 [1:03:50<00:30, 19.65it/s]"
     ]
    },
    {
     "name": "stdout",
     "output_type": "stream",
     "text": [
      "Ratio-based scaling wants:                                  value\n",
      "datetime                              \n",
      "2020-09-17 10:09:00  Count( value = 5)\n",
      "2020-09-17 10:10:00  Count( value = 5)\n",
      "2020-09-17 10:11:00  Count( value = 5)\n",
      "Ratio-based scaling wants:                                   value\n",
      "datetime                               \n",
      "2020-09-17 10:09:00  Count( value = 64)\n",
      "2020-09-17 10:10:00  Count( value = 64)\n",
      "2020-09-17 10:11:00  Count( value = 64)\n",
      "Ratio-based scaling wants:                                   value\n",
      "datetime                               \n",
      "2020-09-17 10:09:00  Count( value = 15)\n",
      "2020-09-17 10:10:00  Count( value = 15)\n",
      "2020-09-17 10:11:00  Count( value = 15)\n",
      "Ratio-based scaling wants:                                   value\n",
      "datetime                               \n",
      "2020-09-17 10:09:00  Count( value = 27)\n",
      "2020-09-17 10:10:00  Count( value = 27)\n",
      "2020-09-17 10:11:00  Count( value = 27)\n",
      "Ratio-based scaling wants:                                  value\n",
      "datetime                              \n",
      "2020-09-17 10:09:00  Count( value = 7)\n",
      "2020-09-17 10:10:00  Count( value = 7)\n",
      "2020-09-17 10:11:00  Count( value = 7)\n",
      "Ratio-based scaling wants:                                  value\n",
      "datetime                              \n",
      "2020-09-17 10:09:00  Count( value = 9)\n",
      "2020-09-17 10:10:00  Count( value = 9)\n",
      "2020-09-17 10:11:00  Count( value = 9)\n",
      "Ratio-based scaling wants:                                   value\n",
      "datetime                               \n",
      "2020-09-17 10:09:00  Count( value = 11)\n",
      "2020-09-17 10:10:00  Count( value = 11)\n",
      "2020-09-17 10:11:00  Count( value = 11)\n",
      "Ratio-based scaling wants:                                  value\n",
      "datetime                              \n",
      "2020-09-17 10:09:00  Count( value = 3)\n",
      "2020-09-17 10:10:00  Count( value = 3)\n",
      "2020-09-17 10:11:00  Count( value = 3)\n",
      "Ratio-based scaling wants:                                   value\n",
      "datetime                               \n",
      "2020-09-17 10:09:00  Count( value = 41)\n",
      "2020-09-17 10:10:00  Count( value = 41)\n",
      "2020-09-17 10:11:00  Count( value = 41)\n",
      "Ratio-based scaling wants:                                   value\n",
      "datetime                               \n",
      "2020-09-17 10:09:00  Count( value = 13)\n",
      "2020-09-17 10:10:00  Count( value = 13)\n",
      "2020-09-17 10:11:00  Count( value = 13)\n"
     ]
    },
    {
     "name": "stderr",
     "output_type": "stream",
     "text": [
      " 90%|████████████████████████████████████████████████████████████████████▍       | 5402/6000 [1:04:03<12:31,  1.26s/it]"
     ]
    },
    {
     "name": "stdout",
     "output_type": "stream",
     "text": [
      "cur_timestamp: 2020-09-17 10:09:00\n"
     ]
    },
    {
     "name": "stderr",
     "output_type": "stream",
     "text": [
      " 95%|████████████████████████████████████████████████████████████████████████▏   | 5697/6000 [1:04:18<00:15, 20.11it/s]"
     ]
    },
    {
     "name": "stdout",
     "output_type": "stream",
     "text": [
      "Ratio-based scaling wants:                                   value\n",
      "datetime                               \n",
      "2020-09-17 10:10:00  Count( value = 13)\n",
      "2020-09-17 10:11:00  Count( value = 13)\n",
      "2020-09-17 10:12:00  Count( value = 13)\n",
      "Ratio-based scaling wants:                                   value\n",
      "datetime                               \n",
      "2020-09-17 10:10:00  Count( value = 64)\n",
      "2020-09-17 10:11:00  Count( value = 64)\n",
      "2020-09-17 10:12:00  Count( value = 64)\n",
      "Ratio-based scaling wants:                                   value\n",
      "datetime                               \n",
      "2020-09-17 10:10:00  Count( value = 15)\n",
      "2020-09-17 10:11:00  Count( value = 15)\n",
      "2020-09-17 10:12:00  Count( value = 15)\n",
      "Ratio-based scaling wants:                                   value\n",
      "datetime                               \n",
      "2020-09-17 10:10:00  Count( value = 27)\n",
      "2020-09-17 10:11:00  Count( value = 27)\n",
      "2020-09-17 10:12:00  Count( value = 27)\n",
      "Ratio-based scaling wants:                                  value\n",
      "datetime                              \n",
      "2020-09-17 10:10:00  Count( value = 7)\n",
      "2020-09-17 10:11:00  Count( value = 7)\n",
      "2020-09-17 10:12:00  Count( value = 7)\n",
      "Ratio-based scaling wants:                                  value\n",
      "datetime                              \n",
      "2020-09-17 10:10:00  Count( value = 9)\n",
      "2020-09-17 10:11:00  Count( value = 9)\n",
      "2020-09-17 10:12:00  Count( value = 9)\n",
      "Ratio-based scaling wants:                                   value\n",
      "datetime                               \n",
      "2020-09-17 10:10:00  Count( value = 11)\n",
      "2020-09-17 10:11:00  Count( value = 11)\n",
      "2020-09-17 10:12:00  Count( value = 11)\n",
      "Ratio-based scaling wants:                                  value\n",
      "datetime                              \n",
      "2020-09-17 10:10:00  Count( value = 3)\n",
      "2020-09-17 10:11:00  Count( value = 3)\n",
      "2020-09-17 10:12:00  Count( value = 3)\n",
      "Ratio-based scaling wants:                                   value\n",
      "datetime                               \n",
      "2020-09-17 10:10:00  Count( value = 41)\n",
      "2020-09-17 10:11:00  Count( value = 41)\n",
      "2020-09-17 10:12:00  Count( value = 41)\n",
      "Ratio-based scaling wants:                                   value\n",
      "datetime                               \n",
      "2020-09-17 10:10:00  Count( value = 13)\n",
      "2020-09-17 10:11:00  Count( value = 13)\n",
      "2020-09-17 10:12:00  Count( value = 13)\n"
     ]
    },
    {
     "name": "stderr",
     "output_type": "stream",
     "text": [
      " 95%|████████████████████████████████████████████████████████████████████████▏   | 5702/6000 [1:04:31<05:20,  1.07s/it]"
     ]
    },
    {
     "name": "stdout",
     "output_type": "stream",
     "text": [
      "cur_timestamp: 2020-09-17 10:09:30\n"
     ]
    },
    {
     "name": "stderr",
     "output_type": "stream",
     "text": [
      "100%|███████████████████████████████████████████████████████████████████████████▉| 5999/6000 [1:04:46<00:00, 18.73it/s]"
     ]
    },
    {
     "name": "stdout",
     "output_type": "stream",
     "text": [
      "Ratio-based scaling wants:                                   value\n",
      "datetime                               \n",
      "2020-09-17 10:10:00  Count( value = 13)\n",
      "2020-09-17 10:11:00  Count( value = 13)\n",
      "2020-09-17 10:12:00  Count( value = 13)\n",
      "Ratio-based scaling wants:                                   value\n",
      "datetime                               \n",
      "2020-09-17 10:10:00  Count( value = 66)\n",
      "2020-09-17 10:11:00  Count( value = 66)\n",
      "2020-09-17 10:12:00  Count( value = 66)\n",
      "Ratio-based scaling wants:                                   value\n",
      "datetime                               \n",
      "2020-09-17 10:10:00  Count( value = 15)\n",
      "2020-09-17 10:11:00  Count( value = 15)\n",
      "2020-09-17 10:12:00  Count( value = 15)\n",
      "Ratio-based scaling wants:                                   value\n",
      "datetime                               \n",
      "2020-09-17 10:10:00  Count( value = 27)\n",
      "2020-09-17 10:11:00  Count( value = 27)\n",
      "2020-09-17 10:12:00  Count( value = 27)\n",
      "Ratio-based scaling wants:                                  value\n",
      "datetime                              \n",
      "2020-09-17 10:10:00  Count( value = 7)\n",
      "2020-09-17 10:11:00  Count( value = 7)\n",
      "2020-09-17 10:12:00  Count( value = 7)\n",
      "Ratio-based scaling wants:                                  value\n",
      "datetime                              \n",
      "2020-09-17 10:10:00  Count( value = 9)\n",
      "2020-09-17 10:11:00  Count( value = 9)\n",
      "2020-09-17 10:12:00  Count( value = 9)\n",
      "Ratio-based scaling wants:                                   value\n",
      "datetime                               \n",
      "2020-09-17 10:10:00  Count( value = 11)\n",
      "2020-09-17 10:11:00  Count( value = 11)\n",
      "2020-09-17 10:12:00  Count( value = 11)\n",
      "Ratio-based scaling wants:                                  value\n",
      "datetime                              \n",
      "2020-09-17 10:10:00  Count( value = 3)\n",
      "2020-09-17 10:11:00  Count( value = 3)\n",
      "2020-09-17 10:12:00  Count( value = 3)\n",
      "Ratio-based scaling wants:                                   value\n",
      "datetime                               \n",
      "2020-09-17 10:10:00  Count( value = 41)\n",
      "2020-09-17 10:11:00  Count( value = 41)\n",
      "2020-09-17 10:12:00  Count( value = 41)\n",
      "Ratio-based scaling wants:                                   value\n",
      "datetime                               \n",
      "2020-09-17 10:10:00  Count( value = 13)\n",
      "2020-09-17 10:11:00  Count( value = 13)\n",
      "2020-09-17 10:12:00  Count( value = 13)\n"
     ]
    },
    {
     "name": "stderr",
     "output_type": "stream",
     "text": [
      "6001it [1:04:59,  1.54it/s]                                                                                            "
     ]
    },
    {
     "name": "stdout",
     "output_type": "stream",
     "text": [
      "cur_timestamp: 2020-09-17 10:10:00\n"
     ]
    },
    {
     "name": "stderr",
     "output_type": "stream",
     "text": [
      "\n"
     ]
    }
   ],
   "source": [
    "from autoscalingsim import simulator\n",
    "import pandas as pd\n",
    "\n",
    "starting_time = pd.Timestamp(\"2020-09-17T10:00:00\")\n",
    "simulation_step = pd.Timedelta(100, unit = 'ms')\n",
    "time_to_simulate = pd.Timedelta(10, unit = 'm')\n",
    "config_dir = \"experiments/topologies/reactive/topo_a\"#\"experiments/short-experiment/reactive\"\n",
    "#\"experiments/short-experiment/reactive-mapping\"#\"experiments/testazuremanual2\"#\"experiments/test\"#\n",
    "results_dir = None\n",
    "\n",
    "simulator = simulator.Simulator(simulation_step, starting_time, time_to_simulate, 666)\n",
    "\n",
    "simulator.add_simulation(config_dir, results_dir)\n",
    "\n",
    "simulator.start_simulation()"
   ]
  },
  {
   "cell_type": "code",
   "execution_count": 2,
   "metadata": {},
   "outputs": [
    {
     "data": {
      "image/png": "[encoded data removed]",
      "text/plain": [
       "<Figure size 1008x1008 with 1 Axes>"
      ]
     },
     "metadata": {},
     "output_type": "display_data"
    },
    {
     "data": {
      "text/plain": [
       "<Figure size 432x288 with 0 Axes>"
      ]
     },
     "metadata": {},
     "output_type": "display_data"
    },
    {
     "data": {
      "text/plain": [
       "<Figure size 432x288 with 0 Axes>"
      ]
     },
     "metadata": {},
     "output_type": "display_data"
    }
   ],
   "source": [
    "from stethoscope.analytical_engine import AnalysisFramework\n",
    "\n",
    "af = AnalysisFramework(simulation_step, 'D:/AutoscalingSim/results/test/topologies/reactive/topo_a')\n",
    "af.build_figures_for_single_simulation(simulator.simulations['topo_a'], '')#af.build_figures_for_single_simulation(simulator.simulations['test'], '')#"
   ]
  },
  {
   "cell_type": "code",
   "execution_count": 1,
   "metadata": {},
   "outputs": [
    {
     "name": "stdout",
     "output_type": "stream",
     "text": [
      "[{\"service_name\": \"service-7edf312e-7e71-11eb-aac0-d8cb8af1e959\", \"deployment\": {\"eu\": {\"init_aspects\": {\"count\": 1}, \"platform\": {\"provider\": \"aws\", \"node_type\": \"t3.micro\", \"count\": 1}}}}, {\"service_name\": \"service-7edf312f-7e71-11eb-a3f8-d8cb8af1e959\", \"deployment\": {\"eu\": {\"init_aspects\": {\"count\": 2}, \"platform\": {\"provider\": \"aws\", \"node_type\": \"t3.large\", \"count\": 1}}}}, {\"service_name\": \"service-7edf3133-7e71-11eb-9bac-d8cb8af1e959\", \"deployment\": {\"eu\": {\"init_aspects\": {\"count\": 7}, \"platform\": {\"provider\": \"aws\", \"node_type\": \"t3.small\", \"count\": 1}}}}, {\"service_name\": \"service-7edf3135-7e71-11eb-baf5-d8cb8af1e959\", \"deployment\": {\"eu\": {\"init_aspects\": {\"count\": 9}, \"platform\": {\"provider\": \"aws\", \"node_type\": \"t3.medium\", \"count\": 1}}}}, {\"service_name\": \"service-7edf5818-7e71-11eb-b9e3-d8cb8af1e959\", \"deployment\": {\"eu\": {\"init_aspects\": {\"count\": 6}, \"platform\": {\"provider\": \"aws\", \"node_type\": \"t3.xlarge\", \"count\": 1}}}}, {\"service_name\": \"service-7edf3131-7e71-11eb-9cb2-d8cb8af1e959\", \"deployment\": {\"eu\": {\"init_aspects\": {\"count\": 6}, \"platform\": {\"provider\": \"aws\", \"node_type\": \"t3.medium\", \"count\": 1}}}}, {\"service_name\": \"service-7edf3134-7e71-11eb-9d1a-d8cb8af1e959\", \"deployment\": {\"eu\": {\"init_aspects\": {\"count\": 7}, \"platform\": {\"provider\": \"aws\", \"node_type\": \"t3.medium\", \"count\": 1}}}}, {\"service_name\": \"service-7edf3130-7e71-11eb-88ac-d8cb8af1e959\", \"deployment\": {\"eu\": {\"init_aspects\": {\"count\": 3}, \"platform\": {\"provider\": \"aws\", \"node_type\": \"t3.xlarge\", \"count\": 1}}}}, {\"service_name\": \"service-7edf5819-7e71-11eb-800c-d8cb8af1e959\", \"deployment\": {\"eu\": {\"init_aspects\": {\"count\": 8}, \"platform\": {\"provider\": \"aws\", \"node_type\": \"t3.xlarge\", \"count\": 2}}}}, {\"service_name\": \"service-7edf3132-7e71-11eb-a32d-d8cb8af1e959\", \"deployment\": {\"eu\": {\"init_aspects\": {\"count\": 9}, \"platform\": {\"provider\": \"aws\", \"node_type\": \"t3.large\", \"count\": 1}}}}]\n"
     ]
    }
   ],
   "source": [
    "import pandas as pd\n",
    "from experimentgenerator.deployment_generator import DeploymentGenerator\n",
    "\n",
    "DeploymentGenerator.generate(\"experiments/topologies/reactive/topo_a/application_model.json\",\n",
    "                             \"experiments/topologies/reactive/topo_a/platform_model.json\",\n",
    "                             reqs_fraction_expected_to_serve = 0.4,\n",
    "                             simulation_step = pd.Timedelta(100, unit = 'ms'),\n",
    "                             load_magnitude = 15, load_batch_size = 1)"
   ]
  },
  {
   "cell_type": "code",
   "execution_count": null,
   "metadata": {},
   "outputs": [],
   "source": [
    "import tensorflow as tf\n",
    "\n",
    "model = tf.keras.models.load_model('D:/AutoscalingSim/autoscaling-simulator/results_thesis/mapping-models/topologies-new/reps_1_1/topo_c/service-a0856b6a-7f3d-11eb-a26d-d8cb8af1e959/eu/group1/dav_model.mdl')\n",
    "model.predict([[1600, 30000, 0.10, 0.5]])"
   ]
  },
  {
   "cell_type": "code",
   "execution_count": null,
   "metadata": {},
   "outputs": [],
   "source": []
  },
  {
   "cell_type": "markdown",
   "metadata": {},
   "source": [
    "# VISUALIZING TRAINING PROGRESS FOR DEEP MODELS"
   ]
  },
  {
   "cell_type": "code",
   "execution_count": 3,
   "metadata": {},
   "outputs": [],
   "source": [
    "import pandas as pd\n",
    "import os\n",
    "from matplotlib import pyplot as plt\n",
    "import matplotlib.ticker as ticker\n",
    "\n",
    "def produce_training_plot(dir_with_log : str):\n",
    "\n",
    "    log = pd.read_csv(os.path.join(dir_with_log, 'training_log.csv'), sep = ';', header = None,names = ['simtime', 'service', 'metrics_group', 'region', 'divergence'])\n",
    "    services = log.service.unique()\n",
    "    \n",
    "    fig = plt.figure(figsize = (16, 10))\n",
    "    ax = fig.add_subplot(1, 1, 1)\n",
    "    for service in services:\n",
    "        service_training_log = log[log.service == service].reset_index()[['divergence']]\n",
    "\n",
    "        ax.plot(service_training_log.rolling(200).mean(), label = service)\n",
    "\n",
    "    ax.axhline(0.25, 0, 1.0, color = 'k', linestyle = 'solid', lw = 2)\n",
    "    ax.legend(loc = 'upper right')\n",
    "    ax.yaxis.set_major_locator(ticker.MultipleLocator(0.25))\n",
    "    ax.xaxis.set_major_locator(ticker.MultipleLocator(100))\n",
    "    ax.xaxis.set_minor_locator(ticker.MultipleLocator(50))\n",
    "\n",
    "    plt.xticks(fontsize = 15)\n",
    "    plt.yticks(fontsize = 15)\n",
    "    plt.xlabel('Training iterations count', fontsize = 18)\n",
    "    plt.ylabel('Scaled error', fontsize = 18)\n",
    "    plt.savefig(os.path.join(dir_with_log, 'learning.png'), dpi = 600, bbox_inches = 'tight')"
   ]
  },
  {
   "cell_type": "code",
   "execution_count": 7,
   "metadata": {},
   "outputs": [
    {
     "data": {
      "image/png": "[encoded data removed]",
      "text/plain": [
       "<Figure size 1152x720 with 1 Axes>"
      ]
     },
     "metadata": {
      "needs_background": "light"
     },
     "output_type": "display_data"
    }
   ],
   "source": [
    "dir_with_log = 'D:/AutoscalingSim/autoscaling-simulator/results_thesis/mapping-models/topologies-SMALL/reps_1_10/topo_d'\n",
    "produce_training_plot(dir_with_log)"
   ]
  },
  {
   "cell_type": "markdown",
   "metadata": {},
   "source": [
    "# LOAD PATTERNS EXPERIMENTATION"
   ]
  },
  {
   "cell_type": "code",
   "execution_count": 41,
   "metadata": {},
   "outputs": [],
   "source": [
    "services_by_app = {\n",
    "    'topo_a': [\n",
    "        'service-7edf312e-7e71-11eb-aac0-d8cb8af1e959',\n",
    "        'service-7edf312f-7e71-11eb-a3f8-d8cb8af1e959',\n",
    "        'service-7edf3133-7e71-11eb-9bac-d8cb8af1e959',\n",
    "        'service-7edf3135-7e71-11eb-baf5-d8cb8af1e959',\n",
    "        'service-7edf5818-7e71-11eb-b9e3-d8cb8af1e959',\n",
    "        'service-7edf3131-7e71-11eb-9cb2-d8cb8af1e959',\n",
    "        'service-7edf3134-7e71-11eb-9d1a-d8cb8af1e959',\n",
    "        'service-7edf3130-7e71-11eb-88ac-d8cb8af1e959',\n",
    "        'service-7edf5819-7e71-11eb-800c-d8cb8af1e959',\n",
    "        'service-7edf3132-7e71-11eb-a32d-d8cb8af1e959'\n",
    "    ],\n",
    "    'topo_b': [\n",
    "        'service-1d1bdea9-7f3b-11eb-abf0-d8cb8af1e959',\n",
    "        'service-1d1bdeaa-7f3b-11eb-8cbf-d8cb8af1e959',\n",
    "        'service-1d1bdead-7f3b-11eb-8c6e-d8cb8af1e959',\n",
    "        'service-1d1bdeae-7f3b-11eb-bf1c-d8cb8af1e959',\n",
    "        'service-1d1bdeaf-7f3b-11eb-bbf6-d8cb8af1e959',\n",
    "        'service-1d1bdeb0-7f3b-11eb-9a4a-d8cb8af1e959',\n",
    "        'service-1d1c0586-7f3b-11eb-bb38-d8cb8af1e959',\n",
    "        'service-1d1bdeab-7f3b-11eb-8bce-d8cb8af1e959',\n",
    "        'service-1d1bdeb1-7f3b-11eb-a6d0-d8cb8af1e959',\n",
    "        'service-1d1bdeac-7f3b-11eb-95d1-d8cb8af1e959'\n",
    "    ],\n",
    "    'topo_c': [\n",
    "        'service-a0856b68-7f3d-11eb-a7e8-d8cb8af1e959',\n",
    "        'service-a0856b69-7f3d-11eb-bcd9-d8cb8af1e959',\n",
    "        'service-a0856b6d-7f3d-11eb-af79-d8cb8af1e959',\n",
    "        'service-a0856b6c-7f3d-11eb-8578-d8cb8af1e959',\n",
    "        'service-a0856b6b-7f3d-11eb-b68a-d8cb8af1e959',\n",
    "        'service-a0856b6e-7f3d-11eb-9268-d8cb8af1e959',\n",
    "        'service-a0856b6a-7f3d-11eb-a26d-d8cb8af1e959',\n",
    "        'service-a0856b6f-7f3d-11eb-b24f-d8cb8af1e959',\n",
    "        'service-a0856b70-7f3d-11eb-a12c-d8cb8af1e959',\n",
    "        'service-a0859374-7f3d-11eb-a379-d8cb8af1e959'\n",
    "    ],\n",
    "    'topo_d': [\n",
    "        'service-dd56521f-7f5b-11eb-a1dc-d8cb8af1e959',\n",
    "        'service-dd565220-7f5b-11eb-b6c4-d8cb8af1e959',\n",
    "        'service-dd565222-7f5b-11eb-8845-d8cb8af1e959',\n",
    "        'service-dd565223-7f5b-11eb-be29-d8cb8af1e959',\n",
    "        'service-dd565224-7f5b-11eb-87c1-d8cb8af1e959',\n",
    "        'service-dd567913-7f5b-11eb-a90f-d8cb8af1e959',\n",
    "        'service-dd565221-7f5b-11eb-9319-d8cb8af1e959',\n",
    "        'service-dd567915-7f5b-11eb-b17a-d8cb8af1e959',\n",
    "        'service-dd567912-7f5b-11eb-96e9-d8cb8af1e959',\n",
    "        'service-dd567914-7f5b-11eb-a440-d8cb8af1e959'\n",
    "    ]\n",
    "}"
   ]
  },
  {
   "cell_type": "code",
   "execution_count": null,
   "metadata": {},
   "outputs": [],
   "source": [
    "# Simple load pattern prep\n",
    "import pandas as pd\n",
    "import numpy as np\n",
    "\n",
    "idx = pd.date_range(start = '2020-09-17T08:00:00', end = '2020-09-17T08:59:59', freq = '1s')\n",
    "sub_idx_onwards = idx[idx >= pd.Timestamp('2020-09-17T08:01:00')]\n",
    "sub_idx_before = idx[idx < pd.Timestamp('2020-09-17T08:01:00')]\n",
    "load = [ 3 + np.random.choice(3) if ts.minute % 2 == 0 else 1 + np.random.choice(2) for ts in sub_idx_onwards ]\n",
    "load = [ 0 ] * len(sub_idx_before) + load\n",
    "load_ts = pd.DataFrame(data = {'value': load}, index = idx)\n",
    "\n",
    "load_ts.resample(pd.Timedelta(1, unit = 'm')).sum().plot()"
   ]
  },
  {
   "cell_type": "code",
   "execution_count": 38,
   "metadata": {},
   "outputs": [
    {
     "data": {
      "text/plain": [
       "<AxesSubplot:>"
      ]
     },
     "execution_count": 38,
     "metadata": {},
     "output_type": "execute_result"
    },
    {
     "data": {
      "image/png": "[encoded data removed]",
      "text/plain": [
       "<Figure size 432x288 with 1 Axes>"
      ]
     },
     "metadata": {
      "needs_background": "light"
     },
     "output_type": "display_data"
    }
   ],
   "source": [
    "# Check different ARIMA-based load patterns\n",
    "import statsmodels.api as sm\n",
    "import numpy as np\n",
    "import pandas as pd\n",
    "from matplotlib import pyplot as plt\n",
    "\n",
    "idx = pd.date_range(start = '2020-09-17T08:00:00', end = '2020-09-17T08:59:59', freq = '1s')\n",
    "empty_dataset = np.zeros(len(idx))\n",
    "mod = sm.tsa.SARIMAX(empty_dataset, order=(2, 0, 1), seasonal_order = (0, 0, 1, 120), trend='c', initialization='diffuse')\n",
    "load = 40000 * (mod.simulate([0, 0.8, 0.01, 0.5, 0.01, 0.01], len(idx)) + 1.0)\n",
    "load_ts = pd.DataFrame(data = {'value': load}, index = idx)\n",
    "\n",
    "load_ts.resample(pd.Timedelta(1, unit = 'm')).sum().plot()"
   ]
  },
  {
   "cell_type": "code",
   "execution_count": 39,
   "metadata": {},
   "outputs": [],
   "source": [
    "# Offline forecasting models fitting\n",
    "import pickle\n",
    "import os\n",
    "import statsmodels.api as sm\n",
    "\n",
    "def fit_forecasting_model(load_ts : pd.DataFrame, base_path : str, filename_pattern : str, metric : str, model_name : str, app_name : str, regions : list, services : str):\n",
    "\n",
    "    load_ts_r = load_ts.resample(pd.Timedelta(1, unit = 'm')).sum()\n",
    "    mdl = None\n",
    "    if model_name == 'arima':\n",
    "        mdl = sm.tsa.SARIMAX(load_ts_r.value, order = (2, 0, 1), seasonal_order = (0, 0, 1, 2), trend='c', initialization='diffuse').fit()\n",
    "    elif model_name == 'holtwinters':\n",
    "        init_conf = { 'trend' : None,  'damped_trend' : None,  'seasonal' : \"add\", \"seasonal_periods\": 2 }\n",
    "        mdl = sm.tsa.ExponentialSmoothing(load_ts_r.value, **init_conf).fit(smoothing_level = 0.7, smoothing_trend = None, smoothing_seasonal = 1.0, damping_trend = None, optimized = False)\n",
    "    \n",
    "    print(f'{model_name} prediction:\\n {mdl.predict(start = load_ts_r.index.max() + pd.Timedelta(1, unit = \"m\"), end = load_ts_r.index.max() + pd.Timedelta(20, unit = \"m\"))}')\n",
    "    model_path = base_path.format(app_name, model_name)\n",
    "    if not os.path.exists(model_path):\n",
    "        os.makedirs(model_path)\n",
    "    model_path = os.path.join(model_path, filename_pattern)\n",
    "    \n",
    "    for service_name in services:\n",
    "        for region in regions:\n",
    "            model_fpath = model_path.format(service_name, region, metric)\n",
    "            pickle.dump(mdl, open( model_fpath, 'wb') )"
   ]
  },
  {
   "cell_type": "code",
   "execution_count": 44,
   "metadata": {},
   "outputs": [
    {
     "name": "stdout",
     "output_type": "stream",
     "text": [
      "arima prediction:\n",
      " 2020-09-17 09:00:00    2.408641e+06\n",
      "2020-09-17 09:01:00    2.258835e+06\n",
      "2020-09-17 09:02:00    2.345233e+06\n",
      "2020-09-17 09:03:00    2.388747e+06\n",
      "2020-09-17 09:04:00    2.389809e+06\n",
      "2020-09-17 09:05:00    2.399846e+06\n",
      "2020-09-17 09:06:00    2.395529e+06\n",
      "2020-09-17 09:07:00    2.399923e+06\n",
      "2020-09-17 09:08:00    2.396877e+06\n",
      "2020-09-17 09:09:00    2.399327e+06\n",
      "2020-09-17 09:10:00    2.397475e+06\n",
      "2020-09-17 09:11:00    2.398911e+06\n",
      "2020-09-17 09:12:00    2.397809e+06\n",
      "2020-09-17 09:13:00    2.398658e+06\n",
      "2020-09-17 09:14:00    2.398004e+06\n",
      "2020-09-17 09:15:00    2.398508e+06\n",
      "2020-09-17 09:16:00    2.398120e+06\n",
      "2020-09-17 09:17:00    2.398419e+06\n",
      "2020-09-17 09:18:00    2.398189e+06\n",
      "2020-09-17 09:19:00    2.398366e+06\n",
      "Freq: T, Name: predicted_mean, dtype: float64\n",
      "arima prediction:\n",
      " 2020-09-17 09:00:00    2.408641e+06\n",
      "2020-09-17 09:01:00    2.258835e+06\n",
      "2020-09-17 09:02:00    2.345233e+06\n",
      "2020-09-17 09:03:00    2.388747e+06\n",
      "2020-09-17 09:04:00    2.389809e+06\n",
      "2020-09-17 09:05:00    2.399846e+06\n",
      "2020-09-17 09:06:00    2.395529e+06\n",
      "2020-09-17 09:07:00    2.399923e+06\n",
      "2020-09-17 09:08:00    2.396877e+06\n",
      "2020-09-17 09:09:00    2.399327e+06\n",
      "2020-09-17 09:10:00    2.397475e+06\n",
      "2020-09-17 09:11:00    2.398911e+06\n",
      "2020-09-17 09:12:00    2.397809e+06\n",
      "2020-09-17 09:13:00    2.398658e+06\n",
      "2020-09-17 09:14:00    2.398004e+06\n",
      "2020-09-17 09:15:00    2.398508e+06\n",
      "2020-09-17 09:16:00    2.398120e+06\n",
      "2020-09-17 09:17:00    2.398419e+06\n",
      "2020-09-17 09:18:00    2.398189e+06\n",
      "2020-09-17 09:19:00    2.398366e+06\n",
      "Freq: T, Name: predicted_mean, dtype: float64\n",
      "arima prediction:\n",
      " 2020-09-17 09:00:00    2.408641e+06\n",
      "2020-09-17 09:01:00    2.258835e+06\n",
      "2020-09-17 09:02:00    2.345233e+06\n",
      "2020-09-17 09:03:00    2.388747e+06\n",
      "2020-09-17 09:04:00    2.389809e+06\n",
      "2020-09-17 09:05:00    2.399846e+06\n",
      "2020-09-17 09:06:00    2.395529e+06\n",
      "2020-09-17 09:07:00    2.399923e+06\n",
      "2020-09-17 09:08:00    2.396877e+06\n",
      "2020-09-17 09:09:00    2.399327e+06\n",
      "2020-09-17 09:10:00    2.397475e+06\n",
      "2020-09-17 09:11:00    2.398911e+06\n",
      "2020-09-17 09:12:00    2.397809e+06\n",
      "2020-09-17 09:13:00    2.398658e+06\n",
      "2020-09-17 09:14:00    2.398004e+06\n",
      "2020-09-17 09:15:00    2.398508e+06\n",
      "2020-09-17 09:16:00    2.398120e+06\n",
      "2020-09-17 09:17:00    2.398419e+06\n",
      "2020-09-17 09:18:00    2.398189e+06\n",
      "2020-09-17 09:19:00    2.398366e+06\n",
      "Freq: T, Name: predicted_mean, dtype: float64\n",
      "arima prediction:\n",
      " 2020-09-17 09:00:00    2.408641e+06\n",
      "2020-09-17 09:01:00    2.258835e+06\n",
      "2020-09-17 09:02:00    2.345233e+06\n",
      "2020-09-17 09:03:00    2.388747e+06\n",
      "2020-09-17 09:04:00    2.389809e+06\n",
      "2020-09-17 09:05:00    2.399846e+06\n",
      "2020-09-17 09:06:00    2.395529e+06\n",
      "2020-09-17 09:07:00    2.399923e+06\n",
      "2020-09-17 09:08:00    2.396877e+06\n",
      "2020-09-17 09:09:00    2.399327e+06\n",
      "2020-09-17 09:10:00    2.397475e+06\n",
      "2020-09-17 09:11:00    2.398911e+06\n",
      "2020-09-17 09:12:00    2.397809e+06\n",
      "2020-09-17 09:13:00    2.398658e+06\n",
      "2020-09-17 09:14:00    2.398004e+06\n",
      "2020-09-17 09:15:00    2.398508e+06\n",
      "2020-09-17 09:16:00    2.398120e+06\n",
      "2020-09-17 09:17:00    2.398419e+06\n",
      "2020-09-17 09:18:00    2.398189e+06\n",
      "2020-09-17 09:19:00    2.398366e+06\n",
      "Freq: T, Name: predicted_mean, dtype: float64\n"
     ]
    }
   ],
   "source": [
    "base_path = 'D:\\\\AutoscalingSim\\\\autoscaling-simulator\\\\trained_models\\\\forecasting\\\\arima-based\\\\{}\\\\{}'\n",
    "filename_pattern = '{}-{}-{}.mdl'\n",
    "\n",
    "regions = ['eu']\n",
    "metric = 'load'\n",
    "model_name = 'arima'\n",
    "\n",
    "fit_forecasting_model(load_ts, base_path, filename_pattern, metric, model_name, 'topo_a', regions, services_by_app['topo_a'])\n",
    "fit_forecasting_model(load_ts, base_path, filename_pattern, metric, model_name, 'topo_b', regions, services_by_app['topo_b'])\n",
    "fit_forecasting_model(load_ts, base_path, filename_pattern, metric, model_name, 'topo_c', regions, services_by_app['topo_c'])\n",
    "fit_forecasting_model(load_ts, base_path, filename_pattern, metric, model_name, 'topo_d', regions, services_by_app['topo_d'])"
   ]
  },
  {
   "cell_type": "code",
   "execution_count": 4,
   "metadata": {},
   "outputs": [
    {
     "name": "stdout",
     "output_type": "stream",
     "text": [
      "[{\"requests_count_level\": 0, \"percentage_of_interval\": 0.2},\n",
      "{\"requests_count_level\": 2000, \"percentage_of_interval\": 0.2},\n",
      "{\"requests_count_level\": 1000, \"percentage_of_interval\": 0.2},\n",
      "{\"requests_count_level\": 2000, \"percentage_of_interval\": 0.2},\n",
      "{\"requests_count_level\": 1000, \"percentage_of_interval\": 0.2}]\n"
     ]
    }
   ],
   "source": [
    "# Other patterns generation with Camel\n",
    "from camel import camel\n",
    "\n",
    "print(camel.Camel.generate_load_pattern_based_on_recipe(\"camel_conf/oscillating-5min.json\"))"
   ]
  },
  {
   "cell_type": "markdown",
   "metadata": {},
   "source": [
    "# EXPERIMENTS GENERATION BASED ON TRACES (AZURE)"
   ]
  },
  {
   "cell_type": "code",
   "execution_count": 20,
   "metadata": {},
   "outputs": [
    {
     "name": "stdout",
     "output_type": "stream",
     "text": [
      "Processing vmtable.csv: iteration 1\n",
      "Processing vmtable.csv: iteration 2\n",
      "Processing vmtable.csv: iteration 3\n",
      "Processing vmtable.csv: iteration 4\n",
      "Processing vmtable.csv: iteration 5\n",
      "Processing vmtable.csv: iteration 6\n",
      "Processing vmtable.csv: iteration 7\n",
      "Processing vmtable.csv: iteration 8\n",
      "Processing vmtable.csv: iteration 9\n",
      "Processing vmtable.csv: iteration 10\n",
      "Processing vmtable.csv: iteration 11\n",
      "Processing vmtable.csv: iteration 12\n",
      "Processing vmtable.csv: iteration 13\n",
      "Processing vmtable.csv: iteration 14\n",
      "Processing vmtable.csv: iteration 15\n",
      "Processing vmtable.csv: iteration 16\n",
      "Processing vmtable.csv: iteration 17\n",
      "Processing vmtable.csv: iteration 18\n",
      "Processing vmtable.csv: iteration 19\n",
      "Processing vmtable.csv: iteration 20\n",
      "Processing vmtable.csv: iteration 21\n",
      "Processing vmtable.csv: iteration 22\n",
      "Processing vmtable.csv: iteration 23\n",
      "Processing vmtable.csv: iteration 24\n",
      "Processing vmtable.csv: iteration 25\n",
      "Processing vmtable.csv: iteration 26\n",
      "Processing vmtable.csv: iteration 27\n",
      "Processing vm_cpu_readings-file-1-of-195.csv: iteration 1\n",
      "Processing vm_cpu_readings-file-1-of-195.csv: iteration 2\n",
      "Processing vm_cpu_readings-file-1-of-195.csv: iteration 3\n",
      "Processing vm_cpu_readings-file-1-of-195.csv: iteration 4\n",
      "Processing vm_cpu_readings-file-1-of-195.csv: iteration 5\n",
      "Processing vm_cpu_readings-file-1-of-195.csv: iteration 6\n",
      "Processing vm_cpu_readings-file-1-of-195.csv: iteration 7\n",
      "Processing vm_cpu_readings-file-1-of-195.csv: iteration 8\n",
      "Processing vm_cpu_readings-file-1-of-195.csv: iteration 9\n",
      "Processing vm_cpu_readings-file-1-of-195.csv: iteration 10\n",
      "Processing vm_cpu_readings-file-1-of-195.csv: iteration 11\n",
      "Processing vm_cpu_readings-file-1-of-195.csv: iteration 12\n",
      "Processing vm_cpu_readings-file-1-of-195.csv: iteration 13\n",
      "Processing vm_cpu_readings-file-1-of-195.csv: iteration 14\n",
      "Processing vm_cpu_readings-file-1-of-195.csv: iteration 15\n",
      "Processing vm_cpu_readings-file-1-of-195.csv: iteration 16\n",
      "Processing vm_cpu_readings-file-1-of-195.csv: iteration 17\n",
      "Processing vm_cpu_readings-file-1-of-195.csv: iteration 18\n",
      "Processing vm_cpu_readings-file-1-of-195.csv: iteration 19\n",
      "Processing vm_cpu_readings-file-1-of-195.csv: iteration 20\n",
      "Processing vm_cpu_readings-file-1-of-195.csv: iteration 21\n",
      "Processing vm_cpu_readings-file-1-of-195.csv: iteration 22\n",
      "Processing vm_cpu_readings-file-1-of-195.csv: iteration 23\n",
      "Processing vm_cpu_readings-file-1-of-195.csv: iteration 24\n",
      "Processing vm_cpu_readings-file-1-of-195.csv: iteration 25\n",
      "Processing vm_cpu_readings-file-1-of-195.csv: iteration 26\n",
      "Processing vm_cpu_readings-file-1-of-195.csv: iteration 27\n",
      "Processing vm_cpu_readings-file-1-of-195.csv: iteration 28\n",
      "Processing vm_cpu_readings-file-1-of-195.csv: iteration 29\n",
      "Processing vm_cpu_readings-file-1-of-195.csv: iteration 30\n",
      "Processing vm_cpu_readings-file-1-of-195.csv: iteration 31\n",
      "Processing vm_cpu_readings-file-1-of-195.csv: iteration 32\n",
      "Processing vm_cpu_readings-file-1-of-195.csv: iteration 33\n",
      "Processing vm_cpu_readings-file-1-of-195.csv: iteration 34\n",
      "Processing vm_cpu_readings-file-1-of-195.csv: iteration 35\n",
      "Processing vm_cpu_readings-file-1-of-195.csv: iteration 36\n",
      "Processing vm_cpu_readings-file-1-of-195.csv: iteration 37\n",
      "Processing vm_cpu_readings-file-1-of-195.csv: iteration 38\n",
      "Processing vm_cpu_readings-file-1-of-195.csv: iteration 39\n",
      "Processing vm_cpu_readings-file-1-of-195.csv: iteration 40\n",
      "Processing vm_cpu_readings-file-1-of-195.csv: iteration 41\n",
      "Processing vm_cpu_readings-file-1-of-195.csv: iteration 42\n",
      "Processing vm_cpu_readings-file-1-of-195.csv: iteration 43\n",
      "Processing vm_cpu_readings-file-1-of-195.csv: iteration 44\n",
      "Processing vm_cpu_readings-file-1-of-195.csv: iteration 45\n",
      "Processing vm_cpu_readings-file-1-of-195.csv: iteration 46\n",
      "Processing vm_cpu_readings-file-1-of-195.csv: iteration 47\n",
      "Processing vm_cpu_readings-file-1-of-195.csv: iteration 48\n",
      "Processing vm_cpu_readings-file-1-of-195.csv: iteration 49\n",
      "Processing vm_cpu_readings-file-1-of-195.csv: iteration 50\n",
      "Processing vm_cpu_readings-file-1-of-195.csv: iteration 51\n",
      "Processing vm_cpu_readings-file-1-of-195.csv: iteration 52\n",
      "Processing vm_cpu_readings-file-1-of-195.csv: iteration 53\n",
      "Processing vm_cpu_readings-file-1-of-195.csv: iteration 54\n",
      "Processing vm_cpu_readings-file-1-of-195.csv: iteration 55\n",
      "Processing vm_cpu_readings-file-1-of-195.csv: iteration 56\n",
      "Processing vm_cpu_readings-file-1-of-195.csv: iteration 57\n",
      "Processing vm_cpu_readings-file-1-of-195.csv: iteration 58\n",
      "Processing vm_cpu_readings-file-1-of-195.csv: iteration 59\n",
      "Processing vm_cpu_readings-file-1-of-195.csv: iteration 60\n",
      "Processing vm_cpu_readings-file-1-of-195.csv: iteration 61\n",
      "Processing vm_cpu_readings-file-1-of-195.csv: iteration 62\n",
      "Processing vm_cpu_readings-file-1-of-195.csv: iteration 63\n",
      "Processing vm_cpu_readings-file-1-of-195.csv: iteration 64\n",
      "Processing vm_cpu_readings-file-1-of-195.csv: iteration 65\n",
      "Processing vm_cpu_readings-file-1-of-195.csv: iteration 66\n",
      "Processing vm_cpu_readings-file-1-of-195.csv: iteration 67\n",
      "Processing vm_cpu_readings-file-1-of-195.csv: iteration 68\n",
      "Processing vm_cpu_readings-file-1-of-195.csv: iteration 69\n",
      "Processing vm_cpu_readings-file-1-of-195.csv: iteration 70\n",
      "Processing vm_cpu_readings-file-1-of-195.csv: iteration 71\n",
      "Processing vm_cpu_readings-file-1-of-195.csv: iteration 72\n",
      "Processing vm_cpu_readings-file-1-of-195.csv: iteration 73\n",
      "Processing vm_cpu_readings-file-1-of-195.csv: iteration 74\n",
      "Processing vm_cpu_readings-file-1-of-195.csv: iteration 75\n",
      "Processing vm_cpu_readings-file-1-of-195.csv: iteration 76\n",
      "Processing vm_cpu_readings-file-1-of-195.csv: iteration 77\n",
      "Processing vm_cpu_readings-file-1-of-195.csv: iteration 78\n",
      "Processing vm_cpu_readings-file-1-of-195.csv: iteration 79\n",
      "Processing vm_cpu_readings-file-1-of-195.csv: iteration 80\n",
      "Processing vm_cpu_readings-file-1-of-195.csv: iteration 81\n",
      "Processing vm_cpu_readings-file-1-of-195.csv: iteration 82\n",
      "Processing vm_cpu_readings-file-1-of-195.csv: iteration 83\n",
      "Processing vm_cpu_readings-file-1-of-195.csv: iteration 84\n",
      "Processing vm_cpu_readings-file-1-of-195.csv: iteration 85\n",
      "Processing vm_cpu_readings-file-1-of-195.csv: iteration 86\n",
      "Processing vm_cpu_readings-file-1-of-195.csv: iteration 87\n",
      "Processing vm_cpu_readings-file-1-of-195.csv: iteration 88\n",
      "Processing vm_cpu_readings-file-1-of-195.csv: iteration 89\n",
      "Processing vm_cpu_readings-file-1-of-195.csv: iteration 90\n",
      "Processing vm_cpu_readings-file-1-of-195.csv: iteration 91\n",
      "Processing vm_cpu_readings-file-1-of-195.csv: iteration 92\n",
      "Processing vm_cpu_readings-file-1-of-195.csv: iteration 93\n",
      "Processing vm_cpu_readings-file-1-of-195.csv: iteration 94\n",
      "Processing vm_cpu_readings-file-1-of-195.csv: iteration 95\n",
      "Processing vm_cpu_readings-file-1-of-195.csv: iteration 96\n",
      "Processing vm_cpu_readings-file-1-of-195.csv: iteration 97\n",
      "Processing vm_cpu_readings-file-1-of-195.csv: iteration 98\n",
      "Processing vm_cpu_readings-file-1-of-195.csv: iteration 99\n",
      "Processing vm_cpu_readings-file-1-of-195.csv: iteration 100\n"
     ]
    }
   ],
   "source": [
    "from experimentgenerator.experiment_generator import ExperimentGenerator\n",
    "a = ExperimentGenerator('experiments/topologies/topo_d')\n",
    "a.generate_experiment('experiment_recipes/topologies/topo_d.json')"
   ]
  },
  {
   "cell_type": "markdown",
   "metadata": {},
   "source": [
    "# EVALUATING ALTERNATIVE CONFIGS, E.G. REACTIVE VS PREDICTIVE"
   ]
  },
  {
   "cell_type": "code",
   "execution_count": 1,
   "metadata": {},
   "outputs": [
    {
     "name": "stderr",
     "output_type": "stream",
     "text": [
      "12001it [00:39, 303.26it/s]                                                                                            \n",
      "12001it [00:39, 303.96it/s]                                                                                            \n",
      "12001it [00:39, 301.70it/s]                                                                                            \n",
      "12001it [00:39, 304.54it/s]                                                                                            \n"
     ]
    }
   ],
   "source": [
    "from cruncher.cruncher import Cruncher\n",
    "\n",
    "c = Cruncher('cruncher_conf/experiment_1/')\n",
    "c.run_experiment()"
   ]
  },
  {
   "cell_type": "code",
   "execution_count": 2,
   "metadata": {},
   "outputs": [],
   "source": [
    "c.visualize('D:/@TUM/PhD/FINAL/experimentresults/data')"
   ]
  },
  {
   "cell_type": "markdown",
   "metadata": {},
   "source": [
    "# PERFORMANCE EVALUATION OF THE SIMULATOR"
   ]
  },
  {
   "cell_type": "code",
   "execution_count": null,
   "metadata": {},
   "outputs": [],
   "source": [
    "from autoscalingsim import simulator\n",
    "import pandas as pd\n",
    "import collections\n",
    "import time\n",
    "import pickle\n",
    "\n",
    "simulation_steps_ms = [10,20,30,40,50,60,70,80,90,100]\n",
    "starting_time = pd.Timestamp(\"2020-09-17T10:00:00\")\n",
    "time_to_simulate = pd.Timedelta(10, unit = 'm')\n",
    "repeats = 10\n",
    "\n",
    "results = collections.defaultdict(list)\n",
    "for sim_step_raw in simulation_steps_ms:\n",
    "    print(f'current simulation step is {sim_step_raw} ms')\n",
    "    for _ in range(repeats):\n",
    "        start = time.time()\n",
    "        simulation_step = pd.Timedelta(sim_step_raw, unit = 'ms')\n",
    "        config_dir = \"experiments/testazuremanual2\"\n",
    "        results_dir = None\n",
    "\n",
    "        sim = simulator.Simulator(simulation_step, starting_time, time_to_simulate)\n",
    "\n",
    "        sim.add_simulation(config_dir, results_dir)\n",
    "\n",
    "        sim.start_simulation()\n",
    "        \n",
    "        results[sim_step_raw].append(time.time() - start)\n",
    "        \n",
    "pickle.dump( results, open( \"performance_test_results_raw.pickle\", \"wb\" ) )"
   ]
  },
  {
   "cell_type": "code",
   "execution_count": null,
   "metadata": {},
   "outputs": [],
   "source": [
    "import numpy as np\n",
    "from matplotlib import pyplot as plt\n",
    "\n",
    "res = pickle.load( open( \"performance_test_results_raw.pickle\", \"rb\" ) )\n",
    "\n",
    "results_means = [np.mean(times_per_simstep) / (10 * 60) for times_per_simstep in res.values()]\n",
    "results_stds = [np.std(times_per_simstep) / (10 * 60) for times_per_simstep in res.values()]\n",
    "steps = np.arange(10, 101, 10)\n",
    "\n",
    "p1 = plt.bar(steps, results_means, 7, yerr=results_stds)\n",
    "\n",
    "plt.ylabel('Wall clock time per 1 simulated second, s')\n",
    "plt.xlabel('Simulation step, ms')\n",
    "plt.xticks(steps)\n",
    "plt.yticks(np.arange(0.0, 2.0, 0.1))\n",
    "plt.hlines(0.5, xmin = 5, xmax = 105, colors = 'r', linestyles = 'dashed')\n",
    "#plt.show()\n",
    "\n",
    "plt.savefig(\"./performance_results.png\", dpi = 600, bbox_inches='tight')\n",
    "\n",
    "# Diminishing returns:\n",
    "(10 * 60_000) / steps"
   ]
  },
  {
   "cell_type": "code",
   "execution_count": null,
   "metadata": {},
   "outputs": [],
   "source": [
    "# To profile:\n",
    "# python -m cProfile -o D:\\AutoscalingSim\\results\\profiling_res.txt autoscalingsim-cl.py --step 10 --start \"2020-09-17T10:00:00\" --confdir \"experiments/test\" --simtime 1m\n",
    "import pstats\n",
    "from pstats import SortKey\n",
    "p = pstats.Stats('D://AutoscalingSim//results//profiling_res.txt')\n",
    "p.strip_dirs().sort_stats(SortKey.CALLS).print_stats()"
   ]
  }
 ],
 "metadata": {
  "kernelspec": {
   "display_name": "Python 3",
   "language": "python",
   "name": "python3"
  },
  "language_info": {
   "codemirror_mode": {
    "name": "ipython",
    "version": 3
   },
   "file_extension": ".py",
   "mimetype": "text/x-python",
   "name": "python",
   "nbconvert_exporter": "python",
   "pygments_lexer": "ipython3",
   "version": "3.7.3"
  }
 },
 "nbformat": 4,
 "nbformat_minor": 2
}
