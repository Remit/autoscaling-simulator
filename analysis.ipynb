{
 "cells": [
  {
   "cell_type": "code",
   "execution_count": 1,
   "metadata": {
    "scrolled": true
   },
   "outputs": [
    {
     "name": "stderr",
     "output_type": "stream",
     "text": [
      " 18%|██████████████▏                                                               | 1196/6600 [00:45<01:11, 75.64it/s]"
     ]
    },
    {
     "name": "stdout",
     "output_type": "stream",
     "text": [
      "f(cur_aspect_val = Count( value = 6), current_metric_val = {'load': Rate(120.0), 'memory': 0.142894549295926}) = [193.71112874] | ORIGINAL: 1827.8117687976196\n",
      "Using fallback calculator! Quality metric: 2670284.9018425774\n",
      "f(cur_aspect_val = Count( value = 3), current_metric_val = {'load': Rate(120.0), 'memory': 0.34856041640778607}) = [204.73176832] | ORIGINAL: 1827.8117687976196\n",
      "Using fallback calculator! Quality metric: 2634388.6879618643\n",
      "f(cur_aspect_val = Count( value = 9), current_metric_val = {'load': Rate(120.0), 'memory': 0.34591534731042584}) = [206.05715241] | ORIGINAL: 1827.8117687976196\n",
      "Using fallback calculator! Quality metric: 2630088.0357759017\n",
      "f(cur_aspect_val = Count( value = 5), current_metric_val = {'load': Rate(120.0), 'memory': 0.43649256198045405}) = [205.02712321] | ORIGINAL: 1827.8117687976196\n",
      "Using fallback calculator! Quality metric: 2633430.0059491703\n",
      "f(cur_aspect_val = Count( value = 7), current_metric_val = {'load': Rate(120.0), 'memory': 0.1793387960710323}) = [205.40697857] | ORIGINAL: 1827.8117687976196\n",
      "Using fallback calculator! Quality metric: 2632197.3033433654\n",
      "f(cur_aspect_val = Count( value = 2), current_metric_val = {'load': Rate(120.0), 'memory': 0.43945955860257674}) = [204.64162189] | ORIGINAL: 1827.8117687976196\n",
      "Using fallback calculator! Quality metric: 2634681.325823158\n",
      "f(cur_aspect_val = Count( value = 4), current_metric_val = {'load': Rate(120.0), 'memory': 0.035987947630112684}) = [193.36201067] | ORIGINAL: 1827.8117687976196\n",
      "Using fallback calculator! Quality metric: 2671426.01185759\n"
     ]
    },
    {
     "name": "stderr",
     "output_type": "stream",
     "text": [
      " 23%|█████████████████▋                                                            | 1496/6600 [01:01<00:58, 87.27it/s]"
     ]
    },
    {
     "name": "stdout",
     "output_type": "stream",
     "text": [
      "f(cur_aspect_val = Count( value = 2), current_metric_val = {'load': Rate(90.0), 'memory': 0.142894549295926}) = [145.03705795] | ORIGINAL: 1782.246432619608\n",
      "Using fallback calculator! Quality metric: 2680454.53649384\n",
      "f(cur_aspect_val = Count( value = 3), current_metric_val = {'load': Rate(90.0), 'memory': 0.3487659503142416}) = [153.59566504] | ORIGINAL: 1782.246432619608\n",
      "Using fallback calculator! Quality metric: 2652503.3227530345\n",
      "f(cur_aspect_val = Count( value = 9), current_metric_val = {'load': Rate(90.0), 'memory': 0.34655266621767805}) = [154.9210531] | ORIGINAL: 1782.246432619608\n",
      "Using fallback calculator! Quality metric: 2648187.890835502\n",
      "f(cur_aspect_val = Count( value = 5), current_metric_val = {'load': Rate(90.0), 'memory': 0.43649256198045405}) = [153.89101801] | ORIGINAL: 1782.246432619608\n",
      "Using fallback calculator! Quality metric: 2651541.3562901197\n",
      "f(cur_aspect_val = Count( value = 7), current_metric_val = {'load': Rate(90.0), 'memory': 0.1793387960710323}) = [154.27087337] | ORIGINAL: 1782.246432619608\n",
      "Using fallback calculator! Quality metric: 2650304.4215113525\n",
      "f(cur_aspect_val = Count( value = 2), current_metric_val = {'load': Rate(90.0), 'memory': 0.4404755100908134}) = [153.5055286] | ORIGINAL: 1782.246432619608\n",
      "Using fallback calculator! Quality metric: 2652796.9324112507\n",
      "f(cur_aspect_val = Count( value = 4), current_metric_val = {'load': Rate(90.0), 'memory': 0.035987947630112684}) = [145.08975485] | ORIGINAL: 1782.246432619608\n",
      "Using fallback calculator! Quality metric: 2680281.987556874\n"
     ]
    },
    {
     "name": "stderr",
     "output_type": "stream",
     "text": [
      " 27%|█████████████████████▏                                                        | 1796/6600 [01:17<00:59, 80.67it/s]"
     ]
    },
    {
     "name": "stdout",
     "output_type": "stream",
     "text": [
      "f(cur_aspect_val = Count( value = 2), current_metric_val = {'load': Rate(61.0), 'memory': 0.23548865182644585}) = [165.5419988] | ORIGINAL: 1764.9263452231892\n",
      "Using fallback calculator! Quality metric: 2558030.287575601\n",
      "f(cur_aspect_val = Count( value = 3), current_metric_val = {'load': Rate(61.0), 'memory': 0.34852957064193296}) = [172.33881142] | ORIGINAL: 1764.9263452231892\n",
      "Using fallback calculator! Quality metric: 2536335.0528192134\n",
      "f(cur_aspect_val = Count( value = 9), current_metric_val = {'load': Rate(61.0), 'memory': 0.3466389200570229}) = [173.7876138] | ORIGINAL: 1764.9263452231892\n",
      "Using fallback calculator! Quality metric: 2531722.4626253755\n",
      "f(cur_aspect_val = Count( value = 5), current_metric_val = {'load': Rate(61.0), 'memory': 0.43655516388034754}) = [171.9371256] | ORIGINAL: 1764.9263452231892\n",
      "Using fallback calculator! Quality metric: 2537614.653843319\n",
      "f(cur_aspect_val = Count( value = 7), current_metric_val = {'load': Rate(61.0), 'memory': 0.316142524297047}) = [172.66815271] | ORIGINAL: 1764.9263452231892\n",
      "Using fallback calculator! Quality metric: 2535286.151620136\n",
      "f(cur_aspect_val = Count( value = 2), current_metric_val = {'load': Rate(61.0), 'memory': 0.44172114949315405}) = [172.17642037] | ORIGINAL: 1764.9263452231892\n",
      "Using fallback calculator! Quality metric: 2536852.3231190317\n",
      "f(cur_aspect_val = Count( value = 4), current_metric_val = {'load': Rate(61.0), 'memory': 0.17105743762877992}) = [166.70258849] | ORIGINAL: 1764.9263452231892\n",
      "Using fallback calculator! Quality metric: 2554319.1765950597\n"
     ]
    },
    {
     "name": "stderr",
     "output_type": "stream",
     "text": [
      " 32%|████████████████████████▋                                                     | 2094/6600 [01:34<03:23, 22.12it/s]\n"
     ]
    },
    {
     "ename": "KeyboardInterrupt",
     "evalue": "",
     "output_type": "error",
     "traceback": [
      "\u001b[1;31m---------------------------------------------------------------------------\u001b[0m",
      "\u001b[1;31mKeyboardInterrupt\u001b[0m                         Traceback (most recent call last)",
      "\u001b[1;32m<ipython-input-1-81c6c80fc802>\u001b[0m in \u001b[0;36m<module>\u001b[1;34m\u001b[0m\n\u001b[0;32m     13\u001b[0m \u001b[0msimulator\u001b[0m\u001b[1;33m.\u001b[0m\u001b[0madd_simulation\u001b[0m\u001b[1;33m(\u001b[0m\u001b[0mconfig_dir\u001b[0m\u001b[1;33m,\u001b[0m \u001b[0mresults_dir\u001b[0m\u001b[1;33m)\u001b[0m\u001b[1;33m\u001b[0m\u001b[1;33m\u001b[0m\u001b[0m\n\u001b[0;32m     14\u001b[0m \u001b[1;33m\u001b[0m\u001b[0m\n\u001b[1;32m---> 15\u001b[1;33m \u001b[0msimulator\u001b[0m\u001b[1;33m.\u001b[0m\u001b[0mstart_simulation\u001b[0m\u001b[1;33m(\u001b[0m\u001b[1;33m)\u001b[0m\u001b[1;33m\u001b[0m\u001b[1;33m\u001b[0m\u001b[0m\n\u001b[0m",
      "\u001b[1;32mD:\\AutoscalingSim\\autoscaling-simulator\\autoscalingsim\\simulator.py\u001b[0m in \u001b[0;36mstart_simulation\u001b[1;34m(self, simulation_name)\u001b[0m\n\u001b[0;32m     99\u001b[0m             \u001b[1;31m# TODO: think about parallelism\u001b[0m\u001b[1;33m\u001b[0m\u001b[1;33m\u001b[0m\u001b[1;33m\u001b[0m\u001b[0m\n\u001b[0;32m    100\u001b[0m             \u001b[1;32mfor\u001b[0m \u001b[0m_\u001b[0m\u001b[1;33m,\u001b[0m \u001b[0msim\u001b[0m \u001b[1;32min\u001b[0m \u001b[0mself\u001b[0m\u001b[1;33m.\u001b[0m\u001b[0msimulations\u001b[0m\u001b[1;33m.\u001b[0m\u001b[0mitems\u001b[0m\u001b[1;33m(\u001b[0m\u001b[1;33m)\u001b[0m\u001b[1;33m:\u001b[0m\u001b[1;33m\u001b[0m\u001b[1;33m\u001b[0m\u001b[0m\n\u001b[1;32m--> 101\u001b[1;33m                 \u001b[0msim\u001b[0m\u001b[1;33m.\u001b[0m\u001b[0mstart\u001b[0m\u001b[1;33m(\u001b[0m\u001b[1;33m)\u001b[0m\u001b[1;33m\u001b[0m\u001b[1;33m\u001b[0m\u001b[0m\n\u001b[0m\u001b[0;32m    102\u001b[0m \u001b[1;33m\u001b[0m\u001b[0m\n\u001b[0;32m    103\u001b[0m     \u001b[1;32mdef\u001b[0m \u001b[0mrewind\u001b[0m\u001b[1;33m(\u001b[0m\u001b[0mself\u001b[0m\u001b[1;33m)\u001b[0m\u001b[1;33m:\u001b[0m\u001b[1;33m\u001b[0m\u001b[1;33m\u001b[0m\u001b[0m\n",
      "\u001b[1;32mD:\\AutoscalingSim\\autoscaling-simulator\\autoscalingsim\\simulation\\simulation.py\u001b[0m in \u001b[0;36mstart\u001b[1;34m(self)\u001b[0m\n\u001b[0;32m     90\u001b[0m             \u001b[1;32mwhile\u001b[0m \u001b[0mself\u001b[0m\u001b[1;33m.\u001b[0m\u001b[0mcur_simulation_time\u001b[0m \u001b[1;33m<=\u001b[0m \u001b[0mself\u001b[0m\u001b[1;33m.\u001b[0m\u001b[0msimulation_end\u001b[0m\u001b[1;33m:\u001b[0m\u001b[1;33m\u001b[0m\u001b[1;33m\u001b[0m\u001b[0m\n\u001b[0;32m     91\u001b[0m                 \u001b[0mself\u001b[0m\u001b[1;33m.\u001b[0m\u001b[0mcur_simulation_time\u001b[0m \u001b[1;33m+=\u001b[0m \u001b[0mself\u001b[0m\u001b[1;33m.\u001b[0m\u001b[0msimulation_step\u001b[0m\u001b[1;33m\u001b[0m\u001b[1;33m\u001b[0m\u001b[0m\n\u001b[1;32m---> 92\u001b[1;33m                 \u001b[0mself\u001b[0m\u001b[1;33m.\u001b[0m\u001b[0m_step\u001b[0m\u001b[1;33m(\u001b[0m\u001b[1;33m)\u001b[0m\u001b[1;33m\u001b[0m\u001b[1;33m\u001b[0m\u001b[0m\n\u001b[0m\u001b[0;32m     93\u001b[0m                 \u001b[0mself\u001b[0m\u001b[1;33m.\u001b[0m\u001b[0msim_round\u001b[0m \u001b[1;33m+=\u001b[0m \u001b[1;36m1\u001b[0m\u001b[1;33m\u001b[0m\u001b[1;33m\u001b[0m\u001b[0m\n\u001b[0;32m     94\u001b[0m                 \u001b[1;32mif\u001b[0m \u001b[0mself\u001b[0m\u001b[1;33m.\u001b[0m\u001b[0mstat_updates_every_round\u001b[0m \u001b[1;33m>\u001b[0m \u001b[1;36m0\u001b[0m\u001b[1;33m:\u001b[0m\u001b[1;33m\u001b[0m\u001b[1;33m\u001b[0m\u001b[0m\n",
      "\u001b[1;32mD:\\AutoscalingSim\\autoscaling-simulator\\autoscalingsim\\simulation\\simulation.py\u001b[0m in \u001b[0;36m_step\u001b[1;34m(self)\u001b[0m\n\u001b[0;32m    125\u001b[0m     \u001b[1;32mdef\u001b[0m \u001b[0m_step\u001b[0m\u001b[1;33m(\u001b[0m\u001b[0mself\u001b[0m\u001b[1;33m)\u001b[0m\u001b[1;33m:\u001b[0m\u001b[1;33m\u001b[0m\u001b[1;33m\u001b[0m\u001b[0m\n\u001b[0;32m    126\u001b[0m \u001b[1;33m\u001b[0m\u001b[0m\n\u001b[1;32m--> 127\u001b[1;33m         \u001b[0mself\u001b[0m\u001b[1;33m.\u001b[0m\u001b[0mapplication_model\u001b[0m\u001b[1;33m.\u001b[0m\u001b[0mstep\u001b[0m\u001b[1;33m(\u001b[0m\u001b[0mself\u001b[0m\u001b[1;33m.\u001b[0m\u001b[0mcur_simulation_time\u001b[0m\u001b[1;33m,\u001b[0m \u001b[0mself\u001b[0m\u001b[1;33m.\u001b[0m\u001b[0msimulation_step\u001b[0m\u001b[1;33m)\u001b[0m\u001b[1;33m\u001b[0m\u001b[1;33m\u001b[0m\u001b[0m\n\u001b[0m\u001b[0;32m    128\u001b[0m \u001b[1;33m\u001b[0m\u001b[0m\n\u001b[0;32m    129\u001b[0m     \u001b[1;33m@\u001b[0m\u001b[0mproperty\u001b[0m\u001b[1;33m\u001b[0m\u001b[1;33m\u001b[0m\u001b[0m\n",
      "\u001b[1;32mD:\\AutoscalingSim\\autoscaling-simulator\\autoscalingsim\\application\\application_model.py\u001b[0m in \u001b[0;36mstep\u001b[1;34m(self, cur_timestamp, simulation_step)\u001b[0m\n\u001b[0;32m    109\u001b[0m \u001b[1;33m\u001b[0m\u001b[0m\n\u001b[0;32m    110\u001b[0m         \u001b[1;32mfor\u001b[0m \u001b[0mservice_name\u001b[0m\u001b[1;33m,\u001b[0m \u001b[0mservice\u001b[0m \u001b[1;32min\u001b[0m \u001b[0mself\u001b[0m\u001b[1;33m.\u001b[0m\u001b[0mservices\u001b[0m\u001b[1;33m.\u001b[0m\u001b[0mitems\u001b[0m\u001b[1;33m(\u001b[0m\u001b[1;33m)\u001b[0m\u001b[1;33m:\u001b[0m\u001b[1;33m\u001b[0m\u001b[1;33m\u001b[0m\u001b[0m\n\u001b[1;32m--> 111\u001b[1;33m             \u001b[0mservice\u001b[0m\u001b[1;33m.\u001b[0m\u001b[0mstep\u001b[0m\u001b[1;33m(\u001b[0m\u001b[0mcur_timestamp\u001b[0m\u001b[1;33m,\u001b[0m \u001b[0msimulation_step\u001b[0m\u001b[1;33m)\u001b[0m\u001b[1;33m\u001b[0m\u001b[1;33m\u001b[0m\u001b[0m\n\u001b[0m\u001b[0;32m    112\u001b[0m \u001b[1;33m\u001b[0m\u001b[0m\n\u001b[0;32m    113\u001b[0m         \u001b[1;32mfor\u001b[0m \u001b[0mservice_name\u001b[0m\u001b[1;33m,\u001b[0m \u001b[0mservice\u001b[0m \u001b[1;32min\u001b[0m \u001b[0mself\u001b[0m\u001b[1;33m.\u001b[0m\u001b[0mservices\u001b[0m\u001b[1;33m.\u001b[0m\u001b[0mitems\u001b[0m\u001b[1;33m(\u001b[0m\u001b[1;33m)\u001b[0m\u001b[1;33m:\u001b[0m\u001b[1;33m\u001b[0m\u001b[1;33m\u001b[0m\u001b[0m\n",
      "\u001b[1;32mD:\\AutoscalingSim\\autoscaling-simulator\\autoscalingsim\\application\\service.py\u001b[0m in \u001b[0;36mstep\u001b[1;34m(self, cur_timestamp, simulation_step)\u001b[0m\n\u001b[0;32m     70\u001b[0m     \u001b[1;32mdef\u001b[0m \u001b[0mstep\u001b[0m\u001b[1;33m(\u001b[0m\u001b[0mself\u001b[0m\u001b[1;33m,\u001b[0m \u001b[0mcur_timestamp\u001b[0m \u001b[1;33m:\u001b[0m \u001b[0mpd\u001b[0m\u001b[1;33m.\u001b[0m\u001b[0mTimestamp\u001b[0m\u001b[1;33m,\u001b[0m \u001b[0msimulation_step\u001b[0m \u001b[1;33m:\u001b[0m \u001b[0mpd\u001b[0m\u001b[1;33m.\u001b[0m\u001b[0mTimedelta\u001b[0m\u001b[1;33m)\u001b[0m\u001b[1;33m:\u001b[0m\u001b[1;33m\u001b[0m\u001b[1;33m\u001b[0m\u001b[0m\n\u001b[0;32m     71\u001b[0m \u001b[1;33m\u001b[0m\u001b[0m\n\u001b[1;32m---> 72\u001b[1;33m         \u001b[0mself\u001b[0m\u001b[1;33m.\u001b[0m\u001b[0mstate\u001b[0m\u001b[1;33m.\u001b[0m\u001b[0mstep\u001b[0m\u001b[1;33m(\u001b[0m\u001b[0mcur_timestamp\u001b[0m\u001b[1;33m,\u001b[0m \u001b[0msimulation_step\u001b[0m\u001b[1;33m)\u001b[0m\u001b[1;33m\u001b[0m\u001b[1;33m\u001b[0m\u001b[0m\n\u001b[0m\u001b[0;32m     73\u001b[0m \u001b[1;33m\u001b[0m\u001b[0m\n\u001b[0;32m     74\u001b[0m     \u001b[1;33m@\u001b[0m\u001b[0mproperty\u001b[0m\u001b[1;33m\u001b[0m\u001b[1;33m\u001b[0m\u001b[0m\n",
      "\u001b[1;32mD:\\AutoscalingSim\\autoscaling-simulator\\autoscalingsim\\application\\service_state\\service_state_reg.py\u001b[0m in \u001b[0;36mstep\u001b[1;34m(self, cur_timestamp, simulation_step)\u001b[0m\n\u001b[0;32m     57\u001b[0m \u001b[1;33m\u001b[0m\u001b[0m\n\u001b[0;32m     58\u001b[0m         \u001b[1;32mfor\u001b[0m \u001b[0mservice_state\u001b[0m \u001b[1;32min\u001b[0m \u001b[0mself\u001b[0m\u001b[1;33m.\u001b[0m\u001b[0mregion_states\u001b[0m\u001b[1;33m.\u001b[0m\u001b[0mvalues\u001b[0m\u001b[1;33m(\u001b[0m\u001b[1;33m)\u001b[0m\u001b[1;33m:\u001b[0m\u001b[1;33m\u001b[0m\u001b[1;33m\u001b[0m\u001b[0m\n\u001b[1;32m---> 59\u001b[1;33m             \u001b[0mservice_state\u001b[0m\u001b[1;33m.\u001b[0m\u001b[0mstep\u001b[0m\u001b[1;33m(\u001b[0m\u001b[0mcur_timestamp\u001b[0m\u001b[1;33m,\u001b[0m \u001b[0msimulation_step\u001b[0m\u001b[1;33m)\u001b[0m\u001b[1;33m\u001b[0m\u001b[1;33m\u001b[0m\u001b[0m\n\u001b[0m\u001b[0;32m     60\u001b[0m \u001b[1;33m\u001b[0m\u001b[0m\n\u001b[0;32m     61\u001b[0m     \u001b[1;32mdef\u001b[0m \u001b[0mforce_remove_groups\u001b[0m\u001b[1;33m(\u001b[0m\u001b[0mself\u001b[0m\u001b[1;33m,\u001b[0m \u001b[0mregion_name\u001b[0m \u001b[1;33m:\u001b[0m \u001b[0mstr\u001b[0m\u001b[1;33m,\u001b[0m \u001b[0mnode_group\u001b[0m \u001b[1;33m:\u001b[0m \u001b[0mNodeGroup\u001b[0m\u001b[1;33m)\u001b[0m\u001b[1;33m:\u001b[0m\u001b[1;33m\u001b[0m\u001b[1;33m\u001b[0m\u001b[0m\n",
      "\u001b[1;32mD:\\AutoscalingSim\\autoscaling-simulator\\autoscalingsim\\application\\service_state\\service_state.py\u001b[0m in \u001b[0;36mstep\u001b[1;34m(self, cur_timestamp, simulation_step)\u001b[0m\n\u001b[0;32m    196\u001b[0m                 \u001b[1;32mfor\u001b[0m \u001b[0mnode_group\u001b[0m \u001b[1;32min\u001b[0m \u001b[0mself\u001b[0m\u001b[1;33m.\u001b[0m\u001b[0mnode_groups_registry\u001b[0m\u001b[1;33m.\u001b[0m\u001b[0mnode_groups_for_service\u001b[0m\u001b[1;33m(\u001b[0m\u001b[0mself\u001b[0m\u001b[1;33m.\u001b[0m\u001b[0mservice_name\u001b[0m\u001b[1;33m,\u001b[0m \u001b[0mself\u001b[0m\u001b[1;33m.\u001b[0m\u001b[0mregion_name\u001b[0m\u001b[1;33m)\u001b[0m\u001b[1;33m:\u001b[0m\u001b[1;33m\u001b[0m\u001b[1;33m\u001b[0m\u001b[0m\n\u001b[0;32m    197\u001b[0m                     \u001b[0mresources_taken\u001b[0m \u001b[1;33m=\u001b[0m \u001b[0mnode_group\u001b[0m\u001b[1;33m.\u001b[0m\u001b[0msystem_resources_usage\u001b[0m \u001b[1;33m+\u001b[0m \u001b[0mnode_group\u001b[0m\u001b[1;33m.\u001b[0m\u001b[0msystem_resources_taken_by_requests\u001b[0m\u001b[1;33m(\u001b[0m\u001b[0mself\u001b[0m\u001b[1;33m.\u001b[0m\u001b[0mservice_name\u001b[0m\u001b[1;33m)\u001b[0m\u001b[1;33m\u001b[0m\u001b[1;33m\u001b[0m\u001b[0m\n\u001b[1;32m--> 198\u001b[1;33m                     \u001b[0mnode_group\u001b[0m\u001b[1;33m.\u001b[0m\u001b[0mupdate_utilization\u001b[0m\u001b[1;33m(\u001b[0m\u001b[0mself\u001b[0m\u001b[1;33m.\u001b[0m\u001b[0mservice_name\u001b[0m\u001b[1;33m,\u001b[0m \u001b[0mresources_taken\u001b[0m\u001b[1;33m,\u001b[0m \u001b[0mcur_timestamp\u001b[0m\u001b[1;33m,\u001b[0m \u001b[0mself\u001b[0m\u001b[1;33m.\u001b[0m\u001b[0maveraging_interval\u001b[0m\u001b[1;33m)\u001b[0m\u001b[1;33m\u001b[0m\u001b[1;33m\u001b[0m\u001b[0m\n\u001b[0m\u001b[0;32m    199\u001b[0m \u001b[1;33m\u001b[0m\u001b[0m\n\u001b[0;32m    200\u001b[0m     \u001b[1;32mdef\u001b[0m \u001b[0mforce_remove_group\u001b[0m\u001b[1;33m(\u001b[0m\u001b[0mself\u001b[0m\u001b[1;33m,\u001b[0m \u001b[0mnode_group\u001b[0m \u001b[1;33m:\u001b[0m \u001b[0mNodeGroup\u001b[0m\u001b[1;33m)\u001b[0m\u001b[1;33m:\u001b[0m\u001b[1;33m\u001b[0m\u001b[1;33m\u001b[0m\u001b[0m\n",
      "\u001b[1;32mD:\\AutoscalingSim\\autoscaling-simulator\\autoscalingsim\\desired_state\\node_group\\node_group.py\u001b[0m in \u001b[0;36mupdate_utilization\u001b[1;34m(self, service_name, system_resources_usage, timestamp, averaging_interval)\u001b[0m\n\u001b[0;32m    246\u001b[0m         self._utilization.update_with_system_resources_usage(service_name, timestamp,\n\u001b[0;32m    247\u001b[0m                                                              \u001b[1;33m(\u001b[0m\u001b[0msystem_resources_usage\u001b[0m \u001b[1;33m+\u001b[0m \u001b[0muplink_utilization\u001b[0m \u001b[1;33m+\u001b[0m \u001b[0mdownlink_utilization\u001b[0m\u001b[1;33m)\u001b[0m\u001b[1;33m.\u001b[0m\u001b[0mcap\u001b[0m\u001b[1;33m(\u001b[0m\u001b[1;33m)\u001b[0m\u001b[1;33m,\u001b[0m\u001b[1;33m\u001b[0m\u001b[1;33m\u001b[0m\u001b[0m\n\u001b[1;32m--> 248\u001b[1;33m                                                              averaging_interval)\n\u001b[0m\u001b[0;32m    249\u001b[0m \u001b[1;33m\u001b[0m\u001b[0m\n\u001b[0;32m    250\u001b[0m     \u001b[1;32mdef\u001b[0m \u001b[0mutilization\u001b[0m\u001b[1;33m(\u001b[0m\u001b[0mself\u001b[0m\u001b[1;33m,\u001b[0m \u001b[0mservice_name\u001b[0m \u001b[1;33m:\u001b[0m \u001b[0mstr\u001b[0m\u001b[1;33m,\u001b[0m \u001b[0mresource_name\u001b[0m \u001b[1;33m:\u001b[0m \u001b[0mstr\u001b[0m\u001b[1;33m,\u001b[0m \u001b[0minterval\u001b[0m \u001b[1;33m:\u001b[0m \u001b[0mpd\u001b[0m\u001b[1;33m.\u001b[0m\u001b[0mTimedelta\u001b[0m\u001b[1;33m)\u001b[0m\u001b[1;33m:\u001b[0m\u001b[1;33m\u001b[0m\u001b[1;33m\u001b[0m\u001b[0m\n",
      "\u001b[1;32mD:\\AutoscalingSim\\autoscaling-simulator\\autoscalingsim\\infrastructure_platform\\node_group_utilization.py\u001b[0m in \u001b[0;36mupdate_with_system_resources_usage\u001b[1;34m(self, service_name, timestamp, system_resources_usage, averaging_interval)\u001b[0m\n\u001b[0;32m     65\u001b[0m         self.service_utilizations[service_name].update_with_system_resources_usage(timestamp,\n\u001b[0;32m     66\u001b[0m                                                                                    \u001b[0msystem_resources_usage\u001b[0m\u001b[1;33m,\u001b[0m\u001b[1;33m\u001b[0m\u001b[1;33m\u001b[0m\u001b[0m\n\u001b[1;32m---> 67\u001b[1;33m                                                                                    averaging_interval)\n\u001b[0m\u001b[0;32m     68\u001b[0m \u001b[1;33m\u001b[0m\u001b[0m\n\u001b[0;32m     69\u001b[0m     \u001b[1;32mdef\u001b[0m \u001b[0mget\u001b[0m\u001b[1;33m(\u001b[0m\u001b[0mself\u001b[0m\u001b[1;33m,\u001b[0m \u001b[0mservice_name\u001b[0m \u001b[1;33m:\u001b[0m \u001b[0mstr\u001b[0m\u001b[1;33m,\u001b[0m \u001b[0mresource_name\u001b[0m \u001b[1;33m:\u001b[0m \u001b[0mstr\u001b[0m\u001b[1;33m,\u001b[0m \u001b[0minterval\u001b[0m \u001b[1;33m:\u001b[0m \u001b[0mpd\u001b[0m\u001b[1;33m.\u001b[0m\u001b[0mTimedelta\u001b[0m\u001b[1;33m)\u001b[0m\u001b[1;33m:\u001b[0m\u001b[1;33m\u001b[0m\u001b[1;33m\u001b[0m\u001b[0m\n",
      "\u001b[1;32mD:\\AutoscalingSim\\autoscaling-simulator\\autoscalingsim\\infrastructure_platform\\node_group_utilization.py\u001b[0m in \u001b[0;36mupdate_with_system_resources_usage\u001b[1;34m(self, timestamp, system_resources_usage, averaging_interval)\u001b[0m\n\u001b[0;32m     35\u001b[0m             self.update(resource_name, timestamp,\n\u001b[0;32m     36\u001b[0m                         \u001b[0msystem_resources_usage\u001b[0m\u001b[1;33m.\u001b[0m\u001b[0mnormalized_usage\u001b[0m\u001b[1;33m(\u001b[0m\u001b[0mresource_name\u001b[0m\u001b[1;33m)\u001b[0m\u001b[1;33m,\u001b[0m\u001b[1;33m\u001b[0m\u001b[1;33m\u001b[0m\u001b[0m\n\u001b[1;32m---> 37\u001b[1;33m                         averaging_interval)\n\u001b[0m\u001b[0;32m     38\u001b[0m \u001b[1;33m\u001b[0m\u001b[0m\n\u001b[0;32m     39\u001b[0m \u001b[1;32mclass\u001b[0m \u001b[0mNodeGroupUtilization\u001b[0m\u001b[1;33m:\u001b[0m\u001b[1;33m\u001b[0m\u001b[1;33m\u001b[0m\u001b[0m\n",
      "\u001b[1;32mD:\\AutoscalingSim\\autoscaling-simulator\\autoscalingsim\\utils\\utilization.py\u001b[0m in \u001b[0;36mupdate\u001b[1;34m(self, metric_name, timestamp, value, averaging_interval)\u001b[0m\n\u001b[0;32m     76\u001b[0m                averaging_interval : pd.Timedelta):\n\u001b[0;32m     77\u001b[0m \u001b[1;33m\u001b[0m\u001b[0m\n\u001b[1;32m---> 78\u001b[1;33m         \u001b[0mself\u001b[0m\u001b[1;33m.\u001b[0m\u001b[0mutilizations\u001b[0m\u001b[1;33m[\u001b[0m\u001b[0mmetric_name\u001b[0m\u001b[1;33m]\u001b[0m\u001b[1;33m.\u001b[0m\u001b[0mupdate\u001b[0m\u001b[1;33m(\u001b[0m\u001b[0mtimestamp\u001b[0m\u001b[1;33m,\u001b[0m \u001b[0mvalue\u001b[0m\u001b[1;33m,\u001b[0m \u001b[0maveraging_interval\u001b[0m\u001b[1;33m)\u001b[0m\u001b[1;33m\u001b[0m\u001b[1;33m\u001b[0m\u001b[0m\n\u001b[0m\u001b[0;32m     79\u001b[0m \u001b[1;33m\u001b[0m\u001b[0m\n\u001b[0;32m     80\u001b[0m     \u001b[1;32mdef\u001b[0m \u001b[0m__repr__\u001b[0m\u001b[1;33m(\u001b[0m\u001b[0mself\u001b[0m\u001b[1;33m)\u001b[0m\u001b[1;33m:\u001b[0m\u001b[1;33m\u001b[0m\u001b[1;33m\u001b[0m\u001b[0m\n",
      "\u001b[1;32mD:\\AutoscalingSim\\autoscaling-simulator\\autoscalingsim\\utils\\utilization.py\u001b[0m in \u001b[0;36mupdate\u001b[1;34m(self, cur_ts, cur_val, averaging_interval)\u001b[0m\n\u001b[0;32m     35\u001b[0m         \"\"\"\n\u001b[0;32m     36\u001b[0m \u001b[1;33m\u001b[0m\u001b[0m\n\u001b[1;32m---> 37\u001b[1;33m         \u001b[0mutil\u001b[0m \u001b[1;33m=\u001b[0m \u001b[0mself\u001b[0m\u001b[1;33m.\u001b[0m\u001b[0mtmp_state\u001b[0m\u001b[1;33m.\u001b[0m\u001b[0mupdate_and_get\u001b[0m\u001b[1;33m(\u001b[0m\u001b[0mcur_ts\u001b[0m\u001b[1;33m,\u001b[0m \u001b[0mcur_val\u001b[0m\u001b[1;33m,\u001b[0m \u001b[0maveraging_interval\u001b[0m\u001b[1;33m)\u001b[0m\u001b[1;33m\u001b[0m\u001b[1;33m\u001b[0m\u001b[0m\n\u001b[0m\u001b[0;32m     38\u001b[0m         \u001b[0mself\u001b[0m\u001b[1;33m.\u001b[0m\u001b[0mutilization\u001b[0m\u001b[1;33m[\u001b[0m\u001b[1;34m'datetime'\u001b[0m\u001b[1;33m]\u001b[0m\u001b[1;33m.\u001b[0m\u001b[0mappend\u001b[0m\u001b[1;33m(\u001b[0m\u001b[0mcur_ts\u001b[0m\u001b[1;33m)\u001b[0m\u001b[1;33m\u001b[0m\u001b[1;33m\u001b[0m\u001b[0m\n\u001b[0;32m     39\u001b[0m         \u001b[0mself\u001b[0m\u001b[1;33m.\u001b[0m\u001b[0mutilization\u001b[0m\u001b[1;33m[\u001b[0m\u001b[1;34m'value'\u001b[0m\u001b[1;33m]\u001b[0m\u001b[1;33m.\u001b[0m\u001b[0mappend\u001b[0m\u001b[1;33m(\u001b[0m\u001b[0mutil\u001b[0m\u001b[1;33m)\u001b[0m\u001b[1;33m\u001b[0m\u001b[1;33m\u001b[0m\u001b[0m\n",
      "\u001b[1;32mD:\\AutoscalingSim\\autoscaling-simulator\\autoscalingsim\\utils\\tempstate.py\u001b[0m in \u001b[0;36mupdate_and_get\u001b[1;34m(self, obs_timestamp, obs_value, averaging_interval)\u001b[0m\n\u001b[0;32m     36\u001b[0m \u001b[1;33m\u001b[0m\u001b[0m\n\u001b[0;32m     37\u001b[0m         \u001b[1;31m# Averaging the given value type and returning it\u001b[0m\u001b[1;33m\u001b[0m\u001b[1;33m\u001b[0m\u001b[1;33m\u001b[0m\u001b[0m\n\u001b[1;32m---> 38\u001b[1;33m         \u001b[1;32mreturn\u001b[0m \u001b[0msum\u001b[0m\u001b[1;33m(\u001b[0m\u001b[0mself\u001b[0m\u001b[1;33m.\u001b[0m\u001b[0mtmp_buffer_values\u001b[0m\u001b[1;33m)\u001b[0m \u001b[1;33m/\u001b[0m \u001b[0mlen\u001b[0m\u001b[1;33m(\u001b[0m\u001b[0mself\u001b[0m\u001b[1;33m.\u001b[0m\u001b[0mtmp_buffer_values\u001b[0m\u001b[1;33m)\u001b[0m\u001b[1;33m\u001b[0m\u001b[1;33m\u001b[0m\u001b[0m\n\u001b[0m",
      "\u001b[1;31mKeyboardInterrupt\u001b[0m: "
     ]
    }
   ],
   "source": [
    "from autoscalingsim import simulator\n",
    "import pandas as pd\n",
    "\n",
    "starting_time = pd.Timestamp(\"2020-09-17T10:00:00\")\n",
    "simulation_step = pd.Timedelta(100, unit = 'ms')\n",
    "time_to_simulate = pd.Timedelta(11, unit = 'm')\n",
    "config_dir = \"experiments/short-experiment/reactive-mapping\"\n",
    "#\"experiments/short-experiment/reactive-mapping\"#\"experiments/testazuremanual2\"#\"experiments/test\"#\n",
    "results_dir = None\n",
    "\n",
    "simulator = simulator.Simulator(simulation_step, starting_time, time_to_simulate, 666)\n",
    "\n",
    "simulator.add_simulation(config_dir, results_dir)\n",
    "\n",
    "simulator.start_simulation()"
   ]
  },
  {
   "cell_type": "code",
   "execution_count": 10,
   "metadata": {},
   "outputs": [
    {
     "data": {
      "text/plain": [
       "<Figure size 432x288 with 0 Axes>"
      ]
     },
     "metadata": {},
     "output_type": "display_data"
    },
    {
     "data": {
      "text/plain": [
       "<Figure size 432x288 with 0 Axes>"
      ]
     },
     "metadata": {},
     "output_type": "display_data"
    }
   ],
   "source": [
    "from stethoscope.analytical_engine import AnalysisFramework\n",
    "\n",
    "af = AnalysisFramework(simulation_step, 'D:/AutoscalingSim/results/test/short_oscillating/reactive-mapping')\n",
    "af.build_figures_for_single_simulation(simulator.simulations['reactive-mapping'], '')#af.build_figures_for_single_simulation(simulator.simulations['test'], '')#"
   ]
  },
  {
   "cell_type": "code",
   "execution_count": null,
   "metadata": {},
   "outputs": [],
   "source": [
    "from training_ground.trainer import Trainer\n",
    "\n",
    "t = Trainer(\"training_conf/mapping-sgd/load\")\n",
    "t.start_training()"
   ]
  },
  {
   "cell_type": "code",
   "execution_count": null,
   "metadata": {},
   "outputs": [],
   "source": [
    "import tensorflow as tf\n",
    "import numpy as np\n",
    "\n",
    "xxx = tf.keras.models.load_model('D:/@TUM/PhD/FINAL/experimentresults/models/nn/service-75c4ce5c-4da4-11eb-b901-d8cb8af1e959/eu/group1/dav_model.mdl')\n",
    "in_data = [[3., 1., 0.18705613], [3., 0., 0.17934185]]\n",
    "xxx.predict(tf.constant(in_data, dtype=tf.float16))"
   ]
  },
  {
   "cell_type": "code",
   "execution_count": null,
   "metadata": {},
   "outputs": [],
   "source": [
    "import numpy as np\n",
    "import collections\n",
    "from sklearn.linear_model import SGDRegressor\n",
    "import pickle\n",
    "\n",
    "\n",
    "model_config = {   \"loss\": \"squared_loss\",\n",
    "                   \"penalty\": \"l2\",\n",
    "                   \"alpha\": 0.0001,\n",
    "                   \"l1_ratio\": 0.15,\n",
    "                   \"tol\": 0.001,\n",
    "                   \"validation_fraction\": 0.1,\n",
    "                   \"n_iter_no_change\": 5,\n",
    "                   \"epsilon\": 0.1 }\n",
    "\n",
    "sgd_model = SGDRegressor(**model_config)\n",
    "\n",
    "def formatter_function(cur_aspect_val, cur_metrics_vals):\n",
    "\n",
    "    joint_vals = [[ val for val in cur_aspect_val ] if isinstance(cur_aspect_val, collections.Iterable) else [cur_aspect_val]]\n",
    "    for metric_vals in cur_metrics_vals.values():\n",
    "        joint_vals.append([ val for val in metric_vals ] if isinstance(metric_vals, collections.Iterable) else [metric_vals] )\n",
    "\n",
    "    return np.asarray(joint_vals).T\n",
    "\n",
    "cur_aspect_val = [1,2]\n",
    "cur_metrics_vals = {'load': [10, 20], 'wt': [133, 122]}\n",
    "X_train = formatter_function(cur_aspect_val, cur_metrics_vals)\n",
    "y_train = np.asarray([1200, 1100])\n",
    "print(X_train)\n",
    "sgd_model.partial_fit(X_train, y_train)\n",
    "\n",
    "X_test = formatter_function(1, {'load': 11, 'wt': 100})\n",
    "print(X_test)\n",
    "sgd_model.predict(X_test)\n",
    "\n",
    "pickle.dump( sgd_model, open( \"save.p\", \"wb\" ) )\n",
    "\n",
    "x = pickle.load( open( \"save.p\", \"rb\" ) )\n",
    "x.get_params()"
   ]
  },
  {
   "cell_type": "code",
   "execution_count": null,
   "metadata": {},
   "outputs": [],
   "source": [
    "from experimentgenerator.experiment_generator import ExperimentGenerator\n",
    "a = ExperimentGenerator('experiments/testazure3')\n",
    "a.generate_experiment('experiment_recipes/azure.json')"
   ]
  },
  {
   "cell_type": "code",
   "execution_count": null,
   "metadata": {
    "scrolled": true
   },
   "outputs": [],
   "source": [
    "from autoscalingsim.simevaluator.evaluation_framework import SimulationQualityEvaluationFramework\n",
    "\n",
    "sqef = SimulationQualityEvaluationFramework('experiments/testevaluation/evaluator_conf.json')\n",
    "sqef.create_simulations()\n",
    "sqef.simulate()\n",
    "sqef.build_figures('D:/AutoscalingSim/results/test')"
   ]
  },
  {
   "cell_type": "code",
   "execution_count": null,
   "metadata": {},
   "outputs": [],
   "source": [
    "# To profile:\n",
    "# python -m cProfile -o D:\\AutoscalingSim\\results\\profiling_res.txt autoscalingsim-cl.py --step 10 --start \"2020-09-17T10:00:00\" --confdir \"experiments/test\" --simtime 1m\n",
    "import pstats\n",
    "from pstats import SortKey\n",
    "p = pstats.Stats('D://AutoscalingSim//results//profiling_res.txt')\n",
    "p.strip_dirs().sort_stats(SortKey.CALLS).print_stats()"
   ]
  },
  {
   "cell_type": "code",
   "execution_count": null,
   "metadata": {},
   "outputs": [],
   "source": [
    "from cruncher.cruncher import Cruncher\n",
    "\n",
    "c = Cruncher('cruncher_conf/forecasting_experiment/oscillating_load/')\n",
    "c.run_experiment()"
   ]
  },
  {
   "cell_type": "code",
   "execution_count": null,
   "metadata": {},
   "outputs": [],
   "source": [
    "import pandas as pd\n",
    "import random\n",
    "\n",
    "idx = pd.date_range(pd.Timestamp(1000, unit = 'ms'), pd.Timestamp(20000, unit = 'ms'), freq = pd.Timedelta(1000, unit = 'ms'))\n",
    "\n",
    "x = pd.DataFrame({'datetime': idx, 'value': random.choices(range(10000), k = len(idx))}).set_index('datetime')\n",
    "x.shift(-15).dropna()"
   ]
  },
  {
   "cell_type": "code",
   "execution_count": null,
   "metadata": {},
   "outputs": [],
   "source": [
    "# Increasing pattern in load\n",
    "import numpy as np\n",
    "import json\n",
    "\n",
    "interval_percentage = 6 / (5 * 60) # 6 seconds\n",
    "step_rps = 3 / (5 * 60 / 6)\n",
    "vals = []\n",
    "for request_rate in np.arange(0, 3.00, step_rps):\n",
    "    vals.append({ \"requests_count_level\": round(request_rate, 2), \"percentage_of_interval\": interval_percentage })\n",
    "    \n",
    "json.dumps(vals)"
   ]
  },
  {
   "cell_type": "code",
   "execution_count": null,
   "metadata": {},
   "outputs": [],
   "source": [
    "from autoscalingsim import simulator\n",
    "import pandas as pd\n",
    "import collections\n",
    "import time\n",
    "import pickle\n",
    "\n",
    "simulation_steps_ms = [10,20,30,40,50,60,70,80,90,100]\n",
    "starting_time = pd.Timestamp(\"2020-09-17T10:00:00\")\n",
    "time_to_simulate = pd.Timedelta(10, unit = 'm')\n",
    "repeats = 10\n",
    "\n",
    "results = collections.defaultdict(list)\n",
    "for sim_step_raw in simulation_steps_ms:\n",
    "    print(f'current simulation step is {sim_step_raw} ms')\n",
    "    for _ in range(repeats):\n",
    "        start = time.time()\n",
    "        simulation_step = pd.Timedelta(sim_step_raw, unit = 'ms')\n",
    "        config_dir = \"experiments/testazuremanual2\"\n",
    "        results_dir = None\n",
    "\n",
    "        sim = simulator.Simulator(simulation_step, starting_time, time_to_simulate)\n",
    "\n",
    "        sim.add_simulation(config_dir, results_dir)\n",
    "\n",
    "        sim.start_simulation()\n",
    "        \n",
    "        results[sim_step_raw].append(time.time() - start)\n",
    "        \n",
    "pickle.dump( results, open( \"performance_test_results_raw.pickle\", \"wb\" ) )"
   ]
  },
  {
   "cell_type": "code",
   "execution_count": null,
   "metadata": {},
   "outputs": [],
   "source": [
    "import numpy as np\n",
    "from matplotlib import pyplot as plt\n",
    "\n",
    "res = pickle.load( open( \"performance_test_results_raw.pickle\", \"rb\" ) )\n",
    "\n",
    "results_means = [np.mean(times_per_simstep) / (10 * 60) for times_per_simstep in res.values()]\n",
    "results_stds = [np.std(times_per_simstep) / (10 * 60) for times_per_simstep in res.values()]\n",
    "steps = np.arange(10, 101, 10)\n",
    "\n",
    "p1 = plt.bar(steps, results_means, 7, yerr=results_stds)\n",
    "\n",
    "plt.ylabel('Wall clock time per 1 simulated second, s')\n",
    "plt.xlabel('Simulation step, ms')\n",
    "plt.xticks(steps)\n",
    "plt.yticks(np.arange(0.0, 2.0, 0.1))\n",
    "plt.hlines(0.5, xmin = 5, xmax = 105, colors = 'r', linestyles = 'dashed')\n",
    "#plt.show()\n",
    "\n",
    "plt.savefig(\"./performance_results.png\", dpi = 600, bbox_inches='tight')\n",
    "\n",
    "# Diminishing returns:\n",
    "(10 * 60_000) / steps"
   ]
  }
 ],
 "metadata": {
  "kernelspec": {
   "display_name": "Python 3",
   "language": "python",
   "name": "python3"
  }
 },
 "nbformat": 4,
 "nbformat_minor": 2
}
