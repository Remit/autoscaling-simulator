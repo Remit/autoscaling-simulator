{
 "cells": [
  {
   "cell_type": "code",
   "execution_count": 11,
   "metadata": {},
   "outputs": [],
   "source": [
    "import pandas as pd\n",
    "\n",
    "r1 = pd.DataFrame({'id': [1, 2], 'datetime': [pd.Timestamp(10), pd.Timestamp(20)], 'val': [1, 2]})\n",
    "r2 = pd.DataFrame(columns = ['id', 'datetime', 'val'])\n",
    "r3 = pd.DataFrame({'id': [1, 2], 'datetime': [pd.Timestamp(40), pd.Timestamp(50)], 'val': [1, 2]})"
   ]
  },
  {
   "cell_type": "code",
   "execution_count": 17,
   "metadata": {},
   "outputs": [],
   "source": [
    "r1['nn'] = r1.id.map(str) + \"---\" + r1.datetime.map(str)"
   ]
  },
  {
   "cell_type": "code",
   "execution_count": 21,
   "metadata": {},
   "outputs": [],
   "source": [
    "import pickle\n",
    "pickle.dump( [1,2,3], open( \"save.p\", \"wb\" ) )"
   ]
  },
  {
   "cell_type": "code",
   "execution_count": 39,
   "metadata": {},
   "outputs": [
    {
     "data": {
      "text/plain": [
       "Matrix([[0, 1, 0, 0, 0, 0, 0, 0, 0, 0], [1, 0, 1, 0, 0, 0, 0, 0, 0, 0], [0, 1, 0, 1, 0, 0, 0, 1, 1, 1], [0, 0, 1, 0, 1, 0, 0, 0, 0, 0], [0, 0, 0, 1, 0, 1, 0, 0, 0, 0], [0, 0, 0, 0, 1, 0, 1, 0, 0, 0], [0, 0, 0, 0, 0, 1, 0, 0, 0, 0], [0, 0, 1, 0, 0, 0, 0, 0, 0, 0], [0, 0, 1, 0, 0, 0, 0, 0, 0, 0], [0, 0, 1, 0, 0, 0, 0, 0, 0, 0]])"
      ]
     },
     "execution_count": 39,
     "metadata": {},
     "output_type": "execute_result"
    }
   ],
   "source": [
    "import igraph\n",
    "\n",
    "g = igraph.Graph.Barabasi(10, power=0.9, zero_appeal=3.25)\n",
    "g.get_adjacency()"
   ]
  },
  {
   "cell_type": "code",
   "execution_count": 60,
   "metadata": {},
   "outputs": [],
   "source": [
    "import igraph\n",
    "\n",
    "class AppStructureGenerator:\n",
    "\n",
    "    \"\"\"\n",
    "    Generates the structure of the application based on the Barabasi-Albert model\n",
    "    with parameters provided in the paper:\n",
    "\n",
    "    Vladimir Podolskiy, Maria Patrou, Panos Patros, Michael Gerndt, and Kenneth B. Kent. 2020.\n",
    "    The weakest link: revealing and modeling the architectural patterns of microservice applications.\n",
    "    In Proceedings of the 30th Annual International Conference on Computer Science and Software Engineering (CASCON '20).\n",
    "    IBM Corp., USA, 113–122.\n",
    "\n",
    "    Reference for BA-model implementation:\n",
    "    https://igraph.org/python/doc/igraph.GraphBase-class.html#Barabasi\n",
    "    \"\"\"\n",
    "\n",
    "    parameter_sets = {\n",
    "        'tiered_with_single_center_a': { 'power': 0.05, 'zero_appeal': 0.01},\n",
    "        'single_center_b': { 'power': 0.9, 'zero_appeal': 0.01},\n",
    "        'tree_with_multiple_centers_c': { 'power': 0.05, 'zero_appeal': 3.25},\n",
    "        'pipeline_with_multiple_centers_d': { 'power': 0.9, 'zero_appeal': 3.25}\n",
    "    }\n",
    "\n",
    "    default_parameter_set = 'tree_with_multiple_centers_c'\n",
    "\n",
    "    @classmethod\n",
    "    def generate(cls, services_count, parameter_set_name : str = None,\n",
    "                 power : float = None, zero_appeal : float = None):\n",
    "\n",
    "        if parameter_set_name is None and power is None and zero_appeal is None:\n",
    "            parameter_set_name = cls.default_parameter_set\n",
    "\n",
    "        graph_settings = dict()\n",
    "        if not parameter_set_name is None:\n",
    "            #power = cls.parameter_sets[parameter_set_name]['power']\n",
    "            #zero_appeal = cls.parameter_sets[parameter_set_name]['zero_appeal']\n",
    "            graph_settings = cls.parameter_sets[parameter_set_name]\n",
    "\n",
    "        else:\n",
    "            if not power is None:\n",
    "                graph_settings['power'] = power\n",
    "\n",
    "            if not zero_appeal is None:\n",
    "                graph_settings['zero_appeal'] = zero_appeal\n",
    "\n",
    "        g = igraph.Graph.Barabasi(services_count, **graph_settings)\n",
    "        return g\n",
    "        \n",
    "g = AppStructureGenerator.generate(10, zero_appeal = 10)"
   ]
  },
  {
   "cell_type": "code",
   "execution_count": 65,
   "metadata": {},
   "outputs": [
    {
     "data": {
      "text/plain": [
       "[0, 4, 5]"
      ]
     },
     "execution_count": 65,
     "metadata": {},
     "output_type": "execute_result"
    }
   ],
   "source": [
    "visited = []\n",
    "g.neighbors(3)"
   ]
  },
  {
   "cell_type": "code",
   "execution_count": 89,
   "metadata": {},
   "outputs": [
    {
     "data": {
      "text/plain": [
       "{0: [1, 2, 3],\n",
       " 1: None,\n",
       " 2: [9],\n",
       " 3: [4, 5],\n",
       " 9: None,\n",
       " 4: [7],\n",
       " 5: [6, 8],\n",
       " 7: None,\n",
       " 6: None,\n",
       " 8: None}"
      ]
     },
     "execution_count": 89,
     "metadata": {},
     "output_type": "execute_result"
    }
   ],
   "source": [
    "import collections\n",
    "\n",
    "g1 = g.spanning_tree()\n",
    "visited = []\n",
    "\n",
    "cur_vertices = collections.deque([0])\n",
    "next_vertices = dict()\n",
    "while len(cur_vertices) > 0:\n",
    "    vertex_id = cur_vertices.popleft()\n",
    "    if not vertex_id in visited:\n",
    "        nb = g1.neighbors(vertex_id)\n",
    "        next_vertices[vertex_id] = [ v for v in nb if not v in visited ]\n",
    "        cur_vertices.extend(nb)\n",
    "        visited.append(vertex_id)\n",
    "    \n",
    "next_vertices = {v : nodes if len(nodes) > 0 else None for v, nodes in next_vertices.items()}\n",
    "next_vertices"
   ]
  },
  {
   "cell_type": "code",
   "execution_count": 11,
   "metadata": {},
   "outputs": [
    {
     "data": {
      "text/plain": [
       "[64, 10, 43, 76, 47, 98]"
      ]
     },
     "execution_count": 11,
     "metadata": {},
     "output_type": "execute_result"
    }
   ],
   "source": [
    "import random\n",
    "\n",
    "random.choices(range(1290), k =121)"
   ]
  },
  {
   "cell_type": "code",
   "execution_count": 33,
   "metadata": {},
   "outputs": [
    {
     "data": {
      "text/plain": [
       "[<matplotlib.lines.Line2D at 0x1f4ba9b3860>]"
      ]
     },
     "execution_count": 33,
     "metadata": {},
     "output_type": "execute_result"
    },
    {
     "data": {
      "image/png": "[encoded data removed]",
      "text/plain": [
       "<Figure size 432x288 with 1 Axes>"
      ]
     },
     "metadata": {
      "needs_background": "light"
     },
     "output_type": "display_data"
    }
   ],
   "source": [
    "import pandas as pd\n",
    "import random\n",
    "import matplotlib.pyplot as plt\n",
    "\n",
    "def crosscor(col1, col2, lag = 0):\n",
    "    \n",
    "    return col1.corr(col2.shift(lag).fillna(0))\n",
    "\n",
    "df = pd.DataFrame({'datetime': pd.date_range(pd.Timestamp('2020-12-22T10:00:00'), pd.Timestamp('2020-12-22T12:00:00'), freq = '1T'), 'value1': random.choices(range(1290), k =121)}).set_index('datetime')\n",
    "df['value2'] = df.value1.shift(-10).fillna(0) + random.choices(range(10), k = 121)\n",
    "\n",
    "df.rolling(pd.Timedelta(5, unit = 'm')).corr()\n",
    "\n",
    "cross_cor_df = pd.DataFrame({\"lags\": range(-25, 25), \"corr\": [crosscor(df.value1, df.value2, lag) for lag in range(-25, 25)]}).set_index(\"lags\")\n",
    "plt.plot(cross_cor_df)\n",
    "\n",
    "# when shifting one signal over the other, it is important to identify the window of such a shifting"
   ]
  },
  {
   "cell_type": "code",
   "execution_count": 34,
   "metadata": {},
   "outputs": [
    {
     "data": {
      "image/png": "[encoded data removed]",
      "text/plain": [
       "<Figure size 432x288 with 1 Axes>"
      ]
     },
     "metadata": {
      "needs_background": "light"
     },
     "output_type": "display_data"
    }
   ],
   "source": [
    "from dtw import dtw, accelerated_dtw\n",
    "import numpy as np\n",
    "\n",
    "d, cost_matrix, acc_cost_matrix, path = accelerated_dtw(df.value1.values, df.value2.values, dist = 'euclidean')\n",
    "\n",
    "plt.imshow(acc_cost_matrix.T, origin='lower', cmap='gray', interpolation='nearest')\n",
    "plt.plot(path[0], path[1], 'w')\n",
    "plt.xlabel('Subject1')\n",
    "plt.ylabel('Subject2')\n",
    "plt.title(f'DTW Minimum Path with minimum distance: {np.round(d,2)}')\n",
    "plt.show()"
   ]
  },
  {
   "cell_type": "code",
   "execution_count": 36,
   "metadata": {},
   "outputs": [
    {
     "data": {
      "text/html": [
       "<div>\n",
       "<style scoped>\n",
       "    .dataframe tbody tr th:only-of-type {\n",
       "        vertical-align: middle;\n",
       "    }\n",
       "\n",
       "    .dataframe tbody tr th {\n",
       "        vertical-align: top;\n",
       "    }\n",
       "\n",
       "    .dataframe thead th {\n",
       "        text-align: right;\n",
       "    }\n",
       "</style>\n",
       "<table border=\"1\" class=\"dataframe\">\n",
       "  <thead>\n",
       "    <tr style=\"text-align: right;\">\n",
       "      <th></th>\n",
       "      <th>value1</th>\n",
       "      <th>value2</th>\n",
       "    </tr>\n",
       "    <tr>\n",
       "      <th>datetime</th>\n",
       "      <th></th>\n",
       "      <th></th>\n",
       "    </tr>\n",
       "  </thead>\n",
       "  <tbody>\n",
       "    <tr>\n",
       "      <th>2020-12-22 10:00:00</th>\n",
       "      <td>898</td>\n",
       "      <td>185.0</td>\n",
       "    </tr>\n",
       "    <tr>\n",
       "      <th>2020-12-22 10:03:00</th>\n",
       "      <td>802</td>\n",
       "      <td>674.0</td>\n",
       "    </tr>\n",
       "    <tr>\n",
       "      <th>2020-12-22 10:05:00</th>\n",
       "      <td>774</td>\n",
       "      <td>426.0</td>\n",
       "    </tr>\n",
       "    <tr>\n",
       "      <th>2020-12-22 10:06:00</th>\n",
       "      <td>827</td>\n",
       "      <td>1124.0</td>\n",
       "    </tr>\n",
       "    <tr>\n",
       "      <th>2020-12-22 10:07:00</th>\n",
       "      <td>1019</td>\n",
       "      <td>97.0</td>\n",
       "    </tr>\n",
       "    <tr>\n",
       "      <th>...</th>\n",
       "      <td>...</td>\n",
       "      <td>...</td>\n",
       "    </tr>\n",
       "    <tr>\n",
       "      <th>2020-12-22 11:56:00</th>\n",
       "      <td>713</td>\n",
       "      <td>4.0</td>\n",
       "    </tr>\n",
       "    <tr>\n",
       "      <th>2020-12-22 11:57:00</th>\n",
       "      <td>701</td>\n",
       "      <td>6.0</td>\n",
       "    </tr>\n",
       "    <tr>\n",
       "      <th>2020-12-22 11:58:00</th>\n",
       "      <td>864</td>\n",
       "      <td>5.0</td>\n",
       "    </tr>\n",
       "    <tr>\n",
       "      <th>2020-12-22 11:59:00</th>\n",
       "      <td>1092</td>\n",
       "      <td>1.0</td>\n",
       "    </tr>\n",
       "    <tr>\n",
       "      <th>2020-12-22 12:00:00</th>\n",
       "      <td>542</td>\n",
       "      <td>2.0</td>\n",
       "    </tr>\n",
       "  </tbody>\n",
       "</table>\n",
       "<p>85 rows × 2 columns</p>\n",
       "</div>"
      ],
      "text/plain": [
       "                     value1  value2\n",
       "datetime                           \n",
       "2020-12-22 10:00:00     898   185.0\n",
       "2020-12-22 10:03:00     802   674.0\n",
       "2020-12-22 10:05:00     774   426.0\n",
       "2020-12-22 10:06:00     827  1124.0\n",
       "2020-12-22 10:07:00    1019    97.0\n",
       "...                     ...     ...\n",
       "2020-12-22 11:56:00     713     4.0\n",
       "2020-12-22 11:57:00     701     6.0\n",
       "2020-12-22 11:58:00     864     5.0\n",
       "2020-12-22 11:59:00    1092     1.0\n",
       "2020-12-22 12:00:00     542     2.0\n",
       "\n",
       "[85 rows x 2 columns]"
      ]
     },
     "execution_count": 36,
     "metadata": {},
     "output_type": "execute_result"
    }
   ],
   "source": [
    "# removing values that fall outside of quantiles of interest\n",
    "df[df.value1.between(df.value1.quantile(0.15), df.value1.quantile(0.85))]\n",
    "\n",
    "# TODO: consider tsmoothie package for smoothing"
   ]
  },
  {
   "cell_type": "code",
   "execution_count": 2,
   "metadata": {},
   "outputs": [],
   "source": [
    "import numpy as np"
   ]
  },
  {
   "cell_type": "code",
   "execution_count": null,
   "metadata": {},
   "outputs": [],
   "source": []
  }
 ],
 "metadata": {
  "kernelspec": {
   "display_name": "Python 3",
   "language": "python",
   "name": "python3"
  },
  "language_info": {
   "codemirror_mode": {
    "name": "ipython",
    "version": 3
   },
   "file_extension": ".py",
   "mimetype": "text/x-python",
   "name": "python",
   "nbconvert_exporter": "python",
   "pygments_lexer": "ipython3",
   "version": "3.7.3"
  }
 },
 "nbformat": 4,
 "nbformat_minor": 4
}
