{
 "cells": [
  {
   "cell_type": "code",
   "execution_count": 11,
   "metadata": {},
   "outputs": [],
   "source": [
    "import pandas as pd\n",
    "\n",
    "r1 = pd.DataFrame({'id': [1, 2], 'datetime': [pd.Timestamp(10), pd.Timestamp(20)], 'val': [1, 2]})\n",
    "r2 = pd.DataFrame(columns = ['id', 'datetime', 'val'])\n",
    "r3 = pd.DataFrame({'id': [1, 2], 'datetime': [pd.Timestamp(40), pd.Timestamp(50)], 'val': [1, 2]})"
   ]
  },
  {
   "cell_type": "code",
   "execution_count": 17,
   "metadata": {},
   "outputs": [],
   "source": [
    "r1['nn'] = r1.id.map(str) + \"---\" + r1.datetime.map(str)"
   ]
  },
  {
   "cell_type": "code",
   "execution_count": 21,
   "metadata": {},
   "outputs": [],
   "source": [
    "import pickle\n",
    "pickle.dump( [1,2,3], open( \"save.p\", \"wb\" ) )"
   ]
  },
  {
   "cell_type": "code",
   "execution_count": 39,
   "metadata": {},
   "outputs": [
    {
     "data": {
      "text/plain": [
       "Matrix([[0, 1, 0, 0, 0, 0, 0, 0, 0, 0], [1, 0, 1, 0, 0, 0, 0, 0, 0, 0], [0, 1, 0, 1, 0, 0, 0, 1, 1, 1], [0, 0, 1, 0, 1, 0, 0, 0, 0, 0], [0, 0, 0, 1, 0, 1, 0, 0, 0, 0], [0, 0, 0, 0, 1, 0, 1, 0, 0, 0], [0, 0, 0, 0, 0, 1, 0, 0, 0, 0], [0, 0, 1, 0, 0, 0, 0, 0, 0, 0], [0, 0, 1, 0, 0, 0, 0, 0, 0, 0], [0, 0, 1, 0, 0, 0, 0, 0, 0, 0]])"
      ]
     },
     "execution_count": 39,
     "metadata": {},
     "output_type": "execute_result"
    }
   ],
   "source": [
    "import igraph\n",
    "\n",
    "g = igraph.Graph.Barabasi(10, power=0.9, zero_appeal=3.25)\n",
    "g.get_adjacency()"
   ]
  },
  {
   "cell_type": "code",
   "execution_count": 59,
   "metadata": {},
   "outputs": [
    {
     "data": {
      "text/plain": [
       "Matrix([[0, 1, 1, 1, 0, 0, 1, 0, 0, 0], [1, 0, 0, 0, 0, 1, 0, 0, 0, 0], [1, 0, 0, 0, 0, 0, 0, 0, 0, 0], [1, 0, 0, 0, 1, 0, 0, 0, 1, 0], [0, 0, 0, 1, 0, 0, 0, 1, 0, 0], [0, 1, 0, 0, 0, 0, 0, 0, 0, 0], [1, 0, 0, 0, 0, 0, 0, 0, 0, 0], [0, 0, 0, 0, 1, 0, 0, 0, 0, 0], [0, 0, 0, 1, 0, 0, 0, 0, 0, 1], [0, 0, 0, 0, 0, 0, 0, 0, 1, 0]])"
      ]
     },
     "execution_count": 59,
     "metadata": {},
     "output_type": "execute_result"
    }
   ],
   "source": [
    "import igraph\n",
    "\n",
    "class AppStructureGenerator:\n",
    "\n",
    "    \"\"\"\n",
    "    Generates the structure of the application based on the Barabasi-Albert model\n",
    "    with parameters provided in the paper:\n",
    "\n",
    "    Vladimir Podolskiy, Maria Patrou, Panos Patros, Michael Gerndt, and Kenneth B. Kent. 2020.\n",
    "    The weakest link: revealing and modeling the architectural patterns of microservice applications.\n",
    "    In Proceedings of the 30th Annual International Conference on Computer Science and Software Engineering (CASCON '20).\n",
    "    IBM Corp., USA, 113–122.\n",
    "\n",
    "    Reference for BA-model implementation:\n",
    "    https://igraph.org/python/doc/igraph.GraphBase-class.html#Barabasi\n",
    "    \"\"\"\n",
    "\n",
    "    parameter_sets = {\n",
    "        'tiered_with_single_center_a': { 'power': 0.05, 'zero_appeal': 0.01},\n",
    "        'single_center_b': { 'power': 0.9, 'zero_appeal': 0.01},\n",
    "        'tree_with_multiple_centers_c': { 'power': 0.05, 'zero_appeal': 3.25},\n",
    "        'pipeline_with_multiple_centers_d': { 'power': 0.9, 'zero_appeal': 3.25}\n",
    "    }\n",
    "\n",
    "    default_parameter_set = 'tree_with_multiple_centers_c'\n",
    "\n",
    "    @classmethod\n",
    "    def generate(cls, services_count, parameter_set_name : str = None,\n",
    "                 power : float = None, zero_appeal : float = None):\n",
    "\n",
    "        if parameter_set_name is None and power is None and zero_appeal is None:\n",
    "            parameter_set_name = cls.default_parameter_set\n",
    "\n",
    "        graph_settings = dict()\n",
    "        if not parameter_set_name is None:\n",
    "            #power = cls.parameter_sets[parameter_set_name]['power']\n",
    "            #zero_appeal = cls.parameter_sets[parameter_set_name]['zero_appeal']\n",
    "            graph_settings = cls.parameter_sets[parameter_set_name]\n",
    "\n",
    "        else:\n",
    "            if not power is None:\n",
    "                graph_settings['power'] = power\n",
    "\n",
    "            if not zero_appeal is None:\n",
    "                graph_settings['zero_appeal'] = zero_appeal\n",
    "\n",
    "        g = igraph.Graph.Barabasi(services_count, **graph_settings)\n",
    "        return g.get_adjacency()\n",
    "        \n",
    "AppStructureGenerator.generate(10, zero_appeal = 10)"
   ]
  }
 ],
 "metadata": {
  "kernelspec": {
   "display_name": "Python 3",
   "language": "python",
   "name": "python3"
  },
  "language_info": {
   "codemirror_mode": {
    "name": "ipython",
    "version": 3
   },
   "file_extension": ".py",
   "mimetype": "text/x-python",
   "name": "python",
   "nbconvert_exporter": "python",
   "pygments_lexer": "ipython3",
   "version": "3.7.3"
  }
 },
 "nbformat": 4,
 "nbformat_minor": 4
}
