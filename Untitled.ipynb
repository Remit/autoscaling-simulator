{
 "cells": [
  {
   "cell_type": "code",
   "execution_count": 11,
   "metadata": {},
   "outputs": [],
   "source": [
    "import pandas as pd\n",
    "\n",
    "r1 = pd.DataFrame({'id': [1, 2], 'datetime': [pd.Timestamp(10), pd.Timestamp(20)], 'val': [1, 2]})\n",
    "r2 = pd.DataFrame(columns = ['id', 'datetime', 'val'])\n",
    "r3 = pd.DataFrame({'id': [1, 2], 'datetime': [pd.Timestamp(40), pd.Timestamp(50)], 'val': [1, 2]})"
   ]
  },
  {
   "cell_type": "code",
   "execution_count": 17,
   "metadata": {},
   "outputs": [],
   "source": [
    "r1['nn'] = r1.id.map(str) + \"---\" + r1.datetime.map(str)"
   ]
  },
  {
   "cell_type": "code",
   "execution_count": 21,
   "metadata": {},
   "outputs": [],
   "source": [
    "import pickle\n",
    "pickle.dump( [1,2,3], open( \"save.p\", \"wb\" ) )"
   ]
  },
  {
   "cell_type": "code",
   "execution_count": 39,
   "metadata": {},
   "outputs": [
    {
     "data": {
      "text/plain": [
       "Matrix([[0, 1, 0, 0, 0, 0, 0, 0, 0, 0], [1, 0, 1, 0, 0, 0, 0, 0, 0, 0], [0, 1, 0, 1, 0, 0, 0, 1, 1, 1], [0, 0, 1, 0, 1, 0, 0, 0, 0, 0], [0, 0, 0, 1, 0, 1, 0, 0, 0, 0], [0, 0, 0, 0, 1, 0, 1, 0, 0, 0], [0, 0, 0, 0, 0, 1, 0, 0, 0, 0], [0, 0, 1, 0, 0, 0, 0, 0, 0, 0], [0, 0, 1, 0, 0, 0, 0, 0, 0, 0], [0, 0, 1, 0, 0, 0, 0, 0, 0, 0]])"
      ]
     },
     "execution_count": 39,
     "metadata": {},
     "output_type": "execute_result"
    }
   ],
   "source": [
    "import igraph\n",
    "\n",
    "g = igraph.Graph.Barabasi(10, power=0.9, zero_appeal=3.25)\n",
    "g.get_adjacency()"
   ]
  },
  {
   "cell_type": "code",
   "execution_count": 60,
   "metadata": {},
   "outputs": [],
   "source": [
    "import igraph\n",
    "\n",
    "class AppStructureGenerator:\n",
    "\n",
    "    \"\"\"\n",
    "    Generates the structure of the application based on the Barabasi-Albert model\n",
    "    with parameters provided in the paper:\n",
    "\n",
    "    Vladimir Podolskiy, Maria Patrou, Panos Patros, Michael Gerndt, and Kenneth B. Kent. 2020.\n",
    "    The weakest link: revealing and modeling the architectural patterns of microservice applications.\n",
    "    In Proceedings of the 30th Annual International Conference on Computer Science and Software Engineering (CASCON '20).\n",
    "    IBM Corp., USA, 113–122.\n",
    "\n",
    "    Reference for BA-model implementation:\n",
    "    https://igraph.org/python/doc/igraph.GraphBase-class.html#Barabasi\n",
    "    \"\"\"\n",
    "\n",
    "    parameter_sets = {\n",
    "        'tiered_with_single_center_a': { 'power': 0.05, 'zero_appeal': 0.01},\n",
    "        'single_center_b': { 'power': 0.9, 'zero_appeal': 0.01},\n",
    "        'tree_with_multiple_centers_c': { 'power': 0.05, 'zero_appeal': 3.25},\n",
    "        'pipeline_with_multiple_centers_d': { 'power': 0.9, 'zero_appeal': 3.25}\n",
    "    }\n",
    "\n",
    "    default_parameter_set = 'tree_with_multiple_centers_c'\n",
    "\n",
    "    @classmethod\n",
    "    def generate(cls, services_count, parameter_set_name : str = None,\n",
    "                 power : float = None, zero_appeal : float = None):\n",
    "\n",
    "        if parameter_set_name is None and power is None and zero_appeal is None:\n",
    "            parameter_set_name = cls.default_parameter_set\n",
    "\n",
    "        graph_settings = dict()\n",
    "        if not parameter_set_name is None:\n",
    "            #power = cls.parameter_sets[parameter_set_name]['power']\n",
    "            #zero_appeal = cls.parameter_sets[parameter_set_name]['zero_appeal']\n",
    "            graph_settings = cls.parameter_sets[parameter_set_name]\n",
    "\n",
    "        else:\n",
    "            if not power is None:\n",
    "                graph_settings['power'] = power\n",
    "\n",
    "            if not zero_appeal is None:\n",
    "                graph_settings['zero_appeal'] = zero_appeal\n",
    "\n",
    "        g = igraph.Graph.Barabasi(services_count, **graph_settings)\n",
    "        return g\n",
    "        \n",
    "g = AppStructureGenerator.generate(10, zero_appeal = 10)"
   ]
  },
  {
   "cell_type": "code",
   "execution_count": 65,
   "metadata": {},
   "outputs": [
    {
     "data": {
      "text/plain": [
       "[0, 4, 5]"
      ]
     },
     "execution_count": 65,
     "metadata": {},
     "output_type": "execute_result"
    }
   ],
   "source": [
    "visited = []\n",
    "g.neighbors(3)"
   ]
  },
  {
   "cell_type": "code",
   "execution_count": 89,
   "metadata": {},
   "outputs": [
    {
     "data": {
      "text/plain": [
       "{0: [1, 2, 3],\n",
       " 1: None,\n",
       " 2: [9],\n",
       " 3: [4, 5],\n",
       " 9: None,\n",
       " 4: [7],\n",
       " 5: [6, 8],\n",
       " 7: None,\n",
       " 6: None,\n",
       " 8: None}"
      ]
     },
     "execution_count": 89,
     "metadata": {},
     "output_type": "execute_result"
    }
   ],
   "source": [
    "import collections\n",
    "\n",
    "g1 = g.spanning_tree()\n",
    "visited = []\n",
    "\n",
    "cur_vertices = collections.deque([0])\n",
    "next_vertices = dict()\n",
    "while len(cur_vertices) > 0:\n",
    "    vertex_id = cur_vertices.popleft()\n",
    "    if not vertex_id in visited:\n",
    "        nb = g1.neighbors(vertex_id)\n",
    "        next_vertices[vertex_id] = [ v for v in nb if not v in visited ]\n",
    "        cur_vertices.extend(nb)\n",
    "        visited.append(vertex_id)\n",
    "    \n",
    "next_vertices = {v : nodes if len(nodes) > 0 else None for v, nodes in next_vertices.items()}\n",
    "next_vertices"
   ]
  },
  {
   "cell_type": "code",
   "execution_count": 11,
   "metadata": {},
   "outputs": [
    {
     "data": {
      "text/plain": [
       "[64, 10, 43, 76, 47, 98]"
      ]
     },
     "execution_count": 11,
     "metadata": {},
     "output_type": "execute_result"
    }
   ],
   "source": [
    "import random\n",
    "\n",
    "random.choices(range(1290), k =121)"
   ]
  },
  {
   "cell_type": "code",
   "execution_count": 63,
   "metadata": {},
   "outputs": [
    {
     "data": {
      "text/plain": [
       "[<matplotlib.lines.Line2D at 0x1d67e6fc9b0>]"
      ]
     },
     "execution_count": 63,
     "metadata": {},
     "output_type": "execute_result"
    },
    {
     "data": {
      "image/png": "[encoded data removed]",
      "text/plain": [
       "<Figure size 432x288 with 1 Axes>"
      ]
     },
     "metadata": {
      "needs_background": "light"
     },
     "output_type": "display_data"
    }
   ],
   "source": [
    "import pandas as pd\n",
    "import random\n",
    "import matplotlib.pyplot as plt\n",
    "\n",
    "def crosscor(col1, col2, lag = 0):\n",
    "    \n",
    "    return col1.corr(col2.shift(lag).fillna(0))\n",
    "\n",
    "df = pd.DataFrame({'datetime': pd.date_range(pd.Timestamp('2020-12-22T10:00:00'), pd.Timestamp('2020-12-22T12:00:00'), freq = '1T'), 'value1': random.choices(range(1290), k =121)}).set_index('datetime')\n",
    "df['value2'] = df.value1.shift(-10).fillna(0) + random.choices(range(10), k = 121)\n",
    "\n",
    "df.rolling(pd.Timedelta(5, unit = 'm')).corr()\n",
    "\n",
    "cross_cor_df = pd.DataFrame({\"lags\": range(-25, 25), \"corr\": [crosscor(df.value1, df.value2, lag) for lag in range(-25, 25)]}).set_index(\"lags\")\n",
    "plt.plot(cross_cor_df)\n",
    "\n",
    "# when shifting one signal over the other, it is important to identify the window of such a shifting"
   ]
  },
  {
   "cell_type": "code",
   "execution_count": 72,
   "metadata": {},
   "outputs": [
    {
     "data": {
      "text/plain": [
       "corr    10\n",
       "dtype: int64"
      ]
     },
     "execution_count": 72,
     "metadata": {},
     "output_type": "execute_result"
    }
   ],
   "source": [
    "cross_cor_df.idxmax()"
   ]
  },
  {
   "cell_type": "code",
   "execution_count": 34,
   "metadata": {},
   "outputs": [
    {
     "data": {
      "image/png": "[encoded data removed]",
      "text/plain": [
       "<Figure size 432x288 with 1 Axes>"
      ]
     },
     "metadata": {
      "needs_background": "light"
     },
     "output_type": "display_data"
    }
   ],
   "source": [
    "from dtw import dtw, accelerated_dtw\n",
    "import numpy as np\n",
    "\n",
    "d, cost_matrix, acc_cost_matrix, path = accelerated_dtw(df.value1.values, df.value2.values, dist = 'euclidean')\n",
    "\n",
    "plt.imshow(acc_cost_matrix.T, origin='lower', cmap='gray', interpolation='nearest')\n",
    "plt.plot(path[0], path[1], 'w')\n",
    "plt.xlabel('Subject1')\n",
    "plt.ylabel('Subject2')\n",
    "plt.title(f'DTW Minimum Path with minimum distance: {np.round(d,2)}')\n",
    "plt.show()"
   ]
  },
  {
   "cell_type": "code",
   "execution_count": 36,
   "metadata": {},
   "outputs": [
    {
     "data": {
      "text/html": [
       "<div>\n",
       "<style scoped>\n",
       "    .dataframe tbody tr th:only-of-type {\n",
       "        vertical-align: middle;\n",
       "    }\n",
       "\n",
       "    .dataframe tbody tr th {\n",
       "        vertical-align: top;\n",
       "    }\n",
       "\n",
       "    .dataframe thead th {\n",
       "        text-align: right;\n",
       "    }\n",
       "</style>\n",
       "<table border=\"1\" class=\"dataframe\">\n",
       "  <thead>\n",
       "    <tr style=\"text-align: right;\">\n",
       "      <th></th>\n",
       "      <th>value1</th>\n",
       "      <th>value2</th>\n",
       "    </tr>\n",
       "    <tr>\n",
       "      <th>datetime</th>\n",
       "      <th></th>\n",
       "      <th></th>\n",
       "    </tr>\n",
       "  </thead>\n",
       "  <tbody>\n",
       "    <tr>\n",
       "      <th>2020-12-22 10:00:00</th>\n",
       "      <td>898</td>\n",
       "      <td>185.0</td>\n",
       "    </tr>\n",
       "    <tr>\n",
       "      <th>2020-12-22 10:03:00</th>\n",
       "      <td>802</td>\n",
       "      <td>674.0</td>\n",
       "    </tr>\n",
       "    <tr>\n",
       "      <th>2020-12-22 10:05:00</th>\n",
       "      <td>774</td>\n",
       "      <td>426.0</td>\n",
       "    </tr>\n",
       "    <tr>\n",
       "      <th>2020-12-22 10:06:00</th>\n",
       "      <td>827</td>\n",
       "      <td>1124.0</td>\n",
       "    </tr>\n",
       "    <tr>\n",
       "      <th>2020-12-22 10:07:00</th>\n",
       "      <td>1019</td>\n",
       "      <td>97.0</td>\n",
       "    </tr>\n",
       "    <tr>\n",
       "      <th>...</th>\n",
       "      <td>...</td>\n",
       "      <td>...</td>\n",
       "    </tr>\n",
       "    <tr>\n",
       "      <th>2020-12-22 11:56:00</th>\n",
       "      <td>713</td>\n",
       "      <td>4.0</td>\n",
       "    </tr>\n",
       "    <tr>\n",
       "      <th>2020-12-22 11:57:00</th>\n",
       "      <td>701</td>\n",
       "      <td>6.0</td>\n",
       "    </tr>\n",
       "    <tr>\n",
       "      <th>2020-12-22 11:58:00</th>\n",
       "      <td>864</td>\n",
       "      <td>5.0</td>\n",
       "    </tr>\n",
       "    <tr>\n",
       "      <th>2020-12-22 11:59:00</th>\n",
       "      <td>1092</td>\n",
       "      <td>1.0</td>\n",
       "    </tr>\n",
       "    <tr>\n",
       "      <th>2020-12-22 12:00:00</th>\n",
       "      <td>542</td>\n",
       "      <td>2.0</td>\n",
       "    </tr>\n",
       "  </tbody>\n",
       "</table>\n",
       "<p>85 rows × 2 columns</p>\n",
       "</div>"
      ],
      "text/plain": [
       "                     value1  value2\n",
       "datetime                           \n",
       "2020-12-22 10:00:00     898   185.0\n",
       "2020-12-22 10:03:00     802   674.0\n",
       "2020-12-22 10:05:00     774   426.0\n",
       "2020-12-22 10:06:00     827  1124.0\n",
       "2020-12-22 10:07:00    1019    97.0\n",
       "...                     ...     ...\n",
       "2020-12-22 11:56:00     713     4.0\n",
       "2020-12-22 11:57:00     701     6.0\n",
       "2020-12-22 11:58:00     864     5.0\n",
       "2020-12-22 11:59:00    1092     1.0\n",
       "2020-12-22 12:00:00     542     2.0\n",
       "\n",
       "[85 rows x 2 columns]"
      ]
     },
     "execution_count": 36,
     "metadata": {},
     "output_type": "execute_result"
    }
   ],
   "source": [
    "# removing values that fall outside of quantiles of interest\n",
    "df[df.value1.between(df.value1.quantile(0.15), df.value1.quantile(0.85))]\n",
    "\n",
    "# TODO: consider tsmoothie package for smoothing"
   ]
  },
  {
   "cell_type": "code",
   "execution_count": 2,
   "metadata": {},
   "outputs": [
    {
     "data": {
      "text/html": [
       "<div>\n",
       "<style scoped>\n",
       "    .dataframe tbody tr th:only-of-type {\n",
       "        vertical-align: middle;\n",
       "    }\n",
       "\n",
       "    .dataframe tbody tr th {\n",
       "        vertical-align: top;\n",
       "    }\n",
       "\n",
       "    .dataframe thead th {\n",
       "        text-align: right;\n",
       "    }\n",
       "</style>\n",
       "<table border=\"1\" class=\"dataframe\">\n",
       "  <thead>\n",
       "    <tr style=\"text-align: right;\">\n",
       "      <th></th>\n",
       "      <th>val</th>\n",
       "    </tr>\n",
       "    <tr>\n",
       "      <th>datetime</th>\n",
       "      <th></th>\n",
       "    </tr>\n",
       "  </thead>\n",
       "  <tbody>\n",
       "    <tr>\n",
       "      <th>1970-01-01 00:00:00.010</th>\n",
       "      <td>0.1</td>\n",
       "    </tr>\n",
       "    <tr>\n",
       "      <th>1970-01-01 00:00:00.020</th>\n",
       "      <td>0.0</td>\n",
       "    </tr>\n",
       "  </tbody>\n",
       "</table>\n",
       "</div>"
      ],
      "text/plain": [
       "                         val\n",
       "datetime                    \n",
       "1970-01-01 00:00:00.010  0.1\n",
       "1970-01-01 00:00:00.020  0.0"
      ]
     },
     "execution_count": 2,
     "metadata": {},
     "output_type": "execute_result"
    }
   ],
   "source": [
    "import pandas as pd\n",
    "\n",
    "x1 = pd.DataFrame({'datetime': [pd.Timestamp(10, unit = 'ms'), pd.Timestamp(20, unit = 'ms')], 'val': [0.1,0]}).set_index('datetime')\n",
    "x2 = pd.DataFrame({'datetime': [pd.Timestamp(10, unit = 'ms'), pd.Timestamp(20, unit = 'ms')], 'val': [0.1,7]}).set_index('datetime')\n",
    "x3 = pd.DataFrame()\n",
    "x2_adj = x2[x2.index > max(x1.index)]\n",
    "xx = x1.append(x2_adj)\n",
    "xx"
   ]
  },
  {
   "cell_type": "code",
   "execution_count": 24,
   "metadata": {},
   "outputs": [
    {
     "data": {
      "text/plain": [
       "Timedelta('0 days 00:00:01.020000')"
      ]
     },
     "execution_count": 24,
     "metadata": {},
     "output_type": "execute_result"
    }
   ],
   "source": [
    "x0 = pd.DataFrame({'delta': [pd.Timedelta(10, unit = 'ms'), pd.Timedelta(20, unit = 'ms')], 'vale': [1,2], 'wawa': [2, 1]}).set_index('delta')\n",
    "x1 = pd.DataFrame({'datetime': [pd.Timestamp(10, unit = 'ms'), pd.Timestamp(20, unit = 'ms')], 'vale': [0.1,0], 'wawa': [2, 1]}).set_index('datetime')\n",
    "\n",
    "x0.index += pd.Timedelta(1, unit = 's')\n",
    "{'delta': x0[x0.index > pd.Timedelta(100)].index.to_list(), 'value': x0[x0.index > pd.Timedelta(100)].vale.to_list()}\n",
    "dd = x0.to_dict()\n",
    "dd['vale'].update(zip([pd.Timedelta(1000000)],[51]))\n",
    "dd\n",
    "\n",
    "x0.vale.idxmax()"
   ]
  },
  {
   "cell_type": "code",
   "execution_count": 4,
   "metadata": {},
   "outputs": [
    {
     "data": {
      "text/html": [
       "<div>\n",
       "<style scoped>\n",
       "    .dataframe tbody tr th:only-of-type {\n",
       "        vertical-align: middle;\n",
       "    }\n",
       "\n",
       "    .dataframe tbody tr th {\n",
       "        vertical-align: top;\n",
       "    }\n",
       "\n",
       "    .dataframe thead th {\n",
       "        text-align: right;\n",
       "    }\n",
       "</style>\n",
       "<table border=\"1\" class=\"dataframe\">\n",
       "  <thead>\n",
       "    <tr style=\"text-align: right;\">\n",
       "      <th></th>\n",
       "      <th>1</th>\n",
       "      <th>2</th>\n",
       "    </tr>\n",
       "  </thead>\n",
       "  <tbody>\n",
       "    <tr>\n",
       "      <th>1</th>\n",
       "      <td>a</td>\n",
       "      <td>b</td>\n",
       "    </tr>\n",
       "  </tbody>\n",
       "</table>\n",
       "</div>"
      ],
      "text/plain": [
       "   1  2\n",
       "1  a  b"
      ]
     },
     "execution_count": 4,
     "metadata": {},
     "output_type": "execute_result"
    }
   ],
   "source": [
    "import pandas as pd\n",
    "pd.DataFrame({1: 'a', 2 : 'b'}, index = [1])"
   ]
  },
  {
   "cell_type": "code",
   "execution_count": 32,
   "metadata": {},
   "outputs": [
    {
     "data": {
      "text/plain": [
       "['T',\n",
       " '__abs__',\n",
       " '__add__',\n",
       " '__and__',\n",
       " '__annotations__',\n",
       " '__array__',\n",
       " '__array_priority__',\n",
       " '__array_wrap__',\n",
       " '__bool__',\n",
       " '__class__',\n",
       " '__contains__',\n",
       " '__copy__',\n",
       " '__deepcopy__',\n",
       " '__delattr__',\n",
       " '__dict__',\n",
       " '__dir__',\n",
       " '__divmod__',\n",
       " '__doc__',\n",
       " '__eq__',\n",
       " '__floordiv__',\n",
       " '__format__',\n",
       " '__ge__',\n",
       " '__getattribute__',\n",
       " '__getitem__',\n",
       " '__gt__',\n",
       " '__hash__',\n",
       " '__iadd__',\n",
       " '__init__',\n",
       " '__init_subclass__',\n",
       " '__inv__',\n",
       " '__iter__',\n",
       " '__le__',\n",
       " '__len__',\n",
       " '__lt__',\n",
       " '__mod__',\n",
       " '__module__',\n",
       " '__mul__',\n",
       " '__ne__',\n",
       " '__neg__',\n",
       " '__new__',\n",
       " '__nonzero__',\n",
       " '__or__',\n",
       " '__pos__',\n",
       " '__pow__',\n",
       " '__radd__',\n",
       " '__rdivmod__',\n",
       " '__reduce__',\n",
       " '__reduce_ex__',\n",
       " '__repr__',\n",
       " '__rfloordiv__',\n",
       " '__rmod__',\n",
       " '__rmul__',\n",
       " '__rpow__',\n",
       " '__rsub__',\n",
       " '__rtruediv__',\n",
       " '__setattr__',\n",
       " '__setitem__',\n",
       " '__sizeof__',\n",
       " '__str__',\n",
       " '__sub__',\n",
       " '__subclasshook__',\n",
       " '__truediv__',\n",
       " '__weakref__',\n",
       " '__xor__',\n",
       " '_accessors',\n",
       " '_add_comparison_methods',\n",
       " '_add_delegate_accessors',\n",
       " '_add_logical_methods',\n",
       " '_add_logical_methods_disabled',\n",
       " '_add_numeric_methods',\n",
       " '_add_numeric_methods_add_sub_disabled',\n",
       " '_add_numeric_methods_binary',\n",
       " '_add_numeric_methods_disabled',\n",
       " '_add_numeric_methods_unary',\n",
       " '_assert_can_do_op',\n",
       " '_assert_can_do_setop',\n",
       " '_assert_safe_casting',\n",
       " '_assert_take_fillable',\n",
       " '_attributes',\n",
       " '_bool_ops',\n",
       " '_box_func',\n",
       " '_box_values',\n",
       " '_can_fast_union',\n",
       " '_can_hold_identifiers_and_holds_name',\n",
       " '_can_hold_na',\n",
       " '_can_reindex',\n",
       " '_cleanup',\n",
       " '_coerce_scalar_to_index',\n",
       " '_comparables',\n",
       " '_concat',\n",
       " '_concat_same_dtype',\n",
       " '_constructor',\n",
       " '_convert_arr_indexer',\n",
       " '_convert_can_do_setop',\n",
       " '_convert_for_op',\n",
       " '_convert_index_indexer',\n",
       " '_convert_list_indexer',\n",
       " '_convert_listlike_indexer',\n",
       " '_convert_scalar_indexer',\n",
       " '_convert_slice_indexer',\n",
       " '_convert_tolerance',\n",
       " '_datetimelike_methods',\n",
       " '_datetimelike_ops',\n",
       " '_default_dtype',\n",
       " '_defer_to_indexing',\n",
       " '_delegate_method',\n",
       " '_delegate_property_get',\n",
       " '_delegate_property_set',\n",
       " '_delegated_methods',\n",
       " '_delegated_properties',\n",
       " '_deprecations',\n",
       " '_dir_additions',\n",
       " '_dir_deletions',\n",
       " '_engine',\n",
       " '_engine_type',\n",
       " '_extra_methods',\n",
       " '_extra_raw_methods',\n",
       " '_extra_raw_properties',\n",
       " '_fast_union',\n",
       " '_field_ops',\n",
       " '_filter_indexer_tolerance',\n",
       " '_format_attrs',\n",
       " '_format_data',\n",
       " '_format_native_types',\n",
       " '_format_space',\n",
       " '_format_with_header',\n",
       " '_formatter_func',\n",
       " '_get_attributes_dict',\n",
       " '_get_fill_indexer',\n",
       " '_get_fill_indexer_searchsorted',\n",
       " '_get_grouper_for_level',\n",
       " '_get_level_number',\n",
       " '_get_level_values',\n",
       " '_get_names',\n",
       " '_get_nearest_indexer',\n",
       " '_get_reconciled_name_object',\n",
       " '_get_string_slice',\n",
       " '_get_time_micros',\n",
       " '_get_unique_index',\n",
       " '_has_complex_internals',\n",
       " '_has_same_tz',\n",
       " '_hasnans',\n",
       " '_id',\n",
       " '_infer_as_myclass',\n",
       " '_inner_indexer',\n",
       " '_internal_get_values',\n",
       " '_invalid_indexer',\n",
       " '_is_compatible_with_other',\n",
       " '_is_convertible_to_index_for_join',\n",
       " '_is_dates_only',\n",
       " '_is_memory_usage_qualified',\n",
       " '_is_monotonic_decreasing',\n",
       " '_is_monotonic_increasing',\n",
       " '_is_numeric_dtype',\n",
       " '_is_strictly_monotonic_decreasing',\n",
       " '_is_strictly_monotonic_increasing',\n",
       " '_is_unique',\n",
       " '_isnan',\n",
       " '_join_level',\n",
       " '_join_monotonic',\n",
       " '_join_multi',\n",
       " '_join_non_unique',\n",
       " '_join_precedence',\n",
       " '_left_indexer',\n",
       " '_left_indexer_unique',\n",
       " '_local_timestamps',\n",
       " '_map_values',\n",
       " '_maybe_cast_indexer',\n",
       " '_maybe_cast_slice_bound',\n",
       " '_maybe_promote',\n",
       " '_maybe_utc_convert',\n",
       " '_mpl_repr',\n",
       " '_na_value',\n",
       " '_name',\n",
       " '_nan_idxs',\n",
       " '_ndarray_values',\n",
       " '_no_setting_name',\n",
       " '_object_ops',\n",
       " '_outer_indexer',\n",
       " '_parsed_string_to_bounds',\n",
       " '_partial_date_slice',\n",
       " '_raw_methods',\n",
       " '_raw_properties',\n",
       " '_reduce',\n",
       " '_reindex_non_unique',\n",
       " '_reset_cache',\n",
       " '_reset_identity',\n",
       " '_resolution',\n",
       " '_scalar_data_error',\n",
       " '_searchsorted_monotonic',\n",
       " '_set_freq',\n",
       " '_set_names',\n",
       " '_shallow_copy',\n",
       " '_shallow_copy_with_infer',\n",
       " '_simple_new',\n",
       " '_sort_levels_monotonic',\n",
       " '_string_data_error',\n",
       " '_summary',\n",
       " '_supports_partial_string_indexing',\n",
       " '_timezone',\n",
       " '_to_safe_for_reshape',\n",
       " '_typ',\n",
       " '_union',\n",
       " '_union_incompatible_dtypes',\n",
       " '_update_inplace',\n",
       " '_validate_dtype',\n",
       " '_validate_index_level',\n",
       " '_validate_indexer',\n",
       " '_validate_names',\n",
       " '_validate_sort_keyword',\n",
       " '_values',\n",
       " '_wrap_joined_index',\n",
       " '_wrap_setop_result',\n",
       " 'all',\n",
       " 'any',\n",
       " 'append',\n",
       " 'argmax',\n",
       " 'argmin',\n",
       " 'argsort',\n",
       " 'array',\n",
       " 'asi8',\n",
       " 'asof',\n",
       " 'asof_locs',\n",
       " 'astype',\n",
       " 'ceil',\n",
       " 'copy',\n",
       " 'date',\n",
       " 'day',\n",
       " 'day_name',\n",
       " 'dayofweek',\n",
       " 'dayofyear',\n",
       " 'days_in_month',\n",
       " 'daysinmonth',\n",
       " 'delete',\n",
       " 'difference',\n",
       " 'drop',\n",
       " 'drop_duplicates',\n",
       " 'droplevel',\n",
       " 'dropna',\n",
       " 'dtype',\n",
       " 'duplicated',\n",
       " 'empty',\n",
       " 'equals',\n",
       " 'factorize',\n",
       " 'fillna',\n",
       " 'floor',\n",
       " 'format',\n",
       " 'freq',\n",
       " 'freqstr',\n",
       " 'get_indexer',\n",
       " 'get_indexer_for',\n",
       " 'get_indexer_non_unique',\n",
       " 'get_level_values',\n",
       " 'get_loc',\n",
       " 'get_slice_bound',\n",
       " 'get_value',\n",
       " 'get_value_maybe_box',\n",
       " 'groupby',\n",
       " 'has_duplicates',\n",
       " 'hasnans',\n",
       " 'holds_integer',\n",
       " 'hour',\n",
       " 'identical',\n",
       " 'indexer_at_time',\n",
       " 'indexer_between_time',\n",
       " 'inferred_freq',\n",
       " 'inferred_type',\n",
       " 'insert',\n",
       " 'intersection',\n",
       " 'is_',\n",
       " 'is_all_dates',\n",
       " 'is_boolean',\n",
       " 'is_categorical',\n",
       " 'is_floating',\n",
       " 'is_integer',\n",
       " 'is_interval',\n",
       " 'is_leap_year',\n",
       " 'is_mixed',\n",
       " 'is_monotonic',\n",
       " 'is_monotonic_decreasing',\n",
       " 'is_monotonic_increasing',\n",
       " 'is_month_end',\n",
       " 'is_month_start',\n",
       " 'is_normalized',\n",
       " 'is_numeric',\n",
       " 'is_object',\n",
       " 'is_quarter_end',\n",
       " 'is_quarter_start',\n",
       " 'is_type_compatible',\n",
       " 'is_unique',\n",
       " 'is_year_end',\n",
       " 'is_year_start',\n",
       " 'isin',\n",
       " 'isna',\n",
       " 'isnull',\n",
       " 'item',\n",
       " 'join',\n",
       " 'map',\n",
       " 'max',\n",
       " 'mean',\n",
       " 'memory_usage',\n",
       " 'microsecond',\n",
       " 'min',\n",
       " 'minute',\n",
       " 'month',\n",
       " 'month_name',\n",
       " 'name',\n",
       " 'names',\n",
       " 'nanosecond',\n",
       " 'nbytes',\n",
       " 'ndim',\n",
       " 'nlevels',\n",
       " 'normalize',\n",
       " 'notna',\n",
       " 'notnull',\n",
       " 'nunique',\n",
       " 'putmask',\n",
       " 'quarter',\n",
       " 'ravel',\n",
       " 'reindex',\n",
       " 'rename',\n",
       " 'repeat',\n",
       " 'resolution',\n",
       " 'round',\n",
       " 'searchsorted',\n",
       " 'second',\n",
       " 'set_names',\n",
       " 'shape',\n",
       " 'shift',\n",
       " 'size',\n",
       " 'slice_indexer',\n",
       " 'slice_locs',\n",
       " 'snap',\n",
       " 'sort',\n",
       " 'sort_values',\n",
       " 'sortlevel',\n",
       " 'strftime',\n",
       " 'symmetric_difference',\n",
       " 'take',\n",
       " 'time',\n",
       " 'timetz',\n",
       " 'to_flat_index',\n",
       " 'to_frame',\n",
       " 'to_julian_date',\n",
       " 'to_list',\n",
       " 'to_native_types',\n",
       " 'to_numpy',\n",
       " 'to_period',\n",
       " 'to_perioddelta',\n",
       " 'to_pydatetime',\n",
       " 'to_series',\n",
       " 'transpose',\n",
       " 'tz',\n",
       " 'tz_convert',\n",
       " 'tz_localize',\n",
       " 'tzinfo',\n",
       " 'union',\n",
       " 'union_many',\n",
       " 'unique',\n",
       " 'value_counts',\n",
       " 'values',\n",
       " 'view',\n",
       " 'week',\n",
       " 'weekday',\n",
       " 'weekofyear',\n",
       " 'where',\n",
       " 'year']"
      ]
     },
     "execution_count": 32,
     "metadata": {},
     "output_type": "execute_result"
    }
   ],
   "source": [
    "dir(xx.index)"
   ]
  },
  {
   "cell_type": "code",
   "execution_count": 62,
   "metadata": {},
   "outputs": [
    {
     "data": {
      "text/plain": [
       "0.9999999999999999"
      ]
     },
     "execution_count": 62,
     "metadata": {},
     "output_type": "execute_result"
    }
   ],
   "source": [
    "xx.val.shift(1).fillna(0).corr(xx.val)"
   ]
  },
  {
   "cell_type": "code",
   "execution_count": 77,
   "metadata": {},
   "outputs": [
    {
     "data": {
      "text/plain": [
       "Timedelta('0 days 00:10:00')"
      ]
     },
     "execution_count": 77,
     "metadata": {},
     "output_type": "execute_result"
    }
   ],
   "source": [
    "pd.Timedelta(10, unit = 'm')"
   ]
  }
 ],
 "metadata": {
  "kernelspec": {
   "display_name": "Python 3",
   "language": "python",
   "name": "python3"
  },
  "language_info": {
   "codemirror_mode": {
    "name": "ipython",
    "version": 3
   },
   "file_extension": ".py",
   "mimetype": "text/x-python",
   "name": "python",
   "nbconvert_exporter": "python",
   "pygments_lexer": "ipython3",
   "version": "3.7.3"
  }
 },
 "nbformat": 4,
 "nbformat_minor": 4
}
