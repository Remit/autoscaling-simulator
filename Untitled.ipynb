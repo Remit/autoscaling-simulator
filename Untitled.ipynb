{
 "cells": [
  {
   "cell_type": "code",
   "execution_count": 11,
   "metadata": {},
   "outputs": [],
   "source": [
    "import pandas as pd\n",
    "\n",
    "r1 = pd.DataFrame({'id': [1, 2], 'datetime': [pd.Timestamp(10), pd.Timestamp(20)], 'val': [1, 2]})\n",
    "r2 = pd.DataFrame(columns = ['id', 'datetime', 'val'])\n",
    "r3 = pd.DataFrame({'id': [1, 2], 'datetime': [pd.Timestamp(40), pd.Timestamp(50)], 'val': [1, 2]})"
   ]
  },
  {
   "cell_type": "code",
   "execution_count": 17,
   "metadata": {},
   "outputs": [],
   "source": [
    "r1['nn'] = r1.id.map(str) + \"---\" + r1.datetime.map(str)"
   ]
  },
  {
   "cell_type": "code",
   "execution_count": 21,
   "metadata": {},
   "outputs": [],
   "source": [
    "import pickle\n",
    "pickle.dump( [1,2,3], open( \"save.p\", \"wb\" ) )"
   ]
  },
  {
   "cell_type": "code",
   "execution_count": 39,
   "metadata": {},
   "outputs": [
    {
     "data": {
      "text/plain": [
       "Matrix([[0, 1, 0, 0, 0, 0, 0, 0, 0, 0], [1, 0, 1, 0, 0, 0, 0, 0, 0, 0], [0, 1, 0, 1, 0, 0, 0, 1, 1, 1], [0, 0, 1, 0, 1, 0, 0, 0, 0, 0], [0, 0, 0, 1, 0, 1, 0, 0, 0, 0], [0, 0, 0, 0, 1, 0, 1, 0, 0, 0], [0, 0, 0, 0, 0, 1, 0, 0, 0, 0], [0, 0, 1, 0, 0, 0, 0, 0, 0, 0], [0, 0, 1, 0, 0, 0, 0, 0, 0, 0], [0, 0, 1, 0, 0, 0, 0, 0, 0, 0]])"
      ]
     },
     "execution_count": 39,
     "metadata": {},
     "output_type": "execute_result"
    }
   ],
   "source": [
    "import igraph\n",
    "\n",
    "g = igraph.Graph.Barabasi(10, power=0.9, zero_appeal=3.25)\n",
    "g.get_adjacency()"
   ]
  },
  {
   "cell_type": "code",
   "execution_count": 60,
   "metadata": {},
   "outputs": [],
   "source": [
    "import igraph\n",
    "\n",
    "class AppStructureGenerator:\n",
    "\n",
    "    \"\"\"\n",
    "    Generates the structure of the application based on the Barabasi-Albert model\n",
    "    with parameters provided in the paper:\n",
    "\n",
    "    Vladimir Podolskiy, Maria Patrou, Panos Patros, Michael Gerndt, and Kenneth B. Kent. 2020.\n",
    "    The weakest link: revealing and modeling the architectural patterns of microservice applications.\n",
    "    In Proceedings of the 30th Annual International Conference on Computer Science and Software Engineering (CASCON '20).\n",
    "    IBM Corp., USA, 113–122.\n",
    "\n",
    "    Reference for BA-model implementation:\n",
    "    https://igraph.org/python/doc/igraph.GraphBase-class.html#Barabasi\n",
    "    \"\"\"\n",
    "\n",
    "    parameter_sets = {\n",
    "        'tiered_with_single_center_a': { 'power': 0.05, 'zero_appeal': 0.01},\n",
    "        'single_center_b': { 'power': 0.9, 'zero_appeal': 0.01},\n",
    "        'tree_with_multiple_centers_c': { 'power': 0.05, 'zero_appeal': 3.25},\n",
    "        'pipeline_with_multiple_centers_d': { 'power': 0.9, 'zero_appeal': 3.25}\n",
    "    }\n",
    "\n",
    "    default_parameter_set = 'tree_with_multiple_centers_c'\n",
    "\n",
    "    @classmethod\n",
    "    def generate(cls, services_count, parameter_set_name : str = None,\n",
    "                 power : float = None, zero_appeal : float = None):\n",
    "\n",
    "        if parameter_set_name is None and power is None and zero_appeal is None:\n",
    "            parameter_set_name = cls.default_parameter_set\n",
    "\n",
    "        graph_settings = dict()\n",
    "        if not parameter_set_name is None:\n",
    "            #power = cls.parameter_sets[parameter_set_name]['power']\n",
    "            #zero_appeal = cls.parameter_sets[parameter_set_name]['zero_appeal']\n",
    "            graph_settings = cls.parameter_sets[parameter_set_name]\n",
    "\n",
    "        else:\n",
    "            if not power is None:\n",
    "                graph_settings['power'] = power\n",
    "\n",
    "            if not zero_appeal is None:\n",
    "                graph_settings['zero_appeal'] = zero_appeal\n",
    "\n",
    "        g = igraph.Graph.Barabasi(services_count, **graph_settings)\n",
    "        return g\n",
    "        \n",
    "g = AppStructureGenerator.generate(10, zero_appeal = 10)"
   ]
  },
  {
   "cell_type": "code",
   "execution_count": 65,
   "metadata": {},
   "outputs": [
    {
     "data": {
      "text/plain": [
       "[0, 4, 5]"
      ]
     },
     "execution_count": 65,
     "metadata": {},
     "output_type": "execute_result"
    }
   ],
   "source": [
    "visited = []\n",
    "g.neighbors(3)"
   ]
  },
  {
   "cell_type": "code",
   "execution_count": 89,
   "metadata": {},
   "outputs": [
    {
     "data": {
      "text/plain": [
       "{0: [1, 2, 3],\n",
       " 1: None,\n",
       " 2: [9],\n",
       " 3: [4, 5],\n",
       " 9: None,\n",
       " 4: [7],\n",
       " 5: [6, 8],\n",
       " 7: None,\n",
       " 6: None,\n",
       " 8: None}"
      ]
     },
     "execution_count": 89,
     "metadata": {},
     "output_type": "execute_result"
    }
   ],
   "source": [
    "import collections\n",
    "\n",
    "g1 = g.spanning_tree()\n",
    "visited = []\n",
    "\n",
    "cur_vertices = collections.deque([0])\n",
    "next_vertices = dict()\n",
    "while len(cur_vertices) > 0:\n",
    "    vertex_id = cur_vertices.popleft()\n",
    "    if not vertex_id in visited:\n",
    "        nb = g1.neighbors(vertex_id)\n",
    "        next_vertices[vertex_id] = [ v for v in nb if not v in visited ]\n",
    "        cur_vertices.extend(nb)\n",
    "        visited.append(vertex_id)\n",
    "    \n",
    "next_vertices = {v : nodes if len(nodes) > 0 else None for v, nodes in next_vertices.items()}\n",
    "next_vertices"
   ]
  },
  {
   "cell_type": "code",
   "execution_count": 138,
   "metadata": {},
   "outputs": [
    {
     "data": {
      "text/plain": [
       "[(1, 3)]"
      ]
     },
     "execution_count": 138,
     "metadata": {},
     "output_type": "execute_result"
    }
   ],
   "source": [
    "import random\n",
    "\n",
    "intervals = [ (beg, end) for beg, end in zip([1,2], [3,4]) ]\n",
    "random.choices(intervals, weights = [0.9, 0.1])"
   ]
  }
 ],
 "metadata": {
  "kernelspec": {
   "display_name": "Python 3",
   "language": "python",
   "name": "python3"
  },
  "language_info": {
   "codemirror_mode": {
    "name": "ipython",
    "version": 3
   },
   "file_extension": ".py",
   "mimetype": "text/x-python",
   "name": "python",
   "nbconvert_exporter": "python",
   "pygments_lexer": "ipython3",
   "version": "3.7.3"
  }
 },
 "nbformat": 4,
 "nbformat_minor": 4
}
