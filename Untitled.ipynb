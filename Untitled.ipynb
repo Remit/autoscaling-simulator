{
 "cells": [
  {
   "cell_type": "code",
   "execution_count": 11,
   "metadata": {},
   "outputs": [],
   "source": [
    "import pandas as pd\n",
    "\n",
    "r1 = pd.DataFrame({'id': [1, 2], 'datetime': [pd.Timestamp(10), pd.Timestamp(20)], 'val': [1, 2]})\n",
    "r2 = pd.DataFrame(columns = ['id', 'datetime', 'val'])\n",
    "r3 = pd.DataFrame({'id': [1, 2], 'datetime': [pd.Timestamp(40), pd.Timestamp(50)], 'val': [1, 2]})"
   ]
  },
  {
   "cell_type": "code",
   "execution_count": 17,
   "metadata": {},
   "outputs": [],
   "source": [
    "r1['nn'] = r1.id.map(str) + \"---\" + r1.datetime.map(str)"
   ]
  },
  {
   "cell_type": "code",
   "execution_count": 21,
   "metadata": {},
   "outputs": [],
   "source": [
    "import pickle\n",
    "pickle.dump( [1,2,3], open( \"save.p\", \"wb\" ) )"
   ]
  },
  {
   "cell_type": "code",
   "execution_count": 39,
   "metadata": {},
   "outputs": [
    {
     "data": {
      "text/plain": [
       "Matrix([[0, 1, 0, 0, 0, 0, 0, 0, 0, 0], [1, 0, 1, 0, 0, 0, 0, 0, 0, 0], [0, 1, 0, 1, 0, 0, 0, 1, 1, 1], [0, 0, 1, 0, 1, 0, 0, 0, 0, 0], [0, 0, 0, 1, 0, 1, 0, 0, 0, 0], [0, 0, 0, 0, 1, 0, 1, 0, 0, 0], [0, 0, 0, 0, 0, 1, 0, 0, 0, 0], [0, 0, 1, 0, 0, 0, 0, 0, 0, 0], [0, 0, 1, 0, 0, 0, 0, 0, 0, 0], [0, 0, 1, 0, 0, 0, 0, 0, 0, 0]])"
      ]
     },
     "execution_count": 39,
     "metadata": {},
     "output_type": "execute_result"
    }
   ],
   "source": [
    "import igraph\n",
    "\n",
    "g = igraph.Graph.Barabasi(10, power=0.9, zero_appeal=3.25)\n",
    "g.get_adjacency()"
   ]
  },
  {
   "cell_type": "code",
   "execution_count": 60,
   "metadata": {},
   "outputs": [],
   "source": [
    "import igraph\n",
    "\n",
    "class AppStructureGenerator:\n",
    "\n",
    "    \"\"\"\n",
    "    Generates the structure of the application based on the Barabasi-Albert model\n",
    "    with parameters provided in the paper:\n",
    "\n",
    "    Vladimir Podolskiy, Maria Patrou, Panos Patros, Michael Gerndt, and Kenneth B. Kent. 2020.\n",
    "    The weakest link: revealing and modeling the architectural patterns of microservice applications.\n",
    "    In Proceedings of the 30th Annual International Conference on Computer Science and Software Engineering (CASCON '20).\n",
    "    IBM Corp., USA, 113–122.\n",
    "\n",
    "    Reference for BA-model implementation:\n",
    "    https://igraph.org/python/doc/igraph.GraphBase-class.html#Barabasi\n",
    "    \"\"\"\n",
    "\n",
    "    parameter_sets = {\n",
    "        'tiered_with_single_center_a': { 'power': 0.05, 'zero_appeal': 0.01},\n",
    "        'single_center_b': { 'power': 0.9, 'zero_appeal': 0.01},\n",
    "        'tree_with_multiple_centers_c': { 'power': 0.05, 'zero_appeal': 3.25},\n",
    "        'pipeline_with_multiple_centers_d': { 'power': 0.9, 'zero_appeal': 3.25}\n",
    "    }\n",
    "\n",
    "    default_parameter_set = 'tree_with_multiple_centers_c'\n",
    "\n",
    "    @classmethod\n",
    "    def generate(cls, services_count, parameter_set_name : str = None,\n",
    "                 power : float = None, zero_appeal : float = None):\n",
    "\n",
    "        if parameter_set_name is None and power is None and zero_appeal is None:\n",
    "            parameter_set_name = cls.default_parameter_set\n",
    "\n",
    "        graph_settings = dict()\n",
    "        if not parameter_set_name is None:\n",
    "            #power = cls.parameter_sets[parameter_set_name]['power']\n",
    "            #zero_appeal = cls.parameter_sets[parameter_set_name]['zero_appeal']\n",
    "            graph_settings = cls.parameter_sets[parameter_set_name]\n",
    "\n",
    "        else:\n",
    "            if not power is None:\n",
    "                graph_settings['power'] = power\n",
    "\n",
    "            if not zero_appeal is None:\n",
    "                graph_settings['zero_appeal'] = zero_appeal\n",
    "\n",
    "        g = igraph.Graph.Barabasi(services_count, **graph_settings)\n",
    "        return g\n",
    "        \n",
    "g = AppStructureGenerator.generate(10, zero_appeal = 10)"
   ]
  },
  {
   "cell_type": "code",
   "execution_count": 65,
   "metadata": {},
   "outputs": [
    {
     "data": {
      "text/plain": [
       "[0, 4, 5]"
      ]
     },
     "execution_count": 65,
     "metadata": {},
     "output_type": "execute_result"
    }
   ],
   "source": [
    "visited = []\n",
    "g.neighbors(3)"
   ]
  },
  {
   "cell_type": "code",
   "execution_count": 89,
   "metadata": {},
   "outputs": [
    {
     "data": {
      "text/plain": [
       "{0: [1, 2, 3],\n",
       " 1: None,\n",
       " 2: [9],\n",
       " 3: [4, 5],\n",
       " 9: None,\n",
       " 4: [7],\n",
       " 5: [6, 8],\n",
       " 7: None,\n",
       " 6: None,\n",
       " 8: None}"
      ]
     },
     "execution_count": 89,
     "metadata": {},
     "output_type": "execute_result"
    }
   ],
   "source": [
    "import collections\n",
    "\n",
    "g1 = g.spanning_tree()\n",
    "visited = []\n",
    "\n",
    "cur_vertices = collections.deque([0])\n",
    "next_vertices = dict()\n",
    "while len(cur_vertices) > 0:\n",
    "    vertex_id = cur_vertices.popleft()\n",
    "    if not vertex_id in visited:\n",
    "        nb = g1.neighbors(vertex_id)\n",
    "        next_vertices[vertex_id] = [ v for v in nb if not v in visited ]\n",
    "        cur_vertices.extend(nb)\n",
    "        visited.append(vertex_id)\n",
    "    \n",
    "next_vertices = {v : nodes if len(nodes) > 0 else None for v, nodes in next_vertices.items()}\n",
    "next_vertices"
   ]
  },
  {
   "cell_type": "code",
   "execution_count": 11,
   "metadata": {},
   "outputs": [
    {
     "data": {
      "text/plain": [
       "[64, 10, 43, 76, 47, 98]"
      ]
     },
     "execution_count": 11,
     "metadata": {},
     "output_type": "execute_result"
    }
   ],
   "source": [
    "import random\n",
    "\n",
    "random.choices(range(1290), k =121)"
   ]
  },
  {
   "cell_type": "code",
   "execution_count": 63,
   "metadata": {},
   "outputs": [
    {
     "data": {
      "text/plain": [
       "[<matplotlib.lines.Line2D at 0x1d67e6fc9b0>]"
      ]
     },
     "execution_count": 63,
     "metadata": {},
     "output_type": "execute_result"
    },
    {
     "data": {
      "image/png": "[encoded data removed]",
      "text/plain": [
       "<Figure size 432x288 with 1 Axes>"
      ]
     },
     "metadata": {
      "needs_background": "light"
     },
     "output_type": "display_data"
    }
   ],
   "source": [
    "import pandas as pd\n",
    "import random\n",
    "import matplotlib.pyplot as plt\n",
    "\n",
    "def crosscor(col1, col2, lag = 0):\n",
    "    \n",
    "    return col1.corr(col2.shift(lag).fillna(0))\n",
    "\n",
    "df = pd.DataFrame({'datetime': pd.date_range(pd.Timestamp('2020-12-22T10:00:00'), pd.Timestamp('2020-12-22T12:00:00'), freq = '1T'), 'value1': random.choices(range(1290), k =121)}).set_index('datetime')\n",
    "df['value2'] = df.value1.shift(-10).fillna(0) + random.choices(range(10), k = 121)\n",
    "\n",
    "df.rolling(pd.Timedelta(5, unit = 'm')).corr()\n",
    "\n",
    "cross_cor_df = pd.DataFrame({\"lags\": range(-25, 25), \"corr\": [crosscor(df.value1, df.value2, lag) for lag in range(-25, 25)]}).set_index(\"lags\")\n",
    "plt.plot(cross_cor_df)\n",
    "\n",
    "# when shifting one signal over the other, it is important to identify the window of such a shifting"
   ]
  },
  {
   "cell_type": "code",
   "execution_count": 72,
   "metadata": {},
   "outputs": [
    {
     "data": {
      "text/plain": [
       "corr    10\n",
       "dtype: int64"
      ]
     },
     "execution_count": 72,
     "metadata": {},
     "output_type": "execute_result"
    }
   ],
   "source": [
    "cross_cor_df.idxmax()"
   ]
  },
  {
   "cell_type": "code",
   "execution_count": 34,
   "metadata": {},
   "outputs": [
    {
     "data": {
      "image/png": "[encoded data removed]",
      "text/plain": [
       "<Figure size 432x288 with 1 Axes>"
      ]
     },
     "metadata": {
      "needs_background": "light"
     },
     "output_type": "display_data"
    }
   ],
   "source": [
    "from dtw import dtw, accelerated_dtw\n",
    "import numpy as np\n",
    "\n",
    "d, cost_matrix, acc_cost_matrix, path = accelerated_dtw(df.value1.values, df.value2.values, dist = 'euclidean')\n",
    "\n",
    "plt.imshow(acc_cost_matrix.T, origin='lower', cmap='gray', interpolation='nearest')\n",
    "plt.plot(path[0], path[1], 'w')\n",
    "plt.xlabel('Subject1')\n",
    "plt.ylabel('Subject2')\n",
    "plt.title(f'DTW Minimum Path with minimum distance: {np.round(d,2)}')\n",
    "plt.show()"
   ]
  },
  {
   "cell_type": "code",
   "execution_count": 36,
   "metadata": {},
   "outputs": [
    {
     "data": {
      "text/html": [
       "<div>\n",
       "<style scoped>\n",
       "    .dataframe tbody tr th:only-of-type {\n",
       "        vertical-align: middle;\n",
       "    }\n",
       "\n",
       "    .dataframe tbody tr th {\n",
       "        vertical-align: top;\n",
       "    }\n",
       "\n",
       "    .dataframe thead th {\n",
       "        text-align: right;\n",
       "    }\n",
       "</style>\n",
       "<table border=\"1\" class=\"dataframe\">\n",
       "  <thead>\n",
       "    <tr style=\"text-align: right;\">\n",
       "      <th></th>\n",
       "      <th>value1</th>\n",
       "      <th>value2</th>\n",
       "    </tr>\n",
       "    <tr>\n",
       "      <th>datetime</th>\n",
       "      <th></th>\n",
       "      <th></th>\n",
       "    </tr>\n",
       "  </thead>\n",
       "  <tbody>\n",
       "    <tr>\n",
       "      <th>2020-12-22 10:00:00</th>\n",
       "      <td>898</td>\n",
       "      <td>185.0</td>\n",
       "    </tr>\n",
       "    <tr>\n",
       "      <th>2020-12-22 10:03:00</th>\n",
       "      <td>802</td>\n",
       "      <td>674.0</td>\n",
       "    </tr>\n",
       "    <tr>\n",
       "      <th>2020-12-22 10:05:00</th>\n",
       "      <td>774</td>\n",
       "      <td>426.0</td>\n",
       "    </tr>\n",
       "    <tr>\n",
       "      <th>2020-12-22 10:06:00</th>\n",
       "      <td>827</td>\n",
       "      <td>1124.0</td>\n",
       "    </tr>\n",
       "    <tr>\n",
       "      <th>2020-12-22 10:07:00</th>\n",
       "      <td>1019</td>\n",
       "      <td>97.0</td>\n",
       "    </tr>\n",
       "    <tr>\n",
       "      <th>...</th>\n",
       "      <td>...</td>\n",
       "      <td>...</td>\n",
       "    </tr>\n",
       "    <tr>\n",
       "      <th>2020-12-22 11:56:00</th>\n",
       "      <td>713</td>\n",
       "      <td>4.0</td>\n",
       "    </tr>\n",
       "    <tr>\n",
       "      <th>2020-12-22 11:57:00</th>\n",
       "      <td>701</td>\n",
       "      <td>6.0</td>\n",
       "    </tr>\n",
       "    <tr>\n",
       "      <th>2020-12-22 11:58:00</th>\n",
       "      <td>864</td>\n",
       "      <td>5.0</td>\n",
       "    </tr>\n",
       "    <tr>\n",
       "      <th>2020-12-22 11:59:00</th>\n",
       "      <td>1092</td>\n",
       "      <td>1.0</td>\n",
       "    </tr>\n",
       "    <tr>\n",
       "      <th>2020-12-22 12:00:00</th>\n",
       "      <td>542</td>\n",
       "      <td>2.0</td>\n",
       "    </tr>\n",
       "  </tbody>\n",
       "</table>\n",
       "<p>85 rows × 2 columns</p>\n",
       "</div>"
      ],
      "text/plain": [
       "                     value1  value2\n",
       "datetime                           \n",
       "2020-12-22 10:00:00     898   185.0\n",
       "2020-12-22 10:03:00     802   674.0\n",
       "2020-12-22 10:05:00     774   426.0\n",
       "2020-12-22 10:06:00     827  1124.0\n",
       "2020-12-22 10:07:00    1019    97.0\n",
       "...                     ...     ...\n",
       "2020-12-22 11:56:00     713     4.0\n",
       "2020-12-22 11:57:00     701     6.0\n",
       "2020-12-22 11:58:00     864     5.0\n",
       "2020-12-22 11:59:00    1092     1.0\n",
       "2020-12-22 12:00:00     542     2.0\n",
       "\n",
       "[85 rows x 2 columns]"
      ]
     },
     "execution_count": 36,
     "metadata": {},
     "output_type": "execute_result"
    }
   ],
   "source": [
    "# removing values that fall outside of quantiles of interest\n",
    "df[df.value1.between(df.value1.quantile(0.15), df.value1.quantile(0.85))]\n",
    "\n",
    "# TODO: consider tsmoothie package for smoothing"
   ]
  },
  {
   "cell_type": "code",
   "execution_count": 2,
   "metadata": {},
   "outputs": [
    {
     "data": {
      "text/html": [
       "<div>\n",
       "<style scoped>\n",
       "    .dataframe tbody tr th:only-of-type {\n",
       "        vertical-align: middle;\n",
       "    }\n",
       "\n",
       "    .dataframe tbody tr th {\n",
       "        vertical-align: top;\n",
       "    }\n",
       "\n",
       "    .dataframe thead th {\n",
       "        text-align: right;\n",
       "    }\n",
       "</style>\n",
       "<table border=\"1\" class=\"dataframe\">\n",
       "  <thead>\n",
       "    <tr style=\"text-align: right;\">\n",
       "      <th></th>\n",
       "      <th>val</th>\n",
       "    </tr>\n",
       "    <tr>\n",
       "      <th>datetime</th>\n",
       "      <th></th>\n",
       "    </tr>\n",
       "  </thead>\n",
       "  <tbody>\n",
       "    <tr>\n",
       "      <th>1970-01-01 00:00:00.010</th>\n",
       "      <td>0.1</td>\n",
       "    </tr>\n",
       "    <tr>\n",
       "      <th>1970-01-01 00:00:00.020</th>\n",
       "      <td>0.0</td>\n",
       "    </tr>\n",
       "  </tbody>\n",
       "</table>\n",
       "</div>"
      ],
      "text/plain": [
       "                         val\n",
       "datetime                    \n",
       "1970-01-01 00:00:00.010  0.1\n",
       "1970-01-01 00:00:00.020  0.0"
      ]
     },
     "execution_count": 2,
     "metadata": {},
     "output_type": "execute_result"
    }
   ],
   "source": [
    "import pandas as pd\n",
    "\n",
    "x1 = pd.DataFrame({'datetime': [pd.Timestamp(10, unit = 'ms'), pd.Timestamp(20, unit = 'ms')], 'val': [0.1,0]}).set_index('datetime')\n",
    "x2 = pd.DataFrame({'datetime': [pd.Timestamp(10, unit = 'ms'), pd.Timestamp(20, unit = 'ms')], 'val': [0.1,7]}).set_index('datetime')\n",
    "x3 = pd.DataFrame()\n",
    "x2_adj = x2[x2.index > max(x1.index)]\n",
    "xx = x1.append(x2_adj)\n",
    "xx"
   ]
  },
  {
   "cell_type": "code",
   "execution_count": 37,
   "metadata": {},
   "outputs": [
    {
     "data": {
      "text/plain": [
       "Timedelta('0 days 00:00:01.010000')"
      ]
     },
     "execution_count": 37,
     "metadata": {},
     "output_type": "execute_result"
    }
   ],
   "source": [
    "x0 = pd.DataFrame({'delta': [pd.Timedelta(10, unit = 'ms'), pd.Timedelta(10, unit = 'ms'), pd.Timedelta(20, unit = 'ms')], 'vale': [1,3,2]}).set_index('delta')\n",
    "x1 = pd.DataFrame({'datetime': [pd.Timestamp(10, unit = 'ms'), pd.Timestamp(20, unit = 'ms')], 'vale': [0.1,0]}).set_index('datetime')\n",
    "\n",
    "x0.index += pd.Timedelta(1, unit = 's')\n",
    "{'delta': x0[x0.index > pd.Timedelta(100)].index.to_list(), 'value': x0[x0.index > pd.Timedelta(100)].vale.to_list()}\n",
    "dd = x0.to_dict()\n",
    "dd['vale'].update(zip([pd.Timedelta(1000000)],[51]))\n",
    "dd\n",
    "\n",
    "x0.vale.idxmax()"
   ]
  },
  {
   "cell_type": "code",
   "execution_count": 44,
   "metadata": {},
   "outputs": [
    {
     "data": {
      "text/plain": [
       "dtype('float64')"
      ]
     },
     "execution_count": 44,
     "metadata": {},
     "output_type": "execute_result"
    }
   ],
   "source": [
    "df = pd.DataFrame({'column2':pd.Series([], dtype='float')})\n",
    "df.column2.dtype"
   ]
  },
  {
   "cell_type": "code",
   "execution_count": 32,
   "metadata": {},
   "outputs": [
    {
     "data": {
      "text/plain": [
       "['T',\n",
       " '__abs__',\n",
       " '__add__',\n",
       " '__and__',\n",
       " '__annotations__',\n",
       " '__array__',\n",
       " '__array_priority__',\n",
       " '__array_wrap__',\n",
       " '__bool__',\n",
       " '__class__',\n",
       " '__contains__',\n",
       " '__copy__',\n",
       " '__deepcopy__',\n",
       " '__delattr__',\n",
       " '__dict__',\n",
       " '__dir__',\n",
       " '__divmod__',\n",
       " '__doc__',\n",
       " '__eq__',\n",
       " '__floordiv__',\n",
       " '__format__',\n",
       " '__ge__',\n",
       " '__getattribute__',\n",
       " '__getitem__',\n",
       " '__gt__',\n",
       " '__hash__',\n",
       " '__iadd__',\n",
       " '__init__',\n",
       " '__init_subclass__',\n",
       " '__inv__',\n",
       " '__iter__',\n",
       " '__le__',\n",
       " '__len__',\n",
       " '__lt__',\n",
       " '__mod__',\n",
       " '__module__',\n",
       " '__mul__',\n",
       " '__ne__',\n",
       " '__neg__',\n",
       " '__new__',\n",
       " '__nonzero__',\n",
       " '__or__',\n",
       " '__pos__',\n",
       " '__pow__',\n",
       " '__radd__',\n",
       " '__rdivmod__',\n",
       " '__reduce__',\n",
       " '__reduce_ex__',\n",
       " '__repr__',\n",
       " '__rfloordiv__',\n",
       " '__rmod__',\n",
       " '__rmul__',\n",
       " '__rpow__',\n",
       " '__rsub__',\n",
       " '__rtruediv__',\n",
       " '__setattr__',\n",
       " '__setitem__',\n",
       " '__sizeof__',\n",
       " '__str__',\n",
       " '__sub__',\n",
       " '__subclasshook__',\n",
       " '__truediv__',\n",
       " '__weakref__',\n",
       " '__xor__',\n",
       " '_accessors',\n",
       " '_add_comparison_methods',\n",
       " '_add_delegate_accessors',\n",
       " '_add_logical_methods',\n",
       " '_add_logical_methods_disabled',\n",
       " '_add_numeric_methods',\n",
       " '_add_numeric_methods_add_sub_disabled',\n",
       " '_add_numeric_methods_binary',\n",
       " '_add_numeric_methods_disabled',\n",
       " '_add_numeric_methods_unary',\n",
       " '_assert_can_do_op',\n",
       " '_assert_can_do_setop',\n",
       " '_assert_safe_casting',\n",
       " '_assert_take_fillable',\n",
       " '_attributes',\n",
       " '_bool_ops',\n",
       " '_box_func',\n",
       " '_box_values',\n",
       " '_can_fast_union',\n",
       " '_can_hold_identifiers_and_holds_name',\n",
       " '_can_hold_na',\n",
       " '_can_reindex',\n",
       " '_cleanup',\n",
       " '_coerce_scalar_to_index',\n",
       " '_comparables',\n",
       " '_concat',\n",
       " '_concat_same_dtype',\n",
       " '_constructor',\n",
       " '_convert_arr_indexer',\n",
       " '_convert_can_do_setop',\n",
       " '_convert_for_op',\n",
       " '_convert_index_indexer',\n",
       " '_convert_list_indexer',\n",
       " '_convert_listlike_indexer',\n",
       " '_convert_scalar_indexer',\n",
       " '_convert_slice_indexer',\n",
       " '_convert_tolerance',\n",
       " '_datetimelike_methods',\n",
       " '_datetimelike_ops',\n",
       " '_default_dtype',\n",
       " '_defer_to_indexing',\n",
       " '_delegate_method',\n",
       " '_delegate_property_get',\n",
       " '_delegate_property_set',\n",
       " '_delegated_methods',\n",
       " '_delegated_properties',\n",
       " '_deprecations',\n",
       " '_dir_additions',\n",
       " '_dir_deletions',\n",
       " '_engine',\n",
       " '_engine_type',\n",
       " '_extra_methods',\n",
       " '_extra_raw_methods',\n",
       " '_extra_raw_properties',\n",
       " '_fast_union',\n",
       " '_field_ops',\n",
       " '_filter_indexer_tolerance',\n",
       " '_format_attrs',\n",
       " '_format_data',\n",
       " '_format_native_types',\n",
       " '_format_space',\n",
       " '_format_with_header',\n",
       " '_formatter_func',\n",
       " '_get_attributes_dict',\n",
       " '_get_fill_indexer',\n",
       " '_get_fill_indexer_searchsorted',\n",
       " '_get_grouper_for_level',\n",
       " '_get_level_number',\n",
       " '_get_level_values',\n",
       " '_get_names',\n",
       " '_get_nearest_indexer',\n",
       " '_get_reconciled_name_object',\n",
       " '_get_string_slice',\n",
       " '_get_time_micros',\n",
       " '_get_unique_index',\n",
       " '_has_complex_internals',\n",
       " '_has_same_tz',\n",
       " '_hasnans',\n",
       " '_id',\n",
       " '_infer_as_myclass',\n",
       " '_inner_indexer',\n",
       " '_internal_get_values',\n",
       " '_invalid_indexer',\n",
       " '_is_compatible_with_other',\n",
       " '_is_convertible_to_index_for_join',\n",
       " '_is_dates_only',\n",
       " '_is_memory_usage_qualified',\n",
       " '_is_monotonic_decreasing',\n",
       " '_is_monotonic_increasing',\n",
       " '_is_numeric_dtype',\n",
       " '_is_strictly_monotonic_decreasing',\n",
       " '_is_strictly_monotonic_increasing',\n",
       " '_is_unique',\n",
       " '_isnan',\n",
       " '_join_level',\n",
       " '_join_monotonic',\n",
       " '_join_multi',\n",
       " '_join_non_unique',\n",
       " '_join_precedence',\n",
       " '_left_indexer',\n",
       " '_left_indexer_unique',\n",
       " '_local_timestamps',\n",
       " '_map_values',\n",
       " '_maybe_cast_indexer',\n",
       " '_maybe_cast_slice_bound',\n",
       " '_maybe_promote',\n",
       " '_maybe_utc_convert',\n",
       " '_mpl_repr',\n",
       " '_na_value',\n",
       " '_name',\n",
       " '_nan_idxs',\n",
       " '_ndarray_values',\n",
       " '_no_setting_name',\n",
       " '_object_ops',\n",
       " '_outer_indexer',\n",
       " '_parsed_string_to_bounds',\n",
       " '_partial_date_slice',\n",
       " '_raw_methods',\n",
       " '_raw_properties',\n",
       " '_reduce',\n",
       " '_reindex_non_unique',\n",
       " '_reset_cache',\n",
       " '_reset_identity',\n",
       " '_resolution',\n",
       " '_scalar_data_error',\n",
       " '_searchsorted_monotonic',\n",
       " '_set_freq',\n",
       " '_set_names',\n",
       " '_shallow_copy',\n",
       " '_shallow_copy_with_infer',\n",
       " '_simple_new',\n",
       " '_sort_levels_monotonic',\n",
       " '_string_data_error',\n",
       " '_summary',\n",
       " '_supports_partial_string_indexing',\n",
       " '_timezone',\n",
       " '_to_safe_for_reshape',\n",
       " '_typ',\n",
       " '_union',\n",
       " '_union_incompatible_dtypes',\n",
       " '_update_inplace',\n",
       " '_validate_dtype',\n",
       " '_validate_index_level',\n",
       " '_validate_indexer',\n",
       " '_validate_names',\n",
       " '_validate_sort_keyword',\n",
       " '_values',\n",
       " '_wrap_joined_index',\n",
       " '_wrap_setop_result',\n",
       " 'all',\n",
       " 'any',\n",
       " 'append',\n",
       " 'argmax',\n",
       " 'argmin',\n",
       " 'argsort',\n",
       " 'array',\n",
       " 'asi8',\n",
       " 'asof',\n",
       " 'asof_locs',\n",
       " 'astype',\n",
       " 'ceil',\n",
       " 'copy',\n",
       " 'date',\n",
       " 'day',\n",
       " 'day_name',\n",
       " 'dayofweek',\n",
       " 'dayofyear',\n",
       " 'days_in_month',\n",
       " 'daysinmonth',\n",
       " 'delete',\n",
       " 'difference',\n",
       " 'drop',\n",
       " 'drop_duplicates',\n",
       " 'droplevel',\n",
       " 'dropna',\n",
       " 'dtype',\n",
       " 'duplicated',\n",
       " 'empty',\n",
       " 'equals',\n",
       " 'factorize',\n",
       " 'fillna',\n",
       " 'floor',\n",
       " 'format',\n",
       " 'freq',\n",
       " 'freqstr',\n",
       " 'get_indexer',\n",
       " 'get_indexer_for',\n",
       " 'get_indexer_non_unique',\n",
       " 'get_level_values',\n",
       " 'get_loc',\n",
       " 'get_slice_bound',\n",
       " 'get_value',\n",
       " 'get_value_maybe_box',\n",
       " 'groupby',\n",
       " 'has_duplicates',\n",
       " 'hasnans',\n",
       " 'holds_integer',\n",
       " 'hour',\n",
       " 'identical',\n",
       " 'indexer_at_time',\n",
       " 'indexer_between_time',\n",
       " 'inferred_freq',\n",
       " 'inferred_type',\n",
       " 'insert',\n",
       " 'intersection',\n",
       " 'is_',\n",
       " 'is_all_dates',\n",
       " 'is_boolean',\n",
       " 'is_categorical',\n",
       " 'is_floating',\n",
       " 'is_integer',\n",
       " 'is_interval',\n",
       " 'is_leap_year',\n",
       " 'is_mixed',\n",
       " 'is_monotonic',\n",
       " 'is_monotonic_decreasing',\n",
       " 'is_monotonic_increasing',\n",
       " 'is_month_end',\n",
       " 'is_month_start',\n",
       " 'is_normalized',\n",
       " 'is_numeric',\n",
       " 'is_object',\n",
       " 'is_quarter_end',\n",
       " 'is_quarter_start',\n",
       " 'is_type_compatible',\n",
       " 'is_unique',\n",
       " 'is_year_end',\n",
       " 'is_year_start',\n",
       " 'isin',\n",
       " 'isna',\n",
       " 'isnull',\n",
       " 'item',\n",
       " 'join',\n",
       " 'map',\n",
       " 'max',\n",
       " 'mean',\n",
       " 'memory_usage',\n",
       " 'microsecond',\n",
       " 'min',\n",
       " 'minute',\n",
       " 'month',\n",
       " 'month_name',\n",
       " 'name',\n",
       " 'names',\n",
       " 'nanosecond',\n",
       " 'nbytes',\n",
       " 'ndim',\n",
       " 'nlevels',\n",
       " 'normalize',\n",
       " 'notna',\n",
       " 'notnull',\n",
       " 'nunique',\n",
       " 'putmask',\n",
       " 'quarter',\n",
       " 'ravel',\n",
       " 'reindex',\n",
       " 'rename',\n",
       " 'repeat',\n",
       " 'resolution',\n",
       " 'round',\n",
       " 'searchsorted',\n",
       " 'second',\n",
       " 'set_names',\n",
       " 'shape',\n",
       " 'shift',\n",
       " 'size',\n",
       " 'slice_indexer',\n",
       " 'slice_locs',\n",
       " 'snap',\n",
       " 'sort',\n",
       " 'sort_values',\n",
       " 'sortlevel',\n",
       " 'strftime',\n",
       " 'symmetric_difference',\n",
       " 'take',\n",
       " 'time',\n",
       " 'timetz',\n",
       " 'to_flat_index',\n",
       " 'to_frame',\n",
       " 'to_julian_date',\n",
       " 'to_list',\n",
       " 'to_native_types',\n",
       " 'to_numpy',\n",
       " 'to_period',\n",
       " 'to_perioddelta',\n",
       " 'to_pydatetime',\n",
       " 'to_series',\n",
       " 'transpose',\n",
       " 'tz',\n",
       " 'tz_convert',\n",
       " 'tz_localize',\n",
       " 'tzinfo',\n",
       " 'union',\n",
       " 'union_many',\n",
       " 'unique',\n",
       " 'value_counts',\n",
       " 'values',\n",
       " 'view',\n",
       " 'week',\n",
       " 'weekday',\n",
       " 'weekofyear',\n",
       " 'where',\n",
       " 'year']"
      ]
     },
     "execution_count": 32,
     "metadata": {},
     "output_type": "execute_result"
    }
   ],
   "source": [
    "dir(xx.index)"
   ]
  },
  {
   "cell_type": "code",
   "execution_count": 62,
   "metadata": {},
   "outputs": [
    {
     "data": {
      "text/plain": [
       "0.9999999999999999"
      ]
     },
     "execution_count": 62,
     "metadata": {},
     "output_type": "execute_result"
    }
   ],
   "source": [
    "xx.val.shift(1).fillna(0).corr(xx.val)"
   ]
  },
  {
   "cell_type": "code",
   "execution_count": 45,
   "metadata": {},
   "outputs": [],
   "source": [
    "import os\n",
    "import numpy as np\n",
    "import pandas as pd\n",
    "import matplotlib.pyplot as plt\n",
    "from statsmodels.tsa.api import ExponentialSmoothing, SimpleExpSmoothing, Holt\n",
    "%matplotlib inline\n",
    "\n",
    "data = [446.6565,  454.4733,  455.663 ,  423.6322,  456.2713,  440.5881, 425.3325,  485.1494,  506.0482,  526.792 ,  514.2689,  494.211 ]\n",
    "index= pd.date_range(start='1996', end='2008', freq='A')\n",
    "oildata = pd.Series(data, index)\n",
    "\n",
    "data = [17.5534,  21.86  ,  23.8866,  26.9293,  26.8885,  28.8314, 30.0751,  30.9535,  30.1857,  31.5797,  32.5776,  33.4774, 39.0216,  41.3864,  41.5966]\n",
    "index= pd.date_range(start='1990', end='2005', freq='A')\n",
    "air = pd.Series(data, index)\n",
    "\n",
    "data = [263.9177,  268.3072,  260.6626,  266.6394,  277.5158,  283.834 , 290.309 ,  292.4742,  300.8307,  309.2867,  318.3311,  329.3724, 338.884 ,  339.2441,  328.6006,  314.2554,  314.4597,  321.4138, 329.7893,  346.3852,  352.2979,  348.3705,  417.5629,  417.1236, 417.7495,  412.2339,  411.9468,  394.6971,  401.4993,  408.2705, 414.2428]\n",
    "index= pd.date_range(start='1970', end='2001', freq='A')\n",
    "livestock2 = pd.Series(data, index)\n",
    "\n",
    "data = [407.9979 ,  403.4608,  413.8249,  428.105 ,  445.3387,  452.9942, 455.7402]\n",
    "index= pd.date_range(start='2001', end='2008', freq='A')\n",
    "livestock3 = pd.Series(data, index)\n",
    "\n",
    "data = [41.7275,  24.0418,  32.3281,  37.3287,  46.2132,  29.3463, 36.4829,  42.9777,  48.9015,  31.1802,  37.7179,  40.4202, 51.2069,  31.8872,  40.9783,  43.7725,  55.5586,  33.8509, 42.0764,  45.6423,  59.7668,  35.1919,  44.3197,  47.9137]\n",
    "index= pd.date_range(start='2005', end='2010-Q4', freq='QS-OCT')\n",
    "aust = pd.Series(data, index)"
   ]
  },
  {
   "cell_type": "code",
   "execution_count": 49,
   "metadata": {},
   "outputs": [
    {
     "data": {
      "text/plain": [
       "array([447.47844861, 446.74527145, 453.63866352, 455.4443692 ,\n",
       "       427.06795297, 453.117303  , 441.94126917, 427.12626727,\n",
       "       478.88283108, 503.11430711, 524.23478036, 515.3452272 ,\n",
       "       496.49352225])"
      ]
     },
     "execution_count": 49,
     "metadata": {},
     "output_type": "execute_result"
    },
    {
     "data": {
      "image/png": "[encoded data removed]",
      "text/plain": [
       "<Figure size 864x576 with 1 Axes>"
      ]
     },
     "metadata": {
      "needs_background": "light"
     },
     "output_type": "display_data"
    }
   ],
   "source": [
    "fit1 = SimpleExpSmoothing(oildata).fit(smoothing_level=0.2,optimized=False)\n",
    "fcast1 = fit1.forecast(3).rename(r'$\\alpha=0.2$')\n",
    "fit2 = SimpleExpSmoothing(oildata).fit(smoothing_level=0.6,optimized=False)\n",
    "fcast2 = fit2.forecast(3).rename(r'$\\alpha=0.6$')\n",
    "fit3 = SimpleExpSmoothing(oildata).fit()\n",
    "fcast3 = fit3.forecast(3).rename(r'$\\alpha=%s$'%fit3.model.params['smoothing_level'])\n",
    "\n",
    "plt.figure(figsize=(12, 8))\n",
    "plt.plot(oildata, marker='o', color='black')\n",
    "plt.plot(fit1.fittedvalues, marker='o', color='blue')\n",
    "line1, = plt.plot(fcast1, marker='o', color='blue')\n",
    "plt.plot(fit2.fittedvalues, marker='o', color='red')\n",
    "line2, = plt.plot(fcast2, marker='o', color='red')\n",
    "plt.plot(fit3.fittedvalues, marker='o', color='green')\n",
    "line3, = plt.plot(fcast3, marker='o', color='green')\n",
    "plt.legend([line1, line2, line3], [fcast1.name, fcast2.name, fcast3.name])\n",
    "\n",
    "fit3.fittedfcast"
   ]
  },
  {
   "cell_type": "code",
   "execution_count": 69,
   "metadata": {},
   "outputs": [
    {
     "name": "stderr",
     "output_type": "stream",
     "text": [
      "C:\\Users\\Remit\\Anaconda3\\lib\\site-packages\\statsmodels\\tsa\\base\\tsa_model.py:214: ValueWarning: An unsupported index was provided and will be ignored when e.g. forecasting.\n",
      "  ' ignored when e.g. forecasting.', ValueWarning)\n",
      "C:\\Users\\Remit\\Anaconda3\\lib\\site-packages\\statsmodels\\tsa\\holtwinters.py:731: RuntimeWarning: invalid value encountered in greater_equal\n",
      "  loc = initial_p >= ub\n"
     ]
    },
    {
     "data": {
      "text/html": [
       "<div>\n",
       "<style scoped>\n",
       "    .dataframe tbody tr th:only-of-type {\n",
       "        vertical-align: middle;\n",
       "    }\n",
       "\n",
       "    .dataframe tbody tr th {\n",
       "        vertical-align: top;\n",
       "    }\n",
       "\n",
       "    .dataframe thead th {\n",
       "        text-align: right;\n",
       "    }\n",
       "</style>\n",
       "<table border=\"1\" class=\"dataframe\">\n",
       "  <thead>\n",
       "    <tr style=\"text-align: right;\">\n",
       "      <th></th>\n",
       "      <th>vale</th>\n",
       "    </tr>\n",
       "    <tr>\n",
       "      <th>delta</th>\n",
       "      <th></th>\n",
       "    </tr>\n",
       "  </thead>\n",
       "  <tbody>\n",
       "    <tr>\n",
       "      <th>00:00:01.010000</th>\n",
       "      <td>2.918193</td>\n",
       "    </tr>\n",
       "    <tr>\n",
       "      <th>00:00:01.010000</th>\n",
       "      <td>2.917945</td>\n",
       "    </tr>\n",
       "    <tr>\n",
       "      <th>00:00:01.020000</th>\n",
       "      <td>2.917892</td>\n",
       "    </tr>\n",
       "  </tbody>\n",
       "</table>\n",
       "</div>"
      ],
      "text/plain": [
       "                     vale\n",
       "delta                    \n",
       "00:00:01.010000  2.918193\n",
       "00:00:01.010000  2.917945\n",
       "00:00:01.020000  2.917892"
      ]
     },
     "execution_count": 69,
     "metadata": {},
     "output_type": "execute_result"
    }
   ],
   "source": [
    "fit1 = SimpleExpSmoothing(x0).fit(smoothing_level=0.2)\n",
    "x1 = x0\n",
    "x1.vale = fit1.fittedvalues\n",
    "x0"
   ]
  },
  {
   "cell_type": "code",
   "execution_count": 92,
   "metadata": {},
   "outputs": [
    {
     "data": {
      "text/plain": [
       "0.06666666666666667"
      ]
     },
     "execution_count": 92,
     "metadata": {},
     "output_type": "execute_result"
    }
   ],
   "source": [
    "1/ 15"
   ]
  },
  {
   "cell_type": "code",
   "execution_count": 91,
   "metadata": {},
   "outputs": [
    {
     "name": "stderr",
     "output_type": "stream",
     "text": [
      "C:\\Users\\Remit\\Anaconda3\\lib\\site-packages\\statsmodels\\tsa\\base\\tsa_model.py:218: ValueWarning: A date index has been provided, but it has no associated frequency information and so will be ignored when e.g. forecasting.\n",
      "  ' ignored when e.g. forecasting.', ValueWarning)\n",
      "C:\\Users\\Remit\\Anaconda3\\lib\\site-packages\\statsmodels\\tsa\\holtwinters.py:956: RuntimeWarning: divide by zero encountered in log\n",
      "  aic = self.nobs * np.log(sse / self.nobs) + k * 2\n",
      "C:\\Users\\Remit\\Anaconda3\\lib\\site-packages\\statsmodels\\tsa\\holtwinters.py:961: RuntimeWarning: invalid value encountered in double_scalars\n",
      "  aicc = aic + aicc_penalty\n",
      "C:\\Users\\Remit\\Anaconda3\\lib\\site-packages\\statsmodels\\tsa\\holtwinters.py:962: RuntimeWarning: divide by zero encountered in log\n",
      "  bic = self.nobs * np.log(sse / self.nobs) + k * np.log(self.nobs)\n"
     ]
    },
    {
     "data": {
      "text/plain": [
       "datetime\n",
       "1970-01-01 00:00:01    2.0\n",
       "1970-01-01 00:00:02    2.0\n",
       "dtype: float64"
      ]
     },
     "execution_count": 91,
     "metadata": {},
     "output_type": "execute_result"
    }
   ],
   "source": [
    "import numpy as np\n",
    "\n",
    "cx = pd.DataFrame({'datetime': [pd.Timestamp(1000, unit = 'ms'), pd.Timestamp(2000, unit = 'ms')], 'val': [float('NaN'), 2]}).set_index('datetime')\n",
    "\n",
    "SimpleExpSmoothing(cx.interpolate().fillna(method = 'backfill')).fit(smoothing_level=0.2).fittedvalues"
   ]
  },
  {
   "cell_type": "code",
   "execution_count": 135,
   "metadata": {},
   "outputs": [
    {
     "data": {
      "image/png": "[encoded data removed]",
      "text/plain": [
       "<Figure size 432x288 with 2 Axes>"
      ]
     },
     "metadata": {
      "needs_background": "light"
     },
     "output_type": "display_data"
    }
   ],
   "source": [
    "from scipy import signal\n",
    "import matplotlib.pyplot as plt\n",
    "\n",
    "t = np.linspace(0, 1, 200, False)  # 1 second\n",
    "sig = np.sin(2*np.pi*10*t) + np.sin(2*np.pi*20*t)\n",
    "fig, (ax1, ax2) = plt.subplots(2, 1, sharex=True)\n",
    "ax1.plot(t, sig)\n",
    "ax1.set_title('10 Hz and 20 Hz sinusoids')\n",
    "ax1.axis([0, 1, -2, 2])\n",
    "\n",
    "sos = signal.butter(11, 15, 'hp', fs=200, output='sos')\n",
    "filtered = signal.sosfilt(sos, sig)\n",
    "ax2.plot(t, filtered)\n",
    "ax2.set_title('After 15 Hz high-pass filter')\n",
    "ax2.axis([0, 1, -2, 2])\n",
    "ax2.set_xlabel('Time [seconds]')\n",
    "plt.tight_layout()\n",
    "plt.show()"
   ]
  },
  {
   "cell_type": "code",
   "execution_count": 154,
   "metadata": {},
   "outputs": [
    {
     "data": {
      "text/plain": [
       "6.25"
      ]
     },
     "execution_count": 154,
     "metadata": {},
     "output_type": "execute_result"
    }
   ],
   "source": [
    "1600/4 ** 4"
   ]
  },
  {
   "cell_type": "code",
   "execution_count": 164,
   "metadata": {},
   "outputs": [],
   "source": [
    "\n",
    "import statsmodels.api as sm\n",
    "import pandas as pd\n",
    "dta = sm.datasets.macrodata.load_pandas().data\n",
    "index = pd.period_range('1959Q1', '2009Q3', freq='Q')\n",
    "dta.set_index(index, inplace=True)\n",
    "x = 1600/(pd.Timedelta(120, unit = 'd') / pd.Timedelta(1000, unit = 'ms')) ** 4\n",
    "\n",
    "cycle, trend = sm.tsa.filters.hpfilter(dta.realgdp, x)"
   ]
  },
  {
   "cell_type": "code",
   "execution_count": 165,
   "metadata": {},
   "outputs": [
    {
     "name": "stderr",
     "output_type": "stream",
     "text": [
      "C:\\Users\\Remit\\Anaconda3\\lib\\site-packages\\ipykernel_launcher.py:2: SettingWithCopyWarning: \n",
      "A value is trying to be set on a copy of a slice from a DataFrame.\n",
      "Try using .loc[row_indexer,col_indexer] = value instead\n",
      "\n",
      "See the caveats in the documentation: https://pandas.pydata.org/pandas-docs/stable/user_guide/indexing.html#returning-a-view-versus-a-copy\n",
      "  \n",
      "C:\\Users\\Remit\\Anaconda3\\lib\\site-packages\\ipykernel_launcher.py:3: SettingWithCopyWarning: \n",
      "A value is trying to be set on a copy of a slice from a DataFrame.\n",
      "Try using .loc[row_indexer,col_indexer] = value instead\n",
      "\n",
      "See the caveats in the documentation: https://pandas.pydata.org/pandas-docs/stable/user_guide/indexing.html#returning-a-view-versus-a-copy\n",
      "  This is separate from the ipykernel package so we can avoid doing imports until\n"
     ]
    },
    {
     "data": {
      "image/png": "[encoded data removed]",
      "text/plain": [
       "<Figure size 432x288 with 1 Axes>"
      ]
     },
     "metadata": {
      "needs_background": "light"
     },
     "output_type": "display_data"
    }
   ],
   "source": [
    "gdp_decomp = dta[['realgdp']]\n",
    "gdp_decomp[\"cycle\"] = cycle\n",
    "gdp_decomp[\"trend\"] = trend\n",
    "\n",
    "import matplotlib.pyplot as plt\n",
    "fig, ax = plt.subplots()\n",
    "gdp_decomp[[\"realgdp\", \"trend\"]][\"2000-03-31\":].plot(ax=ax, fontsize=16)\n",
    "plt.show()"
   ]
  },
  {
   "cell_type": "code",
   "execution_count": null,
   "metadata": {},
   "outputs": [],
   "source": [
    "'agg',\n",
    " 'aggregate',\n",
    " 'apply',\n",
    " 'corr',\n",
    " 'count',\n",
    " 'cov',\n",
    " 'exclusions',\n",
    " 'is_datetimelike',\n",
    " 'is_freq_type',\n",
    " 'kurt',\n",
    " 'max',\n",
    " 'mean',\n",
    " 'median',\n",
    " 'min',\n",
    " 'ndim',\n",
    " 'quantile',\n",
    " 'skew',\n",
    " 'std',\n",
    " 'sum',\n",
    " 'vale',\n",
    " 'validate',\n",
    " 'var']"
   ]
  },
  {
   "cell_type": "code",
   "execution_count": 202,
   "metadata": {},
   "outputs": [
    {
     "name": "stdout",
     "output_type": "stream",
     "text": [
      "AIC: 5.945, HQIC: 5.970, BIC: 6.007\n"
     ]
    },
    {
     "data": {
      "text/plain": [
       "0       5.0\n",
       "1      11.0\n",
       "2      16.0\n",
       "3      23.0\n",
       "4      36.0\n",
       "       ... \n",
       "304    40.4\n",
       "305    29.8\n",
       "306    15.2\n",
       "307     7.5\n",
       "308     2.9\n",
       "Name: SUNACTIVITY, Length: 309, dtype: float64"
      ]
     },
     "execution_count": 202,
     "metadata": {},
     "output_type": "execute_result"
    }
   ],
   "source": [
    "import statsmodels.api as sm\n",
    "from statsmodels.tsa.ar_model import AutoReg\n",
    "data = sm.datasets.sunspots.load_pandas().data['SUNACTIVITY']\n",
    "out = 'AIC: {0:0.3f}, HQIC: {1:0.3f}, BIC: {2:0.3f}'\n",
    "\n",
    "res = AutoReg(data, lags = [1, 11, 12]).fit()\n",
    "print(out.format(res.aic, res.hqic, res.bic))"
   ]
  },
  {
   "cell_type": "code",
   "execution_count": 228,
   "metadata": {},
   "outputs": [
    {
     "data": {
      "text/html": [
       "<div>\n",
       "<style scoped>\n",
       "    .dataframe tbody tr th:only-of-type {\n",
       "        vertical-align: middle;\n",
       "    }\n",
       "\n",
       "    .dataframe tbody tr th {\n",
       "        vertical-align: top;\n",
       "    }\n",
       "\n",
       "    .dataframe thead th {\n",
       "        text-align: right;\n",
       "    }\n",
       "</style>\n",
       "<table border=\"1\" class=\"dataframe\">\n",
       "  <thead>\n",
       "    <tr style=\"text-align: right;\">\n",
       "      <th></th>\n",
       "      <th>val</th>\n",
       "    </tr>\n",
       "    <tr>\n",
       "      <th>datetime</th>\n",
       "      <th></th>\n",
       "    </tr>\n",
       "  </thead>\n",
       "  <tbody>\n",
       "    <tr>\n",
       "      <th>1970-01-01 00:00:00.000</th>\n",
       "      <td>1</td>\n",
       "    </tr>\n",
       "    <tr>\n",
       "      <th>1970-01-01 00:00:00.200</th>\n",
       "      <td>200</td>\n",
       "    </tr>\n",
       "    <tr>\n",
       "      <th>1970-01-01 00:00:00.400</th>\n",
       "      <td>400</td>\n",
       "    </tr>\n",
       "    <tr>\n",
       "      <th>1970-01-01 00:00:00.600</th>\n",
       "      <td>600</td>\n",
       "    </tr>\n",
       "    <tr>\n",
       "      <th>1970-01-01 00:00:00.800</th>\n",
       "      <td>800</td>\n",
       "    </tr>\n",
       "    <tr>\n",
       "      <th>1970-01-01 00:00:01.000</th>\n",
       "      <td>1</td>\n",
       "    </tr>\n",
       "    <tr>\n",
       "      <th>1970-01-01 00:00:01.200</th>\n",
       "      <td>200</td>\n",
       "    </tr>\n",
       "    <tr>\n",
       "      <th>1970-01-01 00:00:01.400</th>\n",
       "      <td>400</td>\n",
       "    </tr>\n",
       "    <tr>\n",
       "      <th>1970-01-01 00:00:01.600</th>\n",
       "      <td>600</td>\n",
       "    </tr>\n",
       "    <tr>\n",
       "      <th>1970-01-01 00:00:01.800</th>\n",
       "      <td>800</td>\n",
       "    </tr>\n",
       "    <tr>\n",
       "      <th>1970-01-01 00:00:02.000</th>\n",
       "      <td>1</td>\n",
       "    </tr>\n",
       "    <tr>\n",
       "      <th>1970-01-01 00:00:02.200</th>\n",
       "      <td>200</td>\n",
       "    </tr>\n",
       "    <tr>\n",
       "      <th>1970-01-01 00:00:02.400</th>\n",
       "      <td>400</td>\n",
       "    </tr>\n",
       "    <tr>\n",
       "      <th>1970-01-01 00:00:02.600</th>\n",
       "      <td>600</td>\n",
       "    </tr>\n",
       "    <tr>\n",
       "      <th>1970-01-01 00:00:02.800</th>\n",
       "      <td>800</td>\n",
       "    </tr>\n",
       "    <tr>\n",
       "      <th>1970-01-01 00:00:03.000</th>\n",
       "      <td>1</td>\n",
       "    </tr>\n",
       "    <tr>\n",
       "      <th>1970-01-01 00:00:03.200</th>\n",
       "      <td>200</td>\n",
       "    </tr>\n",
       "    <tr>\n",
       "      <th>1970-01-01 00:00:03.400</th>\n",
       "      <td>400</td>\n",
       "    </tr>\n",
       "    <tr>\n",
       "      <th>1970-01-01 00:00:03.600</th>\n",
       "      <td>600</td>\n",
       "    </tr>\n",
       "    <tr>\n",
       "      <th>1970-01-01 00:00:03.800</th>\n",
       "      <td>800</td>\n",
       "    </tr>\n",
       "    <tr>\n",
       "      <th>1970-01-01 00:00:04.000</th>\n",
       "      <td>1</td>\n",
       "    </tr>\n",
       "    <tr>\n",
       "      <th>1970-01-01 00:00:04.200</th>\n",
       "      <td>200</td>\n",
       "    </tr>\n",
       "    <tr>\n",
       "      <th>1970-01-01 00:00:04.400</th>\n",
       "      <td>400</td>\n",
       "    </tr>\n",
       "    <tr>\n",
       "      <th>1970-01-01 00:00:04.600</th>\n",
       "      <td>600</td>\n",
       "    </tr>\n",
       "    <tr>\n",
       "      <th>1970-01-01 00:00:04.800</th>\n",
       "      <td>800</td>\n",
       "    </tr>\n",
       "  </tbody>\n",
       "</table>\n",
       "</div>"
      ],
      "text/plain": [
       "                         val\n",
       "datetime                    \n",
       "1970-01-01 00:00:00.000    1\n",
       "1970-01-01 00:00:00.200  200\n",
       "1970-01-01 00:00:00.400  400\n",
       "1970-01-01 00:00:00.600  600\n",
       "1970-01-01 00:00:00.800  800\n",
       "1970-01-01 00:00:01.000    1\n",
       "1970-01-01 00:00:01.200  200\n",
       "1970-01-01 00:00:01.400  400\n",
       "1970-01-01 00:00:01.600  600\n",
       "1970-01-01 00:00:01.800  800\n",
       "1970-01-01 00:00:02.000    1\n",
       "1970-01-01 00:00:02.200  200\n",
       "1970-01-01 00:00:02.400  400\n",
       "1970-01-01 00:00:02.600  600\n",
       "1970-01-01 00:00:02.800  800\n",
       "1970-01-01 00:00:03.000    1\n",
       "1970-01-01 00:00:03.200  200\n",
       "1970-01-01 00:00:03.400  400\n",
       "1970-01-01 00:00:03.600  600\n",
       "1970-01-01 00:00:03.800  800\n",
       "1970-01-01 00:00:04.000    1\n",
       "1970-01-01 00:00:04.200  200\n",
       "1970-01-01 00:00:04.400  400\n",
       "1970-01-01 00:00:04.600  600\n",
       "1970-01-01 00:00:04.800  800"
      ]
     },
     "execution_count": 228,
     "metadata": {},
     "output_type": "execute_result"
    }
   ],
   "source": [
    "import random\n",
    "df = pd.DataFrame({'datetime': pd.date_range(pd.Timestamp('2020-12-22T10:00:00'), pd.Timestamp('2020-12-22T10:05:00'), freq = '500ms'), 'value': random.choices(range(1290), k = 601)}).set_index('datetime')\n",
    "df1 = pd.DataFrame({'datetime': [pd.Timestamp(x, unit = 'ms') for x in range(0, 5000, 200)], 'val': [x % 1000 for x in range(0, 5000, 200)]}).set_index('datetime')\n",
    "df1[df1 == 0] = 1\n",
    "df1"
   ]
  },
  {
   "cell_type": "code",
   "execution_count": 221,
   "metadata": {},
   "outputs": [
    {
     "data": {
      "text/plain": [
       "Timedelta('0 days 08:20:00')"
      ]
     },
     "execution_count": 221,
     "metadata": {},
     "output_type": "execute_result"
    }
   ],
   "source": [
    "pd.Timedelta('500T')"
   ]
  },
  {
   "cell_type": "code",
   "execution_count": 342,
   "metadata": {},
   "outputs": [],
   "source": [
    "import tensorflow as tf\n",
    "\n",
    "_model_fitted = tf.keras.models.Sequential([\n",
    "            tf.keras.layers.LSTM(5, batch_input_shape = (1, 1, 1), stateful = True),\n",
    "            tf.keras.layers.Dense(units = 1)\n",
    "        ])"
   ]
  },
  {
   "cell_type": "code",
   "execution_count": 339,
   "metadata": {},
   "outputs": [
    {
     "name": "stdout",
     "output_type": "stream",
     "text": [
      "WARNING:tensorflow:11 out of the last 11 calls to <function Model.make_predict_function.<locals>.predict_function at 0x0000022DF5EC2EA0> triggered tf.function retracing. Tracing is expensive and the excessive number of tracings could be due to (1) creating @tf.function repeatedly in a loop, (2) passing tensors with different shapes, (3) passing Python objects instead of tensors. For (1), please define your @tf.function outside of the loop. For (2), @tf.function has experimental_relax_shapes=True option that relaxes argument shapes that can avoid unnecessary retracing. For (3), please refer to https://www.tensorflow.org/tutorials/customization/performance#python_or_tensor_args and https://www.tensorflow.org/api_docs/python/tf/function for  more details.\n",
      "[0.3434089000839631, -0.9311502938706968, 0.6851385390428212, -0.3811922753988245, 0.61203253]\n",
      "[-0.9311502938706968, 0.6851385390428212, -0.3811922753988245, 0.61203253, 0.056591883]\n",
      "[0.6851385390428212, -0.3811922753988245, 0.61203253, 0.056591883, 1.0057753]\n",
      "[-0.3811922753988245, 0.61203253, 0.056591883, 1.0057753, -0.05521483]\n",
      "[0.61203253, 0.056591883, 1.0057753, -0.05521483, 0.29009894]\n"
     ]
    },
    {
     "data": {
      "text/plain": [
       "[0.61203253, 0.056591883, 1.0057753, -0.05521483, 0.29009894]"
      ]
     },
     "execution_count": 339,
     "metadata": {},
     "output_type": "execute_result"
    }
   ],
   "source": [
    "from sklearn.metrics import mean_squared_error\n",
    "from sklearn.preprocessing import MinMaxScaler\n",
    "from tensorflow.keras.models import Sequential\n",
    "from tensorflow.keras.layers import LSTM, Dense\n",
    "\n",
    "import numpy as np\n",
    "\n",
    "df = pd.DataFrame({'datetime': pd.date_range(pd.Timestamp('2020-12-22T10:00:00'), pd.Timestamp('2020-12-22T10:05:00'), freq = '500ms'), 'value': random.choices(range(1290), k = 601)}).set_index('datetime')\n",
    "\n",
    "neurons = 10\n",
    "max_lag = 5\n",
    "batch_size = 1\n",
    "n_epochs = 10\n",
    "\n",
    "scaler = MinMaxScaler(feature_range = (-1, 1))\n",
    "model = Sequential()\n",
    "model.add(LSTM(neurons, batch_input_shape=(batch_size, 1, max_lag), stateful=True))\n",
    "model.add(Dense(1))\n",
    "model.compile(loss='mean_squared_error', optimizer='adam')\n",
    "\n",
    "def prepare_timeseries(data, max_lag = 1):\n",
    "    \n",
    "    for lag in range(0, max_lag):\n",
    "        data[f'value-{lag + 1}'] = data.value.shift(lag + 1)\n",
    "    \n",
    "    return data.dropna()\n",
    "\n",
    "def difference_timeseries(data, d = 1):\n",
    "    \n",
    "    return data.diff().dropna()\n",
    "\n",
    "def differenced_representation_to_values(historical_data, forecasted_data):\n",
    "    \n",
    "    return historical_data.tail(1).append(forecasted_data).cumsum()\n",
    "\n",
    "def restore_df(matrix_of_numbers, original_df):\n",
    "    \n",
    "    data = dict()\n",
    "    for i in range(matrix_of_numbers.shape[1]):\n",
    "        data[original_df.columns[i]] = matrix_of_numbers[:,i]\n",
    "\n",
    "    return pd.DataFrame(data, index = original_df.index)\n",
    "\n",
    "def scale(train, test):\n",
    "    \n",
    "    scaler.fit(train)\n",
    "\n",
    "    return (restore_df(scaler.transform(train), train),\n",
    "            restore_df(scaler.transform(test), test))\n",
    "\n",
    "def fit_lstm(train):\n",
    "    \n",
    "    cut_border = train.shape[0] // considered_timesteps * considered_timesteps\n",
    "    train_cut = train[0:cut_border]\n",
    "    X, y = train_cut[train_cut.columns[train_cut.columns != 'value']].to_numpy(), train_cut['value'].to_numpy()\n",
    "    X = X.reshape(X.shape[0], 1, X.shape[1])\n",
    "\n",
    "    for i in range(n_epochs):\n",
    "        model.fit(X, y, epochs=1, batch_size=batch_size, verbose=0, shuffle=False)\n",
    "        model.reset_states()\n",
    "\n",
    "    return model\n",
    "\n",
    "def forecast(measurements, forecasting_horizon_in_steps = 5):\n",
    "    \n",
    "    last = measurements[-max_lag:]['value'].to_numpy().flatten().tolist()\n",
    "    \n",
    "    predicted = list()\n",
    "    for i in range(forecasting_horizon_in_steps):\n",
    "        X = np.asarray(last).astype('float32')\n",
    "        X = X.reshape(batch_size, 1, max_lag)\n",
    "        yhat = model.predict(X, batch_size=batch_size).flatten()\n",
    "        predicted.extend(yhat)\n",
    "        last = last[1:]\n",
    "        last.extend(yhat)\n",
    "    \n",
    "    return predicted\n",
    "    \n",
    "\n",
    "df1 = difference_timeseries(prepare_timeseries(df, max_lag))\n",
    "dd1, dd2 = scale(df1, df1)\n",
    "mdl = fit_lstm(dd1)\n",
    "forecast(dd1)"
   ]
  },
  {
   "cell_type": "code",
   "execution_count": 370,
   "metadata": {},
   "outputs": [
    {
     "data": {
      "text/plain": [
       "[3, 4, 6, 9]"
      ]
     },
     "execution_count": 370,
     "metadata": {},
     "output_type": "execute_result"
    }
   ],
   "source": [
    "qq = pd.DataFrame({'value': [1,2,3]}).tail(1).value.to_list() + [1,2,3]\n",
    "np.cumsum(qq).tolist()"
   ]
  },
  {
   "cell_type": "code",
   "execution_count": 318,
   "metadata": {},
   "outputs": [],
   "source": [
    "class WindowGenerator():\n",
    "    def __init__(self, input_width, label_width, shift,\n",
    "                 train_df, val_df=None, test_df=None,\n",
    "                 label_columns=None):\n",
    "        \n",
    "        # Store the raw data.\n",
    "        self.train_df = train_df\n",
    "        self.val_df = val_df\n",
    "        self.test_df = test_df\n",
    "        \n",
    "        # Work out the label column indices. \n",
    "        self.label_columns = label_columns\n",
    "        if label_columns is not None:\n",
    "            self.label_columns_indices = {name: i for i, name in enumerate(label_columns)}\n",
    "            \n",
    "        self.column_indices = {name: i for i, name in enumerate(train_df.columns)}\n",
    "        \n",
    "        # Work out the window parameters.\n",
    "        self.input_width = input_width\n",
    "        self.label_width = label_width\n",
    "        self.shift = shift\n",
    "        \n",
    "        self.total_window_size = input_width + shift\n",
    "        \n",
    "        self.input_slice = slice(0, input_width)\n",
    "        \n",
    "        self.input_indices = np.arange(self.total_window_size)[self.input_slice]\n",
    "        \n",
    "        self.label_start = self.total_window_size - self.label_width        \n",
    "        self.labels_slice = slice(self.label_start, None)\n",
    "        self.label_indices = np.arange(self.total_window_size)[self.labels_slice]\n",
    "        \n",
    "    def split_window(self, features):\n",
    "        inputs = features[:, self.input_slice, :]\n",
    "        labels = features[:, self.labels_slice, :]\n",
    "        \n",
    "        if self.label_columns is not None:\n",
    "            labels = tf.stack([labels[:, :, self.column_indices[name]] for name in self.label_columns], axis=-1)\n",
    "            \n",
    "        # Slicing doesn't preserve static shape information, so set the shapes\n",
    "        # manually. This way the `tf.data.Datasets` are easier to inspect.\n",
    "        inputs.set_shape([None, self.input_width, None])\n",
    "        labels.set_shape([None, self.label_width, None])\n",
    "\n",
    "        return inputs, labels\n",
    "    \n",
    "    def make_dataset(self, data):\n",
    "        \n",
    "        data = np.array(data, dtype=np.float32)\n",
    "        ds = tf.keras.preprocessing.timeseries_dataset_from_array(\n",
    "            data=data,\n",
    "            targets=None,\n",
    "            sequence_length=self.total_window_size,\n",
    "            sequence_stride=1,\n",
    "            shuffle=True,\n",
    "            batch_size=32,)\n",
    "        \n",
    "        ds = ds.map(self.split_window)\n",
    "        \n",
    "        return ds\n",
    "    \n",
    "    @property\n",
    "    def train(self):\n",
    "        \n",
    "        return self.make_dataset(self.train_df)\n",
    "\n",
    "    @property\n",
    "    def val(self):\n",
    "        \n",
    "        return self.make_dataset(self.val_df)\n",
    "\n",
    "    @property\n",
    "    def test(self):\n",
    "        \n",
    "        return self.make_dataset(self.test_df)\n",
    "\n",
    "    @property\n",
    "    def example(self):\n",
    "        \n",
    "        \"\"\"Get and cache an example batch of `inputs, labels` for plotting.\"\"\"\n",
    "        result = getattr(self, '_example', None)\n",
    "        if result is None:\n",
    "            # No example batch was found, so get one from the `.train` dataset\n",
    "            result = next(iter(self.train))\n",
    "            # And cache it for next time\n",
    "            self._example = result\n",
    "        return result\n",
    "        \n",
    "    def __repr__(self):\n",
    "        \n",
    "        return '\\n'.join([\n",
    "        f'Total window size: {self.total_window_size}',\n",
    "        f'Input indices: {self.input_indices}',\n",
    "        f'Label indices: {self.label_indices}',\n",
    "        f'Label column name(s): {self.label_columns}'])"
   ]
  },
  {
   "cell_type": "code",
   "execution_count": 1,
   "metadata": {},
   "outputs": [
    {
     "data": {
      "text/html": [
       "<div>\n",
       "<style scoped>\n",
       "    .dataframe tbody tr th:only-of-type {\n",
       "        vertical-align: middle;\n",
       "    }\n",
       "\n",
       "    .dataframe tbody tr th {\n",
       "        vertical-align: top;\n",
       "    }\n",
       "\n",
       "    .dataframe thead th {\n",
       "        text-align: right;\n",
       "    }\n",
       "</style>\n",
       "<table border=\"1\" class=\"dataframe\">\n",
       "  <thead>\n",
       "    <tr style=\"text-align: right;\">\n",
       "      <th></th>\n",
       "      <th>value</th>\n",
       "    </tr>\n",
       "    <tr>\n",
       "      <th>datetime</th>\n",
       "      <th></th>\n",
       "    </tr>\n",
       "  </thead>\n",
       "  <tbody>\n",
       "    <tr>\n",
       "      <th>2020-12-22 10:00:00.000</th>\n",
       "      <td>1078</td>\n",
       "    </tr>\n",
       "    <tr>\n",
       "      <th>2020-12-22 10:00:00.500</th>\n",
       "      <td>640</td>\n",
       "    </tr>\n",
       "    <tr>\n",
       "      <th>2020-12-22 10:00:01.000</th>\n",
       "      <td>198</td>\n",
       "    </tr>\n",
       "    <tr>\n",
       "      <th>2020-12-22 10:00:01.500</th>\n",
       "      <td>941</td>\n",
       "    </tr>\n",
       "    <tr>\n",
       "      <th>2020-12-22 10:00:02.000</th>\n",
       "      <td>248</td>\n",
       "    </tr>\n",
       "    <tr>\n",
       "      <th>...</th>\n",
       "      <td>...</td>\n",
       "    </tr>\n",
       "    <tr>\n",
       "      <th>2020-12-22 10:04:58.000</th>\n",
       "      <td>98</td>\n",
       "    </tr>\n",
       "    <tr>\n",
       "      <th>2020-12-22 10:04:58.500</th>\n",
       "      <td>598</td>\n",
       "    </tr>\n",
       "    <tr>\n",
       "      <th>2020-12-22 10:04:59.000</th>\n",
       "      <td>553</td>\n",
       "    </tr>\n",
       "    <tr>\n",
       "      <th>2020-12-22 10:04:59.500</th>\n",
       "      <td>994</td>\n",
       "    </tr>\n",
       "    <tr>\n",
       "      <th>2020-12-22 10:05:00.000</th>\n",
       "      <td>921</td>\n",
       "    </tr>\n",
       "  </tbody>\n",
       "</table>\n",
       "<p>601 rows × 1 columns</p>\n",
       "</div>"
      ],
      "text/plain": [
       "                         value\n",
       "datetime                      \n",
       "2020-12-22 10:00:00.000   1078\n",
       "2020-12-22 10:00:00.500    640\n",
       "2020-12-22 10:00:01.000    198\n",
       "2020-12-22 10:00:01.500    941\n",
       "2020-12-22 10:00:02.000    248\n",
       "...                        ...\n",
       "2020-12-22 10:04:58.000     98\n",
       "2020-12-22 10:04:58.500    598\n",
       "2020-12-22 10:04:59.000    553\n",
       "2020-12-22 10:04:59.500    994\n",
       "2020-12-22 10:05:00.000    921\n",
       "\n",
       "[601 rows x 1 columns]"
      ]
     },
     "execution_count": 1,
     "metadata": {},
     "output_type": "execute_result"
    }
   ],
   "source": [
    "import random\n",
    "import pandas as pd\n",
    "df = pd.DataFrame({'datetime': pd.date_range(pd.Timestamp('2020-12-22T10:00:00'), pd.Timestamp('2020-12-22T10:05:00'), freq = '500ms'), 'value': random.choices(range(1290), k = 601)}).set_index('datetime')\n",
    "df"
   ]
  },
  {
   "cell_type": "code",
   "execution_count": 63,
   "metadata": {},
   "outputs": [
    {
     "name": "stdout",
     "output_type": "stream",
     "text": [
      "Constructing trajectory matrix\n",
      "Trajectory matrix shape: (300, 302)\n",
      "Decomposing trajectory covariance matrix with SVD\n",
      "Constructing components\n",
      "Calculating optimal reconstruction orders\n"
     ]
    },
    {
     "data": {
      "text/plain": [
       "<pymssa.mssa.MSSA at 0x213fa6554a8>"
      ]
     },
     "execution_count": 63,
     "metadata": {},
     "output_type": "execute_result"
    }
   ],
   "source": [
    "from pymssa import MSSA\n",
    "import scipy\n",
    "import numpy as np\n",
    "\n",
    "#window = 5\n",
    "#trajmat = scipy.linalg.hankel(df.value.to_numpy().astype('float64'), np.zeros(window)).T\n",
    "#trajmat = trajmat[:, :(df.shape[0] - window + 1)]\n",
    "\n",
    "ts = df.value.to_numpy().astype('float64')\n",
    "ts_means = np.nanmean(ts, axis=0)\n",
    "ts_adapted = ts - ts_means\n",
    "\n",
    "mssa = MSSA(n_components = 15, window_size = None, verbose = True)\n",
    "mssa.fit(ts)"
   ]
  },
  {
   "cell_type": "code",
   "execution_count": 64,
   "metadata": {},
   "outputs": [
    {
     "data": {
      "text/plain": [
       "[<matplotlib.lines.Line2D at 0x213fa65f7f0>]"
      ]
     },
     "execution_count": 64,
     "metadata": {},
     "output_type": "execute_result"
    },
    {
     "data": {
      "image/png": "[encoded data removed]",
      "text/plain": [
       "<Figure size 432x288 with 1 Axes>"
      ]
     },
     "metadata": {
      "needs_background": "light"
     },
     "output_type": "display_data"
    }
   ],
   "source": [
    "from matplotlib import pyplot as plt\n",
    "\n",
    "forecast = mssa.forecast(12).flatten().tolist()\n",
    "df_to_plot = pd.DataFrame({'datetime': pd.date_range(pd.Timestamp('2020-12-22T10:00:00'), periods = len(forecast), freq = '1000ms'), 'value': forecast}).set_index('datetime')\n",
    "\n",
    "plt.plot(df_to_plot)"
   ]
  },
  {
   "cell_type": "code",
   "execution_count": 72,
   "metadata": {},
   "outputs": [
    {
     "name": "stderr",
     "output_type": "stream",
     "text": [
      "C:\\Users\\Remit\\Anaconda3\\lib\\site-packages\\sklearn\\linear_model\\_stochastic_gradient.py:1187: ConvergenceWarning: Maximum number of iteration reached before convergence. Consider increasing max_iter to improve the fit.\n",
      "  ConvergenceWarning)\n"
     ]
    },
    {
     "data": {
      "text/plain": [
       "array([6.43282001])"
      ]
     },
     "execution_count": 72,
     "metadata": {},
     "output_type": "execute_result"
    }
   ],
   "source": [
    "from sklearn.linear_model import PassiveAggressiveRegressor\n",
    "\n",
    "X = np.asarray([[12, 11], [13, 10]]).T\n",
    "y = [5, 6]\n",
    "\n",
    "regr = PassiveAggressiveRegressor(max_iter=100, random_state=0,tol=1e-3)\n",
    "regr.fit(X, y)\n",
    "\n",
    "regr.predict([[12, 11]])"
   ]
  },
  {
   "cell_type": "code",
   "execution_count": 115,
   "metadata": {},
   "outputs": [
    {
     "data": {
      "text/html": [
       "<div>\n",
       "<style scoped>\n",
       "    .dataframe tbody tr th:only-of-type {\n",
       "        vertical-align: middle;\n",
       "    }\n",
       "\n",
       "    .dataframe tbody tr th {\n",
       "        vertical-align: top;\n",
       "    }\n",
       "\n",
       "    .dataframe thead th {\n",
       "        text-align: right;\n",
       "    }\n",
       "</style>\n",
       "<table border=\"1\" class=\"dataframe\">\n",
       "  <thead>\n",
       "    <tr style=\"text-align: right;\">\n",
       "      <th></th>\n",
       "      <th>value</th>\n",
       "    </tr>\n",
       "    <tr>\n",
       "      <th>datetime</th>\n",
       "      <th></th>\n",
       "    </tr>\n",
       "  </thead>\n",
       "  <tbody>\n",
       "    <tr>\n",
       "      <th>2020-12-22 10:00:00.000</th>\n",
       "      <td>0</td>\n",
       "    </tr>\n",
       "    <tr>\n",
       "      <th>2020-12-22 10:00:00.500</th>\n",
       "      <td>0</td>\n",
       "    </tr>\n",
       "    <tr>\n",
       "      <th>2020-12-22 10:00:01.000</th>\n",
       "      <td>0</td>\n",
       "    </tr>\n",
       "    <tr>\n",
       "      <th>2020-12-22 10:00:01.500</th>\n",
       "      <td>0</td>\n",
       "    </tr>\n",
       "    <tr>\n",
       "      <th>2020-12-22 10:00:02.000</th>\n",
       "      <td>0</td>\n",
       "    </tr>\n",
       "    <tr>\n",
       "      <th>2020-12-22 10:00:02.500</th>\n",
       "      <td>0</td>\n",
       "    </tr>\n",
       "    <tr>\n",
       "      <th>2020-12-22 10:00:03.000</th>\n",
       "      <td>1</td>\n",
       "    </tr>\n",
       "    <tr>\n",
       "      <th>2020-12-22 10:00:03.500</th>\n",
       "      <td>1</td>\n",
       "    </tr>\n",
       "    <tr>\n",
       "      <th>2020-12-22 10:00:04.000</th>\n",
       "      <td>1</td>\n",
       "    </tr>\n",
       "    <tr>\n",
       "      <th>2020-12-22 10:00:04.500</th>\n",
       "      <td>0</td>\n",
       "    </tr>\n",
       "    <tr>\n",
       "      <th>2020-12-22 10:00:05.000</th>\n",
       "      <td>1</td>\n",
       "    </tr>\n",
       "    <tr>\n",
       "      <th>2020-12-22 10:00:05.500</th>\n",
       "      <td>0</td>\n",
       "    </tr>\n",
       "    <tr>\n",
       "      <th>2020-12-22 10:00:06.000</th>\n",
       "      <td>0</td>\n",
       "    </tr>\n",
       "    <tr>\n",
       "      <th>2020-12-22 10:00:06.500</th>\n",
       "      <td>0</td>\n",
       "    </tr>\n",
       "    <tr>\n",
       "      <th>2020-12-22 10:00:07.000</th>\n",
       "      <td>1</td>\n",
       "    </tr>\n",
       "    <tr>\n",
       "      <th>2020-12-22 10:00:07.500</th>\n",
       "      <td>1</td>\n",
       "    </tr>\n",
       "    <tr>\n",
       "      <th>2020-12-22 10:00:08.000</th>\n",
       "      <td>1</td>\n",
       "    </tr>\n",
       "    <tr>\n",
       "      <th>2020-12-22 10:00:08.500</th>\n",
       "      <td>0</td>\n",
       "    </tr>\n",
       "    <tr>\n",
       "      <th>2020-12-22 10:00:09.000</th>\n",
       "      <td>1</td>\n",
       "    </tr>\n",
       "    <tr>\n",
       "      <th>2020-12-22 10:00:09.500</th>\n",
       "      <td>1</td>\n",
       "    </tr>\n",
       "  </tbody>\n",
       "</table>\n",
       "</div>"
      ],
      "text/plain": [
       "                         value\n",
       "datetime                      \n",
       "2020-12-22 10:00:00.000      0\n",
       "2020-12-22 10:00:00.500      0\n",
       "2020-12-22 10:00:01.000      0\n",
       "2020-12-22 10:00:01.500      0\n",
       "2020-12-22 10:00:02.000      0\n",
       "2020-12-22 10:00:02.500      0\n",
       "2020-12-22 10:00:03.000      1\n",
       "2020-12-22 10:00:03.500      1\n",
       "2020-12-22 10:00:04.000      1\n",
       "2020-12-22 10:00:04.500      0\n",
       "2020-12-22 10:00:05.000      1\n",
       "2020-12-22 10:00:05.500      0\n",
       "2020-12-22 10:00:06.000      0\n",
       "2020-12-22 10:00:06.500      0\n",
       "2020-12-22 10:00:07.000      1\n",
       "2020-12-22 10:00:07.500      1\n",
       "2020-12-22 10:00:08.000      1\n",
       "2020-12-22 10:00:08.500      0\n",
       "2020-12-22 10:00:09.000      1\n",
       "2020-12-22 10:00:09.500      1"
      ]
     },
     "execution_count": 115,
     "metadata": {},
     "output_type": "execute_result"
    }
   ],
   "source": [
    "import random\n",
    "import pandas as pd\n",
    "df = pd.DataFrame({'datetime': pd.date_range(pd.Timestamp('2020-12-22T10:00:00'), periods = 20, freq = '500ms'), 'value': random.choices(range(2), k = 20)}).set_index('datetime')\n",
    "df"
   ]
  },
  {
   "cell_type": "code",
   "execution_count": 105,
   "metadata": {},
   "outputs": [
    {
     "data": {
      "text/html": [
       "<div>\n",
       "<style scoped>\n",
       "    .dataframe tbody tr th:only-of-type {\n",
       "        vertical-align: middle;\n",
       "    }\n",
       "\n",
       "    .dataframe tbody tr th {\n",
       "        vertical-align: top;\n",
       "    }\n",
       "\n",
       "    .dataframe thead th {\n",
       "        text-align: right;\n",
       "    }\n",
       "</style>\n",
       "<table border=\"1\" class=\"dataframe\">\n",
       "  <thead>\n",
       "    <tr style=\"text-align: right;\">\n",
       "      <th></th>\n",
       "      <th>value</th>\n",
       "    </tr>\n",
       "    <tr>\n",
       "      <th>datetime</th>\n",
       "      <th></th>\n",
       "    </tr>\n",
       "  </thead>\n",
       "  <tbody>\n",
       "    <tr>\n",
       "      <th>2020-12-22 10:00:00.000</th>\n",
       "      <td>1.0</td>\n",
       "    </tr>\n",
       "    <tr>\n",
       "      <th>2020-12-22 10:00:00.500</th>\n",
       "      <td>1.0</td>\n",
       "    </tr>\n",
       "    <tr>\n",
       "      <th>2020-12-22 10:00:01.000</th>\n",
       "      <td>0.0</td>\n",
       "    </tr>\n",
       "    <tr>\n",
       "      <th>2020-12-22 10:00:01.500</th>\n",
       "      <td>1.0</td>\n",
       "    </tr>\n",
       "    <tr>\n",
       "      <th>2020-12-22 10:00:02.000</th>\n",
       "      <td>0.0</td>\n",
       "    </tr>\n",
       "    <tr>\n",
       "      <th>2020-12-22 10:00:02.500</th>\n",
       "      <td>0.0</td>\n",
       "    </tr>\n",
       "    <tr>\n",
       "      <th>2020-12-22 10:00:03.000</th>\n",
       "      <td>0.0</td>\n",
       "    </tr>\n",
       "    <tr>\n",
       "      <th>2020-12-22 10:00:03.500</th>\n",
       "      <td>1.0</td>\n",
       "    </tr>\n",
       "    <tr>\n",
       "      <th>2020-12-22 10:00:04.000</th>\n",
       "      <td>1.0</td>\n",
       "    </tr>\n",
       "    <tr>\n",
       "      <th>2020-12-22 10:00:04.500</th>\n",
       "      <td>1.0</td>\n",
       "    </tr>\n",
       "    <tr>\n",
       "      <th>2020-12-22 10:00:05.000</th>\n",
       "      <td>1.0</td>\n",
       "    </tr>\n",
       "    <tr>\n",
       "      <th>2020-12-22 10:00:05.500</th>\n",
       "      <td>0.0</td>\n",
       "    </tr>\n",
       "    <tr>\n",
       "      <th>2020-12-22 10:00:06.000</th>\n",
       "      <td>1.0</td>\n",
       "    </tr>\n",
       "    <tr>\n",
       "      <th>2020-12-22 10:00:06.500</th>\n",
       "      <td>1.0</td>\n",
       "    </tr>\n",
       "    <tr>\n",
       "      <th>2020-12-22 10:00:07.000</th>\n",
       "      <td>0.0</td>\n",
       "    </tr>\n",
       "    <tr>\n",
       "      <th>2020-12-22 10:00:07.500</th>\n",
       "      <td>1.0</td>\n",
       "    </tr>\n",
       "    <tr>\n",
       "      <th>2020-12-22 10:00:08.000</th>\n",
       "      <td>0.0</td>\n",
       "    </tr>\n",
       "    <tr>\n",
       "      <th>2020-12-22 10:00:08.500</th>\n",
       "      <td>1.0</td>\n",
       "    </tr>\n",
       "    <tr>\n",
       "      <th>2020-12-22 10:00:09.000</th>\n",
       "      <td>0.0</td>\n",
       "    </tr>\n",
       "    <tr>\n",
       "      <th>2020-12-22 10:00:09.500</th>\n",
       "      <td>1.0</td>\n",
       "    </tr>\n",
       "  </tbody>\n",
       "</table>\n",
       "</div>"
      ],
      "text/plain": [
       "                         value\n",
       "datetime                      \n",
       "2020-12-22 10:00:00.000    1.0\n",
       "2020-12-22 10:00:00.500    1.0\n",
       "2020-12-22 10:00:01.000    0.0\n",
       "2020-12-22 10:00:01.500    1.0\n",
       "2020-12-22 10:00:02.000    0.0\n",
       "2020-12-22 10:00:02.500    0.0\n",
       "2020-12-22 10:00:03.000    0.0\n",
       "2020-12-22 10:00:03.500    1.0\n",
       "2020-12-22 10:00:04.000    1.0\n",
       "2020-12-22 10:00:04.500    1.0\n",
       "2020-12-22 10:00:05.000    1.0\n",
       "2020-12-22 10:00:05.500    0.0\n",
       "2020-12-22 10:00:06.000    1.0\n",
       "2020-12-22 10:00:06.500    1.0\n",
       "2020-12-22 10:00:07.000    0.0\n",
       "2020-12-22 10:00:07.500    1.0\n",
       "2020-12-22 10:00:08.000    0.0\n",
       "2020-12-22 10:00:08.500    1.0\n",
       "2020-12-22 10:00:09.000    0.0\n",
       "2020-12-22 10:00:09.500    1.0"
      ]
     },
     "execution_count": 105,
     "metadata": {},
     "output_type": "execute_result"
    }
   ],
   "source": [
    "pd.concat((0.2 * df, 0.8 * df), axis = 1).sum(axis = 1).to_frame('value')"
   ]
  },
  {
   "cell_type": "code",
   "execution_count": 99,
   "metadata": {},
   "outputs": [
    {
     "data": {
      "text/plain": [
       "datetime\n",
       "2020-12-22 10:00:00.000    0.26\n",
       "2020-12-22 10:00:00.500    0.26\n",
       "2020-12-22 10:00:01.000    0.00\n",
       "2020-12-22 10:00:01.500    0.26\n",
       "2020-12-22 10:00:02.000    0.00\n",
       "2020-12-22 10:00:02.500    0.00\n",
       "2020-12-22 10:00:03.000    0.00\n",
       "2020-12-22 10:00:03.500    0.26\n",
       "2020-12-22 10:00:04.000    0.26\n",
       "2020-12-22 10:00:04.500    0.26\n",
       "2020-12-22 10:00:05.000    0.26\n",
       "2020-12-22 10:00:05.500    0.00\n",
       "2020-12-22 10:00:06.000    0.26\n",
       "2020-12-22 10:00:06.500    0.26\n",
       "2020-12-22 10:00:07.000    0.00\n",
       "2020-12-22 10:00:07.500    0.26\n",
       "2020-12-22 10:00:08.000    0.00\n",
       "2020-12-22 10:00:08.500    0.26\n",
       "2020-12-22 10:00:09.000    0.00\n",
       "2020-12-22 10:00:09.500    0.26\n",
       "Name: 0.1, dtype: float64"
      ]
     },
     "execution_count": 99,
     "metadata": {},
     "output_type": "execute_result"
    }
   ],
   "source": [
    "pd.DataFrame.quantile(pd.concat([0.2 * df, 0.8 * df], axis = 1), 0.1, axis = 1)"
   ]
  },
  {
   "cell_type": "code",
   "execution_count": 75,
   "metadata": {},
   "outputs": [],
   "source": [
    "import tensorflow as tf\n",
    "\n",
    "_model_fitted = tf.keras.models.Sequential([\n",
    "            tf.keras.layers.Dense(units = 5),\n",
    "            tf.keras.layers.Dense(units = 1),\n",
    "            tf.keras.layers.Reshape((1,))\n",
    "        ])\n",
    "_model_fitted.compile(loss = 'mean_squared_error', optimizer = 'adam')"
   ]
  },
  {
   "cell_type": "code",
   "execution_count": 116,
   "metadata": {},
   "outputs": [],
   "source": [
    "class A:\n",
    "    \n",
    "    def __init__(self, x):\n",
    "        self.x = x\n",
    "        \n",
    "df.value = [ A(a) for a in df.value ]"
   ]
  },
  {
   "cell_type": "code",
   "execution_count": 119,
   "metadata": {},
   "outputs": [
    {
     "data": {
      "text/plain": [
       "defaultdict(<function __main__.<lambda>()>, {'b': [1, 2]})"
      ]
     },
     "execution_count": 119,
     "metadata": {},
     "output_type": "execute_result"
    }
   ],
   "source": [
    "import collections\n",
    "\n",
    "x = collections.defaultdict(lambda: list([1]))\n",
    "x['b'].append(2)\n",
    "x"
   ]
  },
  {
   "cell_type": "code",
   "execution_count": 130,
   "metadata": {},
   "outputs": [
    {
     "data": {
      "text/plain": [
       "6.6"
      ]
     },
     "execution_count": 130,
     "metadata": {},
     "output_type": "execute_result"
    }
   ],
   "source": [
    "198 / 30"
   ]
  },
  {
   "cell_type": "markdown",
   "metadata": {},
   "source": [
    "# "
   ]
  }
 ],
 "metadata": {
  "kernelspec": {
   "display_name": "Python 3",
   "language": "python",
   "name": "python3"
  },
  "language_info": {
   "codemirror_mode": {
    "name": "ipython",
    "version": 3
   },
   "file_extension": ".py",
   "mimetype": "text/x-python",
   "name": "python",
   "nbconvert_exporter": "python",
   "pygments_lexer": "ipython3",
   "version": "3.7.3"
  }
 },
 "nbformat": 4,
 "nbformat_minor": 4
}
